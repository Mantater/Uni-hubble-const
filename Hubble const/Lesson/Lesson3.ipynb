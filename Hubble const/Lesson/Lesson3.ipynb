{
 "cells": [
  {
   "cell_type": "markdown",
   "metadata": {
    "slideshow": {
     "slide_type": "skip"
    },
    "toc": true
   },
   "source": [
    "<h1>Table of Contents<span class=\"tocSkip\"></span></h1>\n",
    "<div class=\"toc\"><ul class=\"toc-item\"><li><span><a href=\"#Previously-on-PHYS1201...\" data-toc-modified-id=\"Previously-on-PHYS1201...-1\"><span class=\"toc-item-num\">1&nbsp;&nbsp;</span>Previously on PHYS1201...</a></span></li><li><span><a href=\"#Today-on-PHYS1201...\" data-toc-modified-id=\"Today-on-PHYS1201...-2\"><span class=\"toc-item-num\">2&nbsp;&nbsp;</span>Today on PHYS1201...</a></span></li><li><span><a href=\"#What-are-functions?\" data-toc-modified-id=\"What-are-functions?-4\"><span class=\"toc-item-num\">4&nbsp;&nbsp;</span>What are functions?</a></span><ul class=\"toc-item\"><li><span><a href=\"#Functions-are-useful-because:\" data-toc-modified-id=\"Functions-are-useful-because:-4.1\"><span class=\"toc-item-num\">4.1&nbsp;&nbsp;</span>Functions are useful because:</a></span></li><li><span><a href=\"#Understanding-functions:-maths-vs-computing\" data-toc-modified-id=\"Understanding-functions:-maths-vs-computing-4.2\"><span class=\"toc-item-num\">4.2&nbsp;&nbsp;</span>Understanding functions: maths vs computing</a></span></li><li><span><a href=\"#Understanding-functions:-printing-vs-returning-values\" data-toc-modified-id=\"Understanding-functions:-printing-vs-returning-values-4.3\"><span class=\"toc-item-num\">4.3&nbsp;&nbsp;</span>Understanding functions: printing vs returning values</a></span></li><li><span><a href=\"#Understanding-functions:-modifying-input-parameters\" data-toc-modified-id=\"Understanding-functions:-modifying-input-parameters-4.4\"><span class=\"toc-item-num\">4.4&nbsp;&nbsp;</span>Understanding functions: modifying input parameters</a></span></li></ul></li><li><span><a href=\"#Built-In-Functions\" data-toc-modified-id=\"Built-In-Functions-5\"><span class=\"toc-item-num\">5&nbsp;&nbsp;</span>Built-In Functions</a></span><ul class=\"toc-item\"><li><ul class=\"toc-item\"><li><span><a href=\"#Exercise:-Testing-the-Built-In-Functions\" data-toc-modified-id=\"Exercise:-Testing-the-Built-In-Functions-5.0.1\"><span class=\"toc-item-num\">5.0.1&nbsp;&nbsp;</span>Exercise: Testing the Built-In Functions</a></span></li></ul></li></ul></li><li><span><a href=\"#Methods\" data-toc-modified-id=\"Methods-6\"><span class=\"toc-item-num\">6&nbsp;&nbsp;</span>Methods</a></span><ul class=\"toc-item\"><li><span><a href=\"#Methods:-syntax\" data-toc-modified-id=\"Methods:-syntax-6.1\"><span class=\"toc-item-num\">6.1&nbsp;&nbsp;</span>Methods: syntax</a></span></li><li><span><a href=\"#Methods-associated-with-floats\" data-toc-modified-id=\"Methods-associated-with-floats-6.2\"><span class=\"toc-item-num\">6.2&nbsp;&nbsp;</span>Methods associated with floats</a></span></li><li><span><a href=\"#Methods-associated-with-lists\" data-toc-modified-id=\"Methods-associated-with-lists-6.3\"><span class=\"toc-item-num\">6.3&nbsp;&nbsp;</span>Methods associated with lists</a></span><ul class=\"toc-item\"><li><span><a href=\"#Exercise:-Testing-the-Built-In-List-Methods\" data-toc-modified-id=\"Exercise:-Testing-the-Built-In-List-Methods-6.3.1\"><span class=\"toc-item-num\">6.3.1&nbsp;&nbsp;</span>Exercise: Testing the Built-In List Methods</a></span></li></ul></li><li><span><a href=\"#Methods-associated-with-tuples\" data-toc-modified-id=\"Methods-associated-with-tuples-6.4\"><span class=\"toc-item-num\">6.4&nbsp;&nbsp;</span>Methods associated with tuples</a></span></li><li><span><a href=\"#Methods-associated-with-strings\" data-toc-modified-id=\"Methods-associated-with-strings-6.5\"><span class=\"toc-item-num\">6.5&nbsp;&nbsp;</span>Methods associated with strings</a></span><ul class=\"toc-item\"><li><ul class=\"toc-item\"><li><span><a href=\"#Exercise:-Testing-the-Built-In-Tuple-Methods\" data-toc-modified-id=\"Exercise:-Testing-the-Built-In-Tuple-Methods-6.5.0.1\"><span class=\"toc-item-num\">6.5.0.1&nbsp;&nbsp;</span>Exercise: Testing the Built-In Tuple Methods</a></span></li></ul></li></ul></li></ul></li><li><span><a href=\"#User-Defined-Functions\" data-toc-modified-id=\"User-Defined-Functions-7\"><span class=\"toc-item-num\">7&nbsp;&nbsp;</span>User-Defined Functions</a></span><ul class=\"toc-item\"><li><span><a href=\"#Defining-and-calling-functions\" data-toc-modified-id=\"Defining-and-calling-functions-7.1\"><span class=\"toc-item-num\">7.1&nbsp;&nbsp;</span>Defining and calling functions</a></span><ul class=\"toc-item\"><li><span><a href=\"#Exercise\" data-toc-modified-id=\"Exercise-7.1.1\"><span class=\"toc-item-num\">7.1.1&nbsp;&nbsp;</span>Exercise</a></span></li></ul></li><li><span><a href=\"#Recursion\" data-toc-modified-id=\"Recursion-7.2\"><span class=\"toc-item-num\">7.2&nbsp;&nbsp;</span>Recursion</a></span><ul class=\"toc-item\"><li><span><a href=\"#Exercise:-Recursion\" data-toc-modified-id=\"Exercise:-Recursion-7.2.1\"><span class=\"toc-item-num\">7.2.1&nbsp;&nbsp;</span>Exercise: Recursion</a></span></li></ul></li><li><span><a href=\"#Returning-multiple-values\" data-toc-modified-id=\"Returning-multiple-values-7.3\"><span class=\"toc-item-num\">7.3&nbsp;&nbsp;</span>Returning multiple values</a></span></li><li><span><a href=\"#Documentation-Strings\" data-toc-modified-id=\"Documentation-Strings-7.4\"><span class=\"toc-item-num\">7.4&nbsp;&nbsp;</span>Documentation Strings</a></span><ul class=\"toc-item\"><li><span><a href=\"#Exercise:-A-Function-to-Count-the-Number-of-Elemensts-in-a-List\" data-toc-modified-id=\"Exercise:-A-Function-to-Count-the-Number-of-Elemensts-in-a-List-7.4.1\"><span class=\"toc-item-num\">7.4.1&nbsp;&nbsp;</span>Exercise: A Function to Count the Number of Elemensts in a List</a></span></li><li><span><a href=\"#Exercise:-A-Function-to-Append-New-Elements-to-a-List\" data-toc-modified-id=\"Exercise:-A-Function-to-Append-New-Elements-to-a-List-7.4.2\"><span class=\"toc-item-num\">7.4.2&nbsp;&nbsp;</span>Exercise: A Function to Append New Elements to a List</a></span></li><li><span><a href=\"#Exercise:-A-Sorting-Function\" data-toc-modified-id=\"Exercise:-A-Sorting-Function-7.4.3\"><span class=\"toc-item-num\">7.4.3&nbsp;&nbsp;</span>Exercise: A Sorting Function</a></span></li></ul></li></ul></li><li><span><a href=\"#Reminder:-Big-Picture-Exercise\" data-toc-modified-id=\"Reminder:-Big-Picture-Exercise-8\"><span class=\"toc-item-num\">8&nbsp;&nbsp;</span>Reminder: Big Picture Exercise</a></span></li></ul></div>"
   ]
  },
  {
   "cell_type": "markdown",
   "metadata": {
    "slideshow": {
     "slide_type": "slide"
    }
   },
   "source": [
    "# Lesson 3:\n",
    "# functions"
   ]
  },
  {
   "cell_type": "markdown",
   "metadata": {
    "slideshow": {
     "slide_type": "slide"
    }
   },
   "source": [
    "## Previously on PHYS1201...\n",
    "\n",
    "* (Almost) everything you need to write Python code\n",
    "\n",
    "    * Data types\n",
    "    \n",
    "        * Ints (integers)\n",
    "        * Floats (real numbers)\n",
    "        * Booleans (True/False)\n",
    "        * Sequences (lists)\n",
    "       \n",
    "    * Conditionals\n",
    "    \n",
    "        * if/elif/else\n",
    "              \n",
    "    * Loops\n",
    "  \n",
    "        * for-loops (repeat fixed number of times)\n",
    "        * while-loops (repeat until some condition is met)\n",
    "        \n"
   ]
  },
  {
   "cell_type": "markdown",
   "metadata": {
    "slideshow": {
     "slide_type": "slide"
    }
   },
   "source": [
    "## Today on PHYS1201...\n",
    "\n",
    "* The Range () function revisited\n",
    "* while-loops (repeat until some condition is met)\n",
    "* (Almost) everything **else** you need to write **good** Python code\n",
    "\n",
    "    * A good code isn't just an endless sequence of syntactically correct statements\n",
    "        * Difficult to design complex algorithms this way\n",
    "        * Impossible to read and understand the code afterwards\n",
    "        \n",
    "    * Instead, good code is **modular** -- we breaks things up into distinct \"chunks\" that carry out specific (sub)tasks\n",
    "        \n",
    "    * This \"modules\" or \"chunks\" are called **functions** (or \"methods\" if they are pre-defined for a particular data type)\n",
    "\n",
    "\n",
    "* Today we'll learn how to\n",
    "\n",
    "    * Use methods pre-defined for some of the data types we've encountered\n",
    "    \n",
    "    * Define and use our own functions"
   ]
  },
  {
   "cell_type": "markdown",
   "metadata": {
    "slideshow": {
     "slide_type": "slide"
    }
   },
   "source": [
    "## Big Picture Exercise: Connect-2 (towards Connect-4)\n"
   ]
  },
  {
   "cell_type": "markdown",
   "metadata": {
    "slideshow": {
     "slide_type": "slide"
    }
   },
   "source": [
    "Since we haven't learned about arrays yet, we'll think about \"1-Dimensional Connect-2\" for now. \n",
    "\n",
    "This would be a \"game\" where we have a simple list like this:\n",
    "\n",
    "    the_list = [0, 0, 0, 0, 0, 0]\n",
    "\n",
    "Player 1 would then place a token in that list by specifying the relevant index. E.g. if Player 1 puts a token into position 0 (remember, our counting for indices starts at zero!), the list would become\n",
    "\n",
    "    the_list = [1, 0, 0, 0, 0, 0]\n",
    "    \n",
    "Then maybe Player 2 puts a token into position 3\n",
    "\n",
    "    the_list = [1, 0, 0, 2, 0, 0]\n",
    "    \n",
    "If Player 1 now puts a token into position 1\n",
    "\n",
    "    the_list = [1, 1, 0, 2, 0, 0]\n",
    "    \n",
    "Then she wins (becomes she's connected two tokens). \n"
   ]
  },
  {
   "cell_type": "markdown",
   "metadata": {
    "slideshow": {
     "slide_type": "slide"
    }
   },
   "source": [
    "So, for today's **Big Picture Exercise**, let's write some functions for 1-D Connect-2\n",
    "\n",
    "* write a function *place_token* that will update the list when a player places a token. \n",
    "    * Inputs are: \n",
    "        * the current list\n",
    "        * the identication of the player\n",
    "        * the location the player wants to place a token\n",
    "    * Outputs are:\n",
    "        * the updated list\n",
    "    * Additional requirements\n",
    "        * your function should deal gracefully with a player who selects a location that's already taken\n",
    "            * in this case, the function should print a message to the screen and return the original input list"
   ]
  },
  {
   "cell_type": "markdown",
   "metadata": {
    "slideshow": {
     "slide_type": "slide"
    }
   },
   "source": [
    "* write a function that checks if a player has won\n",
    "    * Inputs are:\n",
    "        * the current list\n",
    "    * Outputs are:\n",
    "        * A Boolean *game_won* that is *True* if somebody has won and *False* otherwise\n",
    "        * An integer *the_winner* that gives the identification number of the winner:\n",
    "            * this can be 0 if game_won = False (i.e. if there isn't a winner yet)\n",
    "            * 1 --> Player 1\n",
    "            * 2 --> Player 2\n",
    "\n",
    "* write a function that checks if the game is over\n",
    "    * Inputs are:\n",
    "        * the current list\n",
    "    * Outputs are:\n",
    "        * A Boolean *game_over* that is *True* if there are no more empty spaces in the list"
   ]
  },
  {
   "cell_type": "markdown",
   "metadata": {
    "slideshow": {
     "slide_type": "slide"
    }
   },
   "source": [
    "#### The range() function - revisited\n",
    "\n",
    "More often than not, the thing we'll iterate over is a simple numerical list. \n",
    "\n",
    "In particular, by far the most common thing to iterate over are sequences of integers that start at zero and increment by one, i.e. things like (0, 1, 2, 3) or [0, 1, 2, 3, 4, 5, 6, 7, 8]. "
   ]
  },
  {
   "cell_type": "markdown",
   "metadata": {
    "slideshow": {
     "slide_type": "skip"
    }
   },
   "source": [
    "Why is that? Because very often we will want to access each element in one or more sequences one-by-one inside the loop. So it's very convenient if the loop variable automatically takes on the relevant indices we need to do that. For example, consider the following:"
   ]
  },
  {
   "cell_type": "code",
   "execution_count": 1,
   "metadata": {
    "slideshow": {
     "slide_type": "skip"
    }
   },
   "outputs": [
    {
     "name": "stdout",
     "output_type": "stream",
     "text": [
      "Dogs are number 1 in my list of favourite animals. They don't produce furballs.\n",
      "Cats are number 4 in my list of favourite animals. They produce furballs.\n",
      "Mice are number 3 in my list of favourite animals. They don't produce furballs.\n",
      "Elephants are number 2 in my list of favourite animals. They don't produce furballs.\n"
     ]
    }
   ],
   "source": [
    "animals = ['Dogs', 'Cats', 'Mice', 'Elephants']\n",
    "pref = [1, 4, 3, 2]\n",
    "furball = [False, True, False, False]\n",
    "index = [0, 1, 2, 3]\n",
    "\n",
    "for i in index:\n",
    "    if furball[i]:\n",
    "        print(animals[i], \"are number\", pref[i], \"in my list of favourite animals. They produce furballs.\")\n",
    "    else:\n",
    "        print(animals[i], \"are number\", pref[i], \"in my list of favourite animals. They don't produce furballs.\")"
   ]
  },
  {
   "cell_type": "markdown",
   "metadata": {
    "slideshow": {
     "slide_type": "skip"
    }
   },
   "source": [
    "But it's a pain to have to explicitly write down the list that provides the index by hand each time!"
   ]
  },
  {
   "cell_type": "markdown",
   "metadata": {
    "slideshow": {
     "slide_type": "skip"
    }
   },
   "source": [
    "Python provides us with a convenient built-in function for this:"
   ]
  },
  {
   "cell_type": "markdown",
   "metadata": {
    "slideshow": {
     "slide_type": "skip"
    }
   },
   "source": [
    "Here is how it works:"
   ]
  },
  {
   "cell_type": "code",
   "execution_count": 2,
   "metadata": {
    "slideshow": {
     "slide_type": "fragment"
    }
   },
   "outputs": [
    {
     "name": "stdout",
     "output_type": "stream",
     "text": [
      "0\n",
      "1\n",
      "2\n",
      "3\n",
      "4\n"
     ]
    }
   ],
   "source": [
    "for i in range(5):\n",
    "    print(i)"
   ]
  },
  {
   "cell_type": "code",
   "execution_count": 3,
   "metadata": {
    "slideshow": {
     "slide_type": "fragment"
    }
   },
   "outputs": [
    {
     "name": "stdout",
     "output_type": "stream",
     "text": [
      "0\n",
      "1\n",
      "2\n",
      "3\n",
      "4\n"
     ]
    }
   ],
   "source": [
    "a = range(5)\n",
    "for i in a:\n",
    "    print(i)"
   ]
  },
  {
   "cell_type": "markdown",
   "metadata": {
    "slideshow": {
     "slide_type": "skip"
    }
   },
   "source": [
    "So the *range()* function sort of produces a list, but *only* once you iterate over it. \n",
    "\n",
    "What do I mean by that? Isn't *a* just a list? Actually, it isn't -- it's a sort of special thing. This doesn't matter most of the time, but it's worth keeping in the back of your mind."
   ]
  },
  {
   "cell_type": "code",
   "execution_count": 4,
   "metadata": {
    "slideshow": {
     "slide_type": "skip"
    }
   },
   "outputs": [
    {
     "name": "stdout",
     "output_type": "stream",
     "text": [
      "<class 'range'>\n"
     ]
    }
   ],
   "source": [
    "print(type(a))"
   ]
  },
  {
   "cell_type": "markdown",
   "metadata": {
    "slideshow": {
     "slide_type": "skip"
    }
   },
   "source": [
    "The *range* function doesn't have to start at zero:"
   ]
  },
  {
   "cell_type": "code",
   "execution_count": 5,
   "metadata": {
    "slideshow": {
     "slide_type": "skip"
    }
   },
   "outputs": [
    {
     "name": "stdout",
     "output_type": "stream",
     "text": [
      "3\n",
      "4\n"
     ]
    }
   ],
   "source": [
    "a = range(3,5)\n",
    "for i in a:\n",
    "    print(i)"
   ]
  },
  {
   "cell_type": "markdown",
   "metadata": {
    "slideshow": {
     "slide_type": "skip"
    }
   },
   "source": [
    "In fact, we can even specify step sizes other than one:"
   ]
  },
  {
   "cell_type": "code",
   "execution_count": 6,
   "metadata": {
    "slideshow": {
     "slide_type": "skip"
    }
   },
   "outputs": [
    {
     "name": "stdout",
     "output_type": "stream",
     "text": [
      "3\n",
      "5\n",
      "7\n",
      "9\n"
     ]
    }
   ],
   "source": [
    "a = range(3,10,2)\n",
    "for i in a:\n",
    "    print(i)"
   ]
  },
  {
   "cell_type": "markdown",
   "metadata": {
    "slideshow": {
     "slide_type": "skip"
    }
   },
   "source": [
    "The step sizes don't even have to be positive:"
   ]
  },
  {
   "cell_type": "code",
   "execution_count": 7,
   "metadata": {
    "slideshow": {
     "slide_type": "skip"
    }
   },
   "outputs": [
    {
     "name": "stdout",
     "output_type": "stream",
     "text": [
      "10\n",
      "9\n",
      "8\n",
      "7\n",
      "6\n",
      "5\n",
      "4\n",
      "3\n",
      "2\n",
      "1\n"
     ]
    }
   ],
   "source": [
    "a = range(10,0,-1)\n",
    "for i in a:\n",
    "    print(i)"
   ]
  },
  {
   "cell_type": "markdown",
   "metadata": {
    "slideshow": {
     "slide_type": "skip"
    }
   },
   "source": [
    "The general format of the range statement is:\n",
    "\n",
    "- range([start], stop [,step])\n",
    "\n",
    "where the square brackets indicates optional arguments (i.e. things we can omit). \n",
    "\n",
    "This returns a list of integers from \"start\" (or zero, if \"start\" is not specified), up to *but not including* \"stop\", in steps of \"step\"."
   ]
  },
  {
   "cell_type": "markdown",
   "metadata": {
    "slideshow": {
     "slide_type": "skip"
    }
   },
   "source": [
    "The range() function is particularly useful in combination with the built-in len() function for sequences (which return the length of the sequence, i.e. the number of elements in it."
   ]
  },
  {
   "cell_type": "code",
   "execution_count": 8,
   "metadata": {
    "slideshow": {
     "slide_type": "skip"
    }
   },
   "outputs": [
    {
     "name": "stdout",
     "output_type": "stream",
     "text": [
      "dog\n",
      "cat\n",
      "1\n",
      "4\n",
      "3.4\n"
     ]
    }
   ],
   "source": [
    "a = ['dog', 'cat', 1, 4, 3.4]\n",
    "x = range(len(a))\n",
    "for i in x:\n",
    "    print(a[i])"
   ]
  },
  {
   "cell_type": "markdown",
   "metadata": {
    "slideshow": {
     "slide_type": "skip"
    }
   },
   "source": [
    "Let's reconsider our previous example, but this time using range()"
   ]
  },
  {
   "cell_type": "code",
   "execution_count": 9,
   "metadata": {
    "slideshow": {
     "slide_type": "skip"
    }
   },
   "outputs": [
    {
     "name": "stdout",
     "output_type": "stream",
     "text": [
      "Dogs are number 1 in my list of favourite animals. They don't produce furballs.\n",
      "Cats are number 4 in my list of favourite animals. They produce furballs.\n",
      "Mice are number 3 in my list of favourite animals. They don't produce furballs.\n",
      "Elephants are number 2 in my list of favourite animals. They don't produce furballs.\n"
     ]
    }
   ],
   "source": [
    "animals = ['Dogs', 'Cats', 'Mice', 'Elephants']\n",
    "pref = [1, 4, 3, 2]\n",
    "furball = [False, True, False, False]\n",
    "index = range(len(animals))\n",
    "\n",
    "for i in index:\n",
    "    if furball[i]:\n",
    "        print(animals[i], \"are number\", pref[i], \"in my list of favourite animals. They produce furballs.\")\n",
    "    else:\n",
    "        print(animals[i], \"are number\", pref[i], \"in my list of favourite animals. They don't produce furballs.\")"
   ]
  },
  {
   "cell_type": "markdown",
   "metadata": {
    "slideshow": {
     "slide_type": "skip"
    }
   },
   "source": [
    "Obviously, this makes little difference in our simple example -- but it would if our lists contained thousands or millions of elements, which is often the case. Just as importantly, the range() function allows us to code loops that always iterate the appropriate number of times, even if we want to loop over sequences of varying lengths. "
   ]
  },
  {
   "cell_type": "markdown",
   "metadata": {
    "slideshow": {
     "slide_type": "slide"
    }
   },
   "source": [
    "### while-loops\n",
    "\n",
    "The other way to iterate in Python is via while-loops. These work as follows:"
   ]
  },
  {
   "cell_type": "code",
   "execution_count": 10,
   "metadata": {
    "slideshow": {
     "slide_type": "fragment"
    }
   },
   "outputs": [
    {
     "name": "stdout",
     "output_type": "stream",
     "text": [
      "32.0\n",
      "16.0\n",
      "8.0\n",
      "4.0\n",
      "2.0\n",
      "1.0\n"
     ]
    }
   ],
   "source": [
    "x = 64.0\n",
    "while (x > 1.0):\n",
    "    x = x/2.0\n",
    "    print(x)"
   ]
  },
  {
   "cell_type": "markdown",
   "metadata": {
    "slideshow": {
     "slide_type": "fragment"
    }
   },
   "source": [
    "In a while-loop, the body of the loop is executed so long as the logical that follows the \"while\" keyword evaluates as \"True\". \n",
    "\n",
    "This can be more convenient than a for-loop: for example, we may not know ahead of time how many times we need to execute a loop."
   ]
  },
  {
   "cell_type": "markdown",
   "metadata": {
    "slideshow": {
     "slide_type": "skip"
    }
   },
   "source": [
    "This is nicely illustrated by the following little code, which provides an estimate of the smallest positive number our computer can represent: "
   ]
  },
  {
   "cell_type": "code",
   "execution_count": 11,
   "metadata": {
    "slideshow": {
     "slide_type": "skip"
    }
   },
   "outputs": [
    {
     "name": "stdout",
     "output_type": "stream",
     "text": [
      "The smallest number the computer can represent is approximately 1.1102230246251565e-16\n"
     ]
    }
   ],
   "source": [
    "eps = 1.0\n",
    "while eps + 1 > 1:\n",
    "    eps = eps / 2.0\n",
    "print(\"The smallest number the computer can represent is approximately\", eps)"
   ]
  },
  {
   "cell_type": "markdown",
   "metadata": {
    "slideshow": {
     "slide_type": "skip"
    }
   },
   "source": [
    "<B><B>Note that it is easy to accidentally code infinite while-loops. When this happens, the only way to stop the program is by hand, e.g. via Ctrl-C.<B><B>\n",
    "\n",
    "Here is the simplest example of an infinite loop -- if you really want to run this, remove the comment (#) symbols:"
   ]
  },
  {
   "cell_type": "code",
   "execution_count": 12,
   "metadata": {
    "slideshow": {
     "slide_type": "skip"
    }
   },
   "outputs": [],
   "source": [
    "# while True:\n",
    "#    print('Still True')"
   ]
  },
  {
   "cell_type": "markdown",
   "metadata": {
    "slideshow": {
     "slide_type": "skip"
    }
   },
   "source": [
    "Weird as it may seem, the \"while True\" construction is actually sometimes sensible, or at least convenient. \n",
    "\n",
    "Of course, if we use it, we have to somehow provide a way out of the loop, so..."
   ]
  },
  {
   "cell_type": "markdown",
   "metadata": {
    "slideshow": {
     "slide_type": "slide"
    }
   },
   "source": [
    "### Breaking out of loops"
   ]
  },
  {
   "cell_type": "markdown",
   "metadata": {
    "slideshow": {
     "slide_type": "fragment"
    }
   },
   "source": [
    "Python provides an extra keyword for breaking out of loops, which is \"break\":"
   ]
  },
  {
   "cell_type": "code",
   "execution_count": 13,
   "metadata": {
    "slideshow": {
     "slide_type": "fragment"
    }
   },
   "outputs": [
    {
     "name": "stdout",
     "output_type": "stream",
     "text": [
      "a is now 11\n"
     ]
    }
   ],
   "source": [
    "a = 1\n",
    "while True:\n",
    "    if (a > 10):\n",
    "        break        # break out of the loop\n",
    "    a = a + 1\n",
    "print(\"a is now\", a)"
   ]
  },
  {
   "cell_type": "markdown",
   "metadata": {
    "slideshow": {
     "slide_type": "skip"
    }
   },
   "source": [
    "Here is a slightly more interesting example, rewriting our previous code snippet to calculate the smallest number the computer can represent:"
   ]
  },
  {
   "cell_type": "code",
   "execution_count": 14,
   "metadata": {
    "slideshow": {
     "slide_type": "skip"
    }
   },
   "outputs": [
    {
     "name": "stdout",
     "output_type": "stream",
     "text": [
      "The smallest number the computer can represent is approximately 5e-324\n"
     ]
    }
   ],
   "source": [
    "small_test = 1.0\n",
    "while True:\n",
    "    if (small_test == 0):\n",
    "        break        # break out of the loop\n",
    "    still_ok = small_test\n",
    "    small_test = small_test / 2.0\n",
    "print(\"The smallest number the computer can represent is approximately\", still_ok)"
   ]
  },
  {
   "cell_type": "markdown",
   "metadata": {
    "slideshow": {
     "slide_type": "skip"
    }
   },
   "source": [
    "It can be kind of helpful to see the magic working, especially if we ever need to debug things (e.g. if eps came out very different from what we thought it should be). A simple way to gain intuition then is to just add print(statements that tell us what is happening along the way:"
   ]
  },
  {
   "cell_type": "code",
   "execution_count": 15,
   "metadata": {
    "slideshow": {
     "slide_type": "skip"
    }
   },
   "outputs": [
    {
     "name": "stdout",
     "output_type": "stream",
     "text": [
      "Inside the loop. a is currently 1\n",
      "Inside the loop. a is currently 2\n",
      "Inside the loop. a is currently 3\n",
      "Inside the loop. a is currently 4\n",
      "Inside the loop. a is currently 5\n",
      "Inside the loop. a is currently 6\n",
      "Inside the loop. a is currently 7\n",
      "Inside the loop. a is currently 8\n",
      "Inside the loop. a is currently 9\n",
      "Inside the loop. a is currently 10\n",
      "Inside the loop. a is currently 11\n",
      "\n",
      "Done with the loop. a is now 11\n"
     ]
    }
   ],
   "source": [
    "a = 1\n",
    "while True:\n",
    "    print(\"Inside the loop. a is currently\", a)\n",
    "    if (a > 10):\n",
    "        break        # break out of the loop\n",
    "    a = a + 1\n",
    "print()\n",
    "print(\"Done with the loop. a is now\", a)"
   ]
  },
  {
   "cell_type": "markdown",
   "metadata": {
    "slideshow": {
     "slide_type": "skip"
    }
   },
   "source": [
    "Or, again using our \"smallest representable number\" example:"
   ]
  },
  {
   "cell_type": "code",
   "execution_count": 16,
   "metadata": {
    "slideshow": {
     "slide_type": "skip"
    }
   },
   "outputs": [
    {
     "name": "stdout",
     "output_type": "stream",
     "text": [
      "1.0\n",
      "0.5\n",
      "0.25\n",
      "0.125\n",
      "0.0625\n",
      "0.03125\n",
      "0.015625\n",
      "0.0078125\n",
      "0.00390625\n",
      "0.001953125\n",
      "0.0009765625\n",
      "0.00048828125\n",
      "0.000244140625\n",
      "0.0001220703125\n",
      "6.103515625e-05\n",
      "3.0517578125e-05\n",
      "1.52587890625e-05\n",
      "7.62939453125e-06\n",
      "3.814697265625e-06\n",
      "1.9073486328125e-06\n",
      "9.5367431640625e-07\n",
      "4.76837158203125e-07\n",
      "2.384185791015625e-07\n",
      "1.1920928955078125e-07\n",
      "5.960464477539063e-08\n",
      "2.9802322387695312e-08\n",
      "1.4901161193847656e-08\n",
      "7.450580596923828e-09\n",
      "3.725290298461914e-09\n",
      "1.862645149230957e-09\n",
      "9.313225746154785e-10\n",
      "4.656612873077393e-10\n",
      "2.3283064365386963e-10\n",
      "1.1641532182693481e-10\n",
      "5.820766091346741e-11\n",
      "2.9103830456733704e-11\n",
      "1.4551915228366852e-11\n",
      "7.275957614183426e-12\n",
      "3.637978807091713e-12\n",
      "1.8189894035458565e-12\n",
      "9.094947017729282e-13\n",
      "4.547473508864641e-13\n",
      "2.2737367544323206e-13\n",
      "1.1368683772161603e-13\n",
      "5.684341886080802e-14\n",
      "2.842170943040401e-14\n",
      "1.4210854715202004e-14\n",
      "7.105427357601002e-15\n",
      "3.552713678800501e-15\n",
      "1.7763568394002505e-15\n",
      "8.881784197001252e-16\n",
      "4.440892098500626e-16\n",
      "2.220446049250313e-16\n",
      "1.1102230246251565e-16\n",
      "5.551115123125783e-17\n",
      "2.7755575615628914e-17\n",
      "1.3877787807814457e-17\n",
      "6.938893903907228e-18\n",
      "3.469446951953614e-18\n",
      "1.734723475976807e-18\n",
      "8.673617379884035e-19\n",
      "4.336808689942018e-19\n",
      "2.168404344971009e-19\n",
      "1.0842021724855044e-19\n",
      "5.421010862427522e-20\n",
      "2.710505431213761e-20\n",
      "1.3552527156068805e-20\n",
      "6.776263578034403e-21\n",
      "3.3881317890172014e-21\n",
      "1.6940658945086007e-21\n",
      "8.470329472543003e-22\n",
      "4.235164736271502e-22\n",
      "2.117582368135751e-22\n",
      "1.0587911840678754e-22\n",
      "5.293955920339377e-23\n",
      "2.6469779601696886e-23\n",
      "1.3234889800848443e-23\n",
      "6.617444900424222e-24\n",
      "3.308722450212111e-24\n",
      "1.6543612251060553e-24\n",
      "8.271806125530277e-25\n",
      "4.1359030627651384e-25\n",
      "2.0679515313825692e-25\n",
      "1.0339757656912846e-25\n",
      "5.169878828456423e-26\n",
      "2.5849394142282115e-26\n",
      "1.2924697071141057e-26\n",
      "6.462348535570529e-27\n",
      "3.2311742677852644e-27\n",
      "1.6155871338926322e-27\n",
      "8.077935669463161e-28\n",
      "4.0389678347315804e-28\n",
      "2.0194839173657902e-28\n",
      "1.0097419586828951e-28\n",
      "5.048709793414476e-29\n",
      "2.524354896707238e-29\n",
      "1.262177448353619e-29\n",
      "6.310887241768095e-30\n",
      "3.1554436208840472e-30\n",
      "1.5777218104420236e-30\n",
      "7.888609052210118e-31\n",
      "3.944304526105059e-31\n",
      "1.9721522630525295e-31\n",
      "9.860761315262648e-32\n",
      "4.930380657631324e-32\n",
      "2.465190328815662e-32\n",
      "1.232595164407831e-32\n",
      "6.162975822039155e-33\n",
      "3.0814879110195774e-33\n",
      "1.5407439555097887e-33\n",
      "7.703719777548943e-34\n",
      "3.851859888774472e-34\n",
      "1.925929944387236e-34\n",
      "9.62964972193618e-35\n",
      "4.81482486096809e-35\n",
      "2.407412430484045e-35\n",
      "1.2037062152420224e-35\n",
      "6.018531076210112e-36\n",
      "3.009265538105056e-36\n",
      "1.504632769052528e-36\n",
      "7.52316384526264e-37\n",
      "3.76158192263132e-37\n",
      "1.88079096131566e-37\n",
      "9.4039548065783e-38\n",
      "4.70197740328915e-38\n",
      "2.350988701644575e-38\n",
      "1.1754943508222875e-38\n",
      "5.877471754111438e-39\n",
      "2.938735877055719e-39\n",
      "1.4693679385278594e-39\n",
      "7.346839692639297e-40\n",
      "3.6734198463196485e-40\n",
      "1.8367099231598242e-40\n",
      "9.183549615799121e-41\n",
      "4.591774807899561e-41\n",
      "2.2958874039497803e-41\n",
      "1.1479437019748901e-41\n",
      "5.739718509874451e-42\n",
      "2.8698592549372254e-42\n",
      "1.4349296274686127e-42\n",
      "7.174648137343064e-43\n",
      "3.587324068671532e-43\n",
      "1.793662034335766e-43\n",
      "8.96831017167883e-44\n",
      "4.484155085839415e-44\n",
      "2.2420775429197073e-44\n",
      "1.1210387714598537e-44\n",
      "5.605193857299268e-45\n",
      "2.802596928649634e-45\n",
      "1.401298464324817e-45\n",
      "7.006492321624085e-46\n",
      "3.503246160812043e-46\n",
      "1.7516230804060213e-46\n",
      "8.758115402030107e-47\n",
      "4.3790577010150533e-47\n",
      "2.1895288505075267e-47\n",
      "1.0947644252537633e-47\n",
      "5.473822126268817e-48\n",
      "2.7369110631344083e-48\n",
      "1.3684555315672042e-48\n",
      "6.842277657836021e-49\n",
      "3.4211388289180104e-49\n",
      "1.7105694144590052e-49\n",
      "8.552847072295026e-50\n",
      "4.276423536147513e-50\n",
      "2.1382117680737565e-50\n",
      "1.0691058840368783e-50\n",
      "5.345529420184391e-51\n",
      "2.6727647100921956e-51\n",
      "1.3363823550460978e-51\n",
      "6.681911775230489e-52\n",
      "3.3409558876152446e-52\n",
      "1.6704779438076223e-52\n",
      "8.352389719038111e-53\n",
      "4.176194859519056e-53\n",
      "2.088097429759528e-53\n",
      "1.044048714879764e-53\n",
      "5.22024357439882e-54\n",
      "2.61012178719941e-54\n",
      "1.305060893599705e-54\n",
      "6.525304467998525e-55\n",
      "3.2626522339992623e-55\n",
      "1.6313261169996311e-55\n",
      "8.156630584998156e-56\n",
      "4.078315292499078e-56\n",
      "2.039157646249539e-56\n",
      "1.0195788231247695e-56\n",
      "5.0978941156238473e-57\n",
      "2.5489470578119236e-57\n",
      "1.2744735289059618e-57\n",
      "6.372367644529809e-58\n",
      "3.1861838222649046e-58\n",
      "1.5930919111324523e-58\n",
      "7.965459555662261e-59\n",
      "3.982729777831131e-59\n",
      "1.9913648889155653e-59\n",
      "9.956824444577827e-60\n",
      "4.9784122222889134e-60\n",
      "2.4892061111444567e-60\n",
      "1.2446030555722283e-60\n",
      "6.223015277861142e-61\n",
      "3.111507638930571e-61\n",
      "1.5557538194652854e-61\n",
      "7.778769097326427e-62\n",
      "3.8893845486632136e-62\n",
      "1.9446922743316068e-62\n",
      "9.723461371658034e-63\n",
      "4.861730685829017e-63\n",
      "2.4308653429145085e-63\n",
      "1.2154326714572542e-63\n",
      "6.077163357286271e-64\n",
      "3.0385816786431356e-64\n",
      "1.5192908393215678e-64\n",
      "7.596454196607839e-65\n",
      "3.7982270983039195e-65\n",
      "1.8991135491519597e-65\n",
      "9.495567745759799e-66\n",
      "4.7477838728798994e-66\n",
      "2.3738919364399497e-66\n",
      "1.1869459682199748e-66\n",
      "5.934729841099874e-67\n",
      "2.967364920549937e-67\n",
      "1.4836824602749686e-67\n",
      "7.418412301374843e-68\n",
      "3.7092061506874214e-68\n",
      "1.8546030753437107e-68\n",
      "9.273015376718553e-69\n",
      "4.636507688359277e-69\n",
      "2.3182538441796384e-69\n",
      "1.1591269220898192e-69\n",
      "5.795634610449096e-70\n",
      "2.897817305224548e-70\n",
      "1.448908652612274e-70\n",
      "7.24454326306137e-71\n",
      "3.622271631530685e-71\n",
      "1.8111358157653425e-71\n",
      "9.055679078826712e-72\n",
      "4.527839539413356e-72\n",
      "2.263919769706678e-72\n",
      "1.131959884853339e-72\n",
      "5.659799424266695e-73\n",
      "2.8298997121333476e-73\n",
      "1.4149498560666738e-73\n",
      "7.074749280333369e-74\n",
      "3.5373746401666845e-74\n",
      "1.7686873200833423e-74\n",
      "8.843436600416711e-75\n",
      "4.421718300208356e-75\n",
      "2.210859150104178e-75\n",
      "1.105429575052089e-75\n",
      "5.527147875260445e-76\n",
      "2.7635739376302223e-76\n",
      "1.3817869688151111e-76\n",
      "6.908934844075556e-77\n",
      "3.454467422037778e-77\n",
      "1.727233711018889e-77\n",
      "8.636168555094445e-78\n",
      "4.3180842775472223e-78\n",
      "2.1590421387736112e-78\n",
      "1.0795210693868056e-78\n",
      "5.397605346934028e-79\n",
      "2.698802673467014e-79\n",
      "1.349401336733507e-79\n",
      "6.747006683667535e-80\n",
      "3.3735033418337674e-80\n",
      "1.6867516709168837e-80\n",
      "8.433758354584419e-81\n",
      "4.2168791772922093e-81\n",
      "2.1084395886461046e-81\n",
      "1.0542197943230523e-81\n",
      "5.271098971615262e-82\n",
      "2.635549485807631e-82\n",
      "1.3177747429038154e-82\n",
      "6.588873714519077e-83\n",
      "3.2944368572595385e-83\n",
      "1.6472184286297693e-83\n",
      "8.236092143148846e-84\n",
      "4.118046071574423e-84\n",
      "2.0590230357872116e-84\n",
      "1.0295115178936058e-84\n",
      "5.147557589468029e-85\n",
      "2.5737787947340145e-85\n",
      "1.2868893973670072e-85\n",
      "6.434446986835036e-86\n",
      "3.217223493417518e-86\n",
      "1.608611746708759e-86\n",
      "8.043058733543795e-87\n",
      "4.021529366771898e-87\n",
      "2.010764683385949e-87\n",
      "1.0053823416929744e-87\n",
      "5.026911708464872e-88\n",
      "2.513455854232436e-88\n",
      "1.256727927116218e-88\n",
      "6.28363963558109e-89\n",
      "3.141819817790545e-89\n",
      "1.5709099088952725e-89\n",
      "7.854549544476363e-90\n",
      "3.9272747722381812e-90\n",
      "1.9636373861190906e-90\n",
      "9.818186930595453e-91\n",
      "4.909093465297727e-91\n",
      "2.4545467326488633e-91\n",
      "1.2272733663244316e-91\n",
      "6.136366831622158e-92\n",
      "3.068183415811079e-92\n",
      "1.5340917079055395e-92\n",
      "7.670458539527698e-93\n",
      "3.835229269763849e-93\n",
      "1.9176146348819244e-93\n",
      "9.588073174409622e-94\n",
      "4.794036587204811e-94\n",
      "2.3970182936024055e-94\n",
      "1.1985091468012028e-94\n",
      "5.992545734006014e-95\n",
      "2.996272867003007e-95\n",
      "1.4981364335015035e-95\n",
      "7.490682167507517e-96\n",
      "3.745341083753759e-96\n",
      "1.8726705418768793e-96\n",
      "9.363352709384397e-97\n",
      "4.6816763546921983e-97\n",
      "2.3408381773460992e-97\n",
      "1.1704190886730496e-97\n",
      "5.852095443365248e-98\n",
      "2.926047721682624e-98\n",
      "1.463023860841312e-98\n",
      "7.31511930420656e-99\n",
      "3.65755965210328e-99\n",
      "1.82877982605164e-99\n",
      "9.1438991302582e-100\n",
      "4.5719495651291e-100\n",
      "2.28597478256455e-100\n",
      "1.142987391282275e-100\n",
      "5.714936956411375e-101\n",
      "2.8574684782056875e-101\n",
      "1.4287342391028437e-101\n",
      "7.143671195514219e-102\n",
      "3.5718355977571093e-102\n",
      "1.7859177988785547e-102\n",
      "8.929588994392773e-103\n",
      "4.464794497196387e-103\n",
      "2.2323972485981933e-103\n",
      "1.1161986242990967e-103\n",
      "5.5809931214954833e-104\n",
      "2.7904965607477417e-104\n",
      "1.3952482803738708e-104\n",
      "6.976241401869354e-105\n",
      "3.488120700934677e-105\n",
      "1.7440603504673385e-105\n",
      "8.720301752336693e-106\n",
      "4.3601508761683463e-106\n",
      "2.1800754380841732e-106\n",
      "1.0900377190420866e-106\n",
      "5.450188595210433e-107\n",
      "2.7250942976052165e-107\n",
      "1.3625471488026082e-107\n",
      "6.812735744013041e-108\n",
      "3.4063678720065206e-108\n",
      "1.7031839360032603e-108\n",
      "8.515919680016301e-109\n",
      "4.257959840008151e-109\n",
      "2.1289799200040754e-109\n",
      "1.0644899600020377e-109\n",
      "5.3224498000101884e-110\n",
      "2.6612249000050942e-110\n",
      "1.3306124500025471e-110\n",
      "6.653062250012736e-111\n",
      "3.326531125006368e-111\n",
      "1.663265562503184e-111\n",
      "8.31632781251592e-112\n",
      "4.15816390625796e-112\n",
      "2.07908195312898e-112\n",
      "1.03954097656449e-112\n",
      "5.19770488282245e-113\n",
      "2.598852441411225e-113\n",
      "1.2994262207056124e-113\n",
      "6.497131103528062e-114\n",
      "3.248565551764031e-114\n",
      "1.6242827758820155e-114\n",
      "8.121413879410078e-115\n",
      "4.060706939705039e-115\n",
      "2.0303534698525194e-115\n",
      "1.0151767349262597e-115\n",
      "5.075883674631299e-116\n",
      "2.5379418373156492e-116\n",
      "1.2689709186578246e-116\n",
      "6.344854593289123e-117\n",
      "3.1724272966445615e-117\n",
      "1.5862136483222808e-117\n",
      "7.931068241611404e-118\n",
      "3.965534120805702e-118\n",
      "1.982767060402851e-118\n",
      "9.913835302014255e-119\n",
      "4.9569176510071274e-119\n",
      "2.4784588255035637e-119\n",
      "1.2392294127517818e-119\n",
      "6.196147063758909e-120\n",
      "3.0980735318794546e-120\n",
      "1.5490367659397273e-120\n",
      "7.745183829698637e-121\n",
      "3.8725919148493183e-121\n",
      "1.9362959574246591e-121\n",
      "9.681479787123296e-122\n",
      "4.840739893561648e-122\n",
      "2.420369946780824e-122\n",
      "1.210184973390412e-122\n",
      "6.05092486695206e-123\n",
      "3.02546243347603e-123\n",
      "1.512731216738015e-123\n",
      "7.563656083690075e-124\n",
      "3.7818280418450374e-124\n",
      "1.8909140209225187e-124\n",
      "9.454570104612593e-125\n",
      "4.727285052306297e-125\n",
      "2.3636425261531484e-125\n",
      "1.1818212630765742e-125\n",
      "5.909106315382871e-126\n",
      "2.9545531576914354e-126\n",
      "1.4772765788457177e-126\n",
      "7.386382894228589e-127\n",
      "3.6931914471142943e-127\n",
      "1.8465957235571472e-127\n",
      "9.232978617785736e-128\n",
      "4.616489308892868e-128\n",
      "2.308244654446434e-128\n",
      "1.154122327223217e-128\n",
      "5.770611636116085e-129\n",
      "2.8853058180580424e-129\n",
      "1.4426529090290212e-129\n",
      "7.213264545145106e-130\n",
      "3.606632272572553e-130\n",
      "1.8033161362862765e-130\n",
      "9.016580681431383e-131\n",
      "4.5082903407156913e-131\n",
      "2.2541451703578456e-131\n",
      "1.1270725851789228e-131\n",
      "5.635362925894614e-132\n",
      "2.817681462947307e-132\n",
      "1.4088407314736535e-132\n",
      "7.044203657368268e-133\n",
      "3.522101828684134e-133\n",
      "1.761050914342067e-133\n",
      "8.805254571710335e-134\n",
      "4.4026272858551673e-134\n",
      "2.2013136429275836e-134\n",
      "1.1006568214637918e-134\n",
      "5.503284107318959e-135\n",
      "2.7516420536594796e-135\n",
      "1.3758210268297398e-135\n",
      "6.879105134148699e-136\n",
      "3.4395525670743494e-136\n",
      "1.7197762835371747e-136\n",
      "8.598881417685874e-137\n",
      "4.299440708842937e-137\n",
      "2.1497203544214684e-137\n",
      "1.0748601772107342e-137\n",
      "5.374300886053671e-138\n",
      "2.6871504430268355e-138\n",
      "1.3435752215134178e-138\n",
      "6.717876107567089e-139\n",
      "3.3589380537835444e-139\n",
      "1.6794690268917722e-139\n",
      "8.397345134458861e-140\n",
      "4.1986725672294305e-140\n",
      "2.0993362836147152e-140\n",
      "1.0496681418073576e-140\n",
      "5.248340709036788e-141\n",
      "2.624170354518394e-141\n",
      "1.312085177259197e-141\n",
      "6.560425886295985e-142\n",
      "3.2802129431479926e-142\n",
      "1.6401064715739963e-142\n",
      "8.200532357869981e-143\n",
      "4.100266178934991e-143\n",
      "2.0501330894674953e-143\n",
      "1.0250665447337477e-143\n",
      "5.1253327236687384e-144\n",
      "2.5626663618343692e-144\n",
      "1.2813331809171846e-144\n",
      "6.406665904585923e-145\n",
      "3.2033329522929615e-145\n",
      "1.6016664761464807e-145\n",
      "8.008332380732404e-146\n",
      "4.004166190366202e-146\n",
      "2.002083095183101e-146\n",
      "1.0010415475915505e-146\n",
      "5.0052077379577523e-147\n",
      "2.5026038689788762e-147\n",
      "1.2513019344894381e-147\n",
      "6.256509672447191e-148\n",
      "3.1282548362235952e-148\n",
      "1.5641274181117976e-148\n",
      "7.820637090558988e-149\n",
      "3.910318545279494e-149\n",
      "1.955159272639747e-149\n",
      "9.775796363198735e-150\n",
      "4.887898181599368e-150\n",
      "2.443949090799684e-150\n",
      "1.221974545399842e-150\n",
      "6.10987272699921e-151\n",
      "3.054936363499605e-151\n",
      "1.5274681817498023e-151\n",
      "7.637340908749012e-152\n",
      "3.818670454374506e-152\n",
      "1.909335227187253e-152\n",
      "9.546676135936265e-153\n",
      "4.7733380679681323e-153\n",
      "2.3866690339840662e-153\n",
      "1.1933345169920331e-153\n",
      "5.966672584960166e-154\n",
      "2.983336292480083e-154\n",
      "1.4916681462400413e-154\n",
      "7.458340731200207e-155\n",
      "3.7291703656001034e-155\n",
      "1.8645851828000517e-155\n",
      "9.322925914000258e-156\n",
      "4.661462957000129e-156\n",
      "2.3307314785000646e-156\n",
      "1.1653657392500323e-156\n",
      "5.826828696250162e-157\n",
      "2.913414348125081e-157\n",
      "1.4567071740625404e-157\n",
      "7.283535870312702e-158\n",
      "3.641767935156351e-158\n",
      "1.8208839675781755e-158\n",
      "9.104419837890877e-159\n",
      "4.552209918945439e-159\n",
      "2.2761049594727193e-159\n",
      "1.1380524797363597e-159\n",
      "5.6902623986817984e-160\n",
      "2.8451311993408992e-160\n",
      "1.4225655996704496e-160\n",
      "7.112827998352248e-161\n",
      "3.556413999176124e-161\n",
      "1.778206999588062e-161\n",
      "8.89103499794031e-162\n",
      "4.445517498970155e-162\n",
      "2.2227587494850775e-162\n",
      "1.1113793747425387e-162\n",
      "5.556896873712694e-163\n",
      "2.778448436856347e-163\n",
      "1.3892242184281734e-163\n",
      "6.946121092140867e-164\n",
      "3.4730605460704336e-164\n",
      "1.7365302730352168e-164\n",
      "8.682651365176084e-165\n",
      "4.341325682588042e-165\n",
      "2.170662841294021e-165\n",
      "1.0853314206470105e-165\n",
      "5.426657103235053e-166\n",
      "2.7133285516175262e-166\n",
      "1.3566642758087631e-166\n",
      "6.783321379043816e-167\n",
      "3.391660689521908e-167\n",
      "1.695830344760954e-167\n",
      "8.47915172380477e-168\n",
      "4.239575861902385e-168\n",
      "2.1197879309511924e-168\n",
      "1.0598939654755962e-168\n",
      "5.299469827377981e-169\n",
      "2.6497349136889905e-169\n",
      "1.3248674568444952e-169\n",
      "6.624337284222476e-170\n",
      "3.312168642111238e-170\n",
      "1.656084321055619e-170\n",
      "8.280421605278095e-171\n",
      "4.140210802639048e-171\n",
      "2.070105401319524e-171\n",
      "1.035052700659762e-171\n",
      "5.17526350329881e-172\n",
      "2.587631751649405e-172\n",
      "1.2938158758247024e-172\n",
      "6.469079379123512e-173\n",
      "3.234539689561756e-173\n",
      "1.617269844780878e-173\n",
      "8.08634922390439e-174\n",
      "4.043174611952195e-174\n",
      "2.0215873059760975e-174\n",
      "1.0107936529880487e-174\n",
      "5.053968264940244e-175\n",
      "2.526984132470122e-175\n",
      "1.263492066235061e-175\n",
      "6.317460331175305e-176\n",
      "3.1587301655876523e-176\n",
      "1.5793650827938261e-176\n",
      "7.896825413969131e-177\n",
      "3.9484127069845653e-177\n",
      "1.9742063534922827e-177\n",
      "9.871031767461413e-178\n",
      "4.935515883730707e-178\n",
      "2.4677579418653533e-178\n",
      "1.2338789709326767e-178\n",
      "6.169394854663383e-179\n",
      "3.084697427331692e-179\n",
      "1.542348713665846e-179\n",
      "7.71174356832923e-180\n",
      "3.855871784164615e-180\n",
      "1.9279358920823073e-180\n",
      "9.639679460411536e-181\n",
      "4.819839730205768e-181\n",
      "2.409919865102884e-181\n",
      "1.204959932551442e-181\n",
      "6.02479966275721e-182\n",
      "3.012399831378605e-182\n",
      "1.5061999156893026e-182\n",
      "7.530999578446513e-183\n",
      "3.7654997892232564e-183\n",
      "1.8827498946116282e-183\n",
      "9.413749473058141e-184\n",
      "4.706874736529071e-184\n",
      "2.3534373682645353e-184\n",
      "1.1767186841322676e-184\n",
      "5.883593420661338e-185\n",
      "2.941796710330669e-185\n",
      "1.4708983551653345e-185\n",
      "7.354491775826673e-186\n",
      "3.6772458879133364e-186\n",
      "1.8386229439566682e-186\n",
      "9.193114719783341e-187\n",
      "4.5965573598916705e-187\n",
      "2.2982786799458352e-187\n",
      "1.1491393399729176e-187\n",
      "5.745696699864588e-188\n",
      "2.872848349932294e-188\n",
      "1.436424174966147e-188\n",
      "7.182120874830735e-189\n",
      "3.5910604374153675e-189\n",
      "1.7955302187076838e-189\n",
      "8.977651093538419e-190\n",
      "4.4888255467692094e-190\n",
      "2.2444127733846047e-190\n",
      "1.1222063866923024e-190\n",
      "5.611031933461512e-191\n",
      "2.805515966730756e-191\n",
      "1.402757983365378e-191\n",
      "7.01378991682689e-192\n",
      "3.506894958413445e-192\n",
      "1.7534474792067224e-192\n",
      "8.767237396033612e-193\n",
      "4.383618698016806e-193\n",
      "2.191809349008403e-193\n",
      "1.0959046745042015e-193\n",
      "5.479523372521008e-194\n",
      "2.739761686260504e-194\n",
      "1.369880843130252e-194\n",
      "6.84940421565126e-195\n",
      "3.42470210782563e-195\n",
      "1.712351053912815e-195\n",
      "8.561755269564074e-196\n",
      "4.280877634782037e-196\n",
      "2.1404388173910186e-196\n",
      "1.0702194086955093e-196\n",
      "5.351097043477547e-197\n",
      "2.6755485217387732e-197\n",
      "1.3377742608693866e-197\n",
      "6.688871304346933e-198\n",
      "3.3444356521734666e-198\n",
      "1.6722178260867333e-198\n",
      "8.361089130433666e-199\n",
      "4.180544565216833e-199\n",
      "2.0902722826084166e-199\n",
      "1.0451361413042083e-199\n",
      "5.225680706521042e-200\n",
      "2.612840353260521e-200\n",
      "1.3064201766302604e-200\n",
      "6.532100883151302e-201\n",
      "3.266050441575651e-201\n",
      "1.6330252207878255e-201\n",
      "8.165126103939127e-202\n",
      "4.082563051969564e-202\n",
      "2.041281525984782e-202\n",
      "1.020640762992391e-202\n",
      "5.103203814961955e-203\n",
      "2.5516019074809773e-203\n",
      "1.2758009537404886e-203\n",
      "6.379004768702443e-204\n",
      "3.1895023843512216e-204\n",
      "1.5947511921756108e-204\n",
      "7.973755960878054e-205\n",
      "3.986877980439027e-205\n",
      "1.9934389902195135e-205\n",
      "9.967194951097568e-206\n",
      "4.983597475548784e-206\n",
      "2.491798737774392e-206\n",
      "1.245899368887196e-206\n",
      "6.22949684443598e-207\n",
      "3.11474842221799e-207\n",
      "1.557374211108995e-207\n",
      "7.786871055544975e-208\n",
      "3.8934355277724873e-208\n",
      "1.9467177638862437e-208\n",
      "9.733588819431218e-209\n",
      "4.866794409715609e-209\n",
      "2.4333972048578046e-209\n",
      "1.2166986024289023e-209\n",
      "6.083493012144512e-210\n",
      "3.041746506072256e-210\n",
      "1.520873253036128e-210\n",
      "7.60436626518064e-211\n",
      "3.80218313259032e-211\n",
      "1.90109156629516e-211\n",
      "9.5054578314758e-212\n",
      "4.7527289157379e-212\n",
      "2.37636445786895e-212\n",
      "1.188182228934475e-212\n",
      "5.940911144672375e-213\n",
      "2.9704555723361872e-213\n",
      "1.4852277861680936e-213\n",
      "7.426138930840468e-214\n",
      "3.713069465420234e-214\n",
      "1.856534732710117e-214\n",
      "9.282673663550585e-215\n",
      "4.641336831775293e-215\n",
      "2.3206684158876463e-215\n",
      "1.1603342079438231e-215\n",
      "5.801671039719116e-216\n",
      "2.900835519859558e-216\n",
      "1.450417759929779e-216\n",
      "7.252088799648895e-217\n",
      "3.6260443998244473e-217\n",
      "1.8130221999122236e-217\n",
      "9.065110999561118e-218\n",
      "4.532555499780559e-218\n",
      "2.2662777498902796e-218\n",
      "1.1331388749451398e-218\n",
      "5.665694374725699e-219\n",
      "2.8328471873628494e-219\n",
      "1.4164235936814247e-219\n",
      "7.082117968407124e-220\n",
      "3.541058984203562e-220\n",
      "1.770529492101781e-220\n",
      "8.852647460508905e-221\n",
      "4.4263237302544523e-221\n",
      "2.2131618651272261e-221\n",
      "1.1065809325636131e-221\n",
      "5.5329046628180653e-222\n",
      "2.7664523314090327e-222\n",
      "1.3832261657045163e-222\n",
      "6.916130828522582e-223\n",
      "3.458065414261291e-223\n",
      "1.7290327071306454e-223\n",
      "8.645163535653227e-224\n",
      "4.322581767826614e-224\n",
      "2.161290883913307e-224\n",
      "1.0806454419566534e-224\n",
      "5.403227209783267e-225\n",
      "2.7016136048916335e-225\n",
      "1.3508068024458167e-225\n",
      "6.754034012229084e-226\n",
      "3.377017006114542e-226\n",
      "1.688508503057271e-226\n",
      "8.442542515286355e-227\n",
      "4.2212712576431773e-227\n",
      "2.1106356288215886e-227\n",
      "1.0553178144107943e-227\n",
      "5.276589072053972e-228\n",
      "2.638294536026986e-228\n",
      "1.319147268013493e-228\n",
      "6.595736340067465e-229\n",
      "3.2978681700337323e-229\n",
      "1.6489340850168661e-229\n",
      "8.244670425084331e-230\n",
      "4.1223352125421653e-230\n",
      "2.0611676062710827e-230\n",
      "1.0305838031355413e-230\n",
      "5.152919015677707e-231\n",
      "2.5764595078388533e-231\n",
      "1.2882297539194267e-231\n",
      "6.441148769597133e-232\n",
      "3.220574384798567e-232\n",
      "1.6102871923992833e-232\n",
      "8.051435961996417e-233\n",
      "4.0257179809982083e-233\n",
      "2.0128589904991042e-233\n",
      "1.0064294952495521e-233\n",
      "5.0321474762477604e-234\n",
      "2.5160737381238802e-234\n",
      "1.2580368690619401e-234\n",
      "6.290184345309701e-235\n",
      "3.1450921726548502e-235\n",
      "1.5725460863274251e-235\n",
      "7.862730431637126e-236\n",
      "3.931365215818563e-236\n",
      "1.9656826079092814e-236\n",
      "9.828413039546407e-237\n",
      "4.914206519773204e-237\n",
      "2.457103259886602e-237\n",
      "1.228551629943301e-237\n",
      "6.142758149716505e-238\n",
      "3.0713790748582522e-238\n",
      "1.5356895374291261e-238\n",
      "7.678447687145631e-239\n",
      "3.8392238435728152e-239\n",
      "1.9196119217864076e-239\n",
      "9.598059608932038e-240\n",
      "4.799029804466019e-240\n",
      "2.3995149022330095e-240\n",
      "1.1997574511165048e-240\n",
      "5.998787255582524e-241\n",
      "2.999393627791262e-241\n",
      "1.499696813895631e-241\n",
      "7.498484069478155e-242\n",
      "3.7492420347390774e-242\n",
      "1.8746210173695387e-242\n",
      "9.373105086847693e-243\n",
      "4.686552543423847e-243\n",
      "2.3432762717119234e-243\n",
      "1.1716381358559617e-243\n",
      "5.858190679279809e-244\n",
      "2.9290953396399042e-244\n",
      "1.4645476698199521e-244\n",
      "7.322738349099761e-245\n",
      "3.6613691745498803e-245\n",
      "1.8306845872749401e-245\n",
      "9.153422936374701e-246\n",
      "4.5767114681873503e-246\n",
      "2.2883557340936752e-246\n",
      "1.1441778670468376e-246\n",
      "5.720889335234188e-247\n",
      "2.860444667617094e-247\n",
      "1.430222333808547e-247\n",
      "7.151111669042735e-248\n",
      "3.5755558345213674e-248\n",
      "1.7877779172606837e-248\n",
      "8.938889586303419e-249\n",
      "4.4694447931517093e-249\n",
      "2.2347223965758547e-249\n",
      "1.1173611982879273e-249\n",
      "5.586805991439637e-250\n",
      "2.7934029957198183e-250\n",
      "1.3967014978599092e-250\n",
      "6.983507489299546e-251\n",
      "3.491753744649773e-251\n",
      "1.7458768723248864e-251\n",
      "8.729384361624432e-252\n",
      "4.364692180812216e-252\n",
      "2.182346090406108e-252\n",
      "1.091173045203054e-252\n",
      "5.45586522601527e-253\n",
      "2.727932613007635e-253\n",
      "1.3639663065038175e-253\n",
      "6.819831532519088e-254\n",
      "3.409915766259544e-254\n",
      "1.704957883129772e-254\n",
      "8.52478941564886e-255\n",
      "4.26239470782443e-255\n",
      "2.131197353912215e-255\n",
      "1.0655986769561075e-255\n",
      "5.327993384780537e-256\n",
      "2.6639966923902686e-256\n",
      "1.3319983461951343e-256\n",
      "6.659991730975672e-257\n",
      "3.329995865487836e-257\n",
      "1.664997932743918e-257\n",
      "8.32498966371959e-258\n",
      "4.162494831859795e-258\n",
      "2.0812474159298974e-258\n",
      "1.0406237079649487e-258\n",
      "5.2031185398247434e-259\n",
      "2.6015592699123717e-259\n",
      "1.3007796349561859e-259\n",
      "6.503898174780929e-260\n",
      "3.2519490873904646e-260\n",
      "1.6259745436952323e-260\n",
      "8.129872718476162e-261\n",
      "4.064936359238081e-261\n",
      "2.0324681796190404e-261\n",
      "1.0162340898095202e-261\n",
      "5.081170449047601e-262\n",
      "2.5405852245238005e-262\n",
      "1.2702926122619002e-262\n",
      "6.351463061309501e-263\n",
      "3.1757315306547506e-263\n",
      "1.5878657653273753e-263\n",
      "7.939328826636877e-264\n",
      "3.9696644133184383e-264\n",
      "1.9848322066592191e-264\n",
      "9.924161033296096e-265\n",
      "4.962080516648048e-265\n",
      "2.481040258324024e-265\n",
      "1.240520129162012e-265\n",
      "6.20260064581006e-266\n",
      "3.10130032290503e-266\n",
      "1.550650161452515e-266\n",
      "7.753250807262575e-267\n",
      "3.8766254036312874e-267\n",
      "1.9383127018156437e-267\n",
      "9.691563509078218e-268\n",
      "4.845781754539109e-268\n",
      "2.4228908772695546e-268\n",
      "1.2114454386347773e-268\n",
      "6.057227193173887e-269\n",
      "3.0286135965869433e-269\n",
      "1.5143067982934716e-269\n",
      "7.571533991467358e-270\n",
      "3.785766995733679e-270\n",
      "1.8928834978668395e-270\n",
      "9.464417489334198e-271\n",
      "4.732208744667099e-271\n",
      "2.3661043723335494e-271\n",
      "1.1830521861667747e-271\n",
      "5.915260930833874e-272\n",
      "2.957630465416937e-272\n",
      "1.4788152327084684e-272\n",
      "7.394076163542342e-273\n",
      "3.697038081771171e-273\n",
      "1.8485190408855855e-273\n",
      "9.242595204427927e-274\n",
      "4.621297602213964e-274\n",
      "2.310648801106982e-274\n",
      "1.155324400553491e-274\n",
      "5.776622002767455e-275\n",
      "2.8883110013837273e-275\n",
      "1.4441555006918637e-275\n",
      "7.220777503459318e-276\n",
      "3.610388751729659e-276\n",
      "1.8051943758648296e-276\n",
      "9.025971879324148e-277\n",
      "4.512985939662074e-277\n",
      "2.256492969831037e-277\n",
      "1.1282464849155185e-277\n",
      "5.641232424577593e-278\n",
      "2.8206162122887962e-278\n",
      "1.4103081061443981e-278\n",
      "7.051540530721991e-279\n",
      "3.5257702653609953e-279\n",
      "1.7628851326804976e-279\n",
      "8.814425663402488e-280\n",
      "4.407212831701244e-280\n",
      "2.203606415850622e-280\n",
      "1.101803207925311e-280\n",
      "5.509016039626555e-281\n",
      "2.7545080198132776e-281\n",
      "1.3772540099066388e-281\n",
      "6.886270049533194e-282\n",
      "3.443135024766597e-282\n",
      "1.7215675123832985e-282\n",
      "8.607837561916492e-283\n",
      "4.303918780958246e-283\n",
      "2.151959390479123e-283\n",
      "1.0759796952395615e-283\n",
      "5.379898476197808e-284\n",
      "2.689949238098904e-284\n",
      "1.344974619049452e-284\n",
      "6.72487309524726e-285\n",
      "3.36243654762363e-285\n",
      "1.681218273811815e-285\n",
      "8.406091369059075e-286\n",
      "4.2030456845295373e-286\n",
      "2.1015228422647686e-286\n",
      "1.0507614211323843e-286\n",
      "5.253807105661922e-287\n",
      "2.626903552830961e-287\n",
      "1.3134517764154804e-287\n",
      "6.567258882077402e-288\n",
      "3.283629441038701e-288\n",
      "1.6418147205193505e-288\n",
      "8.209073602596753e-289\n",
      "4.1045368012983762e-289\n",
      "2.0522684006491881e-289\n",
      "1.0261342003245941e-289\n",
      "5.1306710016229703e-290\n",
      "2.5653355008114852e-290\n",
      "1.2826677504057426e-290\n",
      "6.413338752028713e-291\n",
      "3.2066693760143564e-291\n",
      "1.6033346880071782e-291\n",
      "8.016673440035891e-292\n",
      "4.008336720017946e-292\n",
      "2.004168360008973e-292\n",
      "1.0020841800044864e-292\n",
      "5.010420900022432e-293\n",
      "2.505210450011216e-293\n",
      "1.252605225005608e-293\n",
      "6.26302612502804e-294\n",
      "3.13151306251402e-294\n",
      "1.56575653125701e-294\n",
      "7.82878265628505e-295\n",
      "3.914391328142525e-295\n",
      "1.9571956640712625e-295\n",
      "9.785978320356312e-296\n",
      "4.892989160178156e-296\n",
      "2.446494580089078e-296\n",
      "1.223247290044539e-296\n",
      "6.116236450222695e-297\n",
      "3.0581182251113476e-297\n",
      "1.5290591125556738e-297\n",
      "7.645295562778369e-298\n",
      "3.8226477813891845e-298\n",
      "1.9113238906945923e-298\n",
      "9.556619453472961e-299\n",
      "4.778309726736481e-299\n",
      "2.3891548633682403e-299\n",
      "1.1945774316841202e-299\n",
      "5.972887158420601e-300\n",
      "2.9864435792103004e-300\n",
      "1.4932217896051502e-300\n",
      "7.466108948025751e-301\n",
      "3.7330544740128755e-301\n",
      "1.8665272370064378e-301\n",
      "9.332636185032189e-302\n",
      "4.6663180925160944e-302\n",
      "2.3331590462580472e-302\n",
      "1.1665795231290236e-302\n",
      "5.832897615645118e-303\n",
      "2.916448807822559e-303\n",
      "1.4582244039112795e-303\n",
      "7.291122019556398e-304\n",
      "3.645561009778199e-304\n",
      "1.8227805048890994e-304\n",
      "9.113902524445497e-305\n",
      "4.5569512622227484e-305\n",
      "2.2784756311113742e-305\n",
      "1.1392378155556871e-305\n",
      "5.696189077778436e-306\n",
      "2.848094538889218e-306\n",
      "1.424047269444609e-306\n",
      "7.120236347223045e-307\n",
      "3.5601181736115222e-307\n",
      "1.7800590868057611e-307\n",
      "8.900295434028806e-308\n",
      "4.450147717014403e-308\n",
      "2.2250738585072014e-308\n",
      "1.1125369292536007e-308\n",
      "5.562684646268003e-309\n",
      "2.781342323134e-309\n",
      "1.390671161567e-309\n",
      "6.953355807835e-310\n",
      "3.4766779039175e-310\n",
      "1.73833895195875e-310\n",
      "8.691694759794e-311\n",
      "4.345847379897e-311\n",
      "2.1729236899484e-311\n",
      "1.086461844974e-311\n",
      "5.43230922487e-312\n",
      "2.716154612436e-312\n",
      "1.35807730622e-312\n",
      "6.7903865311e-313\n",
      "3.39519326554e-313\n",
      "1.69759663277e-313\n",
      "8.487983164e-314\n",
      "4.243991582e-314\n",
      "2.121995791e-314\n",
      "1.0609978955e-314\n",
      "5.304989477e-315\n",
      "2.65249474e-315\n",
      "1.32624737e-315\n",
      "6.63123685e-316\n",
      "3.3156184e-316\n",
      "1.6578092e-316\n",
      "8.289046e-317\n",
      "4.144523e-317\n",
      "2.0722615e-317\n",
      "1.036131e-317\n",
      "5.180654e-318\n",
      "2.590327e-318\n",
      "1.295163e-318\n",
      "6.4758e-319\n",
      "3.2379e-319\n",
      "1.61895e-319\n",
      "8.095e-320\n",
      "4.0474e-320\n",
      "2.0237e-320\n",
      "1.012e-320\n",
      "5.06e-321\n",
      "2.53e-321\n",
      "1.265e-321\n",
      "6.3e-322\n",
      "3.16e-322\n",
      "1.6e-322\n",
      "8e-323\n",
      "4e-323\n",
      "2e-323\n",
      "1e-323\n",
      "5e-324\n",
      "0.0\n",
      "The smallest number the computer can represent is approximately 5e-324\n"
     ]
    }
   ],
   "source": [
    "small_test = 1.0\n",
    "while True:\n",
    "    print(small_test) # temporary print statement to show what's happening inside the loop)\n",
    "    if (small_test == 0):\n",
    "        break        # break out of the loop\n",
    "    still_ok = small_test\n",
    "    small_test = small_test / 2.0\n",
    "print(\"The smallest number the computer can represent is approximately\", still_ok)"
   ]
  },
  {
   "cell_type": "markdown",
   "metadata": {
    "slideshow": {
     "slide_type": "skip"
    }
   },
   "source": [
    "Note that we can also use the \"break\" statement to break out of ordinary while-loops (i.e. as an extra way out):"
   ]
  },
  {
   "cell_type": "code",
   "execution_count": 17,
   "metadata": {
    "slideshow": {
     "slide_type": "skip"
    }
   },
   "outputs": [
    {
     "name": "stdout",
     "output_type": "stream",
     "text": [
      "1\n",
      "2\n",
      "3\n",
      "4\n",
      "we stopped at 5\n"
     ]
    }
   ],
   "source": [
    "x = 1\n",
    "\n",
    "while (x < 10):\n",
    "    print(x)\n",
    "    x = x + 1\n",
    "    if x == 5:\n",
    "        break\n",
    "print('we stopped at', x)"
   ]
  },
  {
   "cell_type": "markdown",
   "metadata": {
    "slideshow": {
     "slide_type": "skip"
    }
   },
   "source": [
    "In fact, \"break\" can also be used to escape from for-loops:"
   ]
  },
  {
   "cell_type": "code",
   "execution_count": 18,
   "metadata": {
    "slideshow": {
     "slide_type": "skip"
    }
   },
   "outputs": [
    {
     "name": "stdout",
     "output_type": "stream",
     "text": [
      "iteration 0\n",
      "iteration 1\n",
      "iteration 2\n",
      "we stopped at 3\n"
     ]
    }
   ],
   "source": [
    "n = range(5)\n",
    "\n",
    "for i in n:\n",
    "    if i == 3:\n",
    "        break\n",
    "    print('iteration', i)\n",
    "print('we stopped at', i)"
   ]
  },
  {
   "cell_type": "markdown",
   "metadata": {
    "slideshow": {
     "slide_type": "slide"
    }
   },
   "source": [
    "### Jumping to the next iteration"
   ]
  },
  {
   "cell_type": "markdown",
   "metadata": {
    "slideshow": {
     "slide_type": "fragment"
    }
   },
   "source": [
    "It can also be useful at times to abort the rest of the current iteration of a loop and skip directly to the next one.\n",
    "\n",
    "In *Python*, we can do this with the *continue* command:"
   ]
  },
  {
   "cell_type": "code",
   "execution_count": 19,
   "metadata": {
    "slideshow": {
     "slide_type": "fragment"
    }
   },
   "outputs": [
    {
     "name": "stdout",
     "output_type": "stream",
     "text": [
      "Executing iteration:  0\n",
      "Executing iteration:  1\n",
      "Executing iteration:  2\n",
      "\n",
      "Executing iteration:  4\n"
     ]
    }
   ],
   "source": [
    "n = range(5)\n",
    "\n",
    "for i in n:\n",
    "    if i == 3:\n",
    "        print()\n",
    "        continue\n",
    "    print('Executing iteration: ', i)\n",
    "    "
   ]
  },
  {
   "cell_type": "markdown",
   "metadata": {
    "slideshow": {
     "slide_type": "slide"
    }
   },
   "source": [
    "### Functions"
   ]
  },
  {
   "cell_type": "markdown",
   "metadata": {
    "slideshow": {
     "slide_type": "slide"
    }
   },
   "source": [
    "## What are functions?\n",
    "\n",
    "In programming, a function is basically just a piece of code that carries out a well-defined specific task. \n",
    "\n",
    "In fact, we've already met some built-in python functions, such as len()"
   ]
  },
  {
   "cell_type": "code",
   "execution_count": 20,
   "metadata": {
    "slideshow": {
     "slide_type": "skip"
    }
   },
   "outputs": [
    {
     "data": {
      "text/plain": [
       "5"
      ]
     },
     "execution_count": 20,
     "metadata": {},
     "output_type": "execute_result"
    }
   ],
   "source": [
    "len('hello')"
   ]
  },
  {
   "cell_type": "code",
   "execution_count": 21,
   "metadata": {
    "slideshow": {
     "slide_type": "skip"
    }
   },
   "outputs": [
    {
     "data": {
      "text/plain": [
       "5"
      ]
     },
     "execution_count": 21,
     "metadata": {},
     "output_type": "execute_result"
    }
   ],
   "source": [
    "s = 'hello' #a string\n",
    "len(s)"
   ]
  },
  {
   "cell_type": "code",
   "execution_count": 22,
   "metadata": {
    "slideshow": {
     "slide_type": "fragment"
    }
   },
   "outputs": [
    {
     "name": "stdout",
     "output_type": "stream",
     "text": [
      "3\n",
      "<class 'int'>\n"
     ]
    }
   ],
   "source": [
    "a = [1, 2, 3] #a list\n",
    "b = len(a)\n",
    "print(b)\n",
    "print(type(b))"
   ]
  },
  {
   "cell_type": "code",
   "execution_count": 23,
   "metadata": {
    "slideshow": {
     "slide_type": "skip"
    }
   },
   "outputs": [
    {
     "data": {
      "text/plain": [
       "3"
      ]
     },
     "execution_count": 23,
     "metadata": {},
     "output_type": "execute_result"
    }
   ],
   "source": [
    "a = (1, 2, 3) #a tuple\n",
    "len(a)"
   ]
  },
  {
   "cell_type": "markdown",
   "metadata": {
    "slideshow": {
     "slide_type": "slide"
    }
   },
   "source": [
    "The len() function nicely illustrates the properties and usefulness of functions:\n",
    "\n",
    "- we interact with functions via a simple interface.\n",
    "\n",
    "- We say we \"call\" a function via the syntax\n",
    "    <br>\n",
    "\n",
    "        function-name(parameter-1, parameter-2)\n",
    "    <br><br>\n",
    "    - the parameters pass information into the function\n",
    "    <br><br>\n",
    "    - the function processes this and returns the result    "
   ]
  },
  {
   "cell_type": "markdown",
   "metadata": {
    "slideshow": {
     "slide_type": "slide"
    }
   },
   "source": [
    "### Functions are useful because:\n",
    "\n",
    "- they allow us to break long, complex pieces of code/logic into smaller, manageable parts\n",
    "\n",
    "    - \"divide-and-conquer\""
   ]
  },
  {
   "cell_type": "markdown",
   "metadata": {
    "slideshow": {
     "slide_type": "fragment"
    }
   },
   "source": [
    "- they can be re-used (and not just in a single program)"
   ]
  },
  {
   "cell_type": "markdown",
   "metadata": {
    "slideshow": {
     "slide_type": "fragment"
    }
   },
   "source": [
    "- we don't have to know exactly *how* a function does what it does\n",
    "\n",
    "    - we *do* have to understand *what* it does\n",
    "\n",
    "    - we *do* have to understand the meaning of the parameters\n",
    "    \n",
    "    - we *do* have to understand the return value(s)"
   ]
  },
  {
   "cell_type": "markdown",
   "metadata": {
    "slideshow": {
     "slide_type": "fragment"
    }
   },
   "source": [
    "- they help us make our code more readable"
   ]
  },
  {
   "cell_type": "markdown",
   "metadata": {
    "slideshow": {
     "slide_type": "slide"
    }
   },
   "source": [
    "### Understanding functions: maths vs computing\n",
    "\n",
    "- the word \"function\" has different meanings in mathematics and programming\n",
    "\n",
    "    * in coding, it's just any named sequence of operations\n",
    "\n",
    "    * but we *can* code functions that *implement* mathematical functions\n",
    "        - e.g. abs() returns the absolute value of its parameter "
   ]
  },
  {
   "cell_type": "code",
   "execution_count": 24,
   "metadata": {
    "slideshow": {
     "slide_type": "fragment"
    }
   },
   "outputs": [
    {
     "data": {
      "text/plain": [
       "2"
      ]
     },
     "execution_count": 24,
     "metadata": {},
     "output_type": "execute_result"
    }
   ],
   "source": [
    "abs(-2)"
   ]
  },
  {
   "cell_type": "markdown",
   "metadata": {
    "slideshow": {
     "slide_type": "slide"
    }
   },
   "source": [
    "### Understanding functions: printing vs returning values\n",
    "\n",
    "* note that functions generally *return* values, not (just) *print* them\n",
    "    \n",
    "* e.g. we can assign the result of a function to a variable"
   ]
  },
  {
   "cell_type": "code",
   "execution_count": 25,
   "metadata": {
    "slideshow": {
     "slide_type": "fragment"
    }
   },
   "outputs": [
    {
     "name": "stdout",
     "output_type": "stream",
     "text": [
      "-2 2\n"
     ]
    }
   ],
   "source": [
    "i = -2\n",
    "a = abs(i)\n",
    "print(i, a)\n"
   ]
  },
  {
   "cell_type": "markdown",
   "metadata": {
    "slideshow": {
     "slide_type": "fragment"
    }
   },
   "source": [
    "* note that this statement did not print anything!"
   ]
  },
  {
   "cell_type": "markdown",
   "metadata": {
    "slideshow": {
     "slide_type": "fragment"
    }
   },
   "source": [
    "   * in general, functions should be \"silent\"\n",
    "       - they should return values, not print them\n",
    "       - **except for testing/debugging**"
   ]
  },
  {
   "cell_type": "markdown",
   "metadata": {
    "slideshow": {
     "slide_type": "slide"
    }
   },
   "source": [
    "### Understanding functions: modifying input parameters\n",
    "\n",
    "* Most functions just **return** their result\n",
    "    * they do not modify their input parameter(s)<br><br>\n",
    "\n",
    "* However, some functions **can** modify their input parameters\n",
    "    * particularly relevant for **methods** (see below)\n",
    "    * we'll discuss this in more detail in a later session"
   ]
  },
  {
   "cell_type": "markdown",
   "metadata": {
    "slideshow": {
     "slide_type": "slide"
    }
   },
   "source": [
    "* **In general, it is good practice for functions and methods**\n",
    "    * **to cleanly distinguish between input and output parameters**\n",
    "    * **to rely only on its explicit input parameters** (no \"global\" information)\n",
    "    * **to leave input parameters unchanged**\n",
    "\n",
    "The point of all this is to **avoid side effects**!\n",
    "\n",
    "**Failure to follow these basic ideas is one of the most common sources of problems, errors and lost marks in the assignments!**"
   ]
  },
  {
   "cell_type": "markdown",
   "metadata": {
    "collapsed": true,
    "jupyter": {
     "outputs_hidden": true
    },
    "slideshow": {
     "slide_type": "slide"
    }
   },
   "source": [
    "## Built-In Functions\n",
    "\n",
    "Standard python has a set of basic (and not-so-basic) built-in functions that are always available. Here is a sub-set of particularly useful ones that we should be aware of:"
   ]
  },
  {
   "cell_type": "code",
   "execution_count": 26,
   "metadata": {
    "slideshow": {
     "slide_type": "skip"
    }
   },
   "outputs": [],
   "source": [
    "i = -2\n",
    "j = 2\n",
    "f = -2.6\n",
    "mylist = [1, 2, 3]"
   ]
  },
  {
   "cell_type": "code",
   "execution_count": 27,
   "metadata": {
    "slideshow": {
     "slide_type": "fragment"
    }
   },
   "outputs": [
    {
     "name": "stdout",
     "output_type": "stream",
     "text": [
      "1\n"
     ]
    },
    {
     "data": {
      "text/plain": [
       "2"
      ]
     },
     "execution_count": 27,
     "metadata": {},
     "output_type": "execute_result"
    }
   ],
   "source": [
    "i = 1\n",
    "j = 2\n",
    "mylist = [1,2,3]\n",
    "f = 2.5\n",
    "\n",
    "abs(i) #returns the absolute value of its parameter\n",
    "float(i) #returns the floating point version of its parameter\n",
    "id(i) #returns the internal unique identifier associated with the input object\n",
    "int(f) #returns the integer version of its parameter\n",
    "max(mylist) #returns the largest item in a sequence\n",
    "min(mylist) #returns the smallest item in a sequence\n",
    "max(i,j) #returns the largest of two or more input parameters\n",
    "min(i,j) #returns the smallest of two or more input parameters\n",
    "print(i) #prints the input to screen; \n",
    "range(j) #generates a sequential list of j integers starting at 0\n",
    "         #more general syntax: range([start,]stop[,step]) -- see session 2\n",
    "round(f) #rounds to the nearest integer and returns this as a float\n"
   ]
  },
  {
   "cell_type": "markdown",
   "metadata": {
    "slideshow": {
     "slide_type": "skip"
    }
   },
   "source": [
    "#### Exercise: Testing the Built-In Functions\n",
    "\n",
    "Test whether these built-in functions work the way you expect. For example:\n",
    "\n",
    "* What happens when you call abs(), float(), int(), max() etc on a boolean? \n",
    "\n",
    "* What happens if I run max() on a sequence containing different data types? \n",
    "\n",
    "* Can we round() an integer? \n",
    "\n",
    "* A boolean? \n",
    "\n",
    "* What if I run int() on a sequence, perhaps even a string? \n",
    "\n",
    "* What kind of data type does id() return?\n",
    "\n",
    "Basically, test all this stuff to destruction. The goal here is to gain intuition about how these things actually work and respond. \n",
    "\n",
    "One of the key points to figure out is what produces actual *errors* (i.e. python actually produces an error message), what produces the expected output, and what produces *unexpected* output.\n",
    "\n",
    "The last of these is particularly important if we want to avoid serious and difficult-to-detect errors."
   ]
  },
  {
   "cell_type": "markdown",
   "metadata": {
    "slideshow": {
     "slide_type": "slide"
    }
   },
   "source": [
    "## User-Defined Functions"
   ]
  },
  {
   "cell_type": "markdown",
   "metadata": {
    "slideshow": {
     "slide_type": "skip"
    }
   },
   "source": [
    "Even though it's nice and convenient that there are so many built-in functions available for us, the real power of functions comes from the fact that we can create our own!"
   ]
  },
  {
   "cell_type": "markdown",
   "metadata": {
    "slideshow": {
     "slide_type": "fragment"
    }
   },
   "source": [
    "### Defining and calling functions\n",
    "\n",
    "Defining new functions in python is easy:"
   ]
  },
  {
   "cell_type": "code",
   "execution_count": 28,
   "metadata": {
    "slideshow": {
     "slide_type": "fragment"
    }
   },
   "outputs": [
    {
     "name": "stdout",
     "output_type": "stream",
     "text": [
      "10.0 4\n"
     ]
    }
   ],
   "source": [
    "x = 10.0\n",
    "\n",
    "def add_two(x):\n",
    "    \"\"\"\n",
    "    This function adds the int 2 to its argument\n",
    "    and returns the result.\n",
    "    \"\"\"\n",
    "    y = x + 2\n",
    "    #print(\"y inside add_two is\", y)\n",
    "    return y\n",
    "    #print (y)\n",
    "\n",
    "y = add_two(2)\n",
    "print(x, y)\n"
   ]
  },
  {
   "cell_type": "markdown",
   "metadata": {
    "slideshow": {
     "slide_type": "skip"
    }
   },
   "source": [
    "* the \"def\" statement tells python we're defining a function<br>\n",
    "* the thing after \"def\" is the name of the function<br>\n",
    "* the object(s) in parentheses are the (input) parameters<br>\n",
    "* the \"def\" statement finishes with a colon\n",
    "* the body of the function is indented\n",
    "* note the explanatory documentation string\n",
    "* \"return y\" means our functions returns the value of object y\n",
    "* the \"return\" statement ends the function"
   ]
  },
  {
   "cell_type": "markdown",
   "metadata": {
    "slideshow": {
     "slide_type": "slide"
    }
   },
   "source": [
    "Calling a newly defined function is also easy:"
   ]
  },
  {
   "cell_type": "code",
   "execution_count": 29,
   "metadata": {
    "slideshow": {
     "slide_type": "fragment"
    }
   },
   "outputs": [
    {
     "name": "stdout",
     "output_type": "stream",
     "text": [
      "z2 is now 4\n",
      "z3 is now 6\n"
     ]
    }
   ],
   "source": [
    "z1 = 2\n",
    "z2 = add_two(z1)\n",
    "z3 = add_two(z2)\n",
    "print(\"z2 is now\", z2)\n",
    "print(\"z3 is now\", z3)"
   ]
  },
  {
   "cell_type": "markdown",
   "metadata": {
    "slideshow": {
     "slide_type": "skip"
    }
   },
   "source": [
    "* the syntax is *exactly* the same as for built-in functions<br>\n",
    "* the function is called via its name<br>\n",
    "* the input parameter is provided in parentheses<br>\n",
    "* the return value can be immediately assigned to another variable"
   ]
  },
  {
   "cell_type": "markdown",
   "metadata": {
    "slideshow": {
     "slide_type": "skip"
    }
   },
   "source": [
    "The general syntax for defining a function is:"
   ]
  },
  {
   "cell_type": "code",
   "execution_count": 30,
   "metadata": {
    "slideshow": {
     "slide_type": "skip"
    }
   },
   "outputs": [
    {
     "ename": "SyntaxError",
     "evalue": "invalid syntax (3183325577.py, line 2)",
     "output_type": "error",
     "traceback": [
      "\u001b[0;36m  Cell \u001b[0;32mIn[30], line 2\u001b[0;36m\u001b[0m\n\u001b[0;31m    def my_function(arg1 , arg2 , ... , argn):\u001b[0m\n\u001b[0m                                  ^\u001b[0m\n\u001b[0;31mSyntaxError\u001b[0m\u001b[0;31m:\u001b[0m invalid syntax\n"
     ]
    }
   ],
   "source": [
    "### This is only a pseudo-code; so would not run as it is\n",
    "def my_function(arg1 , arg2 , ... , argn):\n",
    "\n",
    "    \"\"\" Optional docstring . \"\"\"\n",
    "\n",
    "    # Implementation of the function\n",
    "\n",
    "    return result  # optional\n",
    "\n",
    "\n",
    "# this is not part of the function\n",
    "some_command"
   ]
  },
  {
   "cell_type": "markdown",
   "metadata": {
    "slideshow": {
     "slide_type": "skip"
    }
   },
   "source": [
    "**Note that:**\n",
    "\n",
    "* we can have multiple input parameters<br>\n",
    "\n",
    "* the \"return\" is optional\n",
    "    * if there is no \"return\", the end of the function is marked by indentation alone<br>"
   ]
  },
  {
   "cell_type": "markdown",
   "metadata": {
    "slideshow": {
     "slide_type": "skip"
    }
   },
   "source": [
    "#### Exercise\n",
    "\n",
    "Write a function works out the n-th element of the Fibonacci series. The first two elements of the Fibonacci series are 1 and 1, and every other element is the sum of the two preceeding elements."
   ]
  },
  {
   "cell_type": "markdown",
   "metadata": {
    "slideshow": {
     "slide_type": "slide"
    }
   },
   "source": [
    "### Recursion\n",
    "\n",
    "A function can actually call itself -- this is called **recursion**.\n",
    "\n",
    "This can be pretty useful.\n",
    "\n",
    "But note that anything you do with recursion can also be done without it, with ordinary loops."
   ]
  },
  {
   "cell_type": "markdown",
   "metadata": {
    "slideshow": {
     "slide_type": "skip"
    }
   },
   "source": [
    "#### Exercise: Recursion\n",
    "\n",
    "What do you think the following function will do?\n",
    "\n",
    "Look it over carefully before you run and it try to predict the output!"
   ]
  },
  {
   "cell_type": "code",
   "execution_count": null,
   "metadata": {
    "code_folding": [],
    "slideshow": {
     "slide_type": "skip"
    }
   },
   "outputs": [],
   "source": [
    "def test_func(a, b):\n",
    "    c = a + b\n",
    "    if (c < 100):\n",
    "        if (a==1) and (b==1):\n",
    "            print(a, b, c, end=\" \")\n",
    "        else:\n",
    "            print(c, end=\" \")            \n",
    "        a = b\n",
    "        b = c\n",
    "        test_func(a, b)\n",
    "    \n",
    "test_func(1,1)    "
   ]
  },
  {
   "cell_type": "markdown",
   "metadata": {
    "slideshow": {
     "slide_type": "slide"
    }
   },
   "source": [
    "### Returning multiple values\n",
    "\n",
    "Strictly speaking, python functions can return only a single object.\n",
    "\n",
    "However, that object can be a *tuple*! \n",
    "\n",
    "So, in practice, we can return multiple objects as elements of a tuple:"
   ]
  },
  {
   "cell_type": "code",
   "execution_count": null,
   "metadata": {
    "slideshow": {
     "slide_type": "fragment"
    }
   },
   "outputs": [],
   "source": [
    "def add_two_and_four(x):\n",
    "    y = x + 2\n",
    "    z = x + 4\n",
    "    return y, z\n",
    "a = 0\n",
    "b, c = add_two_and_four(a)\n",
    "print(\"b =\", b, \"and c =\", c)"
   ]
  },
  {
   "cell_type": "markdown",
   "metadata": {
    "slideshow": {
     "slide_type": "skip"
    }
   },
   "source": [
    "* Here \"y, z\" and \"b, c\" are both tuples<br>\n",
    "* But note that \"y\" and \"z\" and \"b\" and \"c\" themselves are all *ints*<br>"
   ]
  },
  {
   "cell_type": "markdown",
   "metadata": {
    "slideshow": {
     "slide_type": "skip"
    }
   },
   "source": [
    "If all this seems a bit weird, you can pretty much just think of \"return y, z\" as returning two separate objects."
   ]
  },
  {
   "cell_type": "markdown",
   "metadata": {
    "slideshow": {
     "slide_type": "skip"
    }
   },
   "source": [
    "The whole point of *tuples* is really to allow us to do things like that. However, it's worth keeping the *tuple* stuff in the back of your head. For example, we might (intentionally or accidentally) call our function as follows:"
   ]
  },
  {
   "cell_type": "code",
   "execution_count": null,
   "metadata": {
    "slideshow": {
     "slide_type": "skip"
    }
   },
   "outputs": [],
   "source": [
    "t = add_two_and_four(a)\n",
    "print(t)\n",
    "type(t)"
   ]
  },
  {
   "cell_type": "markdown",
   "metadata": {
    "slideshow": {
     "slide_type": "skip"
    }
   },
   "source": [
    "And that could get pretty confusing if we don't understand what a *tuple* is..."
   ]
  },
  {
   "cell_type": "markdown",
   "metadata": {
    "slideshow": {
     "slide_type": "slide"
    }
   },
   "source": [
    "### Documentation Strings\n",
    "\n",
    "We've mentioned several times already that it's important to write code that's *readable*. \n",
    "\n",
    "* Code is read much more frequently than it is written!\n",
    "\n",
    "We also said that having written a function, we should be able to use it without having to worry about *how* it does what it does. \n",
    "\n",
    "* But we do have to know *what* it does!\n",
    "<br>\n",
    "\n",
    "In order to help us accomplish this, python provides not only *comments*, but also **documentation strings**"
   ]
  },
  {
   "cell_type": "markdown",
   "metadata": {
    "slideshow": {
     "slide_type": "skip"
    }
   },
   "source": [
    "Remember our generic example of how functions are defined:"
   ]
  },
  {
   "cell_type": "markdown",
   "metadata": {
    "slideshow": {
     "slide_type": "skip"
    }
   },
   "source": [
    "def my_function(arg1 , arg2 , ... , argn):\n",
    "\n",
    "    \"\"\" Optional documentation string . \"\"\"\n",
    "\n",
    "    # Implementation of the function\n",
    "\n",
    "    return result  # optional\n",
    "\n",
    "\n",
    "\n",
    "some_command"
   ]
  },
  {
   "cell_type": "markdown",
   "metadata": {
    "slideshow": {
     "slide_type": "skip"
    }
   },
   "source": [
    "* the docstring is enclosed in \"\"\" and \"\"\"\n",
    "* it can extend over multiple lines\n",
    "* it should explain what the purpose of the function\n",
    "* depending on context, it may provide additional relevant info\n",
    "    * the code author\n",
    "    * the date when the function was written\n",
    "    * the date(s) when it was modified (and by whom)\n",
    "    * a brief explanation of how it works"
   ]
  },
  {
   "cell_type": "code",
   "execution_count": null,
   "metadata": {
    "slideshow": {
     "slide_type": "fragment"
    }
   },
   "outputs": [],
   "source": [
    "def add_two(x):\n",
    "    \"\"\" \n",
    "    adds the float 2.0 to every input and \n",
    "    returns the result\n",
    "    \n",
    "    Description of the function\n",
    "    \n",
    "    Input parameters: x, the number we add two to\n",
    "    \n",
    "    Return/Output parameters: x+2\n",
    "    \n",
    "    \"\"\"\n",
    "    y = x + 2.0\n",
    "    return y\n"
   ]
  },
  {
   "cell_type": "markdown",
   "metadata": {
    "slideshow": {
     "slide_type": "slide"
    }
   },
   "source": [
    "One of the cool things about docstrings is that, once we've written them, they are available automatically for any user via the help() function."
   ]
  },
  {
   "cell_type": "code",
   "execution_count": null,
   "metadata": {
    "slideshow": {
     "slide_type": "fragment"
    }
   },
   "outputs": [],
   "source": [
    "help(add_two)"
   ]
  },
  {
   "cell_type": "markdown",
   "metadata": {
    "slideshow": {
     "slide_type": "skip"
    }
   },
   "source": [
    "#### Exercise: A Function to Count the Number of Elemensts in a List\n",
    "\n",
    "Write a function that will replicate the list.count method. \n",
    "\n",
    "#### Exercise: A Function to Append New Elements to a List\n",
    "\n",
    "Write a function that replicates the list.append method. The function should take as input a list and a new element (e.g. an integer) and then return a list that has the new element appended to the end.\n",
    "\n",
    "#### Exercise: A Sorting Function\n",
    "\n",
    "The Big Picture Exercise for the previous session was to write code that would sort a list. Take that code and turn it into a *function* that you can call with a list as the input parameter, and which will return another (sorted) list as the output parameter."
   ]
  },
  {
   "cell_type": "markdown",
   "metadata": {
    "slideshow": {
     "slide_type": "skip"
    }
   },
   "source": [
    "## Reminder: Big Picture Exercise\n",
    "\n",
    "Don't forgot to see if you can implement what you've learnt in the big picture exercise!"
   ]
  }
 ],
 "metadata": {
  "celltoolbar": "Slideshow",
  "hide_input": false,
  "kernelspec": {
   "display_name": "Python 3 (ipykernel)",
   "language": "python",
   "name": "python3"
  },
  "language_info": {
   "codemirror_mode": {
    "name": "ipython",
    "version": 3
   },
   "file_extension": ".py",
   "mimetype": "text/x-python",
   "name": "python",
   "nbconvert_exporter": "python",
   "pygments_lexer": "ipython3",
   "version": "3.12.6"
  },
  "latex_envs": {
   "bibliofile": "biblio.bib",
   "cite_by": "apalike",
   "current_citInitial": 1,
   "eqLabelWithNumbers": true,
   "eqNumInitial": 0
  },
  "toc": {
   "base_numbering": 1,
   "nav_menu": {},
   "number_sections": true,
   "sideBar": true,
   "skip_h1_title": true,
   "title_cell": "Table of Contents",
   "title_sidebar": "Contents",
   "toc_cell": true,
   "toc_position": {},
   "toc_section_display": true,
   "toc_window_display": false
  }
 },
 "nbformat": 4,
 "nbformat_minor": 4
}
