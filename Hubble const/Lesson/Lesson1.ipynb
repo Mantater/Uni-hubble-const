{
 "cells": [
  {
   "cell_type": "markdown",
   "metadata": {
    "slideshow": {
     "slide_type": "skip"
    },
    "toc": true
   },
   "source": [
    "<h1>Table of Contents<span class=\"tocSkip\"></span></h1>\n",
    "<div class=\"toc\"><ul class=\"toc-item\"><li><span><a href=\"#instructors\" data-toc-modified-id=\"instructors-1\"><span class=\"toc-item-num\">1&nbsp;&nbsp;</span>instructors</a></span></li><li><span><a href=\"#module-plan\" data-toc-modified-id=\"module-plan-2\"><span class=\"toc-item-num\">2&nbsp;&nbsp;</span>module plan</a></span><ul class=\"toc-item\"><li><span><a href=\"#part-1:-programming\" data-toc-modified-id=\"part-1:-programming-2.1\"><span class=\"toc-item-num\">2.1&nbsp;&nbsp;</span>part 1: programming</a></span></li><li><span><a href=\"#part-2:-data-analysis\" data-toc-modified-id=\"part-2:-data-analysis-2.2\"><span class=\"toc-item-num\">2.2&nbsp;&nbsp;</span>part 2: data analysis</a></span></li></ul></li><li><span><a href=\"#assessment\" data-toc-modified-id=\"assessment-3\"><span class=\"toc-item-num\">3&nbsp;&nbsp;</span>assessment</a></span><ul class=\"toc-item\"><li><span><a href=\"#assessment-components\" data-toc-modified-id=\"assessment-components-3.1\"><span class=\"toc-item-num\">3.1&nbsp;&nbsp;</span>assessment components</a></span><ul class=\"toc-item\"><li><span><a href=\"#continuous-asessment:-20%\" data-toc-modified-id=\"continuous-asessment:-20%-3.1.1\"><span class=\"toc-item-num\">3.1.1&nbsp;&nbsp;</span>continuous asessment: 20%</a></span></li><li><span><a href=\"#assignment:-80%\" data-toc-modified-id=\"assignment:-80%-3.1.3\"><span class=\"toc-item-num\">3.1.3&nbsp;&nbsp;</span>assignment: 80%</a></span></li></ul></li><li><span><a href=\"#how-to-do-well-in-this-course\" data-toc-modified-id=\"how-to-do-well-in-this-course-3.2\"><span class=\"toc-item-num\">3.2&nbsp;&nbsp;</span>how to do well in this course</a></span></li><li><span><a href=\"#engagement-is-the-key-to-success\" data-toc-modified-id=\"engagement-is-the-key-to-success-3.3\"><span class=\"toc-item-num\">3.3&nbsp;&nbsp;</span>engagement is the key to success</a></span></li><li><span><a href=\"#academic-integrity\" data-toc-modified-id=\"academic-integrity-3.4\"><span class=\"toc-item-num\">3.4&nbsp;&nbsp;</span>academic integrity</a></span></li></ul></li><li><span><a href=\"#logistics\" data-toc-modified-id=\"logistics-4\"><span class=\"toc-item-num\">4&nbsp;&nbsp;</span>logistics</a></span><ul class=\"toc-item\"><li><span><a href=\"#session-days,-times-&amp;-locations\" data-toc-modified-id=\"session-days,-times-&amp;-locations-4.1\"><span class=\"toc-item-num\">4.1&nbsp;&nbsp;</span>session days, times &amp; locations</a></span></li><li><span><a href=\"#drop-in-sessions-(optional)\" data-toc-modified-id=\"drop-in-sessions-(optional)-4.2\"><span class=\"toc-item-num\">4.2&nbsp;&nbsp;</span>drop-in sessions (optional)</a></span></li><li><span><a href=\"#teaching-platforms\" data-toc-modified-id=\"teaching-platforms-4.3\"><span class=\"toc-item-num\">4.3&nbsp;&nbsp;</span>teaching platforms</a></span></li><li><span><a href=\"#additional-resources\" data-toc-modified-id=\"additional-resources-4.4\"><span class=\"toc-item-num\">4.4&nbsp;&nbsp;</span>additional resources</a></span></li></ul></li><li><span><a href=\"#practicalities\" data-toc-modified-id=\"practicalities-5\"><span class=\"toc-item-num\">5&nbsp;&nbsp;</span>practicalities</a></span><ul class=\"toc-item\"><li><span><a href=\"#programming-language:-python\" data-toc-modified-id=\"programming-language:-python-5.1\"><span class=\"toc-item-num\">5.1&nbsp;&nbsp;</span>programming language: python</a></span></li><li><span><a href=\"#coding-environment\" data-toc-modified-id=\"coding-environment-5.2\"><span class=\"toc-item-num\">5.2&nbsp;&nbsp;</span>coding environment</a></span><ul class=\"toc-item\"><li><span><a href=\"#anaconda-and-spyder\" data-toc-modified-id=\"anaconda-and-spyder-5.2.1\"><span class=\"toc-item-num\">5.2.1&nbsp;&nbsp;</span>anaconda and spyder</a></span></li><li><span><a href=\"#python-versions\" data-toc-modified-id=\"python-versions-5.2.2\"><span class=\"toc-item-num\">5.2.2&nbsp;&nbsp;</span>python versions</a></span></li><li><span><a href=\"#spyder:-console-vs-editor\" data-toc-modified-id=\"spyder:-console-vs-editor-5.2.3\"><span class=\"toc-item-num\">5.2.3&nbsp;&nbsp;</span>spyder: console vs editor</a></span></li><li><span><a href=\"#jupyter-notebooks\" data-toc-modified-id=\"jupyter-notebooks-5.2.4\"><span class=\"toc-item-num\">5.2.4&nbsp;&nbsp;</span>jupyter notebooks</a></span></li></ul></li></ul></li><li><span><a href=\"#getting-started-with-python\" data-toc-modified-id=\"getting-started-with-python-6\"><span class=\"toc-item-num\">6&nbsp;&nbsp;</span>getting started with python</a></span><ul class=\"toc-item\"><li><ul class=\"toc-item\"><li><ul class=\"toc-item\"><li><span><a href=\"#Exercise:-Hello-World\" data-toc-modified-id=\"Exercise:-Hello-World-6.0.0.1\"><span class=\"toc-item-num\">6.0.0.1&nbsp;&nbsp;</span>Exercise: Hello World</a></span></li><li><span><a href=\"#Exercise:-Python-as-a-calculator\" data-toc-modified-id=\"Exercise:-Python-as-a-calculator-6.0.0.2\"><span class=\"toc-item-num\">6.0.0.2&nbsp;&nbsp;</span>Exercise: Python as a calculator</a></span></li></ul></li></ul></li></ul></li><li><span><a href=\"#variables\" data-toc-modified-id=\"variables-7\"><span class=\"toc-item-num\">7&nbsp;&nbsp;</span>variables</a></span><ul class=\"toc-item\"><li><span><a href=\"#Python-commands-are-not-algebraic-statements\" data-toc-modified-id=\"Python-commands-are-not-algebraic-statements-7.1\"><span class=\"toc-item-num\">7.1&nbsp;&nbsp;</span>Python commands are not algebraic statements</a></span><ul class=\"toc-item\"><li><ul class=\"toc-item\"><li><span><a href=\"#Exercise:-Playing-with-variables\" data-toc-modified-id=\"Exercise:-Playing-with-variables-7.1.0.1\"><span class=\"toc-item-num\">7.1.0.1&nbsp;&nbsp;</span>Exercise: Playing with variables</a></span></li><li><span><a href=\"#Exercise:-Solving-a-quadratic-equation\" data-toc-modified-id=\"Exercise:-Solving-a-quadratic-equation-7.1.0.2\"><span class=\"toc-item-num\">7.1.0.2&nbsp;&nbsp;</span>Exercise: Solving a quadratic equation</a></span></li><li><span><a href=\"#Exercise:-A-&quot;real&quot;-code\" data-toc-modified-id=\"Exercise:-A-&quot;real&quot;-code-7.1.0.3\"><span class=\"toc-item-num\">7.1.0.3&nbsp;&nbsp;</span>Exercise: A \"real\" code</a></span></li></ul></li></ul></li></ul></li></ul></div>"
   ]
  },
  {
   "cell_type": "markdown",
   "metadata": {
    "code_folding": [],
    "slideshow": {
     "slide_type": "slide"
    }
   },
   "source": [
    "# Lesson 1: \n",
    "# introduction"
   ]
  },
  {
   "cell_type": "markdown",
   "metadata": {
    "slideshow": {
     "slide_type": "slide"
    }
   },
   "source": [
    "## instructors\n",
    "\n",
    "<img src=staff1.png height=\"80%\" alt=\"\">\n",
    "<img src=staff2.png height=\"80%\" alt=\"\">\n",
    "<img src=staff3.png height=\"80%\" alt=\"\">"
   ]
  },
  {
   "cell_type": "markdown",
   "metadata": {
    "slideshow": {
     "slide_type": "slide"
    }
   },
   "source": [
    "## module plan\n",
    "\n",
    "\n",
    "* Session 1: programming - introduction\n",
    "* Session 2: programming - algorithmic thinking, data types, conditionals and loops\n",
    "* Session 3: programming - functions\n",
    "* Session 4: programming - arrays and modules\n",
    "* Session 5: programming - input/output\n",
    "* Session 6: statistical analysis - creating, inspecting and describing data\n",
    "* Session 7: programming - data visualization and plotting\n",
    "* Session 8: statistical analysis - statistical distributions I\n",
    "* Session 9: statistical analysis - statistical distributions II\n",
    "* Session 10: dealing with errors I\n",
    "* Session 11: dealing with errors II\n",
    "* Session 12: model fitting and parameter estimation I\n",
    "* Session 13: model fitting and parameter estimation II\n",
    "* Session 14: Revision and Q&A\n",
    "* sessions 15, 16, 17, 18: discussion and work on assignment\n",
    "<br><br>\n",
    "* Self-study module: python subtleties\n",
    "* Self-study module: numerical computation\n",
    "* Self-study module: Hypothesis Testing\n",
    "* Self-study module: Error Propagation on Fit Parameters\n",
    "\n"
   ]
  },
  {
   "cell_type": "markdown",
   "metadata": {
    "slideshow": {
     "slide_type": "slide"
    }
   },
   "source": [
    "## assessment\n",
    "\n",
    "### assessment components\n",
    "\n",
    "#### continuous asessment: 20%\n",
    "\n",
    "* \"Exit slips\"\n",
    "\n",
    "    * Before you leave each lab session, you'll complete a 2-question simple multiple-choice quiz on the Blackboard site\n",
    "        * Each question is worth 1 mark        \n",
    "\n",
    "    * There will also be a few (non-assessed) questions  about how you are getting on with the course\n",
    "        * these are purely to help us make sure things are going well and make improvements in real time\n",
    "\n",
    "    * Waivers only via approved SCB requests\n",
    "\n"
   ]
  },
  {
   "cell_type": "markdown",
   "metadata": {
    "slideshow": {
     "slide_type": "slide"
    }
   },
   "source": [
    "#### assignment: 80%\n",
    "\n",
    "* Probably something like: \n",
    "\"*Use the programming and data analysis methods you have learned in this course to determine the Hubble constant from a given set of actual astronomical data.*\"\n",
    "\n",
    "    * Due date: **Friday, Nov 29, 2024, 18:00**\n",
    "    \n",
    "    * Five dedicated lab sessions to receive help for this assignment"
   ]
  },
  {
   "cell_type": "markdown",
   "metadata": {
    "slideshow": {
     "slide_type": "slide"
    }
   },
   "source": [
    "### how to do well in this course\n",
    "\n",
    "* **stay motivated**\n",
    "    * being able to code and skilled in data analysis is *extremely* useful\n",
    "    * once you get good at it, it is actually *fun*\n",
    "<br><br>\n",
    "* **engage with the material**\n",
    "    * think about the material and try to fully understand it\n",
    "    * a good test: could you teach it to somebody else?\n",
    " <br><br>\n",
    "* **Maximize receiving help in the labs**\n",
    "    * There will be deciated instructors to help you\n",
    "    * You get 4 hrs every week to receive dedicated help\n",
    "<br><br>\n",
    "* **work hard**\n",
    "    * show up for all the session\n",
    "    * complete each session's notebook (if at all possible, before the next session)\n",
    "    * try to complete as many of the exercises as possible\n",
    "    * some self-study outside the sessions is expected and helpful\n",
    " <br><br>   \n",
    "* **work smart**\n",
    "    * **ask for help if you need it**\n",
    "    * don't allow yourself to fall further and further behind\n",
    "    * start working on the assignments early\n",
    "    * earn the full 20% for attending and engaging in sessions"
   ]
  },
  {
   "cell_type": "markdown",
   "metadata": {
    "slideshow": {
     "slide_type": "slide"
    }
   },
   "source": [
    "### engagement is the key to success\n",
    "<br>\n",
    "<img src=Engagement.png height=\"90%\">"
   ]
  },
  {
   "cell_type": "markdown",
   "metadata": {
    "slideshow": {
     "slide_type": "slide"
    }
   },
   "source": [
    "### academic integrity\n",
    "\n",
    "I take academic integrity extremely seriously -- we all should. It's central to everything we do as scientists.\n",
    "\n",
    "That said, we will take a common sense view of plagiarism --  you shouldn't worry about falling foul of the fine print in some arcane and pointless plagiarism regulation.\n",
    "\n",
    "**Plagiarism simply means presenting somebody else's work or ideas as our own.** \n",
    "\n",
    "Doing this is not OK, for two reasons.\n",
    "\n",
    "* It violates academic integrity:\n",
    "    * we shouldn't get credit for other peoples' efforts.\n",
    "* It means we're not learning anything:\n",
    "    * if we had learned the relevant material we presumably wouldn't need to plagiarize it.\n",
    "\n",
    "I consider both of these to be incredibly important, and so they provide the lens through which I view any questions or concerns about plagiarism. "
   ]
  },
  {
   "cell_type": "markdown",
   "metadata": {
    "slideshow": {
     "slide_type": "slide"
    }
   },
   "source": [
    "What does that mean in practice? \n",
    "\n",
    "On the one hand, it means it can be easier than one might think to slip into dodgy territory. For example, copying a code snippet from an online resource or another student without attribution is plagiarism, even if we replace all the variable and function names, and even if we make the odd change to the (e.g. add comments, delete or add a few lines). \n",
    "\n",
    "On the other hand, it means that we shouldn't accidentally slip into plagiarism, because **if we're in any doubt, all we have to do is ask ourselves whether we are presenting other peoples' work as our own in any significant way. If the answer is yes, it's plagiarism. If the answer is no, it's not.**\n",
    "\n",
    "This is not to say that there can't be grey areas -- usually associated with this phrase \"in any significant way\". But there is an easy way to deal with this: if we are in any doubt, we can always add an attribution to the source material you are using. That makes it clear we're not trying to hide anything and aren't trying to take credit for other peoples' efforts."
   ]
  },
  {
   "cell_type": "markdown",
   "metadata": {
    "slideshow": {
     "slide_type": "slide"
    }
   },
   "source": [
    "## logistics\n",
    "\n",
    "### session days, times & locations\n",
    "* Lectures \n",
    "    * Tuesday, 11am - 12noon: room 58 / 1067\n",
    "    * Friday, 10am - 11 am: room 58 / 1067\n",
    "<br><br>\n",
    "* Labs \n",
    "    * Thursday, 4pm - 6pm: in two rooms (you must be allocated already)\n",
    "    * Friday, 4pm - 6pm: in two rooms (you must be allocated already) \n",
    "<br><br>\n",
    "* Attendance    \n",
    "    Attendance will be monitored with a code \n",
    "\n",
    "### office hours (on Teams)\n",
    "* Wednesday, 12 -12:45pm (please feel free to send me a chat message)"
   ]
  },
  {
   "cell_type": "markdown",
   "metadata": {
    "slideshow": {
     "slide_type": "slide"
    }
   },
   "source": [
    "    \n",
    "### teaching platforms\n",
    "* Lectures\n",
    "    * In-person\n",
    "    * Recordings made available on Blackboard\n",
    "<br><br>\n",
    "* Computer Labs\n",
    "    * In-Person\n",
    "    * Spread across several computer rooms \n",
    "    * Streamed by experience\n"
   ]
  },
  {
   "cell_type": "markdown",
   "metadata": {
    "slideshow": {
     "slide_type": "slide"
    }
   },
   "source": [
    "### additional resources\n",
    "\n",
    "* **Stackoverflow**\n",
    "    * https://stackoverflow.com/\n",
    "    * Lots of existing answer to coding questions posed by users at all levels\n",
    "    * You can also post your own questions\n",
    "* **Data Camp**\n",
    "    * https://www.datacamp.com\n",
    "    * Lots of worked examples, exercises etc at all levels\n",
    "* **BB Discussion Board**\n",
    "    * Post your question(s) and get answer from other staff or (especially) students on the course\n",
    "* **Class Discord/Slack/WhatsApp/whatever group(s)**\n",
    "    * I strongly encourage you all to create your own -- inclusive! -- support network for this module"
   ]
  },
  {
   "cell_type": "markdown",
   "metadata": {
    "code_folding": [],
    "slideshow": {
     "slide_type": "slide"
    }
   },
   "source": [
    "## practicalities"
   ]
  },
  {
   "cell_type": "markdown",
   "metadata": {
    "code_folding": [],
    "slideshow": {
     "slide_type": "slide"
    }
   },
   "source": [
    "### programming language: python\n",
    "\n",
    "In this course, we will use ***Python*** as our programming language of choice. There are lots of sensible reasons for this, including:"
   ]
  },
  {
   "cell_type": "markdown",
   "metadata": {
    "code_folding": [],
    "slideshow": {
     "slide_type": "fragment"
    }
   },
   "source": [
    "* it's free\n",
    "\n",
    "* it's platform independent\n",
    "\n",
    "* there are lots of excellent free \"libraries\" or \"packages\" (e.g. scipy, numpy, matplotlib...)\n",
    "\n",
    "* there is lots and lots of documention available, much of it free and online\n",
    "\n",
    "* it's an excellent \"general-purpose\" language\n",
    "\n",
    "* it's fast becoming the de-facto standard in many areas of scientific computing"
   ]
  },
  {
   "cell_type": "markdown",
   "metadata": {
    "code_folding": [],
    "slideshow": {
     "slide_type": "skip"
    }
   },
   "source": [
    "What do we mean by saying \"it's an excellent general-purpose language\"?\n",
    "\n",
    "- it is straightforward to learn\n",
    "\n",
    "- convenient to code in\n",
    "\n",
    "- easy to read (when used correctly)\n",
    "\n",
    "- interpreted on the fly (command-by-command), not compiled as a block\n",
    "   \n",
    "- not intrinsically fast, but provides specialized fast extension libraries"
   ]
  },
  {
   "cell_type": "markdown",
   "metadata": {
    "slideshow": {
     "slide_type": "slide"
    }
   },
   "source": [
    "### coding environment"
   ]
  },
  {
   "cell_type": "markdown",
   "metadata": {
    "slideshow": {
     "slide_type": "fragment"
    }
   },
   "source": [
    "#### anaconda and spyder"
   ]
  },
  {
   "cell_type": "markdown",
   "metadata": {
    "slideshow": {
     "slide_type": "skip"
    }
   },
   "source": [
    "In our sessions, we will use the anaconda python distribution and the **spyder** python editor for most of our coding. These are pre-installed for you in the university desktop environment.\n",
    "\n",
    "If you also want to install the necessary software on your own personal computer, I recommend that you simply install <a href='https://store.continuum.io/cshop/anaconda'>***anaconda***</a>. **I encourage you to work as much as possible on your own computer, if that's an option, including in the computer labs.**\n",
    "\n",
    "Anaconda is a free Python distribution that comes pre-installed with virtually all of the major scientific computing and plotting packages. It also includes the ***spyder*** \"integrated development environment\" (IDE), which is what we will use to write and run Python code.\n",
    "\n",
    "I will illustrate this in the lecture, and we'll help you get started in the first lab session."
   ]
  },
  {
   "cell_type": "markdown",
   "metadata": {
    "slideshow": {
     "slide_type": "fragment"
    }
   },
   "source": [
    "#### python versions"
   ]
  },
  {
   "cell_type": "markdown",
   "metadata": {
    "slideshow": {
     "slide_type": "fragment"
    }
   },
   "source": [
    "We will use python 3 in this course. This is currently the latest version of python."
   ]
  },
  {
   "cell_type": "markdown",
   "metadata": {
    "slideshow": {
     "slide_type": "fragment"
    }
   },
   "source": [
    "####  spyder: console vs editor\n",
    "\n",
    "Normally, when we code in spyder we will type commands into the editor window on the left and then hit the \"run\" button to execute the code. The result then shows up on the (bottom) left. \n",
    "\n",
    "Now, that bottom left window is called the \"console\". And we can actually type commands directly into that as well, which can be convenient for quick interactive stuff. For example, perhaps we just want to type a single command at a time (rather than a full program that we then execute). For that sort of thing we can type directly into the \"console\" at the bottom right of the spyder window.\n",
    "\n",
    "A practical example where the console is useful, for example, is using python as a calculator (see below)."
   ]
  },
  {
   "cell_type": "markdown",
   "metadata": {
    "slideshow": {
     "slide_type": "slide"
    }
   },
   "source": [
    "#### jupyter notebooks"
   ]
  },
  {
   "cell_type": "markdown",
   "metadata": {
    "slideshow": {
     "slide_type": "skip"
    }
   },
   "source": [
    "These lecture notes are written as \"Jupyter Notebooks\". Essentially, this is just a convenient way to combine text, equations and executable code snippets in a single document. We will show you in the session how to run and use Jupyter notebooks."
   ]
  },
  {
   "cell_type": "markdown",
   "metadata": {
    "slideshow": {
     "slide_type": "skip"
    }
   },
   "source": [
    "One thing to note about iPython and Jupyter notebooks is that, is that they are super-useful for interactive use -- we get immediate feedback (output) regarding the content/results of the *last* input line we've typed *even without explicitly asking for this via a print statement*\n",
    "\n",
    "For example, "
   ]
  },
  {
   "cell_type": "code",
   "execution_count": 2,
   "metadata": {
    "slideshow": {
     "slide_type": "skip"
    }
   },
   "outputs": [
    {
     "data": {
      "text/plain": [
       "1"
      ]
     },
     "execution_count": 2,
     "metadata": {},
     "output_type": "execute_result"
    },
    {
     "name": "stdout",
     "output_type": "stream",
     "text": [
      "The history saving thread hit an unexpected error (OperationalError('attempt to write a readonly database')).History will not be written to the database.\n"
     ]
    }
   ],
   "source": [
    "a = 1\n",
    "a"
   ]
  },
  {
   "cell_type": "markdown",
   "metadata": {
    "slideshow": {
     "slide_type": "skip"
    }
   },
   "source": [
    "Try typing those two lines into the editor in *spyder* and running it -- you should find that no output is produced. If you want output in non-interactive mode, you need to use print."
   ]
  },
  {
   "cell_type": "code",
   "execution_count": 3,
   "metadata": {
    "scrolled": true,
    "slideshow": {
     "slide_type": "skip"
    }
   },
   "outputs": [
    {
     "name": "stdout",
     "output_type": "stream",
     "text": [
      "1\n"
     ]
    }
   ],
   "source": [
    "a = 1\n",
    "print(a)"
   ]
  },
  {
   "cell_type": "markdown",
   "metadata": {
    "slideshow": {
     "slide_type": "skip"
    }
   },
   "source": [
    "I'm going to try to make myself use \"print\" even when I do things interactively,  just to avoid confusion. But I'm bound to forget at times. If I do, now you hopefully know what's going on...."
   ]
  },
  {
   "cell_type": "markdown",
   "metadata": {
    "slideshow": {
     "slide_type": "slide"
    }
   },
   "source": [
    "## getting started with python\n",
    "\n",
    "OK, let's do some actual programming. It is a time-honored tradition that the first program you write when you learn a new computer langugage writes out \"Hello world\" to the screen.\n",
    "\n",
    "##### Exercise: Hello World\n",
    "\n",
    "Try typing the following command first into the spyder editor window (and then execute it) and then directly into the IPython console (and then execute it):"
   ]
  },
  {
   "cell_type": "code",
   "execution_count": 4,
   "metadata": {
    "scrolled": true,
    "slideshow": {
     "slide_type": "fragment"
    }
   },
   "outputs": [
    {
     "name": "stdout",
     "output_type": "stream",
     "text": [
      "Hello world\n"
     ]
    }
   ],
   "source": [
    "print(\"Hello world\")"
   ]
  },
  {
   "cell_type": "markdown",
   "metadata": {
    "slideshow": {
     "slide_type": "skip"
    }
   },
   "source": [
    "Congratulations -- you've just written your first Python computer program! \n",
    "\n",
    "By far the best way to learn the syntax of a programming language is to play with it and (ab)use it. Don't be afraid to to this: nothing you can type into a python console is going to physically fry the computer you're working on! (If you can, I'm impressed, and you really don't need to take this course...)\n",
    "\n",
    "So, is Python case-sensitive (i.e. could we have written \"Print\" instead of \"print\")? Can we use single quotes instead of double quotes inside the print statement? Do we need quotes at all? Can we have quotes inside the quotes (so they show up in the output when you run the print statement)? Is there a limit to the length of the string inside the print statement? Can we print out a number instead of a string? Can we have more than one command on a single line? Can we print out two separate strings with a single statement? A string and a number?\n",
    "\n",
    "Take this opportunity to find the answer to these (and other) questions by messing around. It's probably easiest to use the IPython console for this, since then you can just hit <enter> to execute each command."
   ]
  },
  {
   "cell_type": "markdown",
   "metadata": {
    "slideshow": {
     "slide_type": "slide"
    }
   },
   "source": [
    "##### Exercise: Python as a calculator"
   ]
  },
  {
   "cell_type": "markdown",
   "metadata": {
    "slideshow": {
     "slide_type": "skip"
    }
   },
   "source": [
    "Python also lends itself really nicely for use as a calculator, and this also shows us we can use mathematical symbols in python. \n",
    "\n",
    "This is especially useful in the iPython console (bottom right of the spyder window), since there we just have to hit enter to see the result (rather than hit a \"run\" button)\n",
    "\n",
    "Type in and execute the following expressions (\"programs\") and then create some additional ones -- including more complex ones -- on your own."
   ]
  },
  {
   "cell_type": "code",
   "execution_count": 5,
   "metadata": {
    "scrolled": true,
    "slideshow": {
     "slide_type": "fragment"
    }
   },
   "outputs": [
    {
     "data": {
      "text/plain": [
       "5"
      ]
     },
     "execution_count": 5,
     "metadata": {},
     "output_type": "execute_result"
    }
   ],
   "source": [
    "2 + 3"
   ]
  },
  {
   "cell_type": "code",
   "execution_count": 6,
   "metadata": {
    "scrolled": true,
    "slideshow": {
     "slide_type": "fragment"
    }
   },
   "outputs": [
    {
     "data": {
      "text/plain": [
       "10.7"
      ]
     },
     "execution_count": 6,
     "metadata": {},
     "output_type": "execute_result"
    }
   ],
   "source": [
    "18 - 7.3"
   ]
  },
  {
   "cell_type": "code",
   "execution_count": 7,
   "metadata": {
    "scrolled": true,
    "slideshow": {
     "slide_type": "fragment"
    }
   },
   "outputs": [
    {
     "data": {
      "text/plain": [
       "135"
      ]
     },
     "execution_count": 7,
     "metadata": {},
     "output_type": "execute_result"
    }
   ],
   "source": [
    "5 * 27"
   ]
  },
  {
   "cell_type": "code",
   "execution_count": 8,
   "metadata": {
    "scrolled": true,
    "slideshow": {
     "slide_type": "fragment"
    }
   },
   "outputs": [
    {
     "data": {
      "text/plain": [
       "1.6"
      ]
     },
     "execution_count": 8,
     "metadata": {},
     "output_type": "execute_result"
    }
   ],
   "source": [
    "8.0 / 5.0"
   ]
  },
  {
   "cell_type": "code",
   "execution_count": 9,
   "metadata": {
    "scrolled": true,
    "slideshow": {
     "slide_type": "fragment"
    }
   },
   "outputs": [
    {
     "data": {
      "text/plain": [
       "1.6"
      ]
     },
     "execution_count": 9,
     "metadata": {},
     "output_type": "execute_result"
    }
   ],
   "source": [
    "8 / 5"
   ]
  },
  {
   "cell_type": "code",
   "execution_count": 10,
   "metadata": {
    "scrolled": true,
    "slideshow": {
     "slide_type": "skip"
    }
   },
   "outputs": [
    {
     "data": {
      "text/plain": [
       "8"
      ]
     },
     "execution_count": 10,
     "metadata": {},
     "output_type": "execute_result"
    }
   ],
   "source": [
    "2 ** 3"
   ]
  },
  {
   "cell_type": "code",
   "execution_count": 11,
   "metadata": {
    "scrolled": true,
    "slideshow": {
     "slide_type": "skip"
    }
   },
   "outputs": [
    {
     "data": {
      "text/plain": [
       "8.574187700290345"
      ]
     },
     "execution_count": 11,
     "metadata": {},
     "output_type": "execute_result"
    }
   ],
   "source": [
    "2 ** 3.1"
   ]
  },
  {
   "cell_type": "code",
   "execution_count": 12,
   "metadata": {
    "scrolled": true,
    "slideshow": {
     "slide_type": "skip"
    }
   },
   "outputs": [
    {
     "data": {
      "text/plain": [
       "0.125"
      ]
     },
     "execution_count": 12,
     "metadata": {},
     "output_type": "execute_result"
    }
   ],
   "source": [
    "2 ** -3"
   ]
  },
  {
   "cell_type": "code",
   "execution_count": 13,
   "metadata": {
    "scrolled": true,
    "slideshow": {
     "slide_type": "skip"
    }
   },
   "outputs": [
    {
     "data": {
      "text/plain": [
       "-6"
      ]
     },
     "execution_count": 13,
     "metadata": {},
     "output_type": "execute_result"
    }
   ],
   "source": [
    "2 * -3"
   ]
  },
  {
   "cell_type": "code",
   "execution_count": 14,
   "metadata": {
    "scrolled": true,
    "slideshow": {
     "slide_type": "skip"
    }
   },
   "outputs": [
    {
     "data": {
      "text/plain": [
       "9.0"
      ]
     },
     "execution_count": 14,
     "metadata": {},
     "output_type": "execute_result"
    }
   ],
   "source": [
    "81 ** 0.5"
   ]
  },
  {
   "cell_type": "code",
   "execution_count": 15,
   "metadata": {
    "scrolled": true,
    "slideshow": {
     "slide_type": "skip"
    }
   },
   "outputs": [
    {
     "data": {
      "text/plain": [
       "8.94427190999916"
      ]
     },
     "execution_count": 15,
     "metadata": {},
     "output_type": "execute_result"
    }
   ],
   "source": [
    "80 ** 0.5"
   ]
  },
  {
   "cell_type": "code",
   "execution_count": 16,
   "metadata": {
    "scrolled": true,
    "slideshow": {
     "slide_type": "skip"
    }
   },
   "outputs": [
    {
     "data": {
      "text/plain": [
       "8.94427190999916"
      ]
     },
     "execution_count": 16,
     "metadata": {},
     "output_type": "execute_result"
    }
   ],
   "source": [
    "80 ** (1/2)"
   ]
  },
  {
   "cell_type": "code",
   "execution_count": 17,
   "metadata": {
    "scrolled": true,
    "slideshow": {
     "slide_type": "skip"
    }
   },
   "outputs": [
    {
     "data": {
      "text/plain": [
       "8.94427190999916"
      ]
     },
     "execution_count": 17,
     "metadata": {},
     "output_type": "execute_result"
    }
   ],
   "source": [
    "80 ** (1./2.)"
   ]
  },
  {
   "cell_type": "code",
   "execution_count": 18,
   "metadata": {
    "scrolled": true,
    "slideshow": {
     "slide_type": "fragment"
    }
   },
   "outputs": [
    {
     "data": {
      "text/plain": [
       "2.6"
      ]
     },
     "execution_count": 18,
     "metadata": {},
     "output_type": "execute_result"
    }
   ],
   "source": [
    "8 / 5 + 1.0"
   ]
  },
  {
   "cell_type": "markdown",
   "metadata": {
    "slideshow": {
     "slide_type": "slide"
    }
   },
   "source": [
    "## variables\n",
    "\n",
    "All computer languages share the basic concept of *variables*.\n",
    "\n",
    "Variables are crucial, because they allow us to use symbols in our programs, rather than just actual numbers or strings."
   ]
  },
  {
   "cell_type": "markdown",
   "metadata": {
    "slideshow": {
     "slide_type": "skip"
    }
   },
   "source": [
    "Without variables, we'd be limited to doing arithmetic and might as well use a calculator. With variables, we can write programs to do just about anything, including algebra and calculus.  "
   ]
  },
  {
   "cell_type": "markdown",
   "metadata": {
    "slideshow": {
     "slide_type": "fragment"
    }
   },
   "source": [
    "In Python, we define variables simply by assigning a value to them. For example, we can define the variable a just by typing"
   ]
  },
  {
   "cell_type": "code",
   "execution_count": 19,
   "metadata": {
    "scrolled": true,
    "slideshow": {
     "slide_type": "fragment"
    }
   },
   "outputs": [
    {
     "name": "stdout",
     "output_type": "stream",
     "text": [
      "10.0\n"
     ]
    }
   ],
   "source": [
    "a = 10.0\n",
    "print(a)"
   ]
  },
  {
   "cell_type": "markdown",
   "metadata": {
    "slideshow": {
     "slide_type": "slide"
    }
   },
   "source": [
    "When we do this, we are telling the computer to set aside a particular chunk of its memory for holding a piece of data of the type we want and allow us to access that data via the symbol."
   ]
  },
  {
   "cell_type": "markdown",
   "metadata": {
    "slideshow": {
     "slide_type": "fragment"
    }
   },
   "source": [
    "In this particular case, we are saying:\n",
    "\n",
    "    \"create the real number 10.0 and store it in \n",
    "    a chunk of memory that we can access via the letter a\"."
   ]
  },
  {
   "cell_type": "markdown",
   "metadata": {
    "collapsed": true,
    "jupyter": {
     "outputs_hidden": true
    },
    "slideshow": {
     "slide_type": "fragment"
    }
   },
   "source": [
    "We can look what's inside the variable by using the print statement:\n"
   ]
  },
  {
   "cell_type": "code",
   "execution_count": 20,
   "metadata": {
    "scrolled": true,
    "slideshow": {
     "slide_type": "fragment"
    }
   },
   "outputs": [
    {
     "name": "stdout",
     "output_type": "stream",
     "text": [
      "The variable a contains the value 10.0\n"
     ]
    }
   ],
   "source": [
    "print(\"The variable a contains the value\", a)"
   ]
  },
  {
   "cell_type": "markdown",
   "metadata": {
    "slideshow": {
     "slide_type": "skip"
    }
   },
   "source": [
    "Note that we used a comma to tell the computer that we are trying to print out *two* objects -- a string and a variable.\n",
    "\n",
    "If we want to know what *type* of data a particular variable refers to (we'll talk more about data types in a minute), we can use the built in function type(). In the iPython console, we can just write \"type(a)\" and hit enter:"
   ]
  },
  {
   "cell_type": "code",
   "execution_count": 21,
   "metadata": {
    "scrolled": true,
    "slideshow": {
     "slide_type": "skip"
    }
   },
   "outputs": [
    {
     "data": {
      "text/plain": [
       "float"
      ]
     },
     "execution_count": 21,
     "metadata": {},
     "output_type": "execute_result"
    }
   ],
   "source": [
    "type(a)"
   ]
  },
  {
   "cell_type": "markdown",
   "metadata": {
    "slideshow": {
     "slide_type": "slide"
    }
   },
   "source": [
    "### Python commands are not algebraic statements\n",
    "\n",
    "One aspect of variables is often confusing when it is first encountered. In algebra, a statement like\n",
    "\n",
    "$a = a + 1$\n",
    "\n",
    "is obviously non-sensical. However, in Python (and just about any other programming language), this is a perfectly reasonable  command."
   ]
  },
  {
   "cell_type": "code",
   "execution_count": 22,
   "metadata": {
    "scrolled": true,
    "slideshow": {
     "slide_type": "fragment"
    }
   },
   "outputs": [],
   "source": [
    "a = 1.0"
   ]
  },
  {
   "cell_type": "code",
   "execution_count": 23,
   "metadata": {
    "scrolled": true,
    "slideshow": {
     "slide_type": "fragment"
    }
   },
   "outputs": [],
   "source": [
    "a = a + 1.0"
   ]
  },
  {
   "cell_type": "code",
   "execution_count": 24,
   "metadata": {
    "scrolled": true,
    "slideshow": {
     "slide_type": "fragment"
    }
   },
   "outputs": [
    {
     "name": "stdout",
     "output_type": "stream",
     "text": [
      "2.0\n"
     ]
    }
   ],
   "source": [
    "print(a)"
   ]
  },
  {
   "cell_type": "markdown",
   "metadata": {
    "slideshow": {
     "slide_type": "skip"
    }
   },
   "source": [
    "There is nothing mysterious about this. In Python, the \"=\" symbol is an operator that says \"assign the value on the right to the object on the left\". So we first evaluate the right hand side ($a + 1$ with $a = 1$ is $1+1=2$). Then we take the result of that evaluation and assign it to the thing on the right -- which might be one of the variables we used in the expression on the right. There is no ambiguity here, and once we've wrapped our head around it, it's really straightforward and makes a lot of sense."
   ]
  },
  {
   "cell_type": "markdown",
   "metadata": {
    "slideshow": {
     "slide_type": "slide"
    }
   },
   "source": [
    "##### Exercise: Playing with variables"
   ]
  },
  {
   "cell_type": "markdown",
   "metadata": {
    "slideshow": {
     "slide_type": "skip"
    }
   },
   "source": [
    "Let's play around with all this to see how this helps us and to get some intuition. Here are a few things to try and execute:"
   ]
  },
  {
   "cell_type": "code",
   "execution_count": 25,
   "metadata": {
    "scrolled": true,
    "slideshow": {
     "slide_type": "skip"
    }
   },
   "outputs": [],
   "source": [
    "a = 10.0"
   ]
  },
  {
   "cell_type": "code",
   "execution_count": 26,
   "metadata": {
    "scrolled": true,
    "slideshow": {
     "slide_type": "skip"
    }
   },
   "outputs": [],
   "source": [
    "b = 20.0"
   ]
  },
  {
   "cell_type": "code",
   "execution_count": 27,
   "metadata": {
    "scrolled": true,
    "slideshow": {
     "slide_type": "skip"
    }
   },
   "outputs": [
    {
     "name": "stdout",
     "output_type": "stream",
     "text": [
      "10.0\n"
     ]
    }
   ],
   "source": [
    "print(a)"
   ]
  },
  {
   "cell_type": "code",
   "execution_count": 28,
   "metadata": {
    "scrolled": true,
    "slideshow": {
     "slide_type": "skip"
    }
   },
   "outputs": [
    {
     "name": "stdout",
     "output_type": "stream",
     "text": [
      "20.0\n"
     ]
    }
   ],
   "source": [
    "print(b)"
   ]
  },
  {
   "cell_type": "code",
   "execution_count": 29,
   "metadata": {
    "scrolled": true,
    "slideshow": {
     "slide_type": "skip"
    }
   },
   "outputs": [],
   "source": [
    "c = a + b"
   ]
  },
  {
   "cell_type": "code",
   "execution_count": 30,
   "metadata": {
    "scrolled": true,
    "slideshow": {
     "slide_type": "skip"
    }
   },
   "outputs": [
    {
     "name": "stdout",
     "output_type": "stream",
     "text": [
      "30.0\n"
     ]
    }
   ],
   "source": [
    "print(c)"
   ]
  },
  {
   "cell_type": "code",
   "execution_count": 31,
   "metadata": {
    "scrolled": true,
    "slideshow": {
     "slide_type": "skip"
    }
   },
   "outputs": [],
   "source": [
    "ab2 = (a + b) / 2.0"
   ]
  },
  {
   "cell_type": "code",
   "execution_count": 32,
   "metadata": {
    "scrolled": true,
    "slideshow": {
     "slide_type": "skip"
    }
   },
   "outputs": [
    {
     "name": "stdout",
     "output_type": "stream",
     "text": [
      "15.0\n"
     ]
    }
   ],
   "source": [
    "print(ab2)"
   ]
  },
  {
   "cell_type": "code",
   "execution_count": 33,
   "metadata": {
    "scrolled": true,
    "slideshow": {
     "slide_type": "skip"
    }
   },
   "outputs": [],
   "source": [
    "a = a + b + c"
   ]
  },
  {
   "cell_type": "code",
   "execution_count": 34,
   "metadata": {
    "scrolled": true,
    "slideshow": {
     "slide_type": "skip"
    }
   },
   "outputs": [
    {
     "name": "stdout",
     "output_type": "stream",
     "text": [
      "60.0\n"
     ]
    }
   ],
   "source": [
    "print(a)"
   ]
  },
  {
   "cell_type": "code",
   "execution_count": 35,
   "metadata": {
    "scrolled": true,
    "slideshow": {
     "slide_type": "skip"
    }
   },
   "outputs": [],
   "source": [
    "i = 1"
   ]
  },
  {
   "cell_type": "code",
   "execution_count": 36,
   "metadata": {
    "scrolled": true,
    "slideshow": {
     "slide_type": "skip"
    }
   },
   "outputs": [],
   "source": [
    "f = 2.0"
   ]
  },
  {
   "cell_type": "code",
   "execution_count": 37,
   "metadata": {
    "scrolled": true,
    "slideshow": {
     "slide_type": "skip"
    }
   },
   "outputs": [],
   "source": [
    "test = i/f"
   ]
  },
  {
   "cell_type": "code",
   "execution_count": 38,
   "metadata": {
    "scrolled": true,
    "slideshow": {
     "slide_type": "skip"
    }
   },
   "outputs": [
    {
     "name": "stdout",
     "output_type": "stream",
     "text": [
      "0.5\n"
     ]
    }
   ],
   "source": [
    "print(test)"
   ]
  },
  {
   "cell_type": "markdown",
   "metadata": {
    "slideshow": {
     "slide_type": "slide"
    }
   },
   "source": [
    "##### Exercise: Solving a quadratic equation\n",
    "\n",
    "Let's try to do something that's getting useful. We're given the quadratic equation\n",
    "\n",
    "$ax^2 + bx + c = 0$\n",
    "\n",
    "with $a = 3.4$, $b = 18.3$ and $c = 14.5$. \n",
    "\n",
    "I'm hoping you all remember the algebraic solution to the quadratic equation, so implement this in Python and use it to solve the particular equation above."
   ]
  },
  {
   "cell_type": "code",
   "execution_count": 39,
   "metadata": {
    "scrolled": true,
    "slideshow": {
     "slide_type": "skip"
    }
   },
   "outputs": [],
   "source": [
    "a = 3.4"
   ]
  },
  {
   "cell_type": "code",
   "execution_count": 40,
   "metadata": {
    "scrolled": true,
    "slideshow": {
     "slide_type": "skip"
    }
   },
   "outputs": [],
   "source": [
    "b = 18.3"
   ]
  },
  {
   "cell_type": "code",
   "execution_count": 41,
   "metadata": {
    "scrolled": true,
    "slideshow": {
     "slide_type": "skip"
    }
   },
   "outputs": [],
   "source": [
    "c = 14.5"
   ]
  },
  {
   "cell_type": "code",
   "execution_count": 42,
   "metadata": {
    "scrolled": true,
    "slideshow": {
     "slide_type": "skip"
    }
   },
   "outputs": [],
   "source": [
    "x1 = (-b + (b**2.0 - 4.0 * a * c)**0.5) / (2.0 * a)"
   ]
  },
  {
   "cell_type": "code",
   "execution_count": 43,
   "metadata": {
    "scrolled": true,
    "slideshow": {
     "slide_type": "skip"
    }
   },
   "outputs": [],
   "source": [
    "x2 = (-b - (b**2.0 - 4.0 * a * c)**0.5) / (2.0 * a)"
   ]
  },
  {
   "cell_type": "code",
   "execution_count": 44,
   "metadata": {
    "scrolled": true,
    "slideshow": {
     "slide_type": "skip"
    }
   },
   "outputs": [
    {
     "name": "stdout",
     "output_type": "stream",
     "text": [
      "The two solutions are -0.9655679073576252 and -4.4167850338188455\n"
     ]
    }
   ],
   "source": [
    "print('The two solutions are', x1, 'and', x2)"
   ]
  },
  {
   "cell_type": "markdown",
   "metadata": {
    "slideshow": {
     "slide_type": "skip"
    }
   },
   "source": [
    "Now try the same thing, but with c = 34.9. What happens and why?"
   ]
  },
  {
   "cell_type": "markdown",
   "metadata": {
    "slideshow": {
     "slide_type": "slide"
    }
   },
   "source": [
    "##### Exercise: A \"real\" code\n",
    "\n",
    "Just to finish this first lessons, let's take a first look at some \"real\" code. \n",
    "\n",
    "But, first a disclaimer: there is **no** problem if you don't fully understand this yet! The idea here is just to show you some basic in practice before we actually cover it (in the next lesson). \n",
    "\n",
    "What I am hoping you'll find is that, if you read this through carefully and execute it, you can figure out what it's doing and how it's doing it -- even if you couldn't write it yourself yet (obviously).\n",
    "\n",
    "See if you can execute this a few times, try to uderstand what it's doing, alter various things in it. E.g. you could put some extra print statements in there if that helps you \"see\" what's happening behind the scenes."
   ]
  },
  {
   "cell_type": "code",
   "execution_count": 45,
   "metadata": {
    "scrolled": true,
    "slideshow": {
     "slide_type": "slide"
    }
   },
   "outputs": [
    {
     "name": "stdout",
     "output_type": "stream",
     "text": [
      "1 x 1  =   1\n",
      "2 x 1  =   2\n",
      "2 x 2  =   4\n",
      "3 x 1  =   3\n",
      "3 x 2  =   6\n",
      "3 x 3  =   9\n",
      "4 x 1  =   4\n",
      "4 x 2  =   8\n",
      "4 x 3  =  12\n",
      "4 x 4  =  16\n",
      "5 x 1  =   5\n",
      "5 x 2  =  10\n",
      "5 x 3  =  15\n",
      "5 x 4  =  20\n",
      "5 x 5  =  25\n",
      "6 x 1  =   6\n",
      "6 x 2  =  12\n",
      "6 x 3  =  18\n",
      "6 x 4  =  24\n",
      "6 x 5  =  30\n",
      "6 x 6  =  36\n",
      "7 x 1  =   7\n",
      "7 x 2  =  14\n",
      "7 x 3  =  21\n",
      "7 x 4  =  28\n",
      "7 x 5  =  35\n",
      "7 x 6  =  42\n",
      "7 x 7  =  49\n",
      "8 x 1  =   8\n",
      "8 x 2  =  16\n",
      "8 x 3  =  24\n",
      "8 x 4  =  32\n",
      "8 x 5  =  40\n",
      "8 x 6  =  48\n",
      "8 x 7  =  56\n",
      "8 x 8  =  64\n",
      "9 x 1  =   9\n",
      "9 x 2  =  18\n",
      "9 x 3  =  27\n",
      "9 x 4  =  36\n",
      "9 x 5  =  45\n",
      "9 x 6  =  54\n",
      "9 x 7  =  63\n",
      "9 x 8  =  72\n",
      "9 x 9  =  81\n"
     ]
    }
   ],
   "source": [
    "#let's write a simple program that plots a times table\n",
    "\n",
    "#initialize the first number\n",
    "a = 1\n",
    "\n",
    "#loop over the first number\n",
    "while (a < 10):\n",
    "    #initialize the second number\n",
    "    b = 1\n",
    "    #loop over the second number (so long as it's not bigger than the first)\n",
    "    while (b <= a):\n",
    "        #work out the answer\n",
    "        c = a * b\n",
    "        #format the printing according to whether the answer has two digits or one\n",
    "        if (c >= 10):\n",
    "            print(a, 'x', b, ' = ', c)\n",
    "        else:\n",
    "            print(a, 'x', b, ' =  ', c)\n",
    "\n",
    "        #increment the second number\n",
    "        b = b + 1\n",
    "    #increment the first number\n",
    "    a = a + 1"
   ]
  }
 ],
 "metadata": {
  "celltoolbar": "Slideshow",
  "hide_input": false,
  "kernelspec": {
   "display_name": "Python 3 (ipykernel)",
   "language": "python",
   "name": "python3"
  },
  "language_info": {
   "codemirror_mode": {
    "name": "ipython",
    "version": 3
   },
   "file_extension": ".py",
   "mimetype": "text/x-python",
   "name": "python",
   "nbconvert_exporter": "python",
   "pygments_lexer": "ipython3",
   "version": "3.9.6"
  },
  "latex_envs": {
   "bibliofile": "biblio.bib",
   "cite_by": "apalike",
   "current_citInitial": 1,
   "eqLabelWithNumbers": true,
   "eqNumInitial": 0
  },
  "livereveal": {
   "scroll": true,
   "start_slideshow_at": "selected"
  },
  "rise": {
   "scroll": true
  },
  "toc": {
   "base_numbering": 1,
   "nav_menu": {},
   "number_sections": true,
   "sideBar": true,
   "skip_h1_title": true,
   "title_cell": "Table of Contents",
   "title_sidebar": "Contents",
   "toc_cell": true,
   "toc_position": {},
   "toc_section_display": true,
   "toc_window_display": false
  }
 },
 "nbformat": 4,
 "nbformat_minor": 4
}
