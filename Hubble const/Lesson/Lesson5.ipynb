{
 "cells": [
  {
   "cell_type": "markdown",
   "metadata": {
    "toc": true
   },
   "source": [
    "<h1>Table of Contents<span class=\"tocSkip\"></span></h1>\n",
    "<div class=\"toc\"><ul class=\"toc-item\"><li><span><a href=\"#Previously-on-PHYS1201...\" data-toc-modified-id=\"Previously-on-PHYS1201...-1\"><span class=\"toc-item-num\">1&nbsp;&nbsp;</span>Previously on PHYS1201...</a></span></li><li><span><a href=\"#Today-on-PHYS1201...\" data-toc-modified-id=\"Today-on-PHYS1201...-2\"><span class=\"toc-item-num\">2&nbsp;&nbsp;</span>Today on PHYS1201...</a></span></li><li><span><a href=\"#Big-Picture-Exercise:-Input-and-Output-for-tic-tac-toe\" data-toc-modified-id=\"Big-Picture-Exercise:-Input-and-Output-for-tic-tac-toe-3\"><span class=\"toc-item-num\">3&nbsp;&nbsp;</span>Big Picture Exercise: Input and Output for tic-tac-toe</a></span></li><li><span><a href=\"#Types-of-input-and-output\" data-toc-modified-id=\"Types-of-input-and-output-4\"><span class=\"toc-item-num\">4&nbsp;&nbsp;</span>Types of input and output</a></span><ul class=\"toc-item\"><li><span><a href=\"#Exercise:-different-types-of-interactive-I/O\" data-toc-modified-id=\"Exercise:-different-types-of-interactive-I/O-4.1\"><span class=\"toc-item-num\">4.1&nbsp;&nbsp;</span>Exercise: different types of interactive I/O</a></span></li></ul></li><li><span><a href=\"#Interactive-output\" data-toc-modified-id=\"Interactive-output-5\"><span class=\"toc-item-num\">5&nbsp;&nbsp;</span>Interactive output</a></span><ul class=\"toc-item\"><li><span><a href=\"#Simple-print\" data-toc-modified-id=\"Simple-print-5.1\"><span class=\"toc-item-num\">5.1&nbsp;&nbsp;</span>Simple print</a></span></li><li><span><a href=\"#Formatted-printing\" data-toc-modified-id=\"Formatted-printing-5.2\"><span class=\"toc-item-num\">5.2&nbsp;&nbsp;</span>Formatted printing</a></span><ul class=\"toc-item\"><li><span><a href=\"#Exercise:-printing-a-nice-looking-list-of-lists-to-the-screen\" data-toc-modified-id=\"Exercise:-printing-a-nice-looking-list-of-lists-to-the-screen-5.2.1\"><span class=\"toc-item-num\">5.2.1&nbsp;&nbsp;</span>Exercise: printing a nice-looking list of lists to the screen</a></span></li></ul></li></ul></li><li><span><a href=\"#Interactive-input\" data-toc-modified-id=\"Interactive-input-6\"><span class=\"toc-item-num\">6&nbsp;&nbsp;</span>Interactive input</a></span><ul class=\"toc-item\"><li><span><a href=\"#input()\" data-toc-modified-id=\"input()-6.1\"><span class=\"toc-item-num\">6.1&nbsp;&nbsp;</span>input()</a></span></li><li><span><a href=\"#Exercise:-a-simple-user-input-function\" data-toc-modified-id=\"Exercise:-a-simple-user-input-function-6.2\"><span class=\"toc-item-num\">6.2&nbsp;&nbsp;</span>Exercise: a simple user input function</a></span></li></ul></li><li><span><a href=\"#Reading-and-writing-files\" data-toc-modified-id=\"Reading-and-writing-files-7\"><span class=\"toc-item-num\">7&nbsp;&nbsp;</span>Reading and writing files</a></span></li><li><span><a href=\"#Reading-and-writing-arrays----loadtxt-and-savetxt\" data-toc-modified-id=\"Reading-and-writing-arrays----loadtxt-and-savetxt-8\"><span class=\"toc-item-num\">8&nbsp;&nbsp;</span>Reading and writing <em>arrays</em> -- <em>loadtxt</em> and <em>savetxt</em></a></span><ul class=\"toc-item\"><li><span><a href=\"#Exercise:-using-loadtxt-and-savetxt\" data-toc-modified-id=\"Exercise:-using-loadtxt-and-savetxt-8.1\"><span class=\"toc-item-num\">8.1&nbsp;&nbsp;</span>Exercise: using loadtxt and savetxt</a></span></li><li><span><a href=\"#Exercise:-the-cost-of-smoking\" data-toc-modified-id=\"Exercise:-the-cost-of-smoking-8.2\"><span class=\"toc-item-num\">8.2&nbsp;&nbsp;</span>Exercise: the cost of smoking</a></span></li></ul></li><li><span><a href=\"#Error-handling\" data-toc-modified-id=\"Error-handling-9\"><span class=\"toc-item-num\">9&nbsp;&nbsp;</span>Error handling</a></span><ul class=\"toc-item\"><li><span><a href=\"#Simple-error-handling-with-if/then\" data-toc-modified-id=\"Simple-error-handling-with-if/then-9.1\"><span class=\"toc-item-num\">9.1&nbsp;&nbsp;</span>Simple error handling with <em>if/then</em></a></span></li><li><span><a href=\"#OPTIONAL:-Error-handling-with-try/except-and-assert\" data-toc-modified-id=\"OPTIONAL:-Error-handling-with-try/except-and-assert-9.2\"><span class=\"toc-item-num\">9.2&nbsp;&nbsp;</span>OPTIONAL: Error handling with <em>try/except</em> and <em>assert</em></a></span><ul class=\"toc-item\"><li><span><a href=\"#A-way-to-deal-with-those-annoying-errors-to-do-with-quotes-around-strings\" data-toc-modified-id=\"A-way-to-deal-with-those-annoying-errors-to-do-with-quotes-around-strings-9.2.1\"><span class=\"toc-item-num\">9.2.1&nbsp;&nbsp;</span>A way to deal with those annoying errors to do with quotes around strings</a></span></li></ul></li><li><span><a href=\"#Exercise:-simple-input-error-handling\" data-toc-modified-id=\"Exercise:-simple-input-error-handling-9.3\"><span class=\"toc-item-num\">9.3&nbsp;&nbsp;</span>Exercise: simple input error handling</a></span></li><li><span><a href=\"#Exercise:-PINs\" data-toc-modified-id=\"Exercise:-PINs-9.4\"><span class=\"toc-item-num\">9.4&nbsp;&nbsp;</span>Exercise: PINs</a></span></li></ul></li><li><span><a href=\"#Reminder:-Big-Picture-Exercise\" data-toc-modified-id=\"Reminder:-Big-Picture-Exercise-10\"><span class=\"toc-item-num\">10&nbsp;&nbsp;</span>Reminder: Big Picture Exercise</a></span></li></ul></div>"
   ]
  },
  {
   "cell_type": "markdown",
   "metadata": {
    "slideshow": {
     "slide_type": "slide"
    }
   },
   "source": [
    "# Lesson 5: input and output"
   ]
  },
  {
   "cell_type": "markdown",
   "metadata": {
    "slideshow": {
     "slide_type": "slide"
    }
   },
   "source": [
    "## Previously on PHYS1201...\n",
    "\n",
    "\n",
    "* Last time, we learned how to use such modules and packages and take a first look at the most important and useful ones:\n",
    "\n",
    "    * math\n",
    "    * numpy\n",
    "    * scipy\n",
    "    * matplotlib\n",
    "    \n",
    "* We also learned about **arrays** -- a new and important data type that comes with *numpy*\n",
    "\n",
    "    * A 2-D array is what we'll use to represent tic-tac-toe gameboard"
   ]
  },
  {
   "cell_type": "markdown",
   "metadata": {
    "slideshow": {
     "slide_type": "slide"
    }
   },
   "source": [
    "## Today on PHYS1201...\n",
    "\n",
    "**How to get data into and out of *Python* programs**\n",
    "\n",
    "\n",
    "One of the most basic, but important things we need to be able to do is provide *input* to a program or script, and to have the program generate *output*.\n",
    "\n",
    "Today, we'll learn how to do this. Specifically, we'll look at:\n",
    "\n",
    "\n",
    "* Interactive input\n",
    "\n",
    "* Interactive output\n",
    "\n",
    "\n",
    "* Input from files\n",
    "\n",
    "* Output to files\n",
    "\n",
    "\n",
    "* Error handling"
   ]
  },
  {
   "cell_type": "markdown",
   "metadata": {
    "slideshow": {
     "slide_type": "slide"
    }
   },
   "source": [
    "## Big Picture Exercise: Input and Output for tic-tac-toe\n",
    "\n",
    "Try writing the function(s) for your previous optional tic-tac-toe assignment that will read the user input and write the information the user needs to the screen. \n",
    "\n",
    "As you know, your program will need to read in the user's row/column choice in each round. And after each round, it will need to print out the current state of the board. For this, you can simply use a standard print(array), for example.\n",
    "\n",
    "Don't worry about plotting the final state of the board \"properly\" for now -- we'll deal with plotting (using matplotlib) later."
   ]
  },
  {
   "cell_type": "markdown",
   "metadata": {},
   "source": [
    "## Types of input and output"
   ]
  },
  {
   "cell_type": "markdown",
   "metadata": {
    "slideshow": {
     "slide_type": "fragment"
    }
   },
   "source": [
    "There are (at least) two distinct types of input and output (I/O):\n",
    "\n",
    "* *Interactive* I/O<br><br>\n",
    "    * reading from the keyboard<br><br>\n",
    "    * writing to the screen<br><br>\n",
    "* *File-based* I/O<br><br>\n",
    "    * reading from a file<br><br>\n",
    "    * writing to a file<br><br>"
   ]
  },
  {
   "cell_type": "markdown",
   "metadata": {
    "slideshow": {
     "slide_type": "skip"
    }
   },
   "source": [
    "### Exercise: different types of interactive I/O\n",
    "\n",
    "Actually, keyboard and screen are not the only types of interactive I/O that are possible. \n",
    "\n",
    "Think of at least one other type of input and one other type of output.\n",
    "\n",
    "Investigate (OK, google) whether/how these types of I/O can be dealt with within *Python*. Are there built-in functions or functions within the modules we've already discussed? Perhaps there are functions within some of the modules pre-loaded in anaconda? Or are the packages/modules you could download somewhere?"
   ]
  },
  {
   "cell_type": "markdown",
   "metadata": {
    "slideshow": {
     "slide_type": "slide"
    }
   },
   "source": [
    "## Interactive output\n",
    "\n",
    "Interactive output to the screen typically happens via the *print* command (which we know and love)."
   ]
  },
  {
   "cell_type": "markdown",
   "metadata": {
    "slideshow": {
     "slide_type": "fragment"
    }
   },
   "source": [
    "### Simple print\n",
    "\n",
    "The way we have used the *print* command so far is referred to as \"simple printing\". \n",
    "\n",
    "This means that we simply type \"print\", followed by the list of objects we want to print, in parentheses and separated by commas."
   ]
  },
  {
   "cell_type": "code",
   "execution_count": 1,
   "metadata": {
    "slideshow": {
     "slide_type": "fragment"
    }
   },
   "outputs": [
    {
     "name": "stdout",
     "output_type": "stream",
     "text": [
      "10\n",
      "\n",
      "Hello class of PHYS1201\n",
      "\n",
      "10 Hello class of PHYS1201\n",
      "\n",
      "The number a =  10 isn't this interesting\n",
      "\n",
      "The number is  10  and the string is  Hello class of PHYS1201\n"
     ]
    }
   ],
   "source": [
    "a = 10\n",
    "b = 'Hello class of PHYS1201'\n",
    "print(a)\n",
    "print()\n",
    "print(b)\n",
    "print()\n",
    "print(a, b)\n",
    "print()\n",
    "print(\"The number a = \" , a, \"isn't this interesting\")\n",
    "print()\n",
    "print(\"The number is \", a, \" and the string is \", b)"
   ]
  },
  {
   "cell_type": "markdown",
   "metadata": {
    "slideshow": {
     "slide_type": "skip"
    }
   },
   "source": [
    "Note that <br>\n",
    "\n",
    "* *Python* automatically adds a space between every object that is printed.<br><br>\n",
    "\n",
    "* every *print* command starts printing on a new line<br><br>\n",
    "    * so a *print* on its own is a way to add vertical space<br><br>\n",
    "    * we can suppress that behaviour by finishing the *print* statement with a comma<br><br>"
   ]
  },
  {
   "cell_type": "code",
   "execution_count": 1,
   "metadata": {
    "slideshow": {
     "slide_type": "skip"
    }
   },
   "outputs": [
    {
     "name": "stdout",
     "output_type": "stream",
     "text": [
      "This is the beginning of a single line...   ...and this is the end of the same line.\n"
     ]
    }
   ],
   "source": [
    "print(\"This is the beginning of a single line...\", end=' ')\n",
    "print(\"  ...and this is the end of the same line.\")"
   ]
  },
  {
   "cell_type": "markdown",
   "metadata": {
    "slideshow": {
     "slide_type": "slide"
    }
   },
   "source": [
    "### Formatted printing"
   ]
  },
  {
   "cell_type": "markdown",
   "metadata": {
    "slideshow": {
     "slide_type": "skip"
    }
   },
   "source": [
    "One of the downsides of simple printing is that it gives us very little control over how things appear on the printed line.\n",
    "\n",
    "For example, maybe we want to print just the first few decimal places of a *float*. Simple printing doesn't allow that:"
   ]
  },
  {
   "cell_type": "code",
   "execution_count": 123,
   "metadata": {
    "slideshow": {
     "slide_type": "skip"
    }
   },
   "outputs": [
    {
     "name": "stdout",
     "output_type": "stream",
     "text": [
      "3.14159265359\n"
     ]
    }
   ],
   "source": [
    "import math\n",
    "print(math.pi)"
   ]
  },
  {
   "cell_type": "markdown",
   "metadata": {
    "slideshow": {
     "slide_type": "skip"
    }
   },
   "source": [
    "The solution is formatted printing. There are multiple ways to print things in a nicely formatted way in *Python*, but we are going to focus on just one particularly simple one, which is sometimes referred to as \"old\" style formatting.\n",
    "\n",
    "The best way to illustrate how this works is by example."
   ]
  },
  {
   "cell_type": "markdown",
   "metadata": {
    "slideshow": {
     "slide_type": "fragment"
    }
   },
   "source": [
    "Here is how we would print pi with a formatted *print* command, in a whole bunch of different formats:"
   ]
  },
  {
   "cell_type": "code",
   "execution_count": 22,
   "metadata": {
    "slideshow": {
     "slide_type": "fragment"
    }
   },
   "outputs": [
    {
     "name": "stdout",
     "output_type": "stream",
     "text": [
      "3.141592653589793\n",
      "Pi =  3.14\n",
      "Pi = 3.14159265\n"
     ]
    }
   ],
   "source": [
    "import math\n",
    "print(math.pi)\n",
    "print(\"Pi = %5.2f\" % math.pi)     #print as float: \n",
    "                                 #5 spaces in total, 2 decimal places\n",
    "print(\"Pi = %9.8f\" % math.pi)     #print as float: \n"
   ]
  },
  {
   "cell_type": "code",
   "execution_count": 16,
   "metadata": {
    "slideshow": {
     "slide_type": "fragment"
    }
   },
   "outputs": [
    {
     "name": "stdout",
     "output_type": "stream",
     "text": [
      "Pi =   3\n"
     ]
    }
   ],
   "source": [
    "print(\"Pi = %3d\" % math.pi)       #print integer part (truncate if reqd):\n",
    "                                 #3 spaces in total"
   ]
  },
  {
   "cell_type": "code",
   "execution_count": 19,
   "metadata": {
    "slideshow": {
     "slide_type": "fragment"
    }
   },
   "outputs": [
    {
     "name": "stdout",
     "output_type": "stream",
     "text": [
      "Pi = 3.14159e+00\n"
     ]
    }
   ],
   "source": [
    "print(\"Pi = %10.5e\" % math.pi)     #print in exponential notation: \n",
    "                                  #10 spaces total, 5 decimal places"
   ]
  },
  {
   "cell_type": "code",
   "execution_count": 21,
   "metadata": {
    "scrolled": true,
    "slideshow": {
     "slide_type": "fragment"
    }
   },
   "outputs": [
    {
     "name": "stdout",
     "output_type": "stream",
     "text": [
      "Pi = 3.141592653589793\n"
     ]
    }
   ],
   "source": [
    "print(\"Pi = %8s\" % math.pi)      #print as a string: \n",
    "                                 #10 spaces total"
   ]
  },
  {
   "cell_type": "markdown",
   "metadata": {
    "slideshow": {
     "slide_type": "skip"
    }
   },
   "source": [
    "The general notation here is hopefully pretty obvious -- the main thing you need to remember is the letter that denotes what format to use (e.g. \"f\", \"d\", \"e\", \"s\")."
   ]
  },
  {
   "cell_type": "markdown",
   "metadata": {
    "slideshow": {
     "slide_type": "skip"
    }
   },
   "source": [
    "What if we want to print out more than one object? Easy:"
   ]
  },
  {
   "cell_type": "code",
   "execution_count": 128,
   "metadata": {
    "slideshow": {
     "slide_type": "skip"
    }
   },
   "outputs": [
    {
     "name": "stdout",
     "output_type": "stream",
     "text": [
      "Pi =  3.14   e =  2.72\n"
     ]
    }
   ],
   "source": [
    "print(\"Pi = %5.2f   e = %5.2f\" % (math.pi, math.e))"
   ]
  },
  {
   "cell_type": "markdown",
   "metadata": {
    "slideshow": {
     "slide_type": "skip"
    }
   },
   "source": [
    "So the thing that we are asking to be printed -- the thing after the \"%\" -- is actually provided to the formatted print statement as a *tuple*."
   ]
  },
  {
   "cell_type": "markdown",
   "metadata": {
    "slideshow": {
     "slide_type": "skip"
    }
   },
   "source": [
    "There are a couple of additional important things we should know:<br>\n",
    "\n",
    "1. *printing* always involves an initial conversion of the output to a single string<br>\n",
    "\n",
    "2. this implies we don't immediately have to print this string; we could *store* it instead"
   ]
  },
  {
   "cell_type": "code",
   "execution_count": 129,
   "metadata": {
    "slideshow": {
     "slide_type": "skip"
    }
   },
   "outputs": [
    {
     "name": "stdout",
     "output_type": "stream",
     "text": [
      "Pi =  3.14   e =  2.72\n"
     ]
    }
   ],
   "source": [
    "output = \"Pi = %5.2f   e = %5.2f\" % (math.pi, math.e)\n",
    "print(output)"
   ]
  },
  {
   "cell_type": "markdown",
   "metadata": {
    "slideshow": {
     "slide_type": "slide"
    }
   },
   "source": [
    "|Formatting code|Meaning|\n",
    "|:-------------:|-------|\n",
    "|  d  |\tSigned integer decimal.\t |\n",
    "|  i  |\tSigned integer decimal.\t |\n",
    "|  o  | Signed octal value.|\n",
    "|  u  |\tObsolete type – it is identical to 'd'.|\n",
    "|  x  |\tSigned hexadecimal (lowercase).|\n",
    "|  X  |\tSigned hexadecimal (uppercase).|\n",
    "|  e  |\tFloating point exponential format (lowercase).|\n",
    "|  E  |\tFloating point exponential format (uppercase).|\n",
    "|  f  |\tFloating point decimal format.|\n",
    "|  F  |\tFloating point decimal format.|\n",
    "|  g  |\tFloating point format.  Uses lowercase exponential format if exponent is less than -4 or not less than precision, decimal format otherwise.|\n",
    "|  G  |\tFloating point format. Uses uppercase exponential format if exponent is less than -4 or not less than precision, decimal format otherwise.|\n",
    "|  c  |\tSingle character (accepts integer or single character string).|\n",
    "|  r  |\tString (converts any Python object using repr()).|\n",
    "|  s  |\tString (converts any Python object using str()).|\n",
    "|  %  |\tNo argument is converted, results in a '%' character in the result.|"
   ]
  },
  {
   "cell_type": "markdown",
   "metadata": {
    "slideshow": {
     "slide_type": "skip"
    }
   },
   "source": [
    "#### Exercise: printing a nice-looking list of lists to the screen\n",
    "\n",
    "Suppose you want to print a *list* of *lists* (of various data types). Write a function that will print this in an attractive format, no matter what the data type."
   ]
  },
  {
   "cell_type": "markdown",
   "metadata": {
    "slideshow": {
     "slide_type": "slide"
    }
   },
   "source": [
    "## Interactive input\n",
    "\n",
    "How do we go about allowing the user of our program to provide input via the keyboard?\n",
    "\n",
    "*Python* provides two basic functions for this that we should know about."
   ]
  },
  {
   "cell_type": "markdown",
   "metadata": {
    "slideshow": {
     "slide_type": "fragment"
    }
   },
   "source": [
    "### input()"
   ]
  },
  {
   "cell_type": "markdown",
   "metadata": {
    "slideshow": {
     "slide_type": "fragment"
    }
   },
   "source": [
    "input() asks the user for input from the keyboard; its optional input parameter is a prompt *string* provided to the user. It *always* returns the input as a *string*."
   ]
  },
  {
   "cell_type": "code",
   "execution_count": 23,
   "metadata": {
    "slideshow": {
     "slide_type": "fragment"
    }
   },
   "outputs": [
    {
     "name": "stdin",
     "output_type": "stream",
     "text": [
      "enter your house number as a string:   72\n"
     ]
    },
    {
     "name": "stdout",
     "output_type": "stream",
     "text": [
      "The number was 72 and its type was <class 'str'>\n",
      "\n"
     ]
    },
    {
     "name": "stdin",
     "output_type": "stream",
     "text": [
      "enter your house number as an integer:   72\n"
     ]
    },
    {
     "name": "stdout",
     "output_type": "stream",
     "text": [
      "The number was 72 and its type was <class 'str'>\n"
     ]
    }
   ],
   "source": [
    "nr_s = input('enter your house number as a string:  ')\n",
    "print('The number was', nr_s, 'and its type was', type(nr_s))\n",
    "#\n",
    "print()\n",
    "#\n",
    "nr_i = input('enter your house number as an integer:  ')\n",
    "print('The number was', nr_i, 'and its type was', type(nr_i))"
   ]
  },
  {
   "cell_type": "markdown",
   "metadata": {
    "slideshow": {
     "slide_type": "skip"
    }
   },
   "source": [
    "Since it can be kind of annoying to have all keyboard input returned as strings -- we may want the user to put in a number, for example -- it is extremely common to use the *input()* function together with the *eval()* -- short for \"evaluate\" function. That function basically guesses what data type we really wanted, based on what the string looks like:"
   ]
  },
  {
   "cell_type": "code",
   "execution_count": 24,
   "metadata": {
    "slideshow": {
     "slide_type": "skip"
    }
   },
   "outputs": [
    {
     "name": "stdout",
     "output_type": "stream",
     "text": [
      "2 <class 'int'>\n"
     ]
    }
   ],
   "source": [
    "my_input = \"2\"\n",
    "my_input_i = eval(my_input)\n",
    "print(my_input_i, type(my_input_i))"
   ]
  },
  {
   "cell_type": "code",
   "execution_count": 25,
   "metadata": {
    "slideshow": {
     "slide_type": "fragment"
    }
   },
   "outputs": [
    {
     "name": "stdin",
     "output_type": "stream",
     "text": [
      "enter an integer:  10\n"
     ]
    },
    {
     "name": "stdout",
     "output_type": "stream",
     "text": [
      "10 <class 'int'>\n",
      "<class 'int'>\n"
     ]
    }
   ],
   "source": [
    "i = eval(input('enter an integer: '))\n",
    "print(i, type(i))\n",
    "my_integer = eval('10')\n",
    "print(type(my_integer))"
   ]
  },
  {
   "cell_type": "code",
   "execution_count": 26,
   "metadata": {
    "slideshow": {
     "slide_type": "fragment"
    }
   },
   "outputs": [
    {
     "name": "stdin",
     "output_type": "stream",
     "text": [
      "enter a float:  23.1\n"
     ]
    },
    {
     "name": "stdout",
     "output_type": "stream",
     "text": [
      "23.1 <class 'float'>\n"
     ]
    }
   ],
   "source": [
    "f = eval(input('enter a float: '))\n",
    "print(f, type(f))"
   ]
  },
  {
   "cell_type": "code",
   "execution_count": 29,
   "metadata": {
    "slideshow": {
     "slide_type": "fragment"
    }
   },
   "outputs": [
    {
     "name": "stdin",
     "output_type": "stream",
     "text": [
      "enter a string (use quotes!):  '9'\n"
     ]
    },
    {
     "name": "stdout",
     "output_type": "stream",
     "text": [
      "9 <class 'str'>\n"
     ]
    }
   ],
   "source": [
    "s = eval(input('enter a string (use quotes!): '))\n",
    "print(s, type(s))"
   ]
  },
  {
   "cell_type": "markdown",
   "metadata": {
    "slideshow": {
     "slide_type": "slide"
    }
   },
   "source": [
    "The *eval()* function is actually pretty clever -- it even works for lists and tuples:"
   ]
  },
  {
   "cell_type": "code",
   "execution_count": 9,
   "metadata": {
    "slideshow": {
     "slide_type": "fragment"
    }
   },
   "outputs": [
    {
     "name": "stdout",
     "output_type": "stream",
     "text": [
      "enter a list (use standard list notation): [1, 2, 3]\n",
      "[1, 2, 3] <class 'list'>\n",
      "enter a tuple (use standard tuple notation with parentheses): (1, 2, 3)\n",
      "(1, 2, 3) <class 'tuple'>\n",
      "enter a tuple (use standard tuple notation without parentheses): 1, 2, 3\n",
      "(1, 2, 3) <class 'tuple'>\n"
     ]
    }
   ],
   "source": [
    "l = eval(input('enter a list (use standard list notation): '))\n",
    "print(l, type(l))\n",
    "t = eval(input('enter a tuple (use standard tuple notation with parentheses): '))\n",
    "print(t, type(t))\n",
    "t = eval(input('enter a tuple (use standard tuple notation without parentheses): '))\n",
    "print(t, type(t))"
   ]
  },
  {
   "cell_type": "markdown",
   "metadata": {},
   "source": [
    "### Exercise: a simple user input function\n",
    "\n",
    "Write a function that prompts the user to enter a real number, reads that number, and prints a complaint if the user entered something that isn't a real number."
   ]
  },
  {
   "cell_type": "markdown",
   "metadata": {
    "slideshow": {
     "slide_type": "slide"
    }
   },
   "source": [
    "## Reading and writing files"
   ]
  },
  {
   "cell_type": "markdown",
   "metadata": {
    "slideshow": {
     "slide_type": "skip"
    }
   },
   "source": [
    "Of course, we don't always want to just read from the keyboard and write to the screen.\n",
    "\n",
    "More often than not, the data we want to read in will be stored in a file, and the results our program produces will need to be written to another file."
   ]
  },
  {
   "cell_type": "markdown",
   "metadata": {
    "slideshow": {
     "slide_type": "skip"
    }
   },
   "source": [
    "The most basic way of reading and writing files in *Python* involves *opening* a file *object* and then using the *read* and *write* methods that are automatically available for such *objects*."
   ]
  },
  {
   "cell_type": "markdown",
   "metadata": {
    "slideshow": {
     "slide_type": "skip"
    }
   },
   "source": [
    "You may be a little confused at this point that we're referring to a *method* associated with an *object*. After all, we haven't formally defined the term *object* in the course so far, and we've only really met *methods* as functions that are associated with, well, \"objects\" that are associated with a particular data type.\n",
    "\n",
    "Don't worry about this for now. We'll define the term *object* a little more properly later in the course -- as we'll see there, in some sense everything is an *object* in *Python*. For the moment, it's perfectly fine -- and actually pretty much correct -- to just think of *file* as being another data type. \n",
    "\n",
    "So we we can have *objects* (files) that have that data type, and as such they can have methods associated with them."
   ]
  },
  {
   "cell_type": "markdown",
   "metadata": {
    "slideshow": {
     "slide_type": "skip"
    }
   },
   "source": [
    "The best way to understand how this basic way of reading and writing files works is by example (and the following ones are stolen shamelessly from Hans Fangohr's textbook)."
   ]
  },
  {
   "cell_type": "code",
   "execution_count": 30,
   "metadata": {
    "slideshow": {
     "slide_type": "fragment"
    }
   },
   "outputs": [
    {
     "name": "stdout",
     "output_type": "stream",
     "text": [
      "This is the first line. \n",
      "This is the second line.\n"
     ]
    }
   ],
   "source": [
    "# 1. Write a file\n",
    "outfile = open(\"test.txt\", \"w\")  # \"w\" = open for writing\"\n",
    "outfile.write(\"This is the first line. \\n\" + \\\n",
    "               \"This is the second line.\")       # use \"write\" method -\n",
    "# \"\\n\" is line break (in file)\n",
    "#  +\" = concat\n",
    "# \"\\\" = command contd next line\n",
    "# (no comments after \"\\\")\n",
    "\n",
    "outfile.close()  # closefile with \"close\" method\n",
    "\n",
    "# 2. Read a file\n",
    "infile = open(\"test.txt\", \"r\")  # \"r\" = \"open for reading\"\n",
    "text = infile.read()  # read file with \"read\" method\n",
    "# put into string \"text\"\n",
    "\n",
    "infile.close()  # close file with \"close\" method\n",
    "\n",
    "# 3. Display data\n",
    "print(text)"
   ]
  },
  {
   "cell_type": "markdown",
   "metadata": {
    "slideshow": {
     "slide_type": "slide"
    }
   },
   "source": [
    "Things to note here:<br>\n",
    "\n",
    "* the *object* returned by *infile.read()* is a *string*<br><br>\n",
    "\n",
    "* it's good practice to *close* files that you've *opened*<br><br>\n",
    "\n",
    "* we can insert line breaks (and other special characters) by using the \"escape\" character \" \\ \""
   ]
  },
  {
   "cell_type": "markdown",
   "metadata": {
    "slideshow": {
     "slide_type": "slide"
    }
   },
   "source": [
    "We can also use the same formatting statements we learned about for screen output for file-based I/O:"
   ]
  },
  {
   "cell_type": "code",
   "execution_count": 15,
   "metadata": {
    "slideshow": {
     "slide_type": "fragment"
    }
   },
   "outputs": [
    {
     "name": "stdout",
     "output_type": "stream",
     "text": [
      " 1 x 17 =   17\n",
      " 2 x 17 =   34\n",
      " 3 x 17 =   51\n",
      " 4 x 17 =   68\n",
      " 5 x 17 =   85\n",
      " 6 x 17 =  102\n",
      " 7 x 17 =  119\n",
      " 8 x 17 =  136\n",
      " 9 x 17 =  153\n",
      "10 x 17 =  170\n",
      "\n"
     ]
    }
   ],
   "source": [
    "f = open(\"table.txt\", \"w\")\n",
    "for i in range(1, 11):\n",
    "    f.write(\"%2d x 17 = %4d\\n\" % (i, i * 17))\n",
    "f.close()\n",
    "#\n",
    "f = open(\"table.txt\", \"r\")\n",
    "text = f.read()\n",
    "print(text)"
   ]
  },
  {
   "cell_type": "markdown",
   "metadata": {
    "slideshow": {
     "slide_type": "slide"
    }
   },
   "source": [
    "## Reading and writing *arrays* -- *loadtxt* and *savetxt*"
   ]
  },
  {
   "cell_type": "markdown",
   "metadata": {
    "slideshow": {
     "slide_type": "skip"
    }
   },
   "source": [
    "With the things we have learned so far, we can read and write just about any text-based input and output to and from a file. \n",
    "\n",
    "However, doing so can be pretty tedious: we always have to think pretty hard about formatting (when we do output) and carefully split strings into various bits of data (when we do input).\n",
    "\n",
    "This can get pretty annoying..."
   ]
  },
  {
   "cell_type": "markdown",
   "metadata": {
    "slideshow": {
     "slide_type": "skip"
    }
   },
   "source": [
    "What file and data formats do we usually want to work with?\n",
    "\n",
    "* file:\n",
    "    * one or more columns of numerical or string data\n",
    "    * possibly a few lines with header comments\n",
    "    * columns separated by space, tab, comma, ....\n",
    "\n",
    "* data:\n",
    "    * *numpy* *arrays*\n",
    "    * one per file column\n",
    "\n",
    "Wouldn't it be nice if there were some simple functions that make reading and writing this type of data easier for us?"
   ]
  },
  {
   "cell_type": "markdown",
   "metadata": {
    "slideshow": {
     "slide_type": "fragment"
    }
   },
   "source": [
    "Well, *numpy* provides two functions for us that make reading and writing *arrays* to and from column-based files really really simple.\n",
    "\n",
    "These functions are *numpy.loadtxt()* and *numpy.savetxt()*."
   ]
  },
  {
   "cell_type": "markdown",
   "metadata": {
    "slideshow": {
     "slide_type": "skip"
    }
   },
   "source": [
    "Here is an example of how to use them:"
   ]
  },
  {
   "cell_type": "code",
   "execution_count": 12,
   "metadata": {
    "scrolled": true,
    "slideshow": {
     "slide_type": "slide"
    }
   },
   "outputs": [
    {
     "name": "stdout",
     "output_type": "stream",
     "text": [
      " x\n",
      "===\n",
      "0.0\n",
      "1.0\n",
      "2.0\n",
      "\n",
      "\n",
      "<class 'numpy.ndarray'>\n",
      "\n",
      " a\n",
      "===\n",
      "0.0\n",
      "1.0\n",
      "2.0\n",
      "\n",
      "the actual file content:\n",
      "========================\n",
      "0.000000000000000000e+00\n",
      "1.000000000000000000e+00\n",
      "2.000000000000000000e+00\n",
      "\n"
     ]
    }
   ],
   "source": [
    "import numpy as np\n",
    "x = np.arange(3.0)  #create an array x\n",
    "\n",
    "print(\" x\")  #print x out for us\n",
    "print(\"===\")\n",
    "for i in range(len(x)):\n",
    "    print(x[i])\n",
    "print()\n",
    "print()\n",
    "\n",
    "np.savetxt('test_save.txt', x)  #use savetxt to save x\n",
    "#to file test_save.txt\n",
    "\n",
    "a = np.loadtxt('test_save.txt')  #use loadtxt to read the data\n",
    "#from the file into the new\n",
    "#vector a\n",
    "\n",
    "print(type(a))  #check the typea of a\n",
    "print()\n",
    "print(\" a\")  #print a out for us\n",
    "print(\"===\")\n",
    "for i in range(len(a)):\n",
    "    print(a[i])\n",
    "print()\n",
    "\n",
    "print(\"the actual file content:\")\n",
    "print(\"========================\")\n",
    "f = open('test_save.txt', 'r')\n",
    "print(f.read())  #inspect actual file contents"
   ]
  },
  {
   "cell_type": "markdown",
   "metadata": {
    "slideshow": {
     "slide_type": "skip"
    }
   },
   "source": [
    "So this is very nice. We dumped the array x into a text file, writing one element per line. We didn't have much control over the formatting, but that's a detail we can worry about later."
   ]
  },
  {
   "cell_type": "markdown",
   "metadata": {
    "slideshow": {
     "slide_type": "slide"
    }
   },
   "source": [
    "Now let's try the obvious way of reading and writing multiple 1-D arrays to a single file:"
   ]
  },
  {
   "cell_type": "code",
   "execution_count": 13,
   "metadata": {
    "slideshow": {
     "slide_type": "fragment"
    }
   },
   "outputs": [
    {
     "name": "stdout",
     "output_type": "stream",
     "text": [
      " x     y  \n",
      "=========\n",
      "0   0\n",
      "1   1\n",
      "2   4\n",
      "3   9\n",
      "4   16\n",
      "\n",
      "<class 'numpy.ndarray'> <class 'numpy.ndarray'>\n",
      "\n",
      " a     b  \n",
      "=========\n",
      "0   0\n",
      "1   1\n",
      "2   4\n",
      "3   9\n",
      "4   16\n",
      "\n",
      "the actual file content:\n",
      "========================\n",
      "   0    1    2    3    4\n",
      "   0    1    4    9   16\n",
      "\n",
      "\n",
      "\n"
     ]
    }
   ],
   "source": [
    "import numpy as np\n",
    "x = np.arange(5)  #create an array x\n",
    "y = x**2  #create an array y\n",
    "\n",
    "print(\" x     y  \")  #print x and y out for us\n",
    "print(\"=========\")\n",
    "for i in range(len(x)):\n",
    "    print(x[i], ' ', y[i])\n",
    "print()\n",
    "\n",
    "np.savetxt('test_save.txt', (x, y),\\\n",
    "           fmt = '%4i')               #use savetxt to save x and y to file\n",
    "#we use the \"i\" formatting string\n",
    "#since our variables are *ints*\n",
    "#otherwise it will be exponential\n",
    "#notation by default\n",
    "\n",
    "a, b = np.loadtxt('test_save.txt',\\\n",
    "                  dtype=int)          #use loadtxt to read the data\n",
    "#from the file into two new\n",
    "#vectors called a and b\n",
    "#specify type of vectors via *dtype*\n",
    "#(default is *float*)\n",
    "\n",
    "print(type(a), type(b))  #check the types of a and b\n",
    "print()\n",
    "print(\" a     b  \")  #print a and b out for us\n",
    "print(\"=========\")\n",
    "for i in range(len(a)):\n",
    "    print(a[i], ' ', b[i])\n",
    "print()\n",
    "\n",
    "print(\"the actual file content:\")\n",
    "print(\"========================\")\n",
    "f = open('test_save.txt', 'r')\n",
    "print(f.read())  #inspect actual file contents\n",
    "print()\n",
    "print()"
   ]
  },
  {
   "cell_type": "markdown",
   "metadata": {
    "slideshow": {
     "slide_type": "skip"
    }
   },
   "source": [
    "Hmmm, so the reading and writing *seemed* to go OK, but when we look at the actual file contents, we see that the two 1-D arrays were **not** written to a 2-D column file (one column per array). Instead, they were written to a 2-row file (one row per array).\n",
    "\n",
    "This is once again due to the fact that, when we pass something like \"(x, y)\" as an argument, we're passing something like a *list* of *lists*.\n",
    "\n",
    "(Actually, in this case, it's a *tuple* of *arrays* -- in general terms, what we're talking about here really is a sequence of sequences -- but list of lists is probably more intuitive.)\n",
    "\n",
    "What the function *savetxt* does is take a single list (sequence) and writes it to file, one element per line.\n",
    "\n",
    "If that list (sequence) contains other lists (sequences), then these are written into separate columns.\n",
    "\n",
    "Viewed like this, the behaviour above makes perfect sense. \n",
    "\n",
    "Note also that *loadtxt* reads things in exactly the same way."
   ]
  },
  {
   "cell_type": "markdown",
   "metadata": {
    "slideshow": {
     "slide_type": "slide"
    }
   },
   "source": [
    "So how can we get *savetxt* and *loadtxt* deal with column-based I/O?\n",
    "\n",
    "Well, we basically have to transpose the dimensions of the multi-dimensional *tuples* were using.\n",
    "\n",
    "Luckily, there are convenient ways to do that:\n",
    "\n",
    "* writing with *savetxt*:<br><br>\n",
    "    * *numpy* provides a function *column_stack*, which stacks 1-D *arrays* into a suitable 2-D *array*<br><br>\n",
    "    * so instead of passing \"(x, y)\" to *savetxt*, we pass \"np.column_stack((x,y))\"<br><br>\n",
    "\n",
    "* reading with *loadtxt*:<br><br>\n",
    "    * *loadtxt* has an optional *boolean* input parameter *unpack*<br><br>\n",
    "    * if this is set to *True*, things are read in colunn-based format automatically"
   ]
  },
  {
   "cell_type": "markdown",
   "metadata": {
    "slideshow": {
     "slide_type": "slide"
    }
   },
   "source": [
    "Let's see how this works by using it in our previous example:"
   ]
  },
  {
   "cell_type": "code",
   "execution_count": 14,
   "metadata": {
    "slideshow": {
     "slide_type": "fragment"
    }
   },
   "outputs": [
    {
     "name": "stdout",
     "output_type": "stream",
     "text": [
      " x     y  \n",
      "=========\n",
      "0   0\n",
      "1   1\n",
      "2   4\n",
      "3   9\n",
      "4   16\n",
      "\n",
      "\n",
      "<class 'numpy.ndarray'> <class 'numpy.ndarray'>\n",
      "\n",
      " a     b  \n",
      "=========\n",
      "0   0\n",
      "1   1\n",
      "2   4\n",
      "3   9\n",
      "4   16\n",
      "\n",
      "the actual file content:\n",
      "========================\n",
      "   0    0\n",
      "   1    1\n",
      "   2    4\n",
      "   3    9\n",
      "   4   16\n",
      "\n",
      "\n",
      "\n"
     ]
    }
   ],
   "source": [
    "import numpy as np\n",
    "x = np.arange(5)  #create an array x\n",
    "y = x**2  #create an array y\n",
    "\n",
    "print(\" x     y  \")  #print x and y out for us\n",
    "print(\"=========\")\n",
    "for i in range(len(x)):\n",
    "    print(x[i], ' ', y[i])\n",
    "print()\n",
    "print()\n",
    "\n",
    "np.savetxt('test_save.txt',\\\n",
    "           np.column_stack((x, y)),\\\n",
    "           fmt = '%4i')               #use savetxt to save x and y to file\n",
    "#we use the \"i\" formatting string\n",
    "#since our variables are *ints*\n",
    "#otherwise it will be exponential\n",
    "#notation by default\n",
    "\n",
    "a, b = np.loadtxt('test_save.txt',\\\n",
    "                  unpack=True, \\\n",
    "                  dtype=int)          #use loadtxt to read the data\n",
    "#from the file into two new\n",
    "#vectors called a and b\n",
    "#specify type of vectors via *dtype*\n",
    "#(default is *float*)\n",
    "\n",
    "print(type(a), type(b))  #check the types of a and b\n",
    "print()\n",
    "print(\" a     b  \")  #print a and b out for us\n",
    "print(\"=========\")\n",
    "for i in range(len(a)):\n",
    "    print(a[i], ' ', b[i])\n",
    "print()\n",
    "\n",
    "print(\"the actual file content:\")\n",
    "print(\"========================\")\n",
    "f = open('test_save.txt', 'r')\n",
    "print(f.read())  #inspect actual file contents\n",
    "print()\n",
    "print()"
   ]
  },
  {
   "cell_type": "markdown",
   "metadata": {
    "slideshow": {
     "slide_type": "skip"
    }
   },
   "source": [
    "Both *loadtxt* and *savetxt* are actually more flexible than our example might suggest.\n",
    "\n",
    "For example, they can be used to read and write files where the columns contain data of different types and files with header comments, different column delimiters."
   ]
  },
  {
   "cell_type": "markdown",
   "metadata": {
    "slideshow": {
     "slide_type": "slide"
    }
   },
   "source": [
    "One particular quirk of *loadtxt* is worth emphasising specifically: if we want to read in data from files that contain different data types in different columns (e.g. *ints* in columns 1 and 2, but a *string* in column 3), the best/easiest way to do this is by executing *separate* *loadtxt* commands, one for each data type. \n",
    "\n",
    "We then also, of course, want to skip over all the columns with the \"wrong\" data types in each *loadtxt* command. We can do this with the *usecols* parameters, which specifies which columns we actually want to read in. "
   ]
  },
  {
   "cell_type": "markdown",
   "metadata": {
    "slideshow": {
     "slide_type": "slide"
    }
   },
   "source": [
    "For example, the following code snippet reads in three different data types from three different columns in the file Numbers.txt, which is provided on Blackboard."
   ]
  },
  {
   "cell_type": "code",
   "execution_count": 17,
   "metadata": {
    "slideshow": {
     "slide_type": "fragment"
    }
   },
   "outputs": [
    {
     "name": "stdout",
     "output_type": "stream",
     "text": [
      "['\"One\"' '\"Two\"' '\"Three\"']\n",
      "\n",
      "[1. 2. 3.]\n",
      "\n",
      "[1 2 3]\n"
     ]
    }
   ],
   "source": [
    "import numpy as np\n",
    "\n",
    "a = np.loadtxt('Numbers.txt',\\\n",
    "               unpack=True, \\\n",
    "               usecols=0,\n",
    "               dtype=str)\n",
    "b = np.loadtxt('Numbers.txt',\\\n",
    "               unpack=True, \\\n",
    "               usecols=1,\n",
    "               dtype=float)\n",
    "c = np.loadtxt('Numbers.txt',\\\n",
    "               unpack=True, \\\n",
    "               usecols=2,\n",
    "               dtype=int)\n",
    "\n",
    "print(a)\n",
    "print()\n",
    "print(b)\n",
    "print()\n",
    "print(c)"
   ]
  },
  {
   "cell_type": "markdown",
   "metadata": {
    "slideshow": {
     "slide_type": "skip"
    }
   },
   "source": [
    "### Exercise: using loadtxt and savetxt\n",
    "\n",
    "Experiment with *savetxt* and *loadtxt* (use \"help\" -- or google -- to get extra info if necessary):\n",
    "\n",
    "* Try writing to and reading from a 3 column file, where different columns are different data types (e.g. one *int*, one *float* and one *string*).\n",
    "\n",
    "* Try out different delimiters, e.g. produce csv (comma separated values) output. \n",
    "\n",
    "* Can you figure out how to generate output using tabs as delimiters?\n",
    "\n",
    "* Generate a 5 column file and then read in *only* column 3.\n",
    "\n",
    "* Skip rows 2 and 4 from an input file when reading it."
   ]
  },
  {
   "cell_type": "markdown",
   "metadata": {
    "slideshow": {
     "slide_type": "skip"
    }
   },
   "source": [
    "### Exercise: the cost of smoking\n",
    "\n",
    "The UK government (and indeed most government and large organizations) collates a ton of interesting and useful data that is available for convenient download, usually in csv format. \n",
    "\n",
    "Grab the latest data set on smoking statistics for England here:\n",
    "\n",
    "https://data.gov.uk/dataset/statistics_on_smoking_england\n",
    "\n",
    "We will want to use this data to answer the question \"What is the amount of money spent on smoking-prevention prescriptions per smoking-related death over the last 30 years?\".\n",
    "\n",
    "First, familiarize yourself with the data set -- it comes in 3 csv files and a *Word* document explaining the format. Then, write a function that gathers the necessary data. Finally, write a program that calls this function and manipulates the data to create an array with the quantity you need (let's call it frac_spend) and saves frac_spend as a function of year in a 2-column text-based file."
   ]
  },
  {
   "cell_type": "markdown",
   "metadata": {
    "slideshow": {
     "slide_type": "skip"
    }
   },
   "source": [
    "## Reminder: Big Picture Exercise\n",
    "\n",
    "Try writing the function(s) for your previous optional tic-tac-toe assignment that will read the user input and write the information the user needs to the screen. \n",
    "\n",
    "As you know, your program will need to read in the user's row/column choice in each round. And after each round, it will need to print out the current state of the board. For this, you can simply use a standard print(array), for example.\n",
    "\n",
    "Don't worry about plotting the final state of the board \"properly\" for now -- we'll deal with plotting (using matplotlib) later."
   ]
  },
  {
   "cell_type": "code",
   "execution_count": null,
   "metadata": {},
   "outputs": [],
   "source": []
  }
 ],
 "metadata": {
  "celltoolbar": "Slideshow",
  "hide_input": false,
  "kernelspec": {
   "display_name": "Python 3 (ipykernel)",
   "language": "python",
   "name": "python3"
  },
  "language_info": {
   "codemirror_mode": {
    "name": "ipython",
    "version": 3
   },
   "file_extension": ".py",
   "mimetype": "text/x-python",
   "name": "python",
   "nbconvert_exporter": "python",
   "pygments_lexer": "ipython3",
   "version": "3.12.6"
  },
  "latex_envs": {
   "bibliofile": "biblio.bib",
   "cite_by": "apalike",
   "current_citInitial": 1,
   "eqLabelWithNumbers": true,
   "eqNumInitial": 0
  },
  "toc": {
   "base_numbering": 1,
   "nav_menu": {},
   "number_sections": true,
   "sideBar": true,
   "skip_h1_title": true,
   "title_cell": "Table of Contents",
   "title_sidebar": "Contents",
   "toc_cell": true,
   "toc_position": {},
   "toc_section_display": true,
   "toc_window_display": false
  }
 },
 "nbformat": 4,
 "nbformat_minor": 4
}
