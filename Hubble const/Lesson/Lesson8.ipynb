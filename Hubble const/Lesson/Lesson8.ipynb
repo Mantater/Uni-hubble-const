{
 "cells": [
  {
   "cell_type": "code",
   "execution_count": 1,
   "metadata": {
    "slideshow": {
     "slide_type": "skip"
    }
   },
   "outputs": [
    {
     "name": "stderr",
     "output_type": "stream",
     "text": [
      "/var/folders/cg/ldp5srbn6_3cc82bbxc26ppw0000gn/T/ipykernel_9995/1105276753.py:9: DeprecationWarning: Importing display from IPython.core.display is deprecated since IPython 7.14, please import from IPython display\n",
      "  from IPython.core.display import display, HTML\n"
     ]
    },
    {
     "data": {
      "text/html": [
       "<style>.container { width:90% !important; }</style>"
      ],
      "text/plain": [
       "<IPython.core.display.HTML object>"
      ]
     },
     "metadata": {},
     "output_type": "display_data"
    }
   ],
   "source": [
    "%matplotlib inline\n",
    "#enable plotting inline within the notebook\n",
    "\n",
    "from matplotlib import pyplot as plt\n",
    "\n",
    "plt.rcParams['figure.figsize'] = [15, 10]\n",
    "#make the plots larger -- numbers are x and y, in inches\n",
    "\n",
    "from IPython.core.display import display, HTML\n",
    "display(HTML(\"<style>.container { width:90% !important; }</style>\"))\n",
    "#this just allows me to increase the width of the notebook display"
   ]
  },
  {
   "cell_type": "markdown",
   "metadata": {
    "toc": true
   },
   "source": [
    "<h1>Table of Contents<span class=\"tocSkip\"></span></h1>\n",
    "<div class=\"toc\"><ul class=\"toc-item\"><li><span><a href=\"#Big-Picture-Exercise\" data-toc-modified-id=\"Big-Picture-Exercise-1\"><span class=\"toc-item-num\">1&nbsp;&nbsp;</span>Big Picture Exercise</a></span></li><li><span><a href=\"#The-signal-and-the-noise\" data-toc-modified-id=\"The-signal-and-the-noise-2\"><span class=\"toc-item-num\">2&nbsp;&nbsp;</span>The signal and the noise</a></span></li><li><span><a href=\"#Probability\" data-toc-modified-id=\"Probability\"><span class=\"toc-item-num\">3&nbsp;&nbsp;</span>Probability</a></span></li><li><span><a href=\"#Statistical-distributions\" data-toc-modified-id=\"Statistical-distributions-3\"><span class=\"toc-item-num\">4&nbsp;&nbsp;</span>Statistical distributions</a></span><ul class=\"toc-item\"><li><span><a href=\"#Informal-definitions:-what-is-a-distribution?\" data-toc-modified-id=\"Informal-definitions:-what-is-a-distribution?-4.1\"><span class=\"toc-item-num\">4.1&nbsp;&nbsp;</span>Informal definitions: what <em>is</em> a distribution?</a></span><ul class=\"toc-item\"><li><span><a href=\"#Informal-definition-1:\" data-toc-modified-id=\"Informal-definition-1:-4.1.1\"><span class=\"toc-item-num\">4.1.1&nbsp;&nbsp;</span>Informal definition 1:</a></span></li><li><span><a href=\"#Informal-definition-2:\" data-toc-modified-id=\"Informal-definition-2:-4.1.2\"><span class=\"toc-item-num\">4.1.2&nbsp;&nbsp;</span>Informal definition 2:</a></span></li></ul></li><li><span><a href=\"#The-rules:-properties-of-all-probability-distributions\" data-toc-modified-id=\"The-rules:-properties-of-all-probability-distributions-4.2\"><span class=\"toc-item-num\">4.2&nbsp;&nbsp;</span>The rules: properties of all probability distributions</a></span></li></ul></li><li><span><a href=\"#The-Gaussian-distribution-(and-how-to-work-with-it-in-Python)\" data-toc-modified-id=\"The-Gaussian-distribution-(and-how-to-work-with-it-in-Python)-4\"><span class=\"toc-item-num\">5&nbsp;&nbsp;</span>The Gaussian distribution (and how to work with it in Python)</a></span><ul class=\"toc-item\"><li><span><a href=\"#Generating-and-plotting-the-shape-of-the-Gaussian-distribution\" data-toc-modified-id=\"Generating-and-plotting-the-shape-of-the-Gaussian-distribution-5.1\"><span class=\"toc-item-num\">5.1&nbsp;&nbsp;</span>Generating and plotting the shape of the Gaussian distribution</a></span></li><li><span><a href=\"#Generating-Gaussian--distributed-random-numbers-in-Python\" data-toc-modified-id=\"Generating-Gaussian--distributed-random-numbers-in-Python-5.2\"><span class=\"toc-item-num\">5.2&nbsp;&nbsp;</span>Generating Gaussian  distributed random numbers in Python</a></span><ul class=\"toc-item\"><li><span><a href=\"#Exercise:-Gaussian-random-numbers-with-numpy\" data-toc-modified-id=\"Exercise:-Gaussian-random-numbers-with-numpy-5.2.1\"><span class=\"toc-item-num\">5.2.1&nbsp;&nbsp;</span>Exercise: Gaussian random numbers with numpy</a></span></li></ul></li></ul></li><li><span><a href=\"#The-Poisson-distribution\" data-toc-modified-id=\"The-Poisson-distribution-5\"><span class=\"toc-item-num\">6&nbsp;&nbsp;</span>The Poisson distribution</a></span><ul></div>"
   ]
  },
  {
   "cell_type": "markdown",
   "metadata": {},
   "source": [
    "## Big Picture Exercise\n",
    "\n",
    "This session's materials include two actual data sets that have been taken from http://www.randomservices.org/random/ (a really nice resource!).\n",
    "\n",
    "\n",
    "* Michelsons_Velocity_of_Light_Data.dat\n",
    "    * This table gives Albert Michelson's measurements of the velocity of light in air, made from June 5 to July 2, 1879. The given values are the speed of light in km/s **minus 299,000 km/s**\n",
    "\n",
    "* Prussian_Horse-Kick_Data.dat\n",
    "    * This table gives the number of soldiers in the Prussian cavalry killed by horse kicks, by corp membership and by year. The years are from 1875 to 1894, and there are 14 different cavalry corps: the first column corresponds to the guard corp and the other columns to corps 1 through 11, 14, and 15. The data are from Distributome project and are derived from the book by Andrews and Herzberg. The original source of the data is the classic book by von Bortkiewicz, \"The Law of Small Numbers\"\n",
    "    \n",
    "Our Big Picture Exercise today is to inspect and summarize these data sets and compare them to the theoretical distributions that might describe them. Here are some specific things to do and try. \n",
    "\n",
    "* Velocity of Light\n",
    "    * Inspect the velocity of light data set and plot a histogram these values\n",
    "        * does it look reasonable? why/why not?\n",
    "    * Work out the mean ($\\bar{x}$) and standard deviation ($s_x$) of the measurements\n",
    "    * Use np.linspace to create a set of 1001 points between $\\bar{x} - 5 s_x$ and  $\\bar{x} + 5s_x$\n",
    "    * Use scipy.stats.norm.pdf to generate $p(x)$ for your 1001 points\n",
    "    * Replot your histogram, but this time adding the \"normed=True\" keyword which forces plt.hist to normalize the histogram\n",
    "    * Overplot your $p(x)$ as a smooth line on top of the histogram\n",
    "    * Do they agree reasonably well?\n",
    "    * Velocity of Light\n",
    "    * Inspect the velocity of light data set and plot a histogram these values\n",
    "        * does it look reasonable? why/why not?\n",
    "    * Work out the mean ($\\bar{x}$) and standard deviation ($s_x$) of the measurements\n",
    "    * Use np.linspace to create a set of 1001 points between $\\bar{x} - 5s_x$ and  $\\bar{x} + 5s_x$\n",
    "    * Use scipy.stats.norm.pdf to generate $p(x)$ for your 1001 points, for your mean and standard deviation\n",
    "    * Replot your histogram\n",
    "        * but this time add the \"density=True\" keyword, which forces plt.hist to normalize the histogram\n",
    "    * Overplot your $p(x)$ as a smooth line on top of the histogram\n",
    "    * Do they agree reasonably well?\n",
    "    \n",
    "\n",
    "* Horsekick Data\n",
    "    * Let's check if the data is consistent with the rate of these deaths being constant across corps and years\n",
    "    * If that's the case, we'd expect the probability of seeing N deaths in any one corp and year to follow the Poisson distribtion\n",
    "    * Work out the *average* number of deaths per corp and year -- this is $\\mu$ for our Poisson distribution\n",
    "    * For N between zero and four (the maximum number observed in the data set), use the data to estimate the probability of finding $N$ deaths in any given corp and year\n",
    "        * we have a total of 14 corps and 20 years, so 14 x 20 = 280 observations\n",
    "        * our estimate of the probability of finding zero deaths is therefore the fraction of zeros among those 280 numbers (and the same for finding 1, 2, 3 and 4 deaths)\n",
    "        * for N = 0, 1, 2, 3, 4, work out the Poisson probability of finding $N$, given $\\mu$\n",
    "        * print the observed and predicted rates side by side -- do they look compatible?"
   ]
  },
  {
   "cell_type": "markdown",
   "metadata": {
    "slideshow": {
     "slide_type": "slide"
    }
   },
   "source": [
    "# Lesson 8: \n",
    "# Probability and noise distributions"
   ]
  },
  {
   "cell_type": "markdown",
   "metadata": {
    "slideshow": {
     "slide_type": "slide"
    }
   },
   "source": [
    "## Statistical distributions\n",
    "\n",
    "Let's begin by asking ourselves of what a \"statistical distribution\" actually is. "
   ]
  },
  {
   "cell_type": "markdown",
   "metadata": {
    "slideshow": {
     "slide_type": "fragment"
    }
   },
   "source": [
    "### Informal definitions: what *is* a distribution? "
   ]
  },
  {
   "cell_type": "markdown",
   "metadata": {
    "slideshow": {
     "slide_type": "fragment"
    }
   },
   "source": [
    "* When we say \"a number is drawn from drawn from a population with some distribution\", we mean that the probability that our number has any  particular value is given by that distribution.\n",
    "\n",
    "* As a short-hand, we often just talk about \"a number is drawn from a  distribution\" (i.e. skipping the population bit).\n",
    "\n",
    "* What all of this this means is this: **if we make a histogram of lots of numbers drawn in this way, that histogram will *eventually* look like the \"underlying\" distribution.**"
   ]
  },
  {
   "cell_type": "markdown",
   "metadata": {
    "slideshow": {
     "slide_type": "slide"
    }
   },
   "source": [
    "#### Informal definition 1:\n",
    "\n",
    "**A probability distribution tells us how likely it is that a random draw of some quantity will yield a particular result.**"
   ]
  },
  {
   "cell_type": "markdown",
   "metadata": {
    "slideshow": {
     "slide_type": "skip"
    }
   },
   "source": [
    "For example, if a quantity is described by a uniform distribution between zero and one, we immediately know that every real number between zero and one is equally likely to be drawn."
   ]
  },
  {
   "cell_type": "markdown",
   "metadata": {
    "slideshow": {
     "slide_type": "skip"
    }
   },
   "source": [
    "Another, perhaps even more intuitive, definition is to just slightly formalize our statement about the relationship between distributions and histograms:"
   ]
  },
  {
   "cell_type": "markdown",
   "metadata": {
    "slideshow": {
     "slide_type": "slide"
    }
   },
   "source": [
    "#### Informal definition 2:\n",
    "\n",
    "**If we make a histogram of values drawn from a given distribution, the shape of that histogram will tend towards the distribution as the number of draws gets larger and larger.**\n",
    "\n",
    "\n",
    "     [animation 1 -- code on Blackboard]"
   ]
  },
  {
   "cell_type": "markdown",
   "metadata": {
    "slideshow": {
     "slide_type": "skip"
    }
   },
   "source": [
    "This is actually a pretty nice, visual definition of what a probability distribution really is. It basically follows immediately from the first definition, but it's perhaps more concrete and easier to visualize."
   ]
  },
  {
   "cell_type": "markdown",
   "metadata": {
    "slideshow": {
     "slide_type": "slide"
    }
   },
   "source": [
    "### The rules: properties of all probability distributions"
   ]
  },
  {
   "cell_type": "markdown",
   "metadata": {
    "slideshow": {
     "slide_type": "skip"
    }
   },
   "source": [
    "There are some basic rules that *any* self-respecting probability distribution has to follow. "
   ]
  },
  {
   "cell_type": "markdown",
   "metadata": {
    "slideshow": {
     "slide_type": "fragment"
    }
   },
   "source": [
    "* \"the distribution must measure the probability content\"\n",
    "<br><br>\n",
    "    * for continuous outcomes (e.g. real numbers), we refer to the distribution as $p(x)$\n",
    "        * the probability that an outcome is between $x$ and $x + dx$ is then just $p(x) dx$\n",
    "<br><br>\n",
    "    * for discrete outcomes (e.g. integers), we refer to the distribution as $p(k)$\n",
    "        * the probability that the outcome is exactly $k$ is then just $p(k)$"
   ]
  },
  {
   "cell_type": "markdown",
   "metadata": {
    "slideshow": {
     "slide_type": "slide"
    }
   },
   "source": [
    "* \"probabilities cannot be negative\"<br><br>\n",
    "$$p(x) \\geq 0 \\,\\,\\,\\, {\\rm for\\,\\, all}\\,\\, x$$\n",
    "<br><br>\n",
    "$$p(k) \\geq 0 \\,\\,\\,\\, {\\rm for\\,\\, all}\\,\\, k$$"
   ]
  },
  {
   "cell_type": "markdown",
   "metadata": {
    "slideshow": {
     "slide_type": "slide"
    }
   },
   "source": [
    "* \"the combined probability of all possible outcomes must be 100%\"<br><br>\n",
    "$$\\int_{-\\infty}^{\\infty} p(x) dx = 1.$$\n",
    "<br><br>\n",
    "$$\\sum_{all\\,k} p(k) = 1.$$"
   ]
  },
  {
   "cell_type": "markdown",
   "metadata": {
    "slideshow": {
     "slide_type": "slide"
    }
   },
   "source": [
    "## The Gaussian distribution (and how to work with it in Python)\n",
    "\n",
    "By far the most important distribution in all of statistics is the Gaussian distribution, aka the Normal distribution, aka the bell-shaped curve.\n",
    "\n",
    "A Gaussian distribution is characterized by just two parameters, which are simply\n",
    "\n",
    "* the mean $\\mu$\n",
    "* the standard deviation $\\sigma$\n"
   ]
  },
  {
   "cell_type": "markdown",
   "metadata": {
    "slideshow": {
     "slide_type": "slide"
    }
   },
   "source": [
    "Mathematically, the Gaussian distribution has the form\n",
    "\n",
    "$$p(x\\,|\\,\\mu,\\sigma) = \\frac{1}{\\sigma\\sqrt{2\\pi}} e^{\\frac{-(x-\\mu)^2}{2\\sigma^2}}.$$"
   ]
  },
  {
   "cell_type": "markdown",
   "metadata": {},
   "source": [
    "### Generating and plotting the shape of the Gaussian distribution\n",
    "\n",
    "It is super-easy to create the Gaussian distribution itself, even without having to implement $p(x\\,|\\,\\mu,\\sigma)$ ourselves. For this, we can use *scipy*'s *stats.norm.pdf* function."
   ]
  },
  {
   "cell_type": "code",
   "execution_count": 2,
   "metadata": {},
   "outputs": [
    {
     "data": {
      "image/png": "[encoded data removed]",
      "text/plain": [
       "<Figure size 640x480 with 1 Axes>"
      ]
     },
     "metadata": {},
     "output_type": "display_data"
    }
   ],
   "source": [
    "import numpy as np\n",
    "from scipy.stats import norm\n",
    "from matplotlib import pyplot as plt\n",
    "sigma = 10.0\n",
    "mean = 0.0\n",
    "\n",
    "#create 1001 numbers spaced evenly between -50 and 50\n",
    "x = np.linspace(-50,50,1001)\n",
    "\n",
    "#now use scipy.stats.norm, which has an inbuilt method for generating the pdf\n",
    "gauss = norm.pdf(x, mean, sigma)\n",
    "\n",
    "#we can also do it by hand\n",
    "gauss2 = (1./(sigma*np.sqrt(2.*np.pi))) * np.exp((-(x-mean)**2)/(2 * sigma**2))\n",
    "\n",
    "#let's plot this\n",
    "\n",
    "#note that \"alpha\" controls the transparency of the line\n",
    "#alpha = 1 is totally opaque\n",
    "#alpha = 0 is totally transparent\n",
    "\n",
    "plt.plot(x, gauss, color='red', linewidth=10, alpha=0.25)\n",
    "\n",
    "plt.plot(x, gauss2, color='blue', linestyle='--', linewidth=1)\n",
    "plt.xlim(-50.0,50.0) #set limits of x-axis\n",
    "plt.xlabel('x')     #x-axis label\n",
    "plt.ylabel('p(x)')     #y-axis label\n",
    "plt.show()"
   ]
  },
  {
   "cell_type": "markdown",
   "metadata": {
    "slideshow": {
     "slide_type": "skip"
    }
   },
   "source": [
    "The notation $p(x|y)$ here means \"the probability distribution of $x$, given $y$\". It's here to remind us that the Gaussian distribution depends the parameters $\\mu$ and $\\sigma$. Once we've specified these, the distribution is just a completely normal function of $x$.\n",
    "\n",
    "Don't bother memorizing the form of the distribution -- we're providing this here just for reference."
   ]
  },
  {
   "cell_type": "markdown",
   "metadata": {
    "slideshow": {
     "slide_type": "fragment"
    }
   },
   "source": [
    "<center>\n",
    "<img src=gauss.png>\n",
    "</center>\n",
    "\n",
    "\n",
    "\n",
    "<div align=\"right\">  <a href=\"https://en.wikipedia.org/wiki/Normal_distribution#/media/File:Empirical_Rule.PNG\"> source of image</a></div>"
   ]
  },
  {
   "cell_type": "markdown",
   "metadata": {
    "slideshow": {
     "slide_type": "slide"
    }
   },
   "source": [
    "Numbers worth memorizing:\n",
    "* $\\simeq$68% of the area under a Gaussian falls within $\\pm 1\\sigma$\n",
    "<br><br>\n",
    "* $\\simeq$95% of the area under a Gaussian falls within $\\pm 2\\sigma$\n",
    "<br><br>\n",
    "* $\\simeq$99.7% of the area under a Gaussian falls within $\\pm 3\\sigma$"
   ]
  },
  {
   "cell_type": "markdown",
   "metadata": {
    "slideshow": {
     "slide_type": "slide"
    }
   },
   "source": [
    "### Generating Gaussian  distributed random numbers in Python\n",
    "\n",
    "It is extremely easy and convenient to generate all sorts of different types of random numbers in *python* by using the *random* module in the *numpy* package.\n",
    "\n",
    "Here is a little code snippet to see how this works for the Gaussian (aka \"normal\") distribution:"
   ]
  },
  {
   "cell_type": "code",
   "execution_count": null,
   "metadata": {
    "slideshow": {
     "slide_type": "slide"
    }
   },
   "outputs": [],
   "source": [
    "# Let's generate 10,000 gaussian distributed random numbers with \n",
    "# mean = 0 and standard deviation = 10.\n",
    "import numpy as np\n",
    "from matplotlib import pyplot as plt\n",
    "ndat = 10000\n",
    "stdev = 10.0\n",
    "mean = 0.0\n",
    "err = np.random.normal(mean, stdev, ndat) \n",
    "\n",
    "#let's plot these as a histogram\n",
    "\n",
    "nbins = 50\n",
    "range = (-30.0, 30.0)\n",
    "plt.hist(err, bins=nbins, range=range, color=\"blue\")\n",
    "plt.xlim(-40.0,40.0) #set limits of x-axis\n",
    "plt.xlabel('x')     #x-axis label\n",
    "plt.ylabel('Number of Points')     #y-axis label\n",
    "plt.show()"
   ]
  },
  {
   "cell_type": "markdown",
   "metadata": {
    "slideshow": {
     "slide_type": "slide"
    }
   },
   "source": [
    "Let's use this ability to simulate Gaussian distributed numbers to check those 1$\\sigma$, 2$\\sigma$ and 3$\\sigma$ percentages...\n",
    "\n",
    "                  [show animation 2 -- download code from Blackboard]"
   ]
  },
  {
   "cell_type": "markdown",
   "metadata": {
    "slideshow": {
     "slide_type": "skip"
    }
   },
   "source": [
    "Note how fast this pdf falls off with $x$ for $x >> \\sigma$. What's the percentage of values falling within $\\pm 6\\sigma$? The answer is 99.9999998027%. \n",
    "\n",
    "**Only 1 in** $\\simeq$500 **million draws from a Gaussian distribution should fall outside the** $\\pm 6\\sigma$  **interval!**\n",
    "\n",
    "This exponential drop-off is both a nice feature of the Gaussian distribution and a dangerous one:\n",
    "\n",
    "* it's **nice** because it implies that we can often make very precise statements about the quantities we have measured *if* our uncertainties are well described by this distribution;\n",
    "<br><br>\n",
    "* it's **dangerous** because if we we're *wrong* in assuming our errors are Gaussian, the true distribution may not fall off nearly as quickly, and then our claimed uncertainties may be horribly underestimated."
   ]
  },
  {
   "cell_type": "markdown",
   "metadata": {
    "slideshow": {
     "slide_type": "skip"
    }
   },
   "source": [
    "The Gaussian distribution with $\\mu = 0$ and $\\sigma = 1$ is often referred to as the \"standard Gaussian\" or \"standard Normal\" distribution.\n",
    "\n",
    "The standard Normal distribution can be transformed into *any* Gaussian distribution, just by shifting and stretching the $x$-axis:\n",
    "\n",
    "$$ x(\\mu,\\sigma) \\rightarrow x_{standard} \\,\\, \\sigma + \\mu$$\n",
    "\n",
    "The same transformation can be applied to random numbers drawn from the standard Normal distribution to generate random numbers drawn from a Gaussian distribution with arbitrary $\\mu$ and $\\sigma$."
   ]
  },
  {
   "cell_type": "markdown",
   "metadata": {
    "slideshow": {
     "slide_type": "skip"
    }
   },
   "source": [
    "The reason for the importance of the Gaussian distribution is that it is often an excellent approximation to the  distribution(s) from which experimental uncertainties are drawn. \n",
    "\n",
    "This should strike us as pretty miraculous! Experimental uncertainties can be due to all sorts of things, from the limited resolution of marks on a ruler, to the limited number of counts in a cosmic ray detector, to fluctuations in the voltage supplied by the power source in our experiment. Why should all of these things produce errors that follow the same, basic distribution?\n",
    "\n",
    "We will answer this question later."
   ]
  },
  {
   "cell_type": "markdown",
   "metadata": {
    "slideshow": {
     "slide_type": "skip"
    }
   },
   "source": [
    "#### Exercise: Gaussian random numbers with numpy\n",
    "\n",
    "Use the random number generator in *numpy* to draw 10000 random numbers drawn from the standard Normal distribution. \n",
    "\n",
    "Transform these into random numbers drawn from the Gaussian distribution with $\\mu = 10$ and $\\sigma = 3$. \n",
    "\n",
    "Plot a histogram of your transformed random numbers and confirm that they behave as expected by overplotting the analytical Gaussian distribution with this $\\mu$ and $\\sigma$. You can use scipy's stats.norm.pdf function for the analytical distribution.\n",
    "\n",
    "[Hint: the only tricky thing here is the normalization of the analytical distribution.]"
   ]
  },
  {
   "cell_type": "markdown",
   "metadata": {
    "slideshow": {
     "slide_type": "slide"
    }
   },
   "source": [
    "## The Poisson distribution"
   ]
  },
  {
   "cell_type": "markdown",
   "metadata": {
    "slideshow": {
     "slide_type": "skip"
    }
   },
   "source": [
    "The Poisson distribution is the second most important statistical distribution for practical data analysis, beaten to the top spot only by the Gaussian distribution. This is because it applies to just about any experimental measurement based on an *event rate* (i.e. the number of counts within some interval)."
   ]
  },
  {
   "cell_type": "markdown",
   "metadata": {
    "slideshow": {
     "slide_type": "fragment"
    }
   },
   "source": [
    "The Poisson distribution describes the probability of observing $k$ events in some given interval, if we know that the *average* number expected to occur in that interval is $\\lambda$."
   ]
  },
  {
   "cell_type": "markdown",
   "metadata": {
    "slideshow": {
     "slide_type": "skip"
    }
   },
   "source": [
    "Purely for fun (no need to memorize this!), here is the functional form of the Poisson distribution:"
   ]
  },
  {
   "cell_type": "markdown",
   "metadata": {
    "slideshow": {
     "slide_type": "skip"
    }
   },
   "source": [
    "$$p(k | \\lambda) = \\frac{e^{-\\lambda}\\lambda^k}{k!}$$"
   ]
  },
  {
   "cell_type": "markdown",
   "metadata": {
    "slideshow": {
     "slide_type": "skip"
    }
   },
   "source": [
    "The symbol $k!$ denotes the *factorial*, defined as $k! = 1 \\times 2 \\times 3 \\times ... k$.\n",
    "\n",
    "Again, there is no need to memorize this. The important thing is to know *what it describes* and *what the input parameter $\\lambda$ is*."
   ]
  },
  {
   "cell_type": "markdown",
   "metadata": {},
   "source": [
    "### Generating and plotting the shape of the Poisson distribution\n",
    "This shape of this distribution -- i.e. $p(k|\\lambda)$ -- is also available in *scipy*, under *stats.poisson.pmf*.\n",
    "\n",
    "The following code uses this to plot the Poisson distribution for three different $\\lambda$"
   ]
  },
  {
   "cell_type": "code",
   "execution_count": 3,
   "metadata": {},
   "outputs": [
    {
     "data": {
      "image/png": "[encoded data removed]",
      "text/plain": [
       "<Figure size 640x480 with 3 Axes>"
      ]
     },
     "metadata": {},
     "output_type": "display_data"
    }
   ],
   "source": [
    "import numpy as np\n",
    "from scipy.stats import poisson\n",
    "from matplotlib import pyplot as plt\n",
    "\n",
    "for lamda in np.array([2.0, 5.0, 30.0]):\n",
    "    if (lamda < 5):\n",
    "        k = np.arange(5*lamda, dtype=int)\n",
    "        p = poisson.pmf(k, lamda)\n",
    "        plt.subplot(3, 1, 1)\n",
    "        ymax = 0.35\n",
    "        xmin = -0.9\n",
    "        xmax = np.amax(k) + 0.9\n",
    "        xtext = xmin + 0.7*(xmax - xmin)\n",
    "        plt.xlim(xmin, xmax)\n",
    "        plt.ylim(0, ymax)\n",
    "        plt.ylabel(r'$p(k|\\lambda)$')\n",
    "        plt.text(xtext, 0.7*ymax, r'$\\lambda = 2$')\n",
    "        plt.plot(k, p, marker = 'o', color=\"black\", \n",
    "                 linestyle=\"None\", markersize=5)\n",
    "        plt.vlines(k, 0, p, color=\"black\", linewidth=2)\n",
    "    elif (lamda < 10): \n",
    "        k = np.arange(3*lamda, dtype=int)\n",
    "        p = poisson.pmf(k, lamda)\n",
    "        plt.subplot(3, 1, 2)\n",
    "        ymax = 0.23\n",
    "        xmin = -0.9\n",
    "        xmax = np.amax(k) + 0.9\n",
    "        xtext = xmin + 0.7*(xmax - xmin)\n",
    "        plt.xlim(xmin, xmax)\n",
    "        plt.ylim(0, ymax)\n",
    "        plt.ylabel(r'$p(k|\\lambda)$')\n",
    "        plt.text(xtext, 0.7*ymax, r'$\\lambda = 5$')\n",
    "        plt.plot(k, p, marker = 'o', color=\"blue\", \n",
    "                 linestyle=\"None\", markersize=5)\n",
    "        plt.vlines(k, 0, p, color=\"blue\", linewidth=2)\n",
    "    else:\n",
    "        k = np.arange(2*lamda, dtype=int)\n",
    "        p = poisson.pmf(k, lamda)\n",
    "        plt.subplot(3, 1, 3)\n",
    "        ymax = 0.1\n",
    "        xmin = -0.9\n",
    "        xmax = np.amax(k) + 0.9\n",
    "        xtext = xmin + 0.7*(xmax - xmin)\n",
    "        plt.xlim(xmin, xmax)\n",
    "        plt.ylim(0, ymax)\n",
    "        plt.ylabel(r'$p(k|\\lambda)$')\n",
    "        plt.xlabel(r'$k$')\n",
    "        plt.text(xtext, 0.7*ymax, r'$\\lambda = 100$')\n",
    "        plt.plot(k, p, marker = 'o', color=\"red\", \n",
    "                 linestyle=\"None\", markersize=5)\n",
    "        plt.vlines(k, 0, p, color=\"red\", linewidth=2)\n",
    "plt.tight_layout()\n",
    "plt.show()"
   ]
  },
  {
   "cell_type": "markdown",
   "metadata": {},
   "source": [
    "The mean of the Poisson distribution is:\n",
    "\n",
    "$$\\left< \\, k \\, \\right> = \\mu = \\sum_{k=0}^{\\infty} k \\, p(k \\, | \\, \\lambda) = \\lambda $$\n",
    "\n",
    "The variance of the Poisson distribution is:\n",
    "\n",
    "$$\\left< \\, (k-\\mu)^2 \\, \\right> = \\sigma^2 = \\sum_{k=0}^{\\infty}(k-\\mu)^2 \\, p(k \\, | \\, \\lambda) = \\lambda .$$\n",
    "\n",
    "So the standard deviation of the Poisson distribution is:\n",
    "\n",
    "$$\\sigma = \\sqrt{\\lambda}$$"
   ]
  },
  {
   "cell_type": "markdown",
   "metadata": {},
   "source": [
    "This is one of the most important lessons you will learn in this course. For experimental or observational physicists who usually deal with experiments that produce any sort of \"event count\", taking the square root of their recorded counts is practically an automatic reflex.\n",
    "\n",
    "Be careful, however: \"root N\" style Poisson errors apply **only** to raw integer counts that are subject to fluctuations around some some known or estimated mean.\n",
    "\n",
    "Poisson errors do **not** apply to any of the following:"
   ]
  },
  {
   "cell_type": "markdown",
   "metadata": {},
   "source": [
    "* **count *rates***\n",
    "\n",
    "    * suppose we record 100 counts in 100 s, so our estimate of the mean count rate is 1 c/s \n",
    "    * the standard deviation of the count rate is **not** $\\sqrt{1} = 1$\n",
    "    * instead, we calculate this as follows:\n",
    "        * for the raw counts, $\\sigma = \\sqrt{100} = 10$\n",
    "        * so the standard deviation of the count rate is $\\frac{\\sigma}{100s} = 0.1$ c/s\n",
    "\n",
    "* **\"processed\" counts**\n",
    "    * suppose we record 100 photons in an exposure with a CCD camera \n",
    "    * the camera electronics automatically adds an exact, constant 44 counts to this\n",
    "    * the standard deviation of the processed counts is **not** $\\sqrt{144} = 12$\n",
    "    * instead, we calculate this as follows:\n",
    "        * for the raw counts $\\sigma = \\sqrt{100} = 10$\n",
    "        * for the processed counts the standard deviation is still $\\sigma = 10$\n",
    "            * adding an exact constant to a number does **not** add any uncertainty!\n",
    "\n",
    "Note that the Poisson distribution is *asymmetric*, i.e. it has positive *skew*. It becomes more and more symmetric, however, as $\\lambda$ gets larger. In this limit, it actually approaches the Gaussian distribution with $\\mu = \\lambda$ and $\\sigma = \\lambda$."
   ]
  },
  {
   "cell_type": "markdown",
   "metadata": {},
   "source": [
    "### Generating Poisson  distributed random integers in Python\n",
    "\n",
    "The way to generate Poisson distributed random numbers with Python -- integers in this case! -- is almost exactly analogous to how we generated Gaussian distributed (real) numbers.\n",
    "\n",
    "The relevant function in *numpy* is *numpy.random.poisson*. This takes two parameters as input:\n",
    "\n",
    "* lam -- $\\lambda$, the number expected on average\n",
    "* size -- $N_{data}$, the number of random samples to generate\n",
    "\n",
    "It then return that number (size) of random samples drawn from $p(k|\\lambda)$.\n",
    "\n",
    "Here is a little code snippet to see how this works."
   ]
  },
  {
   "cell_type": "markdown",
   "metadata": {},
   "source": [
    "#### Exercise: Poisson random numbers with numpy\n",
    "\n",
    "Modify this simple script to plot the histograms for $\\lambda = 0, 1, 3, 5, 10, 20, 50, 100, 1000$. \n",
    "\n",
    "Do you notice anything interesting?"
   ]
  },
  {
   "cell_type": "code",
   "execution_count": null,
   "metadata": {},
   "outputs": [],
   "source": []
  },
  {
   "cell_type": "code",
   "execution_count": null,
   "metadata": {},
   "outputs": [],
   "source": []
  },
  {
   "cell_type": "code",
   "execution_count": 4,
   "metadata": {},
   "outputs": [
    {
     "data": {
      "image/png": "[encoded data removed]",
      "text/plain": [
       "<Figure size 640x480 with 1 Axes>"
      ]
     },
     "metadata": {},
     "output_type": "display_data"
    }
   ],
   "source": [
    "# Let's generate 10,000 Poisson distributed random numbers with lambda = 5.\n",
    "import numpy as np\n",
    "from matplotlib import pyplot as plt\n",
    "ndat = 10000\n",
    "lam = 5.0\n",
    "counts = np.random.poisson(lam=lam, size=ndat) \n",
    "\n",
    "#let's plot these as a histogram\n",
    "\n",
    "bin_edges = np.arange(-0.5,20.5,1)\n",
    "nbins = 16\n",
    "plt.hist(counts, bins=bin_edges, range=range, color=\"blue\")\n",
    "plt.xlim(-0.5,15.0) #set limits of x-axis\n",
    "plt.xlabel('k')     #x-axis label\n",
    "plt.ylabel('Number of Points')     #y-axis label\n",
    "plt.show()"
   ]
  },
  {
   "cell_type": "markdown",
   "metadata": {},
   "source": [
    "## (Optional:) Why are experimental errors so often Gaussian?\n",
    "\n",
    "We noted earlier that this was the most important distribution in all of statistics and data analysis. As justification for that statement, we claimed that real observational or experimental erorrs/uncertainties are very often well-described by the Gaussian distribution.\n",
    "\n",
    "Let's try to understand and test that claim. Should we really expect Gaussian errors to be this prevalent? Why should this be the case?\n",
    "\n",
    "### (Optional) the central limit theorem\n",
    "\n",
    "Suppose we have $N$ independent numbers, $z_i$, drawn at random from **ANY** distributions with mean $\\mu_{i}$ and variance $\\sigma_{i}^2$ (where $i = 1, 2, 3, ... , N$).\n",
    "\n",
    "Then, in the limit $N \\rightarrow \\infty$, the sum of these random numbers, $Z$, is itself a random number drawn from a Gaussian distribution with mean \n",
    "$$\\mu = \\left< Z\\right> = \\sum_{i=0}^{N} \\mu_i$$\n",
    "and variance \n",
    "$$\\sigma^2 = \\left< (Z - \\mu)^2 \\right> = \\sum_{i=0}^{N} \\sigma_i^2.$$"
   ]
  },
  {
   "cell_type": "markdown",
   "metadata": {},
   "source": [
    "This unassuming little statement is arguably the single most important and powerful result in all of statistics.\n",
    "\n",
    "Let's think about what it implies:\n",
    "\n",
    "**The central limit theorem says that *any* observational or experimental error/uncertainty that is caused by a combination of many individual smaller errors/uncertainties will tend to follow a Gaussian distribution.**\n",
    "\n",
    "This is the case for almost all types of uncertainties or error, which is why Gaussian errors are so extremely common.\n",
    "\n",
    "\n",
    "                  [show animation 3]\n",
    "\n",
    "Let's see the beauty of the central limit theorem in practice. In the following simulation, we'll draw 1 million uniform random numbers between 0 and 1. We'll then draw another million such numbers and add them (one by one) to the first million. Then we'll draw another million and add them to the sum. And so on. \n",
    "\n",
    "At each step, we'll take a look at the distribution of the million numbers in the sum at the current step and compare it to a Gaussian."
   ]
  },
  {
   "cell_type": "markdown",
   "metadata": {},
   "source": [
    "#### Exercise: (Optional) the central limit theorem\n",
    "\n",
    "The central limit theorem is actually a lot more general than our simulation suggests. In particular, we kept adding random numbers drawn from the *same* distribution with the *same* mean and *same* variance. But if you re-read our statement of the central limit theorem, you'll see that it holds much more generally than this.\n",
    "\n",
    "Modify the animation code above to check more general cases:\n",
    "\n",
    "1. simulate the addition of uniform random numbers with different limits\n",
    "2. simulate the addition of triangular random numbers\n",
    "3. simulate the addition numbers drawn from *both* distributions, say 50:50\n",
    "\n",
    "How quickly or slowly does the sum converge to the Gaussian distribution in each of these cases?\n",
    "\n",
    "The central limit theorem is incredibly powerful, but let's not get carried away. It doesn't magically solve all statistical problem or apply in all cases.\n",
    "\n",
    "Limitations of the central limit theorem:\n",
    "\n",
    "* it may take very large $N$ to converge to a Gaussian\n",
    "    * so not *every* sum will actually *be* close to Gaussian\n",
    "<br><br>\n",
    "* the distribution tails converge more slowly than the center\n",
    "    * but many decisions are based on tail probabilities\n",
    "<br><br>\n",
    "* even if $N$ is large, a small number of non-Gaussian components may *dominate*    \n",
    "    * the resulting distribution will not be Gaussian.\n",
    "<br><br>  \n",
    "* the distributions we are adding must have *finite* variance\n",
    "    * not all physically interesting distribution do (e.g. Cauchy aka Lorentzian).\n"
   ]
  },
  {
   "cell_type": "markdown",
   "metadata": {},
   "source": [
    "#### Exercise: (Optional)the central limit theorem on a log-scale\n",
    "\n",
    "Take the code for animation 5 above and plot it with a logarithmic y-axis. This gives us better insight into the behaviour of the *tails* of the distribution. Does convergence to the Gaussian still look equally "
   ]
  },
  {
   "cell_type": "markdown",
   "metadata": {},
   "source": [
    "## Big Picture Exercise\n",
    "\n",
    "This session's materials include four actual data sets, all of which have been taken from http://www.randomservices.org/random/ (a really nice resource!).\n",
    "\n",
    "\n",
    "* Michelsons_Velocity_of_Light_Data.dat\n",
    "    * This table gives Albert Michelson's measurements of the velocity of light in air, made from June 5 to July 2, 1879. The given values are the speed of light in km/s **minus 299,000 km/s**\n",
    "\n",
    "* Prussian_Horse-Kick_Data.dat\n",
    "    * This table gives the number of soldiers in the Prussian cavalry killed by horse kicks, by corp membership and by year. The years are from 1875 to 1894, and there are 14 different cavalry corps: the first column corresponds to the guard corp and the other columns to corps 1 through 11, 14, and 15. The data are from Distributome project and are derived from the book by Andrews and Herzberg. The original source of the data is the classic book by von Bortkiewicz, \"The Law of Small Numbers\"\n",
    "    \n",
    "Our Big Picture Exercise today is to inspect and summarize these data sets and compare them to the theoretical distributions that might describe them. Here are some specific things to do and try. \n",
    "\n",
    "(Note that I don't expect everybody to do every one of these things. But you should feel that you *could* do any of them, and that you *understand* them. Also, try to pick at least some examples for both the Gaussian and the Poisson distribution.)\n",
    "\n",
    "* Velocity of Light\n",
    "    * Inspect the velocity of light data set and plot a histogram these values\n",
    "        * does it look reasonable? why/why not?\n",
    "    * Work out the mean ($\\bar{x}$) and standard deviation ($s_x$) of the measurements\n",
    "    * Use np.linspace to create a set of 1001 points between $\\bar{x} - 5\\s_x$ and  $\\bar{x} + 5\\s_x$\n",
    "    * Use scipy.stats.norm.pdf to generate $p(x)$ for your 1001 points\n",
    "    * Replot your histogram, but this time adding the \"normed=True\" keyword which forces plt.hist to normalize the histogram\n",
    "    * Overplot your $p(x)$ as a smooth line on top of the histogram\n",
    "    * Do they agree reasonably well?\n",
    "    * Velocity of Light\n",
    "    * Inspect the velocity of light data set and plot a histogram these values\n",
    "        * does it look reasonable? why/why not?\n",
    "    * Work out the mean ($\\bar{x}$) and standard deviation ($s_x$) of the measurements\n",
    "    * Use np.linspace to create a set of 1001 points between $\\bar{x} - 5\\s_x$ and  $\\bar{x} + 5\\s_x$\n",
    "    * Use scipy.stats.norm.pdf to generate $p(x)$ for your 1001 points, for your mean and standard deviation\n",
    "    * Replot your histogram\n",
    "        * but this time add the \"density=True\" keyword, which forces plt.hist to normalize the histogram\n",
    "    * Overplot your $p(x)$ as a smooth line on top of the histogram\n",
    "    * Do they agree reasonably well?\n",
    "    \n",
    "\n",
    "* Horsekick Data\n",
    "    * Work out the total number of deaths in each year\n",
    "    * Work out the mean ($\\bar{x}$) and standard deviation ($s_x$) of the measurements\n",
    "        * Do they seem consistent with the Poisson expectation that the standard deviation is the square root of the mean?\n",
    "    * Plot a histogram of these numbers\n",
    "    * Work out the mean ($\\bar{x}$) and standard deviation ($s_x$) of these numbers\n",
    "    * Use np.arange to create a set of all *integers* between $\\bar{x} - 5\\s_x$ and  $\\bar{x} + 5\\s_x$\n",
    "        * if $\\bar{x} - 5\\s_x$ is less than zero, start at zero\n",
    "    * Use scipy.stats.poisson.pmf to generate $p(x)$ for your integers (let's call that poisson)\n",
    "    * Replot your histogram, but this time such that each integer has its own \"bin\"\n",
    "        * if your integer array is called my_ints, say, you should first define edges = my_ints - 0.5\n",
    "        * then use plt.hist again, but this time use \"bins=edges\"\n",
    "    * On top of your histogram, overplot the Poisson prediction from poisson.pmf\n",
    "        * the easiest way to do this is by using plt.scatter\n",
    "    * Does it more or less match the data? How might we decide?\n",
    "    * Repeat the exercise above, but this time looking at the number of deaths *per corp*\n",
    "        * for each corp, sum all the deaths across the years\n",
    "    * Does it look like the death rates are consistent across corps?\n",
    "        * i.e. does the distribution seem consistent with the Poisson distribution?"
   ]
  }
 ],
 "metadata": {
  "celltoolbar": "Slideshow",
  "hide_input": false,
  "kernelspec": {
   "display_name": "Python 3 (ipykernel)",
   "language": "python",
   "name": "python3"
  },
  "language_info": {
   "codemirror_mode": {
    "name": "ipython",
    "version": 3
   },
   "file_extension": ".py",
   "mimetype": "text/x-python",
   "name": "python",
   "nbconvert_exporter": "python",
   "pygments_lexer": "ipython3",
   "version": "3.12.6"
  },
  "latex_envs": {
   "bibliofile": "biblio.bib",
   "cite_by": "apalike",
   "current_citInitial": 1,
   "eqLabelWithNumbers": true,
   "eqNumInitial": 0
  },
  "toc": {
   "base_numbering": 1,
   "nav_menu": {},
   "number_sections": true,
   "sideBar": true,
   "skip_h1_title": true,
   "title_cell": "Table of Contents",
   "title_sidebar": "Contents",
   "toc_cell": true,
   "toc_position": {},
   "toc_section_display": true,
   "toc_window_display": false
  }
 },
 "nbformat": 4,
 "nbformat_minor": 4
}
