{
 "cells": [
  {
   "cell_type": "markdown",
   "metadata": {
    "toc": true
   },
   "source": [
    "<h1>Table of Contents<span class=\"tocSkip\"></span></h1>\n",
    "<div class=\"toc\"><ul class=\"toc-item\"><li><span><a href=\"#Executive-Summary\" data-toc-modified-id=\"Executive-Summary-1\"><span class=\"toc-item-num\">1&nbsp;&nbsp;</span>Executive Summary</a></span></li><li><span><a href=\"#Required-Analysis\" data-toc-modified-id=\"Required-Analysis-2\"><span class=\"toc-item-num\">2&nbsp;&nbsp;</span>Required Analysis</a></span></li><li><span><a href=\"#Step-1:-The-Cepheid-Period-Luminosity-Relationship\" data-toc-modified-id=\"Step-1:-The-Cepheid-Period-Luminosity-Relationship-3\"><span class=\"toc-item-num\">3&nbsp;&nbsp;</span>Step 1: The Cepheid Period-Luminosity Relationship</a></span><ul class=\"toc-item\"><li><span><a href=\"#Data-Set\" data-toc-modified-id=\"Data-Set-3.1\"><span class=\"toc-item-num\">3.1&nbsp;&nbsp;</span>Data Set</a></span></li><li><span><a href=\"#Magnitudes\" data-toc-modified-id=\"Magnitudes-3.2\"><span class=\"toc-item-num\">3.2&nbsp;&nbsp;</span>Magnitudes</a></span></li><li><span><a href=\"#Parallax\" data-toc-modified-id=\"Parallax-3.3\"><span class=\"toc-item-num\">3.3&nbsp;&nbsp;</span>Parallax</a></span></li><li><span><a href=\"#Apparent-vs-absolute-magnitudes\" data-toc-modified-id=\"Apparent-vs-absolute-magnitudes-3.4\"><span class=\"toc-item-num\">3.4&nbsp;&nbsp;</span>Apparent vs absolute magnitudes</a></span></li><li><span><a href=\"#Putting-it-all-together\" data-toc-modified-id=\"Putting-it-all-together-3.5\"><span class=\"toc-item-num\">3.5&nbsp;&nbsp;</span>Putting it all together</a></span></li><li><span><a href=\"#Hints-and-tips\" data-toc-modified-id=\"Hints-and-tips-3.6\"><span class=\"toc-item-num\">3.6&nbsp;&nbsp;</span>Hints and tips</a></span></li></ul></li><li><span><a href=\"#Step-2:-The-Distance-of-a-Nearby-Galaxy\" data-toc-modified-id=\"Step-2:-The-Distance-of-a-Nearby-Galaxy-4\"><span class=\"toc-item-num\">4&nbsp;&nbsp;</span>Step 2: The Distance of a Nearby Galaxy</a></span><ul class=\"toc-item\"><li><span><a href=\"#Hints-and-tips\" data-toc-modified-id=\"Hints-and-tips-4.1\"><span class=\"toc-item-num\">4.1&nbsp;&nbsp;</span>Hints and tips</a></span></li></ul></li><li><span><a href=\"#Step-3:-The-Hubble-Constant,-i.e.-the-Expansion-Rate-of-the-Universe\" data-toc-modified-id=\"Step-3:-The-Hubble-Constant,-i.e.-the-Expansion-Rate-of-the-Universe-5\"><span class=\"toc-item-num\">5&nbsp;&nbsp;</span>Step 3: The Hubble Constant, i.e. the Expansion Rate of the Universe</a></span><ul class=\"toc-item\"><li><span><a href=\"#The-Hubble-Constant-from-NGC4527\" data-toc-modified-id=\"The-Hubble-Constant-from-NGC4527-5.1\"><span class=\"toc-item-num\">5.1&nbsp;&nbsp;</span>The Hubble Constant from NGC4527</a></span></li><li><span><a href=\"#The-Hubble-Constant-from-Multiple-Galaxies\" data-toc-modified-id=\"The-Hubble-Constant-from-Multiple-Galaxies-5.2\"><span class=\"toc-item-num\">5.2&nbsp;&nbsp;</span>The Hubble Constant from Multiple Galaxies</a></span></li><li><span><a href=\"#Hints-and-tips\" data-toc-modified-id=\"Hints-and-tips-5.3\"><span class=\"toc-item-num\">5.3&nbsp;&nbsp;</span>Hints and tips</a></span></li></ul></li><li><span><a href=\"#Due-date\" data-toc-modified-id=\"Due-date-6\"><span class=\"toc-item-num\">6&nbsp;&nbsp;</span>Due date</a></span></li><li><span><a href=\"#Late-submission-penalties\" data-toc-modified-id=\"Late-submission-penalties-7\"><span class=\"toc-item-num\">7&nbsp;&nbsp;</span>Late submission penalties</a></span></li><li><span><a href=\"#Extensions\" data-toc-modified-id=\"Extensions-8\"><span class=\"toc-item-num\">8&nbsp;&nbsp;</span>Extensions</a></span></li><li><span><a href=\"#Submission-method\" data-toc-modified-id=\"Submission-method-9\"><span class=\"toc-item-num\">9&nbsp;&nbsp;</span>Submission method</a></span></li><li><span><a href=\"#Report-format\" data-toc-modified-id=\"Report-format-10\"><span class=\"toc-item-num\">10&nbsp;&nbsp;</span>Report format</a></span><ul class=\"toc-item\"><li><span><a href=\"#Things-to-include-in-your-report\" data-toc-modified-id=\"Things-to-include-in-your-report-10.1\"><span class=\"toc-item-num\">10.1&nbsp;&nbsp;</span>Things to include in your report</a></span></li><li><span><a href=\"#Things-to-avoid-in-your-report\" data-toc-modified-id=\"Things-to-avoid-in-your-report-10.2\"><span class=\"toc-item-num\">10.2&nbsp;&nbsp;</span>Things to avoid in your report</a></span></li><li><span><a href=\"#Report-structure\" data-toc-modified-id=\"Report-structure-10.3\"><span class=\"toc-item-num\">10.3&nbsp;&nbsp;</span>Report structure</a></span></li><li><span><a href=\"#Report-length\" data-toc-modified-id=\"Report-length-10.4\"><span class=\"toc-item-num\">10.4&nbsp;&nbsp;</span>Report length</a></span></li></ul></li><li><span><a href=\"#Assessment-and-marking\" data-toc-modified-id=\"Assessment-and-marking-11\"><span class=\"toc-item-num\">11&nbsp;&nbsp;</span>Assessment and marking</a></span></li></ul></div>"
   ]
  },
  {
   "cell_type": "markdown",
   "metadata": {
    "slideshow": {
     "slide_type": "slide"
    }
   },
   "source": [
    "# Assignment: The Hubble Constant"
   ]
  },
  {
   "cell_type": "markdown",
   "metadata": {
    "slideshow": {
     "slide_type": "fragment"
    }
   },
   "source": [
    "## Executive Summary\n",
    "\n",
    "Your goal in this assignment is to obtain estimates of the expansion rate of the Universe from actual astrophysical data.\n",
    "<br>\n",
    "\n",
    "\n",
    "All of your data analysis should be carried out in *Python*, using the methods you have learned in this course. \n",
    "<br>\n",
    "\n",
    "\n",
    "Your submission should consist of:\n",
    "\n",
    "* the code you have written to carry out the data analysis\n",
    "<br><br>\n",
    "* a brief write-up of your analysis that presents your results and explains what you did"
   ]
  },
  {
   "cell_type": "markdown",
   "metadata": {
    "slideshow": {
     "slide_type": "slide"
    }
   },
   "source": [
    "## Required Analysis\n",
    "\n",
    "\n",
    "The steps required to obtain an estimate of the expansion rate of the Universe are:\n",
    "\n",
    "1. determine the Cepheid period-luminosity (PL) relation\n",
    "    * Cepheid variables are pulsating stars whose pulsation period is related to their intrinsic brightness\n",
    "    * given a well-observed sample of nearby Cepheids, you can determine the form of this relationship\n",
    "    * this is the most involved step of the three\n",
    "<br><br>    \n",
    "2. estimate the distance of a nearby galaxy\n",
    "    * given a sample of Cepheid variables in this galaxy, you can determine the distance towards that galaxy from your PL relation\n",
    "<br><br>    \n",
    "3. estimate the Hubble Constant, i.e. the expansion rate of the Universe\n",
    "    * we know the recession velocity of this galaxy, so you can estimate the \"Hubble Constant\", i.e. the constant of proportionality between recession velocity and distance\n",
    "    * I am also providing you with distances and recession velocities obtained by other researchers for 7 other galaxies, so you can obtain a second -- more accurate and/and more precise estimate -- of the Hubble Constant by combining your data with theirs.\n",
    "    \n",
    "**Note that all logarithms appearing in this are *base-10* unless explicitly noted otherwise.**\n"
   ]
  },
  {
   "cell_type": "markdown",
   "metadata": {
    "slideshow": {
     "slide_type": "skip"
    }
   },
   "source": [
    "## Step 1: The Cepheid Period-Luminosity Relationship\n",
    "\n",
    "\n",
    "The intrinsic brightness of a pulsating Cepheid variable star depends on the period of its pulsation. The physics of this is interesting, but needn't concern us here. The dependence of brightness on period is usually modelled via a simple linear relationship between the so-called absolute magnitude (a measure of intrinsic brightness; see below) and the base-10 logarithm of the pulsation period:\n",
    "\n",
    "$$M = \\alpha \\log_{10}{P} + \\beta$$\n",
    "\n",
    "This is the so-called \"period-luminosity relation\". Your goal in Step 1 is to determine optimal values of $\\alpha$ and $\\beta$, along with their uncertainties, from a sample of Ceph:eid stars in the Milky Way (our home galaxy).You should also address the correlation or lack thereof between $\\alpha$ and $\\beta$.\n",
    "\n",
    "### Data Set\n",
    "\n",
    "The file \"MW_Cepheids.dat\" contains data for a sample of 10 Cepheid stars in the Milky Way. The table contains 7 columns:\n",
    "\n",
    "1. The name of the star\n",
    "2. its *parallax* in milli-arcsecond (see below)\n",
    "3. the error on the parallax\n",
    "4. its pulsation period in days\n",
    "5. its visual magnitude (see below)\n",
    "7. the extinction towards the star in magnitudes (see below) \n",
    "8. the error on the extinction in magnitudes\n",
    "\n",
    "### Magnitudes\n",
    "\n",
    "The brightness of astronomical objects is usually measured in *magnitudes*. Magnitudes can be a counterintuive measure of brightness when first encountered, for two reasons: (1) they are *logarithmic*, and (2) they are defined so that *brighter objects have smaller magnitudes*. Specifically, the magnitude scale is designed in such a way that if object A has a magnitude of $m_A$ and is 100 times fainter than object B, then the magnitude of object B is exactly $m_B = m_A - 5$.\n",
    "\n",
    "All that said, luckily, the details of all this need not concern us here. This is because we will work in magnitude units throughout, so we never have to convert back and forth between magnitudes and other measures of brightness. \n",
    "\n",
    "### Parallax\n",
    "\n",
    "The parallax of a star is its angular displacement relative to distant background stars over the course of a year (see e.g. \n",
    "<a href=\"https://en.wikipedia.org/wiki/Parallax\">here</a>). The closer the star is to Earth, the larger its parallax. \n",
    "\n",
    "More specifically, there is a simple relationship between the parallax of a star ($p_{mas}$, measured in milli-arcseconds) and its distance from Earth ($d_{pc}$, measured in *parsecs*):\n",
    "\n",
    "$$ d_{pc} = 1000/p_{mas}$$\n",
    "\n",
    "The conversion from parsecs to meters is $1 {\\rm \\,pc} = 3.086 \\times 10^{16} {\\rm \\,m}$. For reference, $1$ pc $\\simeq 3.3$ light years.\n",
    "\n",
    "\n",
    "### Apparent vs absolute magnitudes\n",
    "\n",
    "Suppose we observe two identical objects that are located at two different distances from us. Then obviously the one further away from us will appear to be fainter. This is no different than saying that the 100 Watt light bulb in my office seems a lot brighter to me than the same light bulb in another office across campus, which I can barely make out through my window. It is therefore important to distinguish between the *intrinsic* brightness of an object -- something that measures the fact that the light bulb is 100 Watts -- and the *apparent* brightness of an object -- which, for a given intrinsic brightness, depends only on the distance towards the object.\n",
    "\n",
    "In astronomy, we use *absolute magnitudes* to talk about *intrinsic brightness*. And we use *apparent magnitude* to talk about *apparent brightness*. In order to distinguish between them, we denote an *absolute magnitude* by an *upper case* $M$, and *apparent magnitudes* by a *lower case* $m$. The absolute magnitude of an object is formally defined as the apparent magnitude it would have if it were located at a distance of exactly 10 pc.\n",
    "\n",
    "However, there is one other factor we need to account for. When we observe an object in the Milky Way or in a distant galaxy, there is often also a substantial amount of gas and dust between us and the object. This gas and dust can obscure our view of the object, i.e. it can make the object appear *dimmer* than it would if this stuff weren't in the way. We can quantify this by defining the *extinction*, $A$, as the dimming effect of the intervening \"stuff\", measured in units of magnitudes. Putting these things together, we get the following relationship between absolute magnitude, apparent magnitude, distance and extinction,\n",
    "\n",
    "$$M = m - 5 \\log_{10}{d_{pc}} + 5 - A.$$\n",
    "\n",
    "\n",
    "### Putting it all together\n",
    "\n",
    "The data in the file \"MW_Cepheids.dat\", together with the information provided above, is sufficient to estimate the parameters defining period luminosity relation (and their uncertainties). Again, your goal is to obtain optimal estimates (and errors) for $\\alpha$ and $\\beta$.\n",
    ":\n",
    "In order to achieve this, you will first need to estimate the absolute magnitudes for all Cepheids in the sample (using their apparent magnitudes, the parallaxes and the extinction estimates). The data includes the pulsation periods, so you can then fit the absolute magnitudes, using the period-luminosity relations described above as your model. This will give you the $\\alpha$ and $\\beta$ values.\n",
    "\n",
    "### Hints and tips\n",
    "\n",
    "Here are a few hints and tips you may want to think about as you do this (and address in your write-up). \n",
    "\n",
    "* where errors are provided, you may assume that they are Gaussian\n",
    "\n",
    "* where errors are *not* provided (e.g. on apparent magnitudes and periods), it usually means that the relevant quantities is very precisely known, so the error on it can be ignored\n",
    "\n",
    "* since the simple, linear period-luminosity relation is really just an approximation to fairly complex underlying physics, it is possible that there may be extra scatter  around :the relationship (in excess of that expected from the observational errors); if this happens -- i.e. if one or both of your fits to the period-luminosity relation are not formally acceptable (in terms of its $\\chi^2$), you should still \"accept\" the relationship but explicitly allow for this extra \"intrinsic dispersion\".\n",
    "\n",
    "* if your best-fit $\\alpha$ and $\\beta$ values are correlated, you might want to consider using the strategy discussed in one of our final lessons.\n",
    "\n",
    "* all logarithms appearing here (and below) are *base-10*\n",
    "\n",
    "* in numpy, np.log(x) is $\\ln{x}$, the *natural* logarithm;  np.log10(x) is $\\log_{10}{x}$, the base-10 logarithm\n",
    "\n",
    "* the derivative of $\\log_{10}(x)$ with respect to $x$ is:\n",
    "\n",
    "$$ \\frac{d\\log_{10}x}{dx} = \\frac{1}{x \\, \\ln{10}}$$\n",
    "\n"
   ]
  },
  {
   "cell_type": "markdown",
   "metadata": {
    "slideshow": {
     "slide_type": "skip"
    }
   },
   "source": [
    "## Step 2: The Distance of a Nearby Galaxy\n",
    "\n",
    "The file \"ngc4527_cepheids.dat\" contains data obtained by the Hubble Space Telescope on Cepheid variables discovered in the nearby galaxy NGC4527. The file  contains the following information:\n",
    "\n",
    "* Header Row: Column names (Name, logP, m)\n",
    "\n",
    "* Column 1: Name of the Cepheid\n",
    "* Column 2: base-10 logarithm of the Cepheid period in days\n",
    "* Column 3: apparent magnitude of the Cepheid\n",
    "\n",
    " line of sight towards this galaxy passes through gas and dust in the Milky Way. This produces an extinction of $A_{MW} = 0.0682$ mag. In principle, each Cepheid may additionally suffer from some additional extinction *within* NGC4527, but we have not been given estimates of this here.\n",
    "\n",
    "Using the relationship between apparent and absolute magnitude, extinction and distance, obtain an optimal estimate of the distance in parsecs, along with an estimate of the error on this.\n",
    "\n",
    "### Hints and tips\n",
    "\n",
    "* you should at least think about -- and discuss in your write-up -- how extinction in NGC4527 may affect your distance estimate(s)\n",
    "\n",
    "* propagate all relevant uncertainties correctly into your final error for the distance; make sure to think about whether any of the uncertainties you are propagating are correlated with each other. "
   ]
  },
  {
   "cell_type": "markdown",
   "metadata": {
    "slideshow": {
     "slide_type": "skip"
    }
   },
   "source": [
    "## Step 3: The Hubble Constant, i.e. the Expansion Rate of the Universe\n",
    "\n",
    "### The Hubble Constant from NGC4527\n",
    "\n",
    "You now have a distance (and associated error) for NGC4527. The recession velocity of this galaxy is $v_{rec} = 1152$ km/s, and this is measured with very small instrumental uncertainties. \n",
    "\n",
    "This recession velocity is mainly due to the expansion of the universe. A simple way to picture this is to think of galaxies as raisins in a loaf of bread being baked in an oven. As the bread loaf expands, all raisins move apart from each other, and since there is more expanding dough between distant raisins thant nearby raisins, distance raisins move away from each other faster. \n",
    "\n",
    "Thus there is -- or should be -- a simple linear relationship (called *Hubble's Law*) between the distance of a galaxy from us, $D_{gal}$ and its apparent recession speed, $v_{rec}$:\n",
    "\n",
    "$$v_{rec} = H_0 D_{gal}.$$\n",
    "\n",
    "Note that there is no constant term in this relationship, and the slope of the relationship $H_0$ -- known as the *Hubble Constant* -- is usually measured in units of (km/s) per Mpc (1 $Mpc = 10^6$ pc).\n",
    "\n",
    "By combining the distance you have measured for NGC4527 with its recession velocity, you should be able to obtain an estimate for $H_0$, along with an estimate of the error on this. \n",
    "\n",
    "### The Hubble Constant from Multiple Galaxies\n",
    "\n",
    "The file \"other_galaxies.dat\" contains recession velocities, distances and errors on distances for 7 additional nearby galaxies. These were obtained by other researchers from data extremely similar to the data you used for NGC4527. \n",
    "\n",
    "\n",
    "Combine your data for NGC4527 with that contained in \"other_galaxies.dat\" to obtain an improved estimate of the Hubble constant. \n",
    "\n",
    "### Hints and tips\n",
    "\n",
    "* In obtaining an optimal estimate of $H_0$ from all 8 galaxies, make sure to consider the consistency -- or lack thereof -- between the measurements for the 8 galaxies. Your report should briefly discuss this also.\n",
    "\n",
    "* Your report should definitely include a \"Hubble diagram\", i.e. a plot of $v_{rec}$ vs distance."
   ]
  },
  {
   "cell_type": "markdown",
   "metadata": {
    "slideshow": {
     "slide_type": "slide"
    }
   },
   "source": [
    "## Due date\n",
    "\n",
    "<span style=\"color:red\"> Deadline for submission: **Friday, Nov 29, 2024, 18:00**</span>\n",
    "\n",
    "## Late submission penalties\n",
    "\n",
    "Late submissions will incur a penalty of 10% of the awarded mark times the number of working days, or part thereof, after the published submission deadline. \n",
    "\n",
    "## Extensions\n",
    "\n",
    "Requests for extensions on the basis of illness or other special circumstances must be made via the normal special considerations process. The special considerations team in the faculty office (pa-scb@soton.ac.uk), or your personal tutor, should be able to help you with this."
   ]
  },
  {
   "cell_type": "markdown",
   "metadata": {
    "slideshow": {
     "slide_type": "skip"
    }
   },
   "source": [
    "## Submission method\n",
    "\n",
    "Your report and the code on which it is based should both be submitted via the Blackboard site (under \"Assignments\"). \n",
    "\n",
    "The report should be a pdf file containing just text and figures.\n",
    "\n",
    "The code can be submitted as either \n",
    "\n",
    "* plain *Python 3* code (which must work without any trouble in *Spyder*)\n",
    "    * there should be enough comments and documentation to help us understand what's going on\n",
    "\n",
    "* a *Jupyter Notebook*\n",
    "    * with Notebooks, it's also allowed to do most of the commenting in text cells between code snippets\n",
    "\n",
    "If you encounter any problems during submission, email me (B.Chakraborty@soton.ac.uk) **before the deadline and include your submission as an attachment**."
   ]
  },
  {
   "cell_type": "markdown",
   "metadata": {
    "slideshow": {
     "slide_type": "skip"
    }
   },
   "source": [
    "## Report format\n",
    "\n",
    "The written report on your analysis should provide a clear and concise summary of what you have done and what your results are. **Think of the report as the data analysis section of a lar\n",
    "ger publication.** That larger publication -- which is not part of what we are doing here -- would include several other sections (e.g. an introduction), and these would discuss the motivation for obtaining the data, the background physics, the observational details, and the implication of the results in much more detail. \n",
    "\n",
    "**The purpose of a data analysis section -- and hence your report -- is to provide the reader with (just) enough information to understand the logic behind the analysis and to ensure that they could in principle reproduce the analysis.** You can assume that the reader is reasonably well-versed in basic statistics and data analysis. So you do not have to explain what a $\\chi^2$ is, for example, or provide the equation for a weighted mean. \n",
    "\n",
    "Your report should make it clear to the reader -- and the marker -- that you are using appropriate data analysis techniques, that you have a clear understanding of these techniques, and that you have thought carefully about the analysis, its results and its limitations.\n",
    "\n",
    "\n",
    "### Things to include in your report\n",
    "\n",
    "In order to fulfill this purpose, a good data analysis section -- and your report -- has to:\n",
    "\n",
    "* outline/explain the overall data analysis chain\n",
    "\n",
    "* specify all standard t\n",
    "echniques used along the way\n",
    "\n",
    "* clearly define any symbols you are using\n",
    "\n",
    "* explain and justify any non-standard steps (e.g. the rejection of outliers, or the allowance for intrinsic dispersion in a fit, or strategies used to remove correlations between fit parameters)\n",
    "\n",
    "* specify any details required to reproduce non-standard steps (e.g. which data points were rejected as outliers, how large was the intrinsic dispersion adopted)\n",
    "\n",
    "* describe any steps taken to validate (\"sanity check\") the data and results\n",
    "\n",
    "\n",
    "* provide quantitative estimates -- with uncertainties -- for all key derived quantities\n",
    "\n",
    "* provide and discuss the results of key metrics, such as the $\\chi^2$ value obtained for a fit \n",
    "\n",
    "* provide figures (with appropriate labels and captions) that illustrate key points and results\n",
    "\n",
    "### Things to avoid in your report\n",
    "\n",
    "A good data analysis section -- and your report -- should **NOT** include \n",
    "\n",
    "* an introduction into the underlying (astro-)physics\n",
    "    * this would be covered by other parts of the larger publication (which we are not writing here)\n",
    "\n",
    "* a discussion of the astrophysical implications of your results\n",
    "    * again, this would be covered elsewhere in the overall publication\n",
    "\n",
    "* a detailed description of your code or the \"mechanics\" of the analysis -- avoid things like\n",
    "    * \"Then my code reads in recession velocities and distances from the file 'other_galaxies.dat' \"\n",
    "    * \"To calculate the $\\chi^2$, I first calculate the residuals between model and data. I then square them, divide by the squares of the errors, and finally sum all these squares.\"\n",
    "\n",
    "### Report structure\n",
    "\n",
    "A simple and sensible structure for your report could be:\n",
    "\n",
    "* Outline of the overall analyis steps\n",
    "* Step 1: the Cepheid period-luminosity relation\n",
    "* Step 2: the distance of NGC4527\n",
    "* Step 3: the Hubble constant\n",
    "\n",
    "Note that Step 1 is probably the most involved, and Step 2 probably the least, so it's OK if these sections are quite different lengths.\n",
    "\n",
    "### Report length\n",
    "\n",
    "There is no need to pad your report, but do make sure to clearly explain what you have done. A rough *upper limit* on the report length is 3000 words."
   ]
  },
  {
   "cell_type": "markdown",
   "metadata": {
    "slideshow": {
     "slide_type": "skip"
    }
   },
   "source": [
    "## Assessment and marking\n",
    "\n",
    "All submitted programs and reports will be read/tested by teaching staff associated with the course.\n",
    "\n",
    "Marks will be awarded in the following three basic categories:\n",
    "\n",
    "1. The submitted code (Weight: 25%)\n",
    "    * are all of the necessary steps included in the code?\n",
    "    * are sensible algorithms used?\n",
    "    * are the algorithms implemented sensibly and correctly?\n",
    "    * are reasonable comments and docstrings provided?\n",
    "    * is the code easy to read and understand?\n",
    "<br><br>    \n",
    "2. The data analysis (Weight: 25%)\n",
    "    * has the data analysis been carried out correctly?\n",
    "    * have errors been estimated and propagated correctly?\n",
    "<br><br>\n",
    "3. The report (Weight: 30%)\n",
    "    * does the write-up clearly and concisely explain what has been done?\n",
    "    * does it explain and justify any approximations that were made?\n",
    "    * does it explain and justify any non-standard approaches that were used?\n",
    "    * does it demonstrate a good understanding of the statistical principles used?\n",
    "    * is the report well-written and structured?\n",
    "<br><br>\n",
    "4. Viva and understanding (Weight: 20%)\n",
    "    * How well do you understand the concepts?\n",
    "    * Whether you can explain all your submitted work?\n",
    "<br><br>\n",
    "\n",
    "The mark achieved for this assignment will count 80% towards the final module mark.\n",
    "\n",
    "I will provide you with the Marksheet we actually use to assess your work, so that you can see pretty precisely what we are looking at."
   ]
  },
  {
   "cell_type": "code",
   "execution_count": null,
   "metadata": {},
   "outputs": [],
   "source": []
  }
 ],
 "metadata": {
  "celltoolbar": "Slideshow",
  "hide_input": false,
  "kernelspec": {
   "display_name": "Python 3 (ipykernel)",
   "language": "python",
   "name": "python3"
  },
  "language_info": {
   "codemirror_mode": {
    "name": "ipython",
    "version": 3
   },
   "file_extension": ".py",
   "mimetype": "text/x-python",
   "name": "python",
   "nbconvert_exporter": "python",
   "pygments_lexer": "ipython3",
   "version": "3.12.6"
  },
  "latex_envs": {
   "bibliofile": "biblio.bib",
   "cite_by": "apalike",
   "current_citInitial": 1,
   "eqLabelWithNumbers": true,
   "eqNumInitial": 0
  },
  "toc": {
   "base_numbering": 1,
   "nav_menu": {},
   "number_sections": true,
   "sideBar": true,
   "skip_h1_title": true,
   "title_cell": "Table of Contents",
   "title_sidebar": "Contents",
   "toc_cell": true,
   "toc_position": {},
   "toc_section_display": true,
   "toc_window_display": false
  }
 },
 "nbformat": 4,
 "nbformat_minor": 4
}
