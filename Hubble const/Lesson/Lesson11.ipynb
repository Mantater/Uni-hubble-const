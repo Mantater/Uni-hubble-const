{
 "cells": [
  {
   "cell_type": "markdown",
   "metadata": {
    "toc": true
   },
   "source": [
    "<h1>Table of Contents<span class=\"tocSkip\"></span></h1>\n",
    "<div class=\"toc\"><ul class=\"toc-item\"><li><span><a href=\"#Previously-on-PHYS1201...\" data-toc-modified-id=\"Previously-on-PHYS1201...-1\"><span class=\"toc-item-num\">1&nbsp;&nbsp;</span>Previously on PHYS1201...</a></span></li><li><span><a href=\"#Today-on-PHYS1201...\" data-toc-modified-id=\"Today-on-PHYS1201...-2\"><span class=\"toc-item-num\">2&nbsp;&nbsp;</span>Today on PHYS1201...</a></span></li><li><span><a href=\"#Big-Picture-Exercise:-fitting-the-fake-Hubble-Constant-data\" data-toc-modified-id=\"Big-Picture-Exercise:-fitting-the-fake-Hubble-Constant-data-3\"><span class=\"toc-item-num\">3&nbsp;&nbsp;</span>Big Picture Exercise: fitting the fake Hubble Constant data</a></span></li><li><span><a href=\"#Parameter-estimation:-finding-and-vetting-the-&quot;best&quot;-model\" data-toc-modified-id=\"Parameter-estimation:-finding-and-vetting-the-&quot;best&quot;-model-4\"><span class=\"toc-item-num\">4&nbsp;&nbsp;</span>Parameter estimation: finding and vetting the \"best\" model</a></span><ul class=\"toc-item\"><li><span><a href=\"#$\\chi^2$-as-a-goodness-of-fit-metric\" data-toc-modified-id=\"$\\chi^2$-as-a-goodness-of-fit-metric-4.1\"><span class=\"toc-item-num\">4.1&nbsp;&nbsp;</span>$\\chi^2$ as a goodness-of-fit metric</a></span></li><li><span><a href=\"#Minimum-$\\chi^2$-$\\leftrightarrow$-optimal-fit\" data-toc-modified-id=\"Minimum-$\\chi^2$-$\\leftrightarrow$-optimal-fit-4.2\"><span class=\"toc-item-num\">4.2&nbsp;&nbsp;</span>Minimum $\\chi^2$ $\\leftrightarrow$ optimal fit</a></span></li><li><span><a href=\"#$\\chi^2$-degrees-of-freedom-for-models-with-adjustable-parameters\" data-toc-modified-id=\"$\\chi^2$-degrees-of-freedom-for-models-with-adjustable-parameters-4.3\"><span class=\"toc-item-num\">4.3&nbsp;&nbsp;</span>$\\chi^2$ degrees of freedom for models with adjustable parameters</a></span></li><li><span><a href=\"#Putting-it-all-together\" data-toc-modified-id=\"Putting-it-all-together-4.4\"><span class=\"toc-item-num\">4.4&nbsp;&nbsp;</span>Putting it all together</a></span></li><li><span><a href=\"#Aside:-the-weighted-mean-as-a-$\\chi^2$-fit\" data-toc-modified-id=\"Aside:-the-weighted-mean-as-a-$\\chi^2$-fit-4.5\"><span class=\"toc-item-num\">4.5&nbsp;&nbsp;</span>Aside: the weighted mean as a $\\chi^2$ fit</a></span><ul class=\"toc-item\"><li><span><a href=\"#Exercise:-the-weighted-mean-as-a-$\\chi^2$-fit-with-a-constant\" data-toc-modified-id=\"Exercise:-the-weighted-mean-as-a-$\\chi^2$-fit-with-a-constant-4.5.1\"><span class=\"toc-item-num\">4.5.1&nbsp;&nbsp;</span>Exercise: the weighted mean as a $\\chi^2$ fit with a constant</a></span></li></ul></li></ul></li><li><span><a href=\"#Finding-the-best-fitting-model-with-Python\" data-toc-modified-id=\"Finding-the-best-fitting-model-with-Python-5\"><span class=\"toc-item-num\">5&nbsp;&nbsp;</span>Finding the best-fitting model with <em>Python</em></a></span><ul class=\"toc-item\"><li><span><a href=\"#Brute-force-gridding\" data-toc-modified-id=\"Brute-force-gridding-5.1\"><span class=\"toc-item-num\">5.1&nbsp;&nbsp;</span>Brute-force gridding</a></span><ul class=\"toc-item\"><li><span><a href=\"#Example:-1-D----fitting-the-slope-of-a-line\" data-toc-modified-id=\"Example:-1-D----fitting-the-slope-of-a-line-5.1.1\"><span class=\"toc-item-num\">5.1.1&nbsp;&nbsp;</span>Example: 1-D -- fitting the slope of a line</a></span></li><li><span><a href=\"#Aside:-What-do-we-mean--by-&quot;linear-models&quot;?\" data-toc-modified-id=\"Aside:-What-do-we-mean--by-&quot;linear-models&quot;?-5.1.2\"><span class=\"toc-item-num\">5.1.2&nbsp;&nbsp;</span>Aside: What do we mean  by \"linear models\"?</a></span></li><li><span><a href=\"#Exercise:-fitting-the-slope-of-a-line-with-brute-force-gridding\" data-toc-modified-id=\"Exercise:-fitting-the-slope-of-a-line-with-brute-force-gridding-5.1.3\"><span class=\"toc-item-num\">5.1.3&nbsp;&nbsp;</span>Exercise: fitting the slope of a line with brute-force gridding</a></span></li><li><span><a href=\"#Exercise:-fitting-the-wrong-line\" data-toc-modified-id=\"Exercise:-fitting-the-wrong-line-5.1.4\"><span class=\"toc-item-num\">5.1.4&nbsp;&nbsp;</span>Exercise: fitting the wrong line</a></span></li><li><span><a href=\"#Do-$\\chi^2$-values-really-follow-a-$\\chi^2$-distribution?\" data-toc-modified-id=\"Do-$\\chi^2$-values-really-follow-a-$\\chi^2$-distribution?-5.1.5\"><span class=\"toc-item-num\">5.1.5&nbsp;&nbsp;</span>Do $\\chi^2$ values really follow a $\\chi^2$ distribution?</a></span></li><li><span><a href=\"#Example:-2-D----fitting-the-slope-and-intercept-of-a-line\" data-toc-modified-id=\"Example:-2-D----fitting-the-slope-and-intercept-of-a-line-5.1.6\"><span class=\"toc-item-num\">5.1.6&nbsp;&nbsp;</span>Example: 2-D -- fitting the slope and intercept of a line</a></span></li><li><span><a href=\"#Exercise:-why-are-the-$\\chi^2$-contours-diagonal-in-slope-vs-intercept?\" data-toc-modified-id=\"Exercise:-why-are-the-$\\chi^2$-contours-diagonal-in-slope-vs-intercept?-5.1.7\"><span class=\"toc-item-num\">5.1.7&nbsp;&nbsp;</span>Exercise: why are the $\\chi^2$ contours diagonal in slope vs intercept?</a></span></li></ul></li><li><span><a href=\"#Using-curve_fit()\" data-toc-modified-id=\"Using-curve_fit()-5.2\"><span class=\"toc-item-num\">5.2&nbsp;&nbsp;</span>Using <em>curve_fit()</em></a></span><ul class=\"toc-item\"><li><span><a href=\"#Caveat-Emptor:-the-dangers-of-local-minima\" data-toc-modified-id=\"Caveat-Emptor:-the-dangers-of-local-minima-5.2.1\"><span class=\"toc-item-num\">5.2.1&nbsp;&nbsp;</span>Caveat Emptor: the dangers of local minima</a></span></li><li><span><a href=\"#curve_fit()-in-practice\" data-toc-modified-id=\"curve_fit()-in-practice-5.2.2\"><span class=\"toc-item-num\">5.2.2&nbsp;&nbsp;</span><em>curve_fit()</em> in practice</a></span></li><li><span><a href=\"#Example:-finding-the-best-slope-with-curve_fit()\" data-toc-modified-id=\"Example:-finding-the-best-slope-with-curve_fit()-5.2.3\"><span class=\"toc-item-num\">5.2.3&nbsp;&nbsp;</span>Example: finding the best slope with <em>curve_fit()</em></a></span></li><li><span><a href=\"#Does-curve_fit()-give-the-same-results-as-brute-force-gridding?\" data-toc-modified-id=\"Does-curve_fit()-give-the-same-results-as-brute-force-gridding?-5.2.4\"><span class=\"toc-item-num\">5.2.4&nbsp;&nbsp;</span>Does <em>curve_fit()</em> give the same results as brute-force gridding?</a></span></li><li><span><a href=\"#Example:-curve_fit()-for-a-slightly-different-model...\" data-toc-modified-id=\"Example:-curve_fit()-for-a-slightly-different-model...-5.2.5\"><span class=\"toc-item-num\">5.2.5&nbsp;&nbsp;</span>Example: <em>curve_fit()</em> for a slightly different model...</a></span></li><li><span><a href=\"#Exercise:-understanding-the-dangers-of-multiple-minima\" data-toc-modified-id=\"Exercise:-understanding-the-dangers-of-multiple-minima-5.2.6\"><span class=\"toc-item-num\">5.2.6&nbsp;&nbsp;</span>Exercise: understanding the dangers of multiple minima</a></span></li></ul></li></ul></li><li><span><a href=\"#Developing-intuition\" data-toc-modified-id=\"Developing-intuition-6\"><span class=\"toc-item-num\">6&nbsp;&nbsp;</span>Developing intuition</a></span><ul class=\"toc-item\"><li><span><a href=\"#A-visual-understanding-of-$\\chi^2$\" data-toc-modified-id=\"A-visual-understanding-of-$\\chi^2$-6.1\"><span class=\"toc-item-num\">6.1&nbsp;&nbsp;</span>A visual understanding of $\\chi^2$</a></span><ul class=\"toc-item\"><li><span><a href=\"#Exercise:-the-$\\chi^2-\\simeq-N$-rule-of-thumb\" data-toc-modified-id=\"Exercise:-the-$\\chi^2-\\simeq-N$-rule-of-thumb-6.1.1\"><span class=\"toc-item-num\">6.1.1&nbsp;&nbsp;</span>Exercise: the $\\chi^2 \\simeq N$ rule of thumb</a></span></li></ul></li><li><span><a href=\"#Beyond-$\\chi^2$:-spotting-suspicious-trends-in-the-residuals\" data-toc-modified-id=\"Beyond-$\\chi^2$:-spotting-suspicious-trends-in-the-residuals-6.2\"><span class=\"toc-item-num\">6.2&nbsp;&nbsp;</span>Beyond $\\chi^2$: spotting suspicious trends in the residuals</a></span></li><li><span><a href=\"#Beyond-$\\chi^2$:-spotting-suspicious-error-bars\" data-toc-modified-id=\"Beyond-$\\chi^2$:-spotting-suspicious-error-bars-6.3\"><span class=\"toc-item-num\">6.3&nbsp;&nbsp;</span>Beyond $\\chi^2$: spotting suspicious error bars</a></span><ul class=\"toc-item\"><li><span><a href=\"#Exercise:-fake-out-your-team\" data-toc-modified-id=\"Exercise:-fake-out-your-team-6.3.1\"><span class=\"toc-item-num\">6.3.1&nbsp;&nbsp;</span>Exercise: fake out your team</a></span></li></ul></li></ul></li><li><span><a href=\"#Big-Picture-Exercise:-fitting-the-fake-Hubble-Constant-data\" data-toc-modified-id=\"Big-Picture-Exercise:-fitting-the-fake-Hubble-Constant-data-7\"><span class=\"toc-item-num\">7&nbsp;&nbsp;</span>Big Picture Exercise: fitting the fake Hubble Constant data</a></span></li></ul></div>"
   ]
  },
  {
   "cell_type": "markdown",
   "metadata": {},
   "source": [
    "### Feedback to week 3 survey and action responses:\n",
    "1. One-third ctudents completed survey - 10% very good or excellent, 40% good, 40% OK,10% poor \n",
    "2. Explain why lecture is important even if same jupyter notebook is used (we will revisit the feedback to have seminar style lecture); theory is addressed more for statistical analysis\n",
    "3. Big picture exercise (BPE) could be too much to do in one lab - spread one BPE over a couple labs (done), removed from today's lecture and next day's lecture\n",
    "4. Fast pace, teaching a lot of python coding - we have plenty of time to revise\n",
    "5. Lecture theatre (no socket, not great camera) - we will communicate with timetabling for next year\n",
    "6. Difficult to catch up everything in the lab - 15 hour module, so expected to work 4 hours per week outside the lab, and lectures\n",
    "7. Lectures repeat the notebook - notebooks are kind of detailed notes as well, that's why followed in lectures, live coding shown and also whiteboards are used. Live coding will be used more in lectures and tutorials.\n"
   ]
  },
  {
   "cell_type": "markdown",
   "metadata": {
    "slideshow": {
     "slide_type": "slide"
    }
   },
   "source": [
    "# Lesson 11:\n",
    "# model fitting II -- what are the optimal model parameters?"
   ]
  },
  {
   "cell_type": "code",
   "execution_count": 4,
   "metadata": {
    "slideshow": {
     "slide_type": "skip"
    }
   },
   "outputs": [
    {
     "name": "stderr",
     "output_type": "stream",
     "text": [
      "/var/folders/cg/ldp5srbn6_3cc82bbxc26ppw0000gn/T/ipykernel_11624/1105276753.py:9: DeprecationWarning: Importing display from IPython.core.display is deprecated since IPython 7.14, please import from IPython display\n",
      "  from IPython.core.display import display, HTML\n"
     ]
    },
    {
     "data": {
      "text/html": [
       "<style>.container { width:90% !important; }</style>"
      ],
      "text/plain": [
       "<IPython.core.display.HTML object>"
      ]
     },
     "metadata": {},
     "output_type": "display_data"
    }
   ],
   "source": [
    "%matplotlib inline\n",
    "#enable plotting inline within the notebook\n",
    "\n",
    "from matplotlib import pyplot as plt\n",
    "\n",
    "plt.rcParams['figure.figsize'] = [15, 10]\n",
    "#make the plots larger -- numbers are x and y, in inches\n",
    "\n",
    "from IPython.core.display import display, HTML\n",
    "display(HTML(\"<style>.container { width:90% !important; }</style>\"))\n",
    "#this just allows me to increase the width of the notebook display"
   ]
  },
  {
   "cell_type": "markdown",
   "metadata": {
    "slideshow": {
     "slide_type": "slide"
    }
   },
   "source": [
    "## Previously on PHYS1201...\n",
    "\n",
    "Last time, we began our look at how we we should fit a model to data. There are three main questions we need to address, and in the previous session we looked at the first one:\n",
    "\n",
    "* **How do we know if a model is \"good enough\"?**\n",
    "\n",
    "    * **We calculate its $\\chi^2$**\n",
    "    * **If the $\\chi^2$ is not too large $\\rightarrow$ the \"p-value\" cannot be too small $\\rightarrow$ the model is not too unlikely $\\rightarrow$ we can accept the model**\n",
    "\n",
    "\n",
    "* If our model has adjustable parameters, how do we find the \"best\" model (i.e. the *optimal* set of parameters)?\n",
    "\n",
    "\n",
    "* How do we determine the uncertainties on our best parameters?\n",
    "\n",
    "In the next three lessons, we will look at each of these questions in turn. \n"
   ]
  },
  {
   "cell_type": "markdown",
   "metadata": {},
   "source": [
    "## Recap: \n",
    "## Goodness-of-fit testing for multiple data points: introducing $\\chi^2$:\n",
    "\n",
    "**How do we test whether our model matches the data acceptably when we have more than one data point?**\n",
    "\n",
    "### Defining the $\\chi^2$ test statistic\n",
    "\n",
    "Far and away the most common test statistic that satisfies these requirements is referred to as $\\chi^2$.\n",
    "\n",
    "* we've got a data set $(x_i, y_i)$ with errors $\\sigma_{i}$, where $i = 1...N$\n",
    "<br><br>\n",
    "* we also have a model, $y_m(x)$, which predicts $y_{m,i}(x_i)$\n",
    "<br><br>\n",
    "* we work out the $\\chi^2$ test statistic as\n",
    "<br><br>\n",
    "$$ \\chi^2 = \\sum_{i=1}^{N} \\frac{\\left(y_i - y_{m,i}\\right)^2}{\\sigma_i^2}$$"
   ]
  },
  {
   "cell_type": "markdown",
   "metadata": {},
   "source": [
    "#### Example: $\\chi^2$ for a straight line model\n",
    "\n",
    "Let's create some fake data from a known model (with errors) and calculate the $\\chi^2$ for the model with respect to the data.\n",
    "\n",
    "Let's keep things really simple and make the model a straight line. We'll also take errors to be drawn from a Gaussian distribution, all with the same standard deviation."
   ]
  },
  {
   "cell_type": "code",
   "execution_count": 5,
   "metadata": {},
   "outputs": [
    {
     "data": {
      "image/png": "[encoded data removed]",
      "text/plain": [
       "<Figure size 1000x800 with 1 Axes>"
      ]
     },
     "metadata": {},
     "output_type": "display_data"
    }
   ],
   "source": [
    "import numpy as np\n",
    "from matplotlib import pyplot as plt\n",
    "import pylab\n",
    "pylab.rcParams['figure.figsize'] = (10.0, 8.0)\n",
    "\n",
    "def chisq(y, sig_y, y_m):\n",
    "    \"\"\"takes model, data and error vectors and calculates the chi2\"\"\"\n",
    "    chi2 = np.sum(((y-y_m)**2.0)/(sig_y**2.0))\n",
    "    return chi2\n",
    "\n",
    "slope = 2.0\n",
    "intercept = 3.0\n",
    "sigma = 2.0\n",
    "\n",
    "x = np.arange(1.0, 20.0, 1.0)\n",
    "y_m = slope*x + intercept\n",
    "#set up the sigmas as a 1-D vector of the same size as x and y\n",
    "sig_y = x*0 + sigma\n",
    "err_y = np.random.normal(0.0, sig_y, x.size)\n",
    "y = y_m + err_y\n",
    "\n",
    "\n",
    "plt.xlim(0, 21.0)\n",
    "plt.xlabel('x')\n",
    "plt.ylabel('y')\n",
    "plt.plot(x, y, color='red', marker='o', markersize=10, linestyle=\"None\")\n",
    "plt.errorbar(x, y, yerr=sig_y, color='red', linestyle=\"None\")\n",
    "plt.plot(x, y_m, color='blue', marker=\"None\", linewidth=5, linestyle=\"-\")\n",
    "chi2 = chisq(y, sig_y, y_m)\n",
    "cstring1 = 'Chi-squared =' + str(np.round(chi2))\n",
    "plt.text(1, 40, cstring1, fontsize=20)\n",
    "plt.show()"
   ]
  },
  {
   "cell_type": "markdown",
   "metadata": {},
   "source": [
    "### Please revise further discussion on $\\chi^2$ and about ** \"Reduced $\\chi^2$\"** from lecture 10 notebook"
   ]
  },
  {
   "cell_type": "code",
   "execution_count": null,
   "metadata": {},
   "outputs": [],
   "source": []
  },
  {
   "cell_type": "code",
   "execution_count": null,
   "metadata": {},
   "outputs": [],
   "source": []
  },
  {
   "cell_type": "markdown",
   "metadata": {
    "slideshow": {
     "slide_type": "slide"
    }
   },
   "source": [
    "## Today on PHYS1201...\n",
    "\n",
    "Today, we will look at the second question.\n",
    "\n",
    "* How do we know if a model is \"good enough\"? \n",
    "\n",
    "\n",
    "* **If our model has adjustable parameters, how do we find the \"best\" model (i.e. the *optimal* set of parameters)?**\n",
    "\n",
    "\n",
    "* How do we determine the uncertainties on our best parameters?"
   ]
  },
  {
   "cell_type": "markdown",
   "metadata": {
    "slideshow": {
     "slide_type": "slide"
    }
   },
   "source": [
    "## Parameter estimation: finding and vetting the \"best\" model\n",
    "\n",
    "### $\\chi^2$ as a goodness-of-fit metric"
   ]
  },
  {
   "cell_type": "markdown",
   "metadata": {
    "slideshow": {
     "slide_type": "slide"
    }
   },
   "source": [
    "We saw last time that, if we have an *exact* model for how we think the data was generated, we can assess the \"goodness-of-fit\" of that model via its $\\chi^2$:\n",
    "\n",
    "$$ \\chi^2 = \\sum_{i=1}^{N} \\frac{\\left(y_i - y_{m,i}\\right)^2}{\\sigma_i^2}$$\n",
    "\n",
    "By \"exact model\", we mean that there are no adjustable parameters."
   ]
  },
  {
   "cell_type": "markdown",
   "metadata": {
    "slideshow": {
     "slide_type": "skip"
    }
   },
   "source": [
    "Of course, if we actually had such a model, we wouldn't need to estimate its parameters -- it doesn't have any! For a fully specified/fixed model, all there is to do is determine its goodness-of-fit. If it's OK, we're done. However..."
   ]
  },
  {
   "cell_type": "markdown",
   "metadata": {
    "slideshow": {
     "slide_type": "fragment"
    }
   },
   "source": [
    "However, in general, the models we use to describe our data are *not* exact: they do have adjustable -- \"free\" -- parameters, and what we're interested in are the values of these parameters."
   ]
  },
  {
   "cell_type": "markdown",
   "metadata": {
    "slideshow": {
     "slide_type": "skip"
    }
   },
   "source": [
    "Just to illustrate that distinction: if we have a set of $(x, y$) data that looks pretty much linear, and all we want to know is whether a model with fixed slope and fixed intercept is a reasonable match to the data, we work out the $\\chi^2$ as above, and then we're done. The model is either accepted or rejected at that point, and that's all there is to do.\n",
    "\n",
    "However, our model may not explicitly specify the exact value of the slope and intercept, i.e. it may just predict the *functional form*, but not the exact *parameters*. In that case, we want the data to give us some sort of \"optimal\" estimates for these parameters, along with estimates for their uncertainties."
   ]
  },
  {
   "cell_type": "markdown",
   "metadata": {
    "slideshow": {
     "slide_type": "slide"
    }
   },
   "source": [
    "### Minimum $\\chi^2$ $\\leftrightarrow$ optimal fit"
   ]
  },
  {
   "cell_type": "markdown",
   "metadata": {
    "slideshow": {
     "slide_type": "fragment"
    }
   },
   "source": [
    "How do we identify the \"optimal\" model, i.e. the set of model parameters that best describes our data?"
   ]
  },
  {
   "cell_type": "markdown",
   "metadata": {
    "slideshow": {
     "slide_type": "fragment"
    }
   },
   "source": [
    "Since $\\chi^2$ is a way to determine the goodness-of-fit of a model, it stands to reason that **the best set of model parameters is that which minimizes $\\chi^2$:**\n",
    "\n",
    "$$ \\chi^2 = \\sum_{i=1}^{N} \\frac{\\left(y_i - y_{m,i}\\right)^2}{\\sigma_i^2}$$"
   ]
  },
  {
   "cell_type": "markdown",
   "metadata": {
    "slideshow": {
     "slide_type": "skip"
    }
   },
   "source": [
    "It can be shown -- but we won't do this here -- that, for a relatively broad category of models and data properties, the model with the minimum $\\chi^2$ is, in fact, the most \"likely\". That is, the $\\chi^2$ is a measure of what's called the \"likelihood\" -- the probability of obtaining the data we actually obtained, under the assumption that the model is correct. "
   ]
  },
  {
   "cell_type": "markdown",
   "metadata": {
    "slideshow": {
     "slide_type": "slide"
    }
   },
   "source": [
    "But if we identify the best model parameters by minimizing $\\chi^2$, is it still OK to use the $\\chi^2$ to test the goodness-of-fit of the model with those parameters?"
   ]
  },
  {
   "cell_type": "markdown",
   "metadata": {
    "slideshow": {
     "slide_type": "fragment"
    }
   },
   "source": [
    "Yes, but we have to correct for the fact that we adjusted the parameters to minimize $\\chi^2$."
   ]
  },
  {
   "cell_type": "markdown",
   "metadata": {
    "slideshow": {
     "slide_type": "slide"
    }
   },
   "source": [
    "### $\\chi^2$ degrees of freedom for models with adjustable parameters"
   ]
  },
  {
   "cell_type": "markdown",
   "metadata": {
    "slideshow": {
     "slide_type": "skip"
    }
   },
   "source": [
    "Then the $\\chi^2$ of the best-fitting model is no longer distributed according to a $\\chi^2$ distribution with $\\nu = N$ degrees of freedom, but according to a $\\chi^2$ distribution with $\\nu = N-M$ degrees of freedom:"
   ]
  },
  {
   "cell_type": "markdown",
   "metadata": {
    "slideshow": {
     "slide_type": "fragment"
    }
   },
   "source": [
    "**If we fit a model with $M$ free parameters to our $N$ data points, the $\\chi^2$ of the best-fitting model follows a  a $\\chi^2$ distribution with $\\nu = N-M$ degrees of freedom.**"
   ]
  },
  {
   "cell_type": "markdown",
   "metadata": {
    "slideshow": {
     "slide_type": "skip"
    }
   },
   "source": [
    "At least qualitatively, this should make intuitive sense. Suppose we want to fit a straight line to 2 data points. Obviously, the best-fitting line will go *exactly* through the points, so for this best-fitting model, we'll have $\\chi^2 = 0$. \n",
    "\n",
    "Sounds like an excellent fit, right? Except, of course, that the apparently \"quality\" of this fit is meaningless. Not matter what data points we actually measured, our best-fitting model would *always* have $\\chi^2=0$. This tells us *nothing* about whether this model is likely to be correct or not!\n",
    "\n",
    "It is clearly wrong to think that this $\\chi^2 = 0$ is \"drawn from a $\\chi^2$ distribution with $\\nu = N=2$ degrees of freedom\". There is no \"freedom\" in this \"fit\" at all -- $\\chi^2$ is identically equal to zero. \n",
    "\n",
    "Our correction deals with this. We would now naively say that the best-fitting $\\chi^2$ is distributed with $\\nu = N-M = 0$ degrees of freedom -- and that would immediately tell us that we're asking a meaningless question! Why? Because all $\\chi^2$ distributions must have $\\nu \\geq 1$! So, with the correction applied, the very act of asking about goodness-of-fit of the model tells us that this is a question that can't be answered.\n",
    "\n",
    "Exactly the same argument holds for other $N$ and $M$."
   ]
  },
  {
   "cell_type": "markdown",
   "metadata": {
    "slideshow": {
     "slide_type": "skip"
    }
   },
   "source": [
    "Incidentally, this \"correction\" should remind us of something: remember the $N-1$ \"correction\" we made in defining the sample standard deviation? \n",
    "\n",
    "Specifically, the sample standard deviation is defined as\n",
    "\n",
    "$$s = \\sqrt{\\frac{1}{N-1} \\sum_{i=1}^{N} (x_i - \\overline{x})^2}.$$ \n",
    "\n",
    "At the time, we noted that the denominator here is $N-1$ rather than $N$ because we had effectively already \"used up\" one of our data points to calculate the sample mean $\\overline{x}$, which is required for calculating the sample standard deviation.\n",
    "\n",
    "This is precisely the same argument. Here, we have effectively \"used up\" $M$ of our data points to determine the best-fitting parameters that are needed to specify all of our $y_{m,i}$ values."
   ]
  },
  {
   "cell_type": "markdown",
   "metadata": {
    "slideshow": {
     "slide_type": "slide"
    }
   },
   "source": [
    "### Putting it all together"
   ]
  },
  {
   "cell_type": "markdown",
   "metadata": {
    "slideshow": {
     "slide_type": "fragment"
    }
   },
   "source": [
    "So, if we're given $N$ data points and have a model with $M$ free parameters, we find and test the \"optimal\" model as follows:\n",
    "<br>    \n",
    "* adjust all $M$ parameters simultaneously until $\\chi^2$ is minimized\n",
    "<br><br>      \n",
    "* the set of parameters the minimizes $\\chi^2$ defines the optimal model\n",
    "<br><br>    \n",
    "* if the model is correct, this mininum $\\chi^2$ is a number drawn from a $\\chi^2$ distribution with $\\nu = N - M$\n",
    "<br><br>    \n",
    "* the goodness-of-fit of the optimal model can thus be determined from the value of its $\\chi^2$:\n",
    "<br><br>    \n",
    "    * If the model has $\\chi^2 >> N-M$ the model is a poor fit to the data\n",
    "<br><br>\n",
    "    * If $\\chi^2 << N-M$, our errors must be wrong\n",
    "<br><br>\n",
    "    * If $\\chi^2 \\simeq N-M$, the model is an acceptable fit\n",
    "<br><br>    \n",
    "* the statements above can be quantified by the p-values associated with the $\\chi^2$ distribution"
   ]
  },
  {
   "cell_type": "markdown",
   "metadata": {
    "slideshow": {
     "slide_type": "slide"
    }
   },
   "source": [
    "### Aside: the weighted mean as a $\\chi^2$ fit\n",
    "\n",
    "The best-fitting model to a data set is that which minimizes $\\chi^2$: \n",
    "\n",
    "$$ \\chi^2 = \\sum_{i=1}^{N} \\frac{\\left(y_i - y_{m,i}\\right)^2}{\\sigma_i^2}$$"
   ]
  },
  {
   "cell_type": "markdown",
   "metadata": {
    "slideshow": {
     "slide_type": "fragment"
    }
   },
   "source": [
    "So what if our model is simply a constant, $y_m = C$?\n",
    "\n",
    "It can be shown that, in this case, *the value of $C$ that minimizes $\\chi^2$ is, in fact, the weighted mean*.\n",
    "\n",
    "**The weighted mean can be thought of the result of fitting a constant to the date via a $\\chi^2$ fit.**"
   ]
  },
  {
   "cell_type": "markdown",
   "metadata": {
    "slideshow": {
     "slide_type": "skip"
    }
   },
   "source": [
    "#### Exercise: the weighted mean as a $\\chi^2$ fit with a constant\n",
    "\n",
    "We are not going to prove this assertion about the weighted mean here, but you might want to try doing this for yourself. The way to do this is to set $y_m = C$ in the definition for $\\chi^2$ above and then differentiate $\\chi^2$ with respect to $C$. For such a simple model, this is pretty straightforward. The value of $C$ that corresponds to the minimum $\\chi^2$ is then that for which $d\\chi^2/dC = 0$. You should find that this is, in fact, the weighted mean."
   ]
  },
  {
   "cell_type": "markdown",
   "metadata": {
    "slideshow": {
     "slide_type": "slide"
    }
   },
   "source": [
    "## Finding the best-fitting model with *Python*"
   ]
  },
  {
   "cell_type": "markdown",
   "metadata": {
    "slideshow": {
     "slide_type": "skip"
    }
   },
   "source": [
    "OK, we now understand how to find and test the optimal parameters for a model *in principle*, but how do we do it *in practice*?"
   ]
  },
  {
   "cell_type": "markdown",
   "metadata": {
    "slideshow": {
     "slide_type": "fragment"
    }
   },
   "source": [
    "The main challenge here is how we go about finding the set of model parameters that minimizes $\\chi^2$.\n",
    "\n",
    "Basically, we have two options:\n",
    "\n",
    "1. brute-force gridding\n",
    "    * calculate $\\chi^2$ for each model on an $M$-dimensional grid over our parameter space\n",
    "<br><br>\n",
    "2. analytical and/or numerical minimization\n",
    "    * use derivatives (and/or trial and error) to move \"downhill\" towards the minimium"
   ]
  },
  {
   "cell_type": "markdown",
   "metadata": {
    "slideshow": {
     "slide_type": "skip"
    }
   },
   "source": [
    "When $M$ is not too large (say $M \\lesssim 5$), brute-force gridding is often the best thing to do. It's totally robust, never falls into local minima (see below), and, if we plot the results, always gives us a nice visual picture of whether the problem we're trying to solve is easy or complex, and how good our solution is. For example, if our grid produces a really \"jagged-looking\" set of $\\chi^2$ curves, then our grid resolution is probably not good enough, and/or the $\\chi^2$ depends very awkwardly/sensitively on the model parameters.\n",
    "\n",
    "However, if we have a lot of parameters to optimize, brute-force gridding becomes impossible. For example, suppose our model has 10 parameters. Even a relatively rough grid will presumably have to sample something like 10 values for each, say. But that already means we need to evaluate our model $10^{10}$ times, i.e. we need to work out 10 billion $\\chi^2$ numbers. This is usually to expensive. In these cases, we need to rely on something cleverer than brute force gridding.\n",
    "\n",
    "Luckily, there is a convenient *dedicated* function for this kind of model fitting problem which is also part of *scipy.optimize*. It's called *curve_fit()*, and it will be our implementation of choice for this alternative way of finding the best model.\n",
    "\n",
    "Let's take a look at both options, gridding and *curve_fit()*. We'll start with gridding."
   ]
  },
  {
   "cell_type": "markdown",
   "metadata": {
    "slideshow": {
     "slide_type": "slide"
    }
   },
   "source": [
    "### Brute-force gridding"
   ]
  },
  {
   "cell_type": "markdown",
   "metadata": {
    "slideshow": {
     "slide_type": "skip"
    }
   },
   "source": [
    "The simplest and often best way to find optimal model parameters is to calculate models and their $\\chi^2$ for a large set of model parameters, typically on a regular grid in parameter space. \n",
    "\n",
    "This works well as long as the number of parameters isn't too large: if we want to have at least $P$ grid points for each parameter, the total number of grid points we need is $P^M$. Even for a relatively coarse grid (say $P \\simeq 10$) and a relatively modest number of parameters (say $M \\simeq 5$), the required number of models can become very large (e.g. $100,000$ in our example)."
   ]
  },
  {
   "cell_type": "markdown",
   "metadata": {
    "slideshow": {
     "slide_type": "fragment"
    }
   },
   "source": [
    "#### Example: 1-D -- fitting the slope of a line\n",
    "\n",
    "We're given a set of $N$ data points, $(x_i, y_i)$ which we think lie on a straight line with known intercept. We want to know if this is a reasonable description of the data and, if so, obtain an optimal estimate of the slope.\n",
    "\n",
    "    [animation 1 -- download code from Blackboard]"
   ]
  },
  {
   "cell_type": "markdown",
   "metadata": {
    "slideshow": {
     "slide_type": "skip"
    }
   },
   "source": [
    "In this example, we indeed obtain a \"good fit\" -- i.e. $\\chi^2_\\nu \\simeq 1$ -- and, reassuringly, the  best-fitting slope is close to the true slope (which we know in this case because we created the data).\n",
    "\n",
    "It's also interesting that the shape of the $\\chi^2$ vs slope curve looks like a simple parabola. We won't prove this here, but this is no coincidence. For linear models with Gaussian errors, $\\chi^2$ is *always* a quadratic function. That's quite reassuring, because parabolas have only one minimum. So we see that, for this type of model, there really is always a single, unique, \"best-fit\" parameter set."
   ]
  },
  {
   "cell_type": "markdown",
   "metadata": {
    "slideshow": {
     "slide_type": "skip"
    }
   },
   "source": [
    "#### Aside: What do we mean  by \"linear models\"?"
   ]
  },
  {
   "cell_type": "markdown",
   "metadata": {
    "slideshow": {
     "slide_type": "skip"
    }
   },
   "source": [
    "We should be clear here what we mean by \"linear model\". When this term is used in the statistics literature, it usually does *not* mean a model that's a straight line. Rather, it means a model that is *linear in the model parameters*.\n",
    "\n",
    "It's easiest to understand this by example. Consider the following polynomial:\n",
    "\n",
    "$$y = a_0 + a_1 x + a_2 x^2 + a_3 x^3$$\n",
    "\n",
    "This is obviously not a linear function, but if the free parameters of the fit are $a_0, a_1, a_2$ and $a_3$, it *is* a linear model! Why? Because the model depends on the parameters in a linear way.\n",
    "\n",
    "This applies not just to polynomials, but to *any* type of function. So, for example, the model\n",
    "\n",
    "$$y = a_0 + a_1 \\sin(x) + a_2 e^{2x} + a_3 \\log{x^3}$$\n",
    "\n",
    "is also a linear model if the parameters we are fitting for are the $a_i$.\n",
    "\n",
    "Conversely, the model \n",
    "\n",
    "$$y = a_0 + e^{a_1 x} + \\log{x^{a_2}}$$\n",
    "\n",
    "is *not* linear, because it depends non-linearly on two of its parameters ($a_1$ and $a_2$)."
   ]
  },
  {
   "cell_type": "markdown",
   "metadata": {
    "slideshow": {
     "slide_type": "skip"
    }
   },
   "source": [
    "Linear models are a bit special mathematically, mainly because they can actually be solved analytically. More specifically, the solution to the $\\chi^2$ minimization problem for a linear model can in principle be written as a \"simple\" set of algebraic equations and solved efficiently with matrix methods. \n",
    "\n",
    "However, none of this really needs to concern us here for the moment. The fitting algorithms we will mostly be relying on work just fine for both linear and non-linear models. The only real advantage in using algorithms specifically designed for linear models when dealing with linear models is that they are much faster. But for the sort of data sets most of us encounter day-in/day-out, this is an almost meaningless advantage. If our data set contains 100 points, or even 1000 points, then the difference in computational speed is entirely irrelevant -- even a slow algorithm will be far faster in solving this than it takes us to write the code to solve it.\n",
    "\n",
    "However, it is worth at least being aware of what linear models are and what's different about them. For example, non-linear models are where we might have to start worrying about our $\\chi^2$ vs parameter function having more than one minimum. Also, as we'll see in the next session, estimates for the errors on our best-fitting parameter estimates can be harder to obtain for non-linear models (at least in principle)."
   ]
  },
  {
   "cell_type": "markdown",
   "metadata": {
    "slideshow": {
     "slide_type": "skip"
    }
   },
   "source": [
    "#### Exercise: fitting the slope of a line with brute-force gridding\n",
    "\n",
    "Experiment with the animation code for the example above -- try different numbers of data points, different size error bars, different slopes, different intercepts, different step sizes in the slope grid. For each test, make sure to inspect the fits and the $\\chi^2$ vs slope curve. You should be able to develop some intuition by doing this..."
   ]
  },
  {
   "cell_type": "markdown",
   "metadata": {
    "slideshow": {
     "slide_type": "skip"
    }
   },
   "source": [
    "#### Exercise: fitting the wrong line\n",
    "\n",
    "Test the sensitivity of the best-fitting slope to the intercept. Specifically, set the intercept when you do the $\\chi^2$ fits to the *wrong* value. That is, if the intercept with which you generate the data is, say, $b = 10$, fit the data with models that have, say, $b = 5$ (but freely variable slope). Does the fit still find a minimum? Is it still a good fit visually? Statistically? Is the derived slope still correct? Can you understand why or why not?"
   ]
  },
  {
   "cell_type": "markdown",
   "metadata": {
    "slideshow": {
     "slide_type": "slide"
    }
   },
   "source": [
    "#### Do $\\chi^2$ values really follow a $\\chi^2$ distribution?"
   ]
  },
  {
   "cell_type": "markdown",
   "metadata": {
    "slideshow": {
     "slide_type": "skip"
    }
   },
   "source": [
    "It would be nice to check that the distribution of the best-fitting $\\chi^2$ values is really a $\\chi^2$ distribution with $\\nu = N - M$. This assumption underlies the whole goodness-of-fit testing idea, so it would be important to verify it. In particular, it would be great if we could confirm that the distribution really is that with $\\nu = N-M$ degrees of freedom, not that with $\\nu = N$."
   ]
  },
  {
   "cell_type": "markdown",
   "metadata": {
    "slideshow": {
     "slide_type": "fragment"
    }
   },
   "source": [
    "Let's do this:\n",
    "\n",
    "* we'll create 10,000 straight-line mock data sets\n",
    "* each mock data set will contan $N_{dat} = 6$ data points\n",
    "* we'll fit each of these with a straight-line model\n",
    "    * we'll fix the intercept to the correct value\n",
    "    * we'll let the slope be our free parameter\n",
    "* for each of these fits, we'll store the $\\chi^2$ value of the best fit (i.e. the minimum $\\chi^2$)\n",
    "* finally we'll plot a histogram of those values and compare that to a $\\chi^2$ distribution with $\\nu = N_{data} - 1$ degrees of freedom"
   ]
  },
  {
   "cell_type": "markdown",
   "metadata": {
    "slideshow": {
     "slide_type": "fragment"
    }
   },
   "source": [
    "    [animation 2 -- download code from Blackboard]"
   ]
  },
  {
   "cell_type": "markdown",
   "metadata": {
    "slideshow": {
     "slide_type": "slide"
    }
   },
   "source": [
    "#### Example: 2-D -- fitting the slope and intercept of a line\n",
    "\n",
    "We're given a set of $N$ data points, $(x_i, y_i)$ which we think lie on a straight line with unknown slope and intercept. We want to know if this is a reasonable description of the data and, if so, obtain an optimal estimate of the slope and intercept.\n",
    "\n",
    "\n",
    "     [animation 3 -- download code from Blackboard]"
   ]
  },
  {
   "cell_type": "markdown",
   "metadata": {
    "slideshow": {
     "slide_type": "skip"
    }
   },
   "source": [
    "#### Exercise: why are the $\\chi^2$ contours diagonal in slope vs intercept?\n",
    "\n",
    "One interesting aspect of this little simulation is that the $\\chi^2$ map we've just plotted cuts diagonally across parameter space. We will take a closer look at this important feature in the next session. For the moment, have a think about what this means and what it is telling you. You should be able to figure out why this is happening by looking carefully at the fits themselves as we go across the slope-intercept plane. You may also want to see if you can create a data set for which the $\\chi^2$ map is *not* diagonal."
   ]
  },
  {
   "cell_type": "markdown",
   "metadata": {
    "slideshow": {
     "slide_type": "slide"
    }
   },
   "source": [
    "### Using *curve_fit()*"
   ]
  },
  {
   "cell_type": "markdown",
   "metadata": {
    "slideshow": {
     "slide_type": "skip"
    }
   },
   "source": [
    "Now let's take a look at how we can use the *curve_fit()* function within *scipy.optimize* in order to obtain the best-fitting set of model parameters.\n",
    "\n",
    "For the moment, we only care about using *curve_fit()* in order to find the minimum $\\chi^2$ set of model parameters for some model $y_m = f(x)$, given a data set $(x_i, y_i)$ with errors $\\sigma_i$ on the $y$-values."
   ]
  },
  {
   "cell_type": "markdown",
   "metadata": {
    "slideshow": {
     "slide_type": "fragment"
    }
   },
   "source": [
    "The function *curve_fit()* uses the so-called \"Levenberg-Marquardt\" (LM) algorithm to find the minimum in $\\chi^2$. "
   ]
  },
  {
   "cell_type": "markdown",
   "metadata": {
    "slideshow": {
     "slide_type": "skip"
    }
   },
   "source": [
    "The LM algorithm is a fairly clever and sophisticated numerical minimimzation technique that uses local derivatives to efficiently move \"downhill\". The details need not concern us here, but..."
   ]
  },
  {
   "cell_type": "markdown",
   "metadata": {
    "slideshow": {
     "slide_type": "slide"
    }
   },
   "source": [
    "#### Caveat Emptor: the dangers of local minima"
   ]
  },
  {
   "cell_type": "markdown",
   "metadata": {
    "slideshow": {
     "slide_type": "fragment"
    }
   },
   "source": [
    "Like essentially all such algorithms, LM can \"get stuck\" in local minima.\n",
    "\n",
    "\n",
    "<center>\n",
    "<img  width=50% height=50% src='locmin.png'>\n",
    "</center>"
   ]
  },
  {
   "cell_type": "markdown",
   "metadata": {
    "slideshow": {
     "slide_type": "skip"
    }
   },
   "source": [
    "If this is a worry for a problem at hand, it can be a good idea to run a brute-force grid first. Even if this cannot be done at the sort of resolution in parameter space we really want, it can give us piece of mind about the dependence of $\\chi^2$ on the parameters being non-pathological -- or, if it is pathological, at least it tells us this and gives us an idea of where to start our search. \n",
    "\n",
    "If a grid is entirely impractical, then at least it makes sense to start the LM algorithm multiple times in different regions of parameter space. If it always returns the same answer, then *perhaps* we're OK. If it doesn't, well, then at least we know the best solution found so far -- and we also know that perhaps we ought to think about our problem further and make sure we understand why the parameter dependence is so complex."
   ]
  },
  {
   "cell_type": "markdown",
   "metadata": {
    "slideshow": {
     "slide_type": "slide"
    }
   },
   "source": [
    "#### *curve_fit()* in practice"
   ]
  },
  {
   "cell_type": "markdown",
   "metadata": {
    "slideshow": {
     "slide_type": "fragment"
    }
   },
   "source": [
    "The basic syntax for *curve_fit()* is \n",
    "\n",
    "    curve_fit(f, xdata, ydata, sigma, p0, absolute_sigma)\n",
    "\n",
    "\n",
    "<br><br>\n",
    "\n",
    "INPUTS:\n",
    "\n",
    "    f              = the function defining the model we wish to optimize\n",
    "\n",
    "    xdata          = the data $x_i$ values\n",
    "\n",
    "    ydata          = the data $y_i$ values\n",
    "\n",
    "    sigma          = the errors on the $y_i$ values\n",
    "\n",
    "    p0             = the starting point for the fit\n",
    "\n",
    "    absolute_sigma = a boolean telling the code how to deal with the errors\n",
    "\n",
    "\n",
    "\n",
    "<br><br>\n",
    "\n",
    "RETURN VALUES:\n",
    "\n",
    "    popt           = the set of parameters corresponding to the minimum chi-squared\n",
    "    \n",
    "    pcov           = the covariance matrix of the parameters"
   ]
  },
  {
   "cell_type": "markdown",
   "metadata": {
    "slideshow": {
     "slide_type": "skip"
    }
   },
   "source": [
    "The only input parameters that perhaps need further explanation here are p0 and absolute_sigma.\n",
    "\n",
    "The parameter p0 is actually very easy to understand. The code has to start at some particular point in parameter space, and p0 defines that point. As we discussed above, what we adopt for this should only matter a lot if the dependence of $\\chi^2$ on the parameters is \"tricky\", and specifically if there are local minima.\n",
    "\n",
    "The parameter absolute_sigma is a flag that tells the code whether we really trust our errors (absolute_sigma = True) or whether we do not trust them (absolute_sigma = False). We'll discuss this parameter a lot more in the next session, where we discuss how to derive the uncertainties on our model. For the moment, we won't worry about this and always set absolute_sigma = True. (*Note, however, that absolute_sigma = False is the default*)\n",
    "\n",
    "The only output parameter that is probably confusing is pcov. This effectively provides error estimates on our model parameters. This is something we'll look at in detail in the next session, but it doesn't concern us here.\n",
    "\n",
    "One other thing to note here is that *curve_fit()* does *not* provide an estimate of the minimum $\\chi^2$. If we want that -- and we **always** want that -- we need to calculate it ourselves.\n",
    "\n",
    "Let's first see just how easy it is to use *curve_fit()*."
   ]
  },
  {
   "cell_type": "markdown",
   "metadata": {
    "slideshow": {
     "slide_type": "slide"
    }
   },
   "source": [
    "#### Example: finding the best slope with *curve_fit()*"
   ]
  },
  {
   "cell_type": "code",
   "execution_count": 6,
   "metadata": {
    "hideCode": false,
    "scrolled": true,
    "slideshow": {
     "slide_type": "slide"
    }
   },
   "outputs": [
    {
     "name": "stdout",
     "output_type": "stream",
     "text": [
      "Best-fitting slope =  1.978593555541858\n",
      "Corresponding Chi^2 =  73.88329796158656\n",
      "Corresponding Reduced Chi^2 = 0.9352316197669185\n"
     ]
    }
   ],
   "source": [
    "import matplotlib.pyplot as plt\n",
    "import numpy as np\n",
    "import scipy.optimize as opt\n",
    "import pylab\n",
    "pylab.rcParams['figure.figsize'] = (15.0, 10.0)\n",
    "#turn interactive plotting mode on\n",
    "plt.ioff()\n",
    "\n",
    "def func(x, slope):\n",
    "    \"\"\"calculates the model\"\"\"\n",
    "    line = intercept + slope*x\n",
    "    #IMPORTANT: intercept is not a fit parameter!\n",
    "    #func() knows its value only because it is defined\n",
    "    #in the calling program, i.e. we are using it as a\n",
    "    #global variable here. As you know, I am not\n",
    "    #very keen on globals, but this is the simplest \n",
    "    #way to make curve_fit() work when the function\n",
    "    #uses additional parameters that we'd like to define\n",
    "    #in the calling program, not within func() itself\n",
    "    #(there are other, more elegant, but also more complex\n",
    "    #ways to achieve this)\n",
    "    return line\n",
    "\n",
    "\n",
    "#set up the fake data\n",
    "slope = 2.0\n",
    "intercept = 10.0\n",
    "sigma = 5.0\n",
    "x = np.arange(0.0, 20.0, 0.25)\n",
    "y_m = slope*x + intercept\n",
    "#set up the sigmas as a 1-D vector of the same size as x and y\n",
    "sig_y = x*0 + sigma\n",
    "err_y = np.random.normal(0.0, sig_y, x.size)\n",
    "y = y_m + err_y\n",
    "dof = len(x)-1.0 #the number of degrees of freedom; M = 1 -- slope\n",
    "\n",
    "\n",
    "#now find the best model with curve_fit\n",
    "start_slope = 5.0 #this is our starting parameter for the LM algorithm\n",
    "best_slope, dummy = opt.curve_fit(f=func, xdata=x, ydata=y, \n",
    "                                  sigma=sig_y, p0=start_slope,\n",
    "                                  absolute_sigma=True)\n",
    "\n",
    "#let's quickly work out the min chisq\n",
    "y_best = best_slope*x + intercept \n",
    "best_chi2 = np.sum(((y-y_best)**2.0)/(sig_y**2.0))\n",
    "\n",
    "\n",
    "print('Best-fitting slope = ', best_slope[0])\n",
    "print('Corresponding Chi^2 = ', best_chi2)\n",
    "print('Corresponding Reduced Chi^2 =', best_chi2/dof)"
   ]
  },
  {
   "cell_type": "markdown",
   "metadata": {
    "slideshow": {
     "slide_type": "slide"
    }
   },
   "source": [
    "#### Does *curve_fit()* give the same results as brute-force gridding?"
   ]
  },
  {
   "cell_type": "markdown",
   "metadata": {
    "slideshow": {
     "slide_type": "fragment"
    }
   },
   "source": [
    "Do the results produced by *curve_fit()* agree with our grid-based method?\n",
    " \n",
    "     [animation 4 -- download code from Blackboard]"
   ]
  },
  {
   "cell_type": "markdown",
   "metadata": {
    "slideshow": {
     "slide_type": "slide"
    }
   },
   "source": [
    "What about the case where we are fitting for both slope and intercept?\n",
    "\n",
    "    [animation 5 -- download code from Blackboard]                              "
   ]
  },
  {
   "cell_type": "markdown",
   "metadata": {
    "slideshow": {
     "slide_type": "skip"
    }
   },
   "source": [
    "Let's take a look at a final example, which is pretty interesting and instructive."
   ]
  },
  {
   "cell_type": "markdown",
   "metadata": {
    "slideshow": {
     "slide_type": "slide"
    }
   },
   "source": [
    "#### Example: *curve_fit()* for a slightly different model...\n",
    "\n",
    "Let's create a fake data set from the function\n",
    "\n",
    "$$y = 3 + 0.15 x + \\sin{x}$$\n",
    "\n",
    "We'll then try to fit this with a model specified as \n",
    "\n",
    "$$f = 3 + 0.15 (x - a) + \\sin{(x-a)}$$ \n",
    "\n",
    "where $a$ is the model parameter we wish to determine. \n",
    "\n",
    "     [animation 6 -- download code from Blackboard]                              "
   ]
  },
  {
   "cell_type": "markdown",
   "metadata": {
    "collapsed": true,
    "jupyter": {
     "outputs_hidden": true
    },
    "slideshow": {
     "slide_type": "skip"
    }
   },
   "source": [
    "(Obviously, the correct answer here is $a = 0$.)"
   ]
  },
  {
   "cell_type": "markdown",
   "metadata": {
    "slideshow": {
     "slide_type": "skip"
    }
   },
   "source": [
    "This is an example of *curve_fit()*  going badly wrong! \n",
    "\n",
    "Our grid-based approach shows us very clearly that $\\chi^2(a)$ does, in fact, have multiple minima here, and the LM algorithm implemented in *curve_fit()* falls into the local minimum without so much as a hint of something going wrong.\n",
    "\n",
    "Actually, that's not true: there are lots of hints! Most obvious is the fact that the \"best\" model returned by *curve_fit* is clearly a **terrible** match to the data. In line with this, it produces a **terrible** $\\chi^2$, i.e. $\\chi^2_{\\nu,min} >> 1$.\n",
    "\n",
    "Once again, we learn the same lesson we've learned many times: \n",
    "\n",
    "**Always -- *ALWAYS* -- inspect your data and your model**. \n",
    "\n",
    "Never trust some number just because a computer program returned it. \n",
    "\n",
    "**Always -- *ALWAYS* -- sanity check *EVERYTHING***."
   ]
  },
  {
   "cell_type": "markdown",
   "metadata": {
    "slideshow": {
     "slide_type": "skip"
    }
   },
   "source": [
    "Incidentally, in this particular example, the existence of multiple minima in $\\chi^2(a)$ is related to the existence of multiple minima in $y(x)$. *This is not the only mechanism that can produce multiple minima in $\\chi^2$!* It is just a particularly nice and simple example, but not all such problems are this obvious!"
   ]
  },
  {
   "cell_type": "markdown",
   "metadata": {
    "slideshow": {
     "slide_type": "skip"
    }
   },
   "source": [
    "#### Exercise: understanding the dangers of multiple minima\n",
    "\n",
    "Make sure you understand what is happening in the example above. Do you know why the value for $a$ returned by *curve_fit()* is what it is? Would *curve_fit()* produce the right answer if we started it with $a_{start} = 3$? What if we started it with $a_{start} = -10$?"
   ]
  },
  {
   "cell_type": "markdown",
   "metadata": {
    "slideshow": {
     "slide_type": "slide"
    }
   },
   "source": [
    "## Developing intuition"
   ]
  },
  {
   "cell_type": "markdown",
   "metadata": {
    "slideshow": {
     "slide_type": "skip"
    }
   },
   "source": [
    "Even though we've now developed a whole bunch of machinery for interpreting and/or modelling data, all the machinery in the world doesn't necessarily give us any *intuition* about what is happening? \n",
    "\n",
    "Is it possible to tell *at a glance* whether a fit to some data is terrible or good? Whether the errors that come with a data set are plausible?\n",
    "\n",
    "The answer to these question is yes, and it isn't even all that difficult. Yet it's arguably one of the most important skills we can develop as scientists!"
   ]
  },
  {
   "cell_type": "markdown",
   "metadata": {
    "slideshow": {
     "slide_type": "fragment"
    }
   },
   "source": [
    "### A visual understanding of $\\chi^2$"
   ]
  },
  {
   "cell_type": "markdown",
   "metadata": {
    "slideshow": {
     "slide_type": "skip"
    }
   },
   "source": [
    "Let's think about $\\chi^2$ for a moment. "
   ]
  },
  {
   "cell_type": "markdown",
   "metadata": {
    "slideshow": {
     "slide_type": "fragment"
    }
   },
   "source": [
    "The $\\chi^2$ of a model with respect to the data is given by:\n",
    "\n",
    "$$ \\chi^2 = \\sum_{i=1}^{N} \\frac{\\left(y_i - y_{m,i}\\right)^2}{\\sigma_i^2}$$"
   ]
  },
  {
   "cell_type": "markdown",
   "metadata": {
    "slideshow": {
     "slide_type": "fragment"
    }
   },
   "source": [
    "If the model is \"good\", we expect that:\n",
    "\n",
    "$$\\chi^2 \\simeq N - M.$$"
   ]
  },
  {
   "cell_type": "markdown",
   "metadata": {
    "slideshow": {
     "slide_type": "skip"
    }
   },
   "source": [
    "Let's remember what we mean by \"the model is good\": we mean that each $y_i$ was, in fact, a random draw from a (probably Gaussian) distribution centered on $y_m$ and with variance $\\sigma_i^2$. Such \"true\" models will typically produce $\\chi^2 \\simeq N - M$."
   ]
  },
  {
   "cell_type": "markdown",
   "metadata": {
    "slideshow": {
     "slide_type": "fragment"
    }
   },
   "source": [
    "Most of the time, we have quite a few more data points than model parameters, i.e.:\n",
    "\n",
    "$$N >> M$$\n",
    "\n",
    "So, usually, a good model is expected to yield \n",
    "\n",
    "$$\\chi^2 \\simeq N.$$"
   ]
  },
  {
   "cell_type": "markdown",
   "metadata": {
    "slideshow": {
     "slide_type": "slide"
    }
   },
   "source": [
    "Let's summarize this:\n",
    "\n",
    "$$ \\chi^2 = \\sum_{i=1}^{N} \\frac{\\left(y_i - y_{m,i}\\right)^2}{\\sigma_i^2} \\simeq N$$"
   ]
  },
  {
   "cell_type": "markdown",
   "metadata": {
    "slideshow": {
     "slide_type": "skip"
    }
   },
   "source": [
    "But hang on, the series defining the $\\chi^2$ has exactly $N$ terms, and we're expecting that, typically, for a good model, the sum of all those terms will be $N$!"
   ]
  },
  {
   "cell_type": "markdown",
   "metadata": {
    "slideshow": {
     "slide_type": "fragment"
    }
   },
   "source": [
    "* There are $N$ terms in the series\n",
    "<br><br>\n",
    "* If the model is good, all $N$ terms will sum to $\\simeq N$\n",
    "<br><br>\n",
    "* So each term typically contributes unity: $ \\left(y_i - y_{m,i}\\right)^2/\\sigma_i^2 \\simeq 1$\n",
    "<br><br>\n",
    "* So, for a good model, we typically have $(y_i - y_{m,i}) \\simeq \\sigma_i$"
   ]
  },
  {
   "cell_type": "markdown",
   "metadata": {
    "slideshow": {
     "slide_type": "fragment"
    }
   },
   "source": [
    "<span style=\"margin:auto; display:table; font-size:110%; font-weight:bold\">\n",
    "A good model typically misses each data point by about 1$\\sigma$.\n",
    "</span>"
   ]
  },
  {
   "cell_type": "markdown",
   "metadata": {
    "slideshow": {
     "slide_type": "skip"
    }
   },
   "source": [
    "Of course, it's important to remember that our data are *random* and that each data point is (usually) *independent*. So we only expect this *typically*, *on average*. Indeed, we know, for example, that typically 1 in every 20 points will be missed by 2$\\sigma$. This sort of extra \"miss\" is \"paid for\" by some points that the model fits *better* than 1$\\sigma$.\n",
    "\n",
    "However, this simple rule of thumb is incredibly useful and allows us to instantly get a sense of whether a model is plausible or not. \n",
    "\n",
    "* If it misses every data point by 2$\\sigma$, it's $\\chi^2$ must be terrible, and it's a poor fit.\n",
    "<br><br>\n",
    "* If it misses every data point by 0.1$\\sigma$, it's $\\chi^2$ must be way too good to be true: our errors must be wrong.\n"
   ]
  },
  {
   "cell_type": "markdown",
   "metadata": {
    "slideshow": {
     "slide_type": "skip"
    }
   },
   "source": [
    "#### Exercise: the $\\chi^2 \\simeq N$ rule of thumb\n",
    "\n",
    "Go back to the various examples above and confirm for yourself that this rule of thumb is, in fact, sensible and correct."
   ]
  },
  {
   "cell_type": "markdown",
   "metadata": {
    "slideshow": {
     "slide_type": "slide"
    }
   },
   "source": [
    "### Beyond $\\chi^2$: spotting suspicious trends in the residuals\n",
    "\n",
    "Let's take another look at our simple slope-fitting example:\n",
    "\n",
    "     [animation 7  -- download code from Blackboard]"
   ]
  },
  {
   "cell_type": "markdown",
   "metadata": {
    "slideshow": {
     "slide_type": "skip"
    }
   },
   "source": [
    "What do we think of this? The $\\chi^2$ comes out pretty much exactly as expected for a good model, so I guess we should accept this model, right? **Wrong!**\n",
    "\n",
    "Let's repeat this thing, but this time we'll also plot the *residuals*:"
   ]
  },
  {
   "cell_type": "markdown",
   "metadata": {
    "slideshow": {
     "slide_type": "fragment"
    }
   },
   "source": [
    "     [animation 8 -- download code from Blackboard]"
   ]
  },
  {
   "cell_type": "markdown",
   "metadata": {
    "slideshow": {
     "slide_type": "skip"
    }
   },
   "source": [
    "Do you notice anything suspicious about this? \n",
    "\n",
    "A close look should convince you that our best-fitting model has a strange pattern in the residuals!\n",
    "\n",
    "Specifically, the model seems to *underpredict* most of the points at the left, and *overpredict* most of the points on the right!"
   ]
  },
  {
   "cell_type": "markdown",
   "metadata": {
    "slideshow": {
     "slide_type": "skip"
    }
   },
   "source": [
    "What happened?\n",
    "\n",
    "Well, I cheated. In this fit, I intentionally modelled the data with the *wrong* model -- I assumed an incorrect intercept for our straight line fit. In particularly, I set wrong_ inter = 0, instead of intercept = 10.  As a result, the best-fitting model needed an artificially high slope in order to go through most of the data points at all, but of course it still missed those at the extreme ends of the distribution."
   ]
  },
  {
   "cell_type": "markdown",
   "metadata": {
    "slideshow": {
     "slide_type": "skip"
    }
   },
   "source": [
    "You  might wonder why this model nevertheless produced such a good $\\chi^2$.\n",
    "\n",
    "Well, I cheated again. I intentionally specified error bars for the fit that were larger than the actual ones that affected the data. \n",
    "\n",
    "If this seems like a silly scenario -- i.e. something \"out there\" or \"pathological\" that you'll never encounter in real life -- think again. \n",
    "\n",
    "Let's be honest: how often do we know our error bars with really high accuracy? In the example above, I artifically inflated the error bars by a factor 1.45. This example was chosen to be reasonably obvious -- and yet, do we really always know our errors to better than 50%?"
   ]
  },
  {
   "cell_type": "markdown",
   "metadata": {
    "slideshow": {
     "slide_type": "skip"
    }
   },
   "source": [
    "There are formal statistical tests designed to discover this sort of problem, but they are rarely applied in practice. We won't bother introducing these here, but instead focus on the basic lesson this example teaches us: "
   ]
  },
  {
   "cell_type": "markdown",
   "metadata": {
    "slideshow": {
     "slide_type": "skip"
    }
   },
   "source": [
    "**If our data points are independent, and our model is correct, we should not expect any \"patterns\" in the residuals.**"
   ]
  },
  {
   "cell_type": "markdown",
   "metadata": {
    "slideshow": {
     "slide_type": "skip"
    }
   },
   "source": [
    "The most common type of residual structure to look out for are runs of positive or negative residuals extending over many data points.\n",
    "\n",
    "This type of residual structure is quite often associated with important features in the data and/or model, in which case it implies that this feature is not well described by the model.\n",
    "\n",
    "This, in turn, implies that the parameters describing this feature are likely to be uncertain -- more uncertain than their formal errors would suggest!"
   ]
  },
  {
   "cell_type": "markdown",
   "metadata": {
    "slideshow": {
     "slide_type": "skip"
    }
   },
   "source": [
    "Is it necessary to spell out our more general conclusion at this point again? Well, OK: \n",
    "\n",
    "**Always -- *ALWAYS* -- inspect your data and your model**. \n",
    "\n",
    "**Always -- *ALWAYS* -- sanity check *EVERYTHING***."
   ]
  },
  {
   "cell_type": "markdown",
   "metadata": {
    "collapsed": true,
    "jupyter": {
     "outputs_hidden": true
    },
    "slideshow": {
     "slide_type": "slide"
    }
   },
   "source": [
    "### Beyond $\\chi^2$: spotting suspicious error bars"
   ]
  },
  {
   "cell_type": "markdown",
   "metadata": {
    "collapsed": true,
    "jupyter": {
     "outputs_hidden": true
    },
    "slideshow": {
     "slide_type": "skip"
    }
   },
   "source": [
    "Consider the following three plots:"
   ]
  },
  {
   "cell_type": "code",
   "execution_count": 7,
   "metadata": {
    "hidePrompt": false,
    "slideshow": {
     "slide_type": "fragment"
    }
   },
   "outputs": [
    {
     "data": {
      "image/png": "[encoded data removed]",
      "text/plain": [
       "<Figure size 1500x1000 with 3 Axes>"
      ]
     },
     "metadata": {},
     "output_type": "display_data"
    }
   ],
   "source": [
    "import matplotlib.pyplot as plt\n",
    "import numpy as np\n",
    "import time as time\n",
    "import pylab\n",
    "pylab.rcParams['figure.figsize'] = (15.0, 10.0)\n",
    "#turn interactive plotting mode off\n",
    "\n",
    "\n",
    "\n",
    "#set up the fake data\n",
    "slope = 2.0\n",
    "intercept = 10.0\n",
    "sigma = 5.0\n",
    "x = np.arange(0.0, 20.0, 0.25)\n",
    "y_m = slope*x + intercept\n",
    "#set up the sigmas as a 1-D vector of the same size as x and y\n",
    "sig_y = x*0 + sigma\n",
    "err_y = np.random.normal(0.0, sig_y, x.size)\n",
    "y = y_m + err_y\n",
    "\n",
    "plt.subplot(3,1,1)\n",
    "plt.xlabel('x')\n",
    "plt.ylabel('y')\n",
    "plt.plot(x, y, color='red', marker='o', markersize=5, linestyle=\"None\")\n",
    "plt.errorbar(x, y, yerr=0.5*sig_y, color=\"red\", linewidth=2, linestyle=\"None\")\n",
    "plt.axis([0, 20, -5, 70])\n",
    "\n",
    "plt.subplot(3,1,2)\n",
    "plt.xlabel('x')\n",
    "plt.ylabel('y')\n",
    "plt.plot(x, y, color='red', marker='o', markersize=5, linestyle=\"None\")\n",
    "plt.errorbar(x, y, yerr=1.0*sig_y, color=\"red\", linewidth=2, linestyle=\"None\")\n",
    "plt.axis([0, 20, -5, 70])\n",
    "\n",
    "plt.subplot(3,1,3)\n",
    "plt.xlabel('x')\n",
    "plt.ylabel('y')\n",
    "plt.plot(x, y, color='red', marker='o', markersize=5, linestyle=\"None\")\n",
    "plt.errorbar(x, y, yerr=2*sig_y, color=\"red\", linewidth=2, linestyle=\"None\")\n",
    "plt.axis([0, 20, -5, 70])\n",
    "plt.show()"
   ]
  },
  {
   "cell_type": "markdown",
   "metadata": {
    "slideshow": {
     "slide_type": "skip"
    }
   },
   "source": [
    "All of these plots show exactly the same (mock) data, but only one shows it with error bars that actually correspond to the uncertainties we assumed in creating the data. \n",
    "\n",
    "I hope we would all agree that the middle plot looks intuitively \"right\". "
   ]
  },
  {
   "cell_type": "markdown",
   "metadata": {
    "slideshow": {
     "slide_type": "slide"
    }
   },
   "source": [
    "* the error bars in the top plot look \"too small\"\n",
    "<br><br>\n",
    "* the error bars in the bottom plot look \"too big\"\n",
    "<br><br>\n",
    "* the error bars in the middle plot look \"just right\""
   ]
  },
  {
   "cell_type": "markdown",
   "metadata": {
    "slideshow": {
     "slide_type": "fragment"
    }
   },
   "source": [
    "**But how can we possibly feel that way without knowing what the underlying model is?**"
   ]
  },
  {
   "cell_type": "markdown",
   "metadata": {
    "slideshow": {
     "slide_type": "skip"
    }
   },
   "source": [
    "The more you think about this, the more bizarre it should seem: there are no \"residuals\" to inspect here, because you need a model to have residuals! \n",
    "\n",
    "Isn't it perfectly reasonable that the error bars in the top plot could be right? Or the ones in the bottom plot?"
   ]
  },
  {
   "cell_type": "markdown",
   "metadata": {
    "slideshow": {
     "slide_type": "skip"
    }
   },
   "source": [
    "We suspect there is something wrong in the top plot **because we intuitively assume that the data are drawn from a \"smooth\" model**.\n",
    "\n",
    "More specifically, we intuitively assume that the data we're given **resolves** any interesting structure in the underlying model. \n",
    "\n",
    "This is usually true: if it weren't, our data arguably isn't very useful in the first place...\n",
    "\n",
    "If that's the case, then we shouldn't expect successive data points to \"jump around\" by much more than their error bars. Roughly speaking, neighboring points should have similar true values, so they should differ from each other by roughly their errors.\n",
    "\n",
    "Yet another way of putting this is that neighboring data points are usually pretty good \"models\" for each other..."
   ]
  },
  {
   "cell_type": "markdown",
   "metadata": {
    "slideshow": {
     "slide_type": "skip"
    }
   },
   "source": [
    "Similarly, we suspect there is something wrong in the bottom plot, **because neighboring data points agree much too well with each other**. \n",
    "\n",
    "If each data point is really independent, then even if the data resolves all interesting structures, we expect neighboring data points to \"jump around\" by roughly their error bars. \n",
    "\n",
    "If they jump around a lot less than that, then either the errors are wrong or the points are not independent."
   ]
  },
  {
   "cell_type": "markdown",
   "metadata": {
    "slideshow": {
     "slide_type": "fragment"
    }
   },
   "source": [
    "**<center>\n",
    "In a \"resolved\" data set with correct error bars, we expect that roughly 4 out of 5 neighboring points should have overlapping error bars**\n",
    "</center>\n",
    "\n",
    "**<center>\n",
    "Regardless of resolution, if our data points are independent, at least around 1 in 5 neighboring points should NOT have overlapping error bars.**\n",
    "</center>"
   ]
  },
  {
   "cell_type": "markdown",
   "metadata": {
    "slideshow": {
     "slide_type": "skip"
    }
   },
   "source": [
    "These simple rules of thumb are really powerful. The trick here is not to memorize the \"4 in 5\" or \"1 in 5\" rule, but to get a *visual* \"feel\" for what correct and incorrect errors look like."
   ]
  },
  {
   "cell_type": "markdown",
   "metadata": {
    "slideshow": {
     "slide_type": "skip"
    }
   },
   "source": [
    "#### Exercise: fake out your team\n",
    "\n",
    "This is a team exercise. Each member of your team should create a fake data set with either correct or incorrect error bars. The data doesn't have to be linear. It could be a sine-wave, an exponential, a power law, or whatever you want. Post a plot of your data and the data itself on the MS Teams site for your group. Each team member should then try and decide whether a given data set has correct or incorrect error bars, by either looking at the plot provided or by playing around with the actual data."
   ]
  }
 ],
 "metadata": {
  "celltoolbar": "Slideshow",
  "hide_input": false,
  "kernelspec": {
   "display_name": "Python 3 (ipykernel)",
   "language": "python",
   "name": "python3"
  },
  "language_info": {
   "codemirror_mode": {
    "name": "ipython",
    "version": 3
   },
   "file_extension": ".py",
   "mimetype": "text/x-python",
   "name": "python",
   "nbconvert_exporter": "python",
   "pygments_lexer": "ipython3",
   "version": "3.12.6"
  },
  "latex_envs": {
   "bibliofile": "biblio.bib",
   "cite_by": "apalike",
   "current_citInitial": 1,
   "eqLabelWithNumbers": true,
   "eqNumInitial": 0
  },
  "toc": {
   "base_numbering": 1,
   "nav_menu": {},
   "number_sections": true,
   "sideBar": true,
   "skip_h1_title": true,
   "title_cell": "Table of Contents",
   "title_sidebar": "Contents",
   "toc_cell": true,
   "toc_position": {},
   "toc_section_display": true,
   "toc_window_display": false
  }
 },
 "nbformat": 4,
 "nbformat_minor": 4
}
