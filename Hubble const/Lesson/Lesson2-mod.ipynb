{
 "cells": [
  {
   "cell_type": "markdown",
   "metadata": {
    "toc": true
   },
   "source": [
    "<h1>Table of Contents<span class=\"tocSkip\"></span></h1>\n",
    "<div class=\"toc\"><ul class=\"toc-item\"><li><span><a href=\"#what-the-%*&amp;#-is-an-algorithm?\" data-toc-modified-id=\"what-the-%*&amp;#-is-an-algorithm?-1\"><span class=\"toc-item-num\">1&nbsp;&nbsp;</span>what the %*&amp;# is an algorithm?</a></span><ul class=\"toc-item\"><li><span><a href=\"#algorithms:-general,-concise-and-step-by-step-instructions\" data-toc-modified-id=\"algorithms:-general,-concise-and-step-by-step-instructions-1.1\"><span class=\"toc-item-num\">1.1&nbsp;&nbsp;</span>algorithms: general, concise and step-by-step instructions</a></span><ul class=\"toc-item\"><li><span><a href=\"#why-general?-why-concise?-why-step-by-step?\" data-toc-modified-id=\"why-general?-why-concise?-why-step-by-step?-1.1.1\"><span class=\"toc-item-num\">1.1.1&nbsp;&nbsp;</span>why general? why concise? why step-by-step?</a></span></li></ul></li></ul></li><li><span><a href=\"#programming-is-easy:-the-3-simple-building-blocks-of-algorithms\" data-toc-modified-id=\"programming-is-easy:-the-3-simple-building-blocks-of-algorithms-2\"><span class=\"toc-item-num\">2&nbsp;&nbsp;</span>programming is easy: the 3 simple building blocks of algorithms</a></span><ul class=\"toc-item\"><li><ul class=\"toc-item\"><li><ul class=\"toc-item\"><li><span><a href=\"#Exercise-(during-lecture):-programming-a-human-computer\" data-toc-modified-id=\"Exercise-(during-lecture):-programming-a-human-computer-2.1\"><span class=\"toc-item-num\">2.1&nbsp;&nbsp;</span>Exercise (during lecture): programming a human computer</a></span></li><li><span><a href=\"#Exercise-(during-lecture):-from-sentences-to-bullet-points\" data-toc-modified-id=\"Exercise-(during-lecture):-from-sentences-to-bullet-points-2.2\"><span class=\"toc-item-num\">2.2&nbsp;&nbsp;</span>Exercise (during lecture): from sentences to bullet points</a></span></li><li><span><a href=\"#Exercise-(during-lecture):-from-bullet-points-to-pseudo-code\" data-toc-modified-id=\"Exercise-(during-lecture):-from-bullet-points-to-pseudo-code-2.3\"><span class=\"toc-item-num\">2.3&nbsp;&nbsp;</span>Exercise (during lecture): from bullet points to pseudo code</a></span></li></ul></li></ul></li></ul></li><li><span><a href=\"#pseudo-code:-a--tool-for-designing-algorithms\" data-toc-modified-id=\"pseudo-code:-a--tool-for-designing-algorithms-3\"><span class=\"toc-item-num\">3&nbsp;&nbsp;</span>pseudo-code: a  tool for designing algorithms</a></span></li><li><span><a href=\"#more-than-one-way-to-skin-a-cat\" data-toc-modified-id=\"more-than-one-way-to-skin-a-cat-4\"><span class=\"toc-item-num\">4&nbsp;&nbsp;</span>more than one way to skin a cat</a></span></li><li><span><a href=\"#top-down-vs-bottom-up\" data-toc-modified-id=\"top-down-vs-bottom-up-5\"><span class=\"toc-item-num\">5&nbsp;&nbsp;</span>top-down vs bottom-up</a></span><ul class=\"toc-item\"><li><span><a href=\"#top-down\" data-toc-modified-id=\"top-down-5.1\"><span class=\"toc-item-num\">5.1&nbsp;&nbsp;</span>top-down</a></span></li><li><span><a href=\"#bottom-up\" data-toc-modified-id=\"bottom-up-5.2\"><span class=\"toc-item-num\">5.2&nbsp;&nbsp;</span>bottom-up</a></span></li></ul></li><li><span><a href=\"#Exercises-for-today's-lab-session\" data-toc-modified-id=\"Exercises-for-today's-lab-session-6\"><span class=\"toc-item-num\">6&nbsp;&nbsp;</span>Exercises for today's lab session</a></span><ul class=\"toc-item\"><li><ul class=\"toc-item\"><li><ul class=\"toc-item\"><li><span><a href=\"#Exercise:-the-sorting-pseudo-code-revisited\" data-toc-modified-id=\"Exercise:-the-sorting-pseudo-code-revisited-6.1\"><span class=\"toc-item-num\">6.1&nbsp;&nbsp;</span>Exercise: the sorting pseudo-code revisited</a></span></li><li><span><a href=\"#Exercise:-finding-the-smallest-number\" data-toc-modified-id=\"Exercise:-finding-the-smallest-number-6.2\"><span class=\"toc-item-num\">6.2&nbsp;&nbsp;</span>Exercise: finding the smallest number</a></span></li><li><span><a href=\"#Exercise:-printing-the-Fibonacci-sequence\" data-toc-modified-id=\"Exercise:-printing-the-Fibonacci-sequence-6.3\"><span class=\"toc-item-num\">6.3&nbsp;&nbsp;</span>Exercise: printing the Fibonacci sequence</a></span></li><li><span><a href=\"#Exercise:-baking-a-batch-of-cookies\" data-toc-modified-id=\"Exercise:-baking-a-batch-of-cookies-6.4\"><span class=\"toc-item-num\">6.4&nbsp;&nbsp;</span>Exercise: baking a batch of cookies</a></span></li><li><span><a href=\"#Exercise:-working-out-student-marks\" data-toc-modified-id=\"Exercise:-working-out-student-marks-6.5\"><span class=\"toc-item-num\">6.5&nbsp;&nbsp;</span>Exercise: working out student marks</a></span></li><li><span><a href=\"#Exercise:-playing-tic-tac-toe\" data-toc-modified-id=\"Exercise:-playing-tic-tac-toe-6.6\"><span class=\"toc-item-num\">6.6&nbsp;&nbsp;</span>Exercise: playing tic-tac-toe</a></span></li><li><span><a href=\"#Exercise:-integration\" data-toc-modified-id=\"Exercise:-integration-6.7\"><span class=\"toc-item-num\">6.7&nbsp;&nbsp;</span>Exercise: integration</a></span></li></ul></li></ul></li></ul></li></ul></div>\n",
    "\n",
    "<li><span><a href=\"#Big-Picture-Exercise\" data-toc-modified-id=\"Big-Picture-Exercise-1\"><span class=\"toc-item-num\">7&nbsp;&nbsp;</span>Big Picture Exercise</a></span></li><li><span><a href=\"#Data-Types\" data-toc-modified-id=\"Data-Types-4\"><span class=\"toc-item-num\">8&nbsp;&nbsp;</span>Data Types</a></span><ul class=\"toc-item\"><li><span><a href=\"#Numbers\" data-toc-modified-id=\"Numbers-8.1\"><span class=\"toc-item-num\">8.1&nbsp;&nbsp;</span>Numbers</a></span><ul class=\"toc-item\"><li><span><a href=\"#Floats-and-Ints\" data-toc-modified-id=\"Floats-and-Ints-8.1.1\"><span class=\"toc-item-num\">8.1.1&nbsp;&nbsp;</span>Floats and Ints</a></span></li></ul></li><li><span><a href=\"#Sequences-(aka-&quot;Iterables&quot;)\" data-toc-modified-id=\"Sequences-(aka-&quot;Iterables&quot;)-8.2\"><span class=\"toc-item-num\">8.2&nbsp;&nbsp;</span>Sequences (aka \"Iterables\")</a></span><ul class=\"toc-item\"><li><span><a href=\"#Strings\" data-toc-modified-id=\"Strings-8.2.1\"><span class=\"toc-item-num\">8.2.1&nbsp;&nbsp;</span>Strings</a></span></li><li><span><a href=\"#Lists\" data-toc-modified-id=\"Lists-8.2.2\"><span class=\"toc-item-num\">8.2.2&nbsp;&nbsp;</span>Lists</a></span></li><li><span><a href=\"#Tuples\" data-toc-modified-id=\"Tuples-8.2.3\"><span class=\"toc-item-num\">8.2.3&nbsp;&nbsp;</span>Tuples</a></span></li><li><span><a href=\"#Exercise:-Swapping-with-and-without-tuples\" data-toc-modified-id=\"Exercise:-Swapping-with-and-without-tuples-8.2.4\"><span class=\"toc-item-num\">8.2.4&nbsp;&nbsp;</span>Exercise: Swapping with and without tuples</a></span></li></ul></li><li><span><a href=\"#Logicals,-aka-booleans\" data-toc-modified-id=\"Logicals,-aka-booleans-8.3\"><span class=\"toc-item-num\">8.3&nbsp;&nbsp;</span>Logicals, aka booleans</a></span><ul class=\"toc-item\"><li><span><a href=\"#Exercise:-Messing-with-booleans\" data-toc-modified-id=\"Exercise:-Messing-with-booleans-8.3.1\"><span class=\"toc-item-num\">8.3.1&nbsp;&nbsp;</span>Exercise: Messing with booleans</a></span></li><li><span><a href=\"#Exercise:-Confuse-your-neighbour\" data-toc-modified-id=\"Exercise:-Confuse-your-neighbour-8.3.2\"><span class=\"toc-item-num\">8.3.2&nbsp;&nbsp;</span>Exercise: Confuse your neighbour</a></span></li><li><span><a href=\"#Exercise:-Comparing-different-types?\" data-toc-modified-id=\"Exercise:-Comparing-different-types?-8.3.3\"><span class=\"toc-item-num\">8.3.3&nbsp;&nbsp;</span>Exercise: Comparing different types?</a></span></li><li><span><a href=\"#Exercise:-Operators\" data-toc-modified-id=\"Exercise:-Operators-8.3.4\"><span class=\"toc-item-num\">8.3.4&nbsp;&nbsp;</span>Exercise: Operators</a></span></li></ul></li></ul></li><li><span><a href=\"#Conditionals\" data-toc-modified-id=\"Conditionals-9\"><span class=\"toc-item-num\">9&nbsp;&nbsp;</span>Conditionals</a></span><ul class=\"toc-item\"><li><span><a href=\"#if-else\" data-toc-modified-id=\"if-else-9.1\"><span class=\"toc-item-num\">9.1&nbsp;&nbsp;</span>if-else</a></span><ul class=\"toc-item\"><li><span><a href=\"#Exercise:-conditionals\" data-toc-modified-id=\"Exercise:-conditionals-9.1.1\"><span class=\"toc-item-num\">9.1.1&nbsp;&nbsp;</span>Exercise: conditionals</a></span></li></ul></li><li><span><a href=\"#if-elif-else\" data-toc-modified-id=\"if-elif-else-9.2\"><span class=\"toc-item-num\">9.2&nbsp;&nbsp;</span>if-elif-else</a></span><ul class=\"toc-item\"><li><span><a href=\"#Exercise:--Predict-the-output-I\" data-toc-modified-id=\"Exercise:--Predict-the-output-I-9.2.1\"><span class=\"toc-item-num\">9.2.1&nbsp;&nbsp;</span>Exercise:  Predict the output I</a></span></li><li><span><a href=\"#Exercise:-Predict-the-output-II\" data-toc-modified-id=\"Exercise:-Predict-the-output-II-9.2.2\"><span class=\"toc-item-num\">9.2.2&nbsp;&nbsp;</span>Exercise: Predict the output II</a></span><ul class=\"toc-item\"><li><span><a href=\"#Indentation-matters-in-Python\" data-toc-modified-id=\"Indentation-matters-in-Python-9.2.1\"><span class=\"toc-item-num\">9.2.2.1&nbsp;&nbsp;</span>Indentation matters in Python</a></span></li></ul></li></ul></li></ul></li><li><span><a href=\"#Loops\" data-toc-modified-id=\"Loops-10\"><span class=\"toc-item-num\">10&nbsp;&nbsp;</span>Loops</a></span><ul class=\"toc-item\"><li><span><a href=\"#for-loops\" data-toc-modified-id=\"for-loops-10.1\"><span class=\"toc-item-num\">10.1&nbsp;&nbsp;</span>for-loops</a></span><ul class=\"toc-item\"><li><span><a href=\"#The-range()-function\" data-toc-modified-id=\"The-range()-function-10.1.1\"><span class=\"toc-item-num\">10.1.1&nbsp;&nbsp;</span>The range() function</a></span></li></ul></li><li><span><a href=\"#while-loops\" data-toc-modified-id=\"while-loops-10.2\"><span class=\"toc-item-num\">10.2&nbsp;&nbsp;</span>while-loops</a></span></li><li><span><a href=\"#Breaking-out-of-loops\" data-toc-modified-id=\"Breaking-out-of-loops-10.3\"><span class=\"toc-item-num\">10.3&nbsp;&nbsp;</span>Breaking out of loops</a></span></li><li><span><a href=\"#Jumping-to-the-next-iteration\" data-toc-modified-id=\"Jumping-to-the-next-iteration-10.4\"><span class=\"toc-item-num\">10.4&nbsp;&nbsp;</span>Jumping to the next iteration</a></span><ul class=\"toc-item\"><li><span><a href=\"#Exercise:-Checking-the-types-of-list-elements\" data-toc-modified-id=\"Exercise:-Checking-the-types-of-list-elements-10.4.1\"><span class=\"toc-item-num\">10.4.1&nbsp;&nbsp;</span>Exercise: Checking the types of list elements</a></span></li><li><span><a href=\"#Exercise(s):-Looping-until-you-can't-loop-anymore\" data-toc-modified-id=\"Exercise(s):-Looping-until-you-can't-loop-anymore-10.4.2\"><span class=\"toc-item-num\">10.4.2&nbsp;&nbsp;</span>Exercise(s): Looping until you can't loop anymore</a></span></li></ul></li></ul></li><li><span><a href=\"#Reminder:-Big-Picture-Exercise\" data-toc-modified-id=\"Reminder:-Big-Picture-Exercise-11\"><span class=\"toc-item-num\">11&nbsp;&nbsp;</span>Reminder: Big Picture Exercise</a></span></li></ul></div>\n"
   ]
  },
  {
   "cell_type": "code",
   "execution_count": null,
   "metadata": {},
   "outputs": [],
   "source": []
  },
  {
   "cell_type": "markdown",
   "metadata": {
    "code_folding": [],
    "slideshow": {
     "slide_type": "slide"
    }
   },
   "source": [
    "# Lesson 2: \n",
    "# algorithmic thinking"
   ]
  },
  {
   "cell_type": "markdown",
   "metadata": {
    "slideshow": {
     "slide_type": "slide"
    }
   },
   "source": [
    "## what is an algorithm?\n",
    "\n",
    "Programming is really just a way to tell a computer how to solve a problem. \n",
    "\n",
    "But you need to give them very clear step-by-step instructions for problem solving - \n",
    "\n",
    "Computer science equivalent of cooking recipes.\n",
    "\n",
    "These instructions are called *algorithms*.\n",
    "\n",
    "<img src=algorithm-def.png height=\"50%\">"
   ]
  },
  {
   "cell_type": "markdown",
   "metadata": {
    "slideshow": {
     "slide_type": "slide"
    }
   },
   "source": [
    "### algorithms: general, concise and step-by-step instructions\n",
    "\n",
    "Here is a slightly more specific definition of what we mean by an *algorithm* in the context of programming:\n",
    "\n",
    "* a **general** yet **concise** set of **step-by-step** instructions for solving a problem or executing a task\n"
   ]
  },
  {
   "cell_type": "markdown",
   "metadata": {
    "slideshow": {
     "slide_type": "fragment"
    }
   },
   "source": [
    "Algorithms are the computer-science equivalent of cooking recipes..."
   ]
  },
  {
   "cell_type": "markdown",
   "metadata": {
    "slideshow": {
     "slide_type": "slide"
    }
   },
   "source": [
    "#### why general? why concise? why step-by-step?\n",
    "\n",
    "Suppose we need to sort some lists. The specific one we're currently considering is \n",
    "\n",
    "    66, 538, 37, 101, 40, 77\n",
    "\n",
    "* Why **general**?\n",
    "\n",
    "    Consider the following set of instructions:\n",
    "\n",
    "        \"Take the 37 and put it in front\"   \n",
    "        \"Then take the 40 and put it next\"      \n",
    "        ...   \n",
    "        \"Then take the 538 and put it last\"   \n",
    "   \n",
    "    This is a rubbish algorithm: If we replace or add even one number, the algorithm falls apart.   "
   ]
  },
  {
   "cell_type": "markdown",
   "metadata": {
    "slideshow": {
     "slide_type": "slide"
    }
   },
   "source": [
    "* Why **concise**?\n",
    "\n",
    "    Consider the following set of instructions:\n",
    "    \n",
    "        Compare the first and second numbers and swap them if needed\n",
    "        Compare the second and third numbers and swap them if needed\n",
    "        ...\n",
    "        Compare the fifth and sixth numbers and swap them if needed\n",
    "        \n",
    "    This is a rubbish algorithm: It's really just a single instruction repeated a number of times. \n",
    "    \n",
    "    Why not just say:\n",
    "    \n",
    "        Repeat the following for each successive pair of numbers:\n",
    "           Compare their values and swap them if needed\n",
    "     \n",
    "    This is more tractable and more general!  "
   ]
  },
  {
   "cell_type": "markdown",
   "metadata": {
    "slideshow": {
     "slide_type": "slide"
    }
   },
   "source": [
    "* Why **step-by-step**?\n",
    "\n",
    "    Consider the following set of instructions:\n",
    "    \n",
    "        Rearrange the list so that it is ordered from smallest to largest\n",
    "        \n",
    "    This is a rubbish algorithm: It's an instruction, but it doesn't actually help us to break down the task into clear, managable pieces"
   ]
  },
  {
   "cell_type": "markdown",
   "metadata": {
    "slideshow": {
     "slide_type": "slide"
    }
   },
   "source": [
    "## programming is easy: the 3 simple building blocks of algorithms\n",
    "\n",
    "In essence, all algorithms (and hence all computer programs) rely on just three basic building blocks:\n",
    "\n",
    "1.  specific actions \n",
    "    * in programming this is usually just an *assignment*, e.g.\n",
    "        * *x = 3* \n",
    "        * *y = x+5* \n",
    "2. conditionals\n",
    "    * only do action B if condition A is met, e.g. \n",
    "        * *if A is true, then do B*\n",
    "3. loops\n",
    "    * repeat some action(s) multiple times, e.g. \n",
    "        * *do B 100 times*\n",
    "        * *while A is true keep doing B*"
   ]
  },
  {
   "cell_type": "markdown",
   "metadata": {
    "slideshow": {
     "slide_type": "skip"
    }
   },
   "source": [
    "That's it. All computer programs are basically just sequences of these simple elements. They can *look* complicated, perhaps because the *syntax* of the programming language may be unfamiliar to us or because the program may be doing lots of these things in a very convoluted order. But, in the end, this is still all that is happening."
   ]
  },
  {
   "cell_type": "markdown",
   "metadata": {
    "slideshow": {
     "slide_type": "slide"
    }
   },
   "source": [
    "##### Exercise (during lecture or lab): programming a human computer\n",
    "\n",
    "We will divide you all into small teams of 3-5 people for a few minutes. In each team, one of you -- whoever volunteers first -- will be \"The Computer\", the rest of you will be \"The Programmers\". \n",
    "\n",
    "**The goal of this exercise will be for \"The Programmers\" to program \"The Computer\" to sort a sequence of numbers into ascending order.**\n",
    "\n",
    "Here are the detailed rules and instructions -- everybody should read both sets of them:\n",
    "\n",
    "\n",
    "**Rules about and Instructions for \"The Computer\"**\n",
    "\n",
    "\n",
    "* Write down 10 numbers between 0 and 1000 on 10 separate small pieces of paper in front of you. Arrange them in a line, in random order and turn them over so you cannot see them.\n",
    "\n",
    "\n",
    "* You will receive instructions from \"The Programmers\"\n",
    "    * act like a real computer, i.e. be maximally annoying by taking their instructions literally\n",
    "    * don't try to \"interpret\" what \"The Programmers\" may have meant -- just do exactly what they say\n",
    "\n",
    "\n",
    "* You can only \"look at\" (i.e. turn over) one number at a time\n",
    "\n",
    "\n",
    "* You can only \"remember\" (\"store in memory\") one other number at the same time\n",
    "   * You do not remember the position of the stored number in the list \n",
    "\n",
    "\n",
    "* You cannot tell \"The Programmers\" the actual value of any numbers\n",
    "\n",
    "\n",
    "* You can, however, compare the two numbers you are currently aware of \n",
    "    * the one you've just turned over \n",
    "    * and the one you have \"stored\" \n",
    "    \n",
    "    \n",
    "* You can report to \"The Programmer\" the outcome of that comparison (i.e. which one is larger)\n",
    "\n",
    "\n",
    "* You can also do things like \"move the current number up a place\", \"put the current number in position 1\" etc\n",
    "\n",
    "\n",
    "**Instructions for \"The Programmers\"**\n",
    "\n",
    "* **Program \"The Computer\" to sort their list of numbers into ascending order**\n",
    "    * i.e. give \"The Computer\" a sequence of clear, unambiguous instructions \n",
    "    * the instructions have to follow the rules \n",
    "    * they should end up producing a sorted list\n",
    "    * you should explicitly state when you think you are done\n",
    "\n",
    "\n",
    "* Given the Rules above, your instructions can be things like \n",
    "    * look at the 3rd number in the list\n",
    "    * store that value\n",
    "    * look at the 7th number in the list\n",
    "    * if that number is smaller than the stored value, put the current number in position 5\n",
    "\n",
    "\n",
    "* Time permitting, try to make your instructions more general and concise:\n",
    "    * can you avoid talking about each look/swap individually (e.g. by using loops)?\n",
    "    * can you phrase your instructions so they'll work even if you don't know how many numbers there are?"
   ]
  },
  {
   "cell_type": "markdown",
   "metadata": {
    "slideshow": {
     "slide_type": "slide"
    }
   },
   "source": [
    "##### Exercise (during lecture or lab): from sentences to bullet points\n",
    "\n",
    "Write down a bullet-point instruction set based on the previous exercise, specifically using the building blocks we mentioned above. \n",
    "\n",
    "   * specific actions\n",
    "       * e.g. \"move this card to position N\"\n",
    "       * e.g. \"swap these two cards\"\n",
    "       * note that it has to be clear from your instructions *which* cards...\n",
    "       * note also that an action could be to *store* (\"remember\") things\n",
    "           * e.g. \"set marker = N\" \n",
    "               * --> maybe the variable \"marker\" then tells you that your list is sorted up to position N\n",
    "   * conditions\n",
    "       * e.g. \"if the number on *this* card is larger than the number on *that* card, do something\"\n",
    "       * again, make sure to be clear about *which* cards we're talking about...\n",
    "   * loops\n",
    "       * e.g. \"repeat all of this until some condition is met\", or \"repeat this 10 times\"\n",
    "       * make sure that any condition you use here is clear"
   ]
  },
  {
   "cell_type": "markdown",
   "metadata": {
    "slideshow": {
     "slide_type": "slide"
    }
   },
   "source": [
    "##### Exercise (during lecture or lab): from bullet points to pseudo code\n",
    "\n",
    "Take your last set of bullet-point instructions and try to rewrite them using the following rules:\n",
    "\n",
    "* write all of your conditionals using indention and colons like this:\n",
    "\n",
    "        if (A > B):\n",
    "            command 1\n",
    "            command 2           \n",
    "        else:\n",
    "            command 3\n",
    "            \n",
    "* similarly, write all of your loops like this:\n",
    "\n",
    "        while (A < B):\n",
    "            command 1\n",
    "            command 2\n",
    "\n",
    "\n",
    "* or like this:\n",
    "\n",
    "        for (each number in the list):\n",
    "           command 1\n",
    "           command\n",
    "           "
   ]
  },
  {
   "cell_type": "markdown",
   "metadata": {
    "slideshow": {
     "slide_type": "fragment"
    }
   },
   "source": [
    "In all of the above, \"command\" could be any of the following:\n",
    "\n",
    "* an action (e.g. \"swap the two cards\")\n",
    "* a(nother) conditional\n",
    "* a(nother) loop\n",
    "\n",
    "If a loop/conditional is needed *inside* of another loop/conditional, then indent it twice (or however many times is appropriate)."
   ]
  },
  {
   "cell_type": "markdown",
   "metadata": {
    "slideshow": {
     "slide_type": "slide"
    }
   },
   "source": [
    "## pseudo-code: a  tool for designing algorithms"
   ]
  },
  {
   "cell_type": "markdown",
   "metadata": {
    "slideshow": {
     "slide_type": "fragment"
    }
   },
   "source": [
    "I suspect that most of us originally ended up with an instruction set something like this:\n",
    "\n",
    "<br>\n",
    "        \n",
    "        while (the list is not yet sorted):\n",
    "            for (each number in the list):\n",
    "                if (this card > next card):\n",
    "                    swap the two cards\n"
   ]
  },
  {
   "cell_type": "markdown",
   "metadata": {
    "slideshow": {
     "slide_type": "skip"
    }
   },
   "source": [
    "Something like this is called \"**pseudo-code**\"\n",
    "\n",
    "It's a way of outlining an algorithm using control structures and indentation that are common to effectively all programming languages.\n",
    "\n",
    "Hopefully you can see why this is useful:\n",
    "\n",
    "* it's much easier to think about the problem and design the basic algorithm using pseudo-code than using \"real\" code\n",
    "    * we don't have to worry about details (syntax, variable names, function calls, etc)\n",
    "    * the idea is to just get the basic *logic* of what we need to do clear in our heads \n",
    "    \n",
    "* once we have a pseudo-code that we think is right, translating it into actual code should be fairly straightfoward"
   ]
  },
  {
   "cell_type": "markdown",
   "metadata": {
    "slideshow": {
     "slide_type": "slide"
    }
   },
   "source": [
    "Let's look at the pseudo-code above once again. The first line was:\n",
    "<br>\n",
    "        \n",
    "        while (the list is not yet sorted):\n",
    "\n",
    "\n",
    "That sounds fine, except ***how will our code actually know whether the list is sorted yet or not***?"
   ]
  },
  {
   "cell_type": "markdown",
   "metadata": {
    "slideshow": {
     "slide_type": "fragment"
    }
   },
   "source": [
    "This is an example where we might get stuck in our design because it's so tempting to think of the computer as \"smart\", but...\n",
    "* **always remember that computers are stupid**\n",
    "\n",
    "Computers required *detailed*, *step-by-step* instructions for just about any task. \n",
    "\n",
    "We can make those instructions *concise* (with loops, conditionals etc), but they have to be hyper-specific."
   ]
  },
  {
   "cell_type": "markdown",
   "metadata": {
    "slideshow": {
     "slide_type": "slide"
    }
   },
   "source": [
    "So, what about that pseudo code? How can we make sure our list is fully sorted at the end?\n",
    "\n",
    "Well, one way is to simply keep going over the list and doing swaps *until we reach the point where no more swaps are being done*.\n",
    "\n",
    "We then also need to record somehow whether/when that has happened. We can do this by setting a variable to some special value. Such variables are sometimes called \"flags\", and they are often just things that store whether something is \"True\" or \"False\" (at this point)."
   ]
  },
  {
   "cell_type": "markdown",
   "metadata": {
    "slideshow": {
     "slide_type": "fragment"
    }
   },
   "source": [
    "        set already_sorted = False\n",
    "        #making sure that we go through the loop at least once...\n",
    "        \n",
    "        while (already_sorted = False):\n",
    "\n",
    "            set already_sorted = True \n",
    "            #each time, we'll start by assuming the list IS already sorted\n",
    "            \n",
    "            for (each number in the list):\n",
    "                if (this card > next card):\n",
    "                    swap the two cards\n",
    "                    \n",
    "                    set already_sorted = False\n",
    "                    #well, we swapped, so obviously the list is NOT already sorted\n",
    "                    \n"
   ]
  },
  {
   "cell_type": "markdown",
   "metadata": {
    "slideshow": {
     "slide_type": "slide"
    }
   },
   "source": [
    "## more than one way to skin a cat\n",
    "(That's such a weird metaphor: do we need even one?)\n",
    "\n",
    "I am willing to bet that not all of you actually used the same algorithm to sort our list of numbers!\n",
    "\n",
    "***That's totally OK***\n",
    "\n",
    "There are different ways -- algorithms -- to accomplish pretty much any moderately complex task.\n",
    "\n",
    "For example:\n",
    "\n",
    "* the algorithm above is a *bubble sort*\n",
    "\n",
    "* an algorithm where you keep finding the smallest remaining number and put it near the front is a *merge sort*\n",
    "\n",
    "***As long as an algorithm works, its fullfills its most important purpose!***"
   ]
  },
  {
   "cell_type": "markdown",
   "metadata": {
    "slideshow": {
     "slide_type": "slide"
    }
   },
   "source": [
    "This does **not** mean, however, that all \"working\" algorithms are equally good!\n",
    "\n",
    "* some algorithms may be much *faster* than others\n",
    "* some algorithms may be much more *concise* than others\n",
    "* some algorithms may be much *clearer* than other\n",
    "\n",
    "In and of themselves, these are all good things to aim for..."
   ]
  },
  {
   "cell_type": "markdown",
   "metadata": {
    "slideshow": {
     "slide_type": "fragment"
    }
   },
   "source": [
    "In general, there won't be a single algorithm that wins on *all* of these fronts!\n",
    "\n",
    "<B><B>So what should you prioritize?\n",
    "\n",
    "* the most important consideration is to have an algorithm that *works* correctly\n",
    "* the relative importance of all other considerations depends on the context \n",
    "    * if you need your code to process a ton of data, which will take a long time, *speed* is important\n",
    "    * *clarity* and *conciseness* are always important, but can sometimes conflict\n",
    "        * go with clarity unless you have an excellent reason not to\n",
    "<B><B>\n"
   ]
  },
  {
   "cell_type": "markdown",
   "metadata": {
    "slideshow": {
     "slide_type": "slide"
    }
   },
   "source": [
    "## top-down vs bottom-up\n",
    "\n",
    "There are two basic approaches we can take to translate a task we're given into an algorithm:"
   ]
  },
  {
   "cell_type": "markdown",
   "metadata": {
    "slideshow": {
     "slide_type": "fragment"
    }
   },
   "source": [
    "<B><B>* top-down\n",
    "    * start with the highest-level task\n",
    "    * break that into sub-tasks\n",
    "    * break each of the sub-tasks into smaller sub-tasks\n",
    "    * keep doing that until the sub-tasks you're left with are sufficiently specific, obvious and easy\n",
    "<B><B>"
   ]
  },
  {
   "cell_type": "markdown",
   "metadata": {
    "slideshow": {
     "slide_type": "fragment"
    }
   },
   "source": [
    "<B><B>* bottom-up\n",
    "    * start by writing down every single tiny individual step in the high-level task\n",
    "    * look for obvious patterns that allow you to group them together\n",
    "    * keep doing this until you have something that's sufficiently clear and concise\n",
    "    \n",
    "<B><B>"
   ]
  },
  {
   "cell_type": "markdown",
   "metadata": {
    "slideshow": {
     "slide_type": "slide"
    }
   },
   "source": [
    "Different people (coders) may lean towards one or the other more often -- this is fine!\n",
    "\n",
    "Both approaches are useful!\n",
    "\n",
    "In practice, we pretty much always use *both* approaches when we design an algorithm -- in fact, it's almost impossible not to!"
   ]
  },
  {
   "cell_type": "markdown",
   "metadata": {
    "slideshow": {
     "slide_type": "slide"
    }
   },
   "source": [
    "There is no need for you to agonize about \"which approach should I choose\".\n",
    "\n",
    "But, it can be very useful to remember this hierarchy if you find yourself getting stuck:\n",
    "\n",
    "* Am I stuck because I'm thinking at too high a level?\n",
    "    * $\\rightarrow$ I am going to have to break things down into more manageable sub-tasks!\n",
    "* Am I stuck because I'm thinking at too low a level?\n",
    "    * $\\rightarrow$ I am going to have to look for ways to group/combing the individual steps I've listed"
   ]
  },
  {
   "cell_type": "markdown",
   "metadata": {
    "slideshow": {
     "slide_type": "slide"
    }
   },
   "source": [
    "### top-down\n",
    "\n",
    "Example: bubble sort\n",
    "\n",
    "  * High-level task: \"sort the list\""
   ]
  },
  {
   "cell_type": "markdown",
   "metadata": {
    "slideshow": {
     "slide_type": "fragment"
    }
   },
   "source": [
    "  * Required sub-tasks for \"sort the list\"\n",
    "       * swap pairs of numbers in the wrong order\n",
    "       * check if list is sorted\n",
    "       * ..."
   ]
  },
  {
   "cell_type": "markdown",
   "metadata": {
    "slideshow": {
     "slide_type": "fragment"
    }
   },
   "source": [
    "   * Required sub-tasks for \"swap pairs of numbers in the wrong order\"\n",
    "       * compare two numbers\n",
    "       * swap positions if number2 < number 1"
   ]
  },
  {
   "cell_type": "markdown",
   "metadata": {
    "slideshow": {
     "slide_type": "slide"
    }
   },
   "source": [
    "### bottom-up\n",
    "\n",
    "Example: bubble sort\n",
    "\n",
    "* Sequence of steps involved:\n",
    "    * compare number1 and number2\n",
    "    * swap if number2 < number1\n",
    "    * compare number2 and number3\n",
    "    * swap if number3 < number2\n",
    "    * ...\n",
    "    * compare numberN-1 and numberN\n",
    "    * swamp if numberN < numberN-1\n",
    "    * ..."
   ]
  },
  {
   "cell_type": "markdown",
   "metadata": {
    "slideshow": {
     "slide_type": "fragment"
    }
   },
   "source": [
    "* Group steps together:\n",
    "    * for each pair of numbers in the list\n",
    "        * compare them\n",
    "        * swap them if they are in the wrong order\n",
    "    * ..."
   ]
  },
  {
   "cell_type": "markdown",
   "metadata": {
    "slideshow": {
     "slide_type": "skip"
    }
   },
   "source": [
    "## Exercises\n",
    "\n",
    "It's hard to predict how far any one of you will get in today's session -- so don't worry if you don't finish all the exercises, for example. If so, do try to work on it a bit at home -- the more you get the hang of breaking tasks down and designing algorithms for them, the easier coding will become.\n",
    "\n",
    "For all the exercises below, you can work with one or more partners.\n",
    "\n",
    "Once you have an algorithm you're happy with, exchange it with somebody else's. Have them them \"run\" yours in their heads, and vice versa.\n",
    "\n",
    "Do your algorithms work as expected? Keep improving them until they do."
   ]
  },
  {
   "cell_type": "markdown",
   "metadata": {
    "slideshow": {
     "slide_type": "skip"
    }
   },
   "source": [
    "##### Exercise: the sorting pseudo-code revisited\n",
    "\n",
    "Now that we've done a lot more thinking about algorithms and pseudo-codes, go back to your sorting pseudo-code and improve it."
   ]
  },
  {
   "cell_type": "markdown",
   "metadata": {
    "slideshow": {
     "slide_type": "skip"
    }
   },
   "source": [
    "##### Exercise: finding the smallest number\n",
    "\n",
    "Design an algorithm -- and write pseudo-code -- for finding the smallest number in a large list of numbers."
   ]
  },
  {
   "cell_type": "markdown",
   "metadata": {
    "slideshow": {
     "slide_type": "skip"
    }
   },
   "source": [
    "##### Exercise: printing the Fibonacci sequence\n",
    "\n",
    "Design an algorithm -- and write pseudo-code -- for printing out the first 100 terms of the Fibonacci sequence.\n",
    "\n",
    "The Fibonacci sequence is: 1, 1, 2, 3, 5, 8, 13, 21, ...  i.e. every number is the sum of the previous two numbers, and the first two numbers are both 1."
   ]
  },
  {
   "cell_type": "markdown",
   "metadata": {
    "slideshow": {
     "slide_type": "skip"
    }
   },
   "source": [
    "##### Exercise: baking a batch of cookies\n",
    "\n",
    "Design an algorithm -- and write pseudo-code -- for baking a batch of cookies."
   ]
  },
  {
   "cell_type": "markdown",
   "metadata": {
    "slideshow": {
     "slide_type": "skip"
    }
   },
   "source": [
    "##### Exercise: working out student marks\n",
    "\n",
    "You're given a list of student names and several test marks that contribute differently to the final mark:\n",
    "\n",
    "$$\n",
    "\\begin{array}{cccc}\n",
    "Name   & Test\\,1\\, \\, (30\\%) & Test\\,2\\,\\,(50\\%) & Test\\,3\\,\\,(20\\%)\\\\ \\hline\n",
    "Alicia & 90 & 80 & 76  \\\\\n",
    "Brian  & 60 & 80 & 55  \\\\ \n",
    "...    & .. & .. & ..  \\\\\n",
    "\\end{array}\n",
    "$$\n",
    "\n",
    "Design an algorithm -- and write pseudo-code -- for calculating and printing their combined marks."
   ]
  },
  {
   "cell_type": "markdown",
   "metadata": {
    "slideshow": {
     "slide_type": "skip"
    }
   },
   "source": [
    "##### Exercise: playing tic-tac-toe\n",
    "\n",
    "Design an algorithm -- and write pseudo-code -- for playing tic-tac-toe (aka Noughts and Crosses) against a human oppoening.\n",
    "\n",
    "This is obviously quite a bit more challenging.\n",
    "\n",
    "Don't worry if you find this hard -- we are really not expecting miracles here, or some sort of perfect python-like pseudo-code!\n",
    "\n",
    "The idea is just to get you to think about what sort of tasks and building blocks are involved in something like \"playing a game\". At this point, I hope you can see that there are loops (we have to keep placing symbols on the grid until there is a winner), there are conditions (we can only place symbols somewhere if a space is empty), etc etc..."
   ]
  },
  {
   "cell_type": "markdown",
   "metadata": {
    "slideshow": {
     "slide_type": "skip"
    }
   },
   "source": [
    "##### Exercise: integration\n",
    "\n",
    "Another more challenging and interesting one:\n",
    "\n",
    "Design an algorithm -- and write pseudo-code -- for integrating any given function $f(x)$ between the limits $x_1$ and $x_2$."
   ]
  },
  {
   "cell_type": "code",
   "execution_count": null,
   "metadata": {},
   "outputs": [],
   "source": []
  },
  {
   "cell_type": "markdown",
   "metadata": {
    "slideshow": {
     "slide_type": "slide"
    }
   },
   "source": [
    "\n",
    "# data types, conditionals and loops"
   ]
  },
  {
   "cell_type": "markdown",
   "metadata": {
    "slideshow": {
     "slide_type": "slide"
    }
   },
   "source": [
    "## Big Picture Exercise\n"
   ]
  },
  {
   "cell_type": "markdown",
   "metadata": {
    "slideshow": {
     "slide_type": "skip"
    }
   },
   "source": [
    "\n",
    "Along with the smaller exercise in each session, I am sometimes going to provide you with one \"Big Picture Exercise\" for the session. The idea for these is that they will involve many/most of the concepts we have looked at in the session and use them to accomplish something that's actually useful(ish). \n",
    "\n",
    "\n",
    "They are:"
   ]
  },
  {
   "cell_type": "markdown",
   "metadata": {
    "slideshow": {
     "slide_type": "fragment"
    }
   },
   "source": [
    "* \"By the end of this session, you should be able to...\" exercises. "
   ]
  },
  {
   "cell_type": "markdown",
   "metadata": {
    "slideshow": {
     "slide_type": "fragment"
    }
   },
   "source": [
    "* Alwyas listed at the top of each session..."
   ]
  },
  {
   "cell_type": "markdown",
   "metadata": {
    "slideshow": {
     "slide_type": "skip"
    }
   },
   "source": [
    "... so you can keep them in mind as we go through the concepts. When and how you work on the Big Picture Exercise is up to you, but they are good tests of whether you're on track and will also hopefully make you feel that you're learning something useful.\n",
    "\n"
   ]
  },
  {
   "cell_type": "markdown",
   "metadata": {
    "slideshow": {
     "slide_type": "slide"
    }
   },
   "source": [
    "**Today's Big Picture Exercise Is:**"
   ]
  },
  {
   "cell_type": "markdown",
   "metadata": {
    "slideshow": {
     "slide_type": "skip"
    }
   },
   "source": [
    "In the previous session, we designed algorithms for sorting numbers and wrote pseudo-code for these algorithms. In today's session, we've learned all of the syntax -- i.e. all of the Python commands -- that are necessary to actually implement this pseudo-code as an actual working code. So that's the exercise:\n",
    "\n"
   ]
  },
  {
   "cell_type": "markdown",
   "metadata": {
    "slideshow": {
     "slide_type": "fragment"
    }
   },
   "source": [
    "<B><B>*Write Python code that will take a list of numbers and sort it into ascending order*\n",
    "\n",
    "Let's say that your input list is called *inlist* and your output list *outlist*. Ideally, your code should be able to handle input lists of arbitrary length.<B><B>"
   ]
  },
  {
   "cell_type": "markdown",
   "metadata": {
    "slideshow": {
     "slide_type": "slide"
    }
   },
   "source": [
    "## Data Types"
   ]
  },
  {
   "cell_type": "markdown",
   "metadata": {
    "slideshow": {
     "slide_type": "fragment"
    }
   },
   "source": [
    "Every object a program works on -- and, in particular, every variable -- has a definite data type. \n",
    "\n",
    "We can ask *Python* what the type of any particular object -- e.g. variable -- is, via the \"type(variable)\" command."
   ]
  },
  {
   "cell_type": "markdown",
   "metadata": {
    "slideshow": {
     "slide_type": "fragment"
    }
   },
   "source": [
    "In the examples below, you'll see some comments (i.e. explanations) next to some commands, each time starting with \"#\". That character tells *Python* that what follows is just a comment for the programmer, i.e that it's not part of the program."
   ]
  },
  {
   "cell_type": "markdown",
   "metadata": {
    "slideshow": {
     "slide_type": "skip"
    }
   },
   "source": [
    "Let's start with some simple ones we've already met."
   ]
  },
  {
   "cell_type": "markdown",
   "metadata": {
    "slideshow": {
     "slide_type": "slide"
    }
   },
   "source": [
    "### Numbers\n",
    "\n",
    "#### Floats and Ints\n",
    "\n",
    "We've already seen that Python distinguishes between integers and real (aka floating point) numbers:"
   ]
  },
  {
   "cell_type": "code",
   "execution_count": 2,
   "metadata": {
    "slideshow": {
     "slide_type": "fragment"
    }
   },
   "outputs": [
    {
     "name": "stdout",
     "output_type": "stream",
     "text": [
      "<class 'int'>\n"
     ]
    }
   ],
   "source": [
    "a = 1\n",
    "print(type(a))"
   ]
  },
  {
   "cell_type": "code",
   "execution_count": 3,
   "metadata": {
    "slideshow": {
     "slide_type": "fragment"
    }
   },
   "outputs": [
    {
     "name": "stdout",
     "output_type": "stream",
     "text": [
      "<class 'float'>\n"
     ]
    }
   ],
   "source": [
    "b = 1.0\n",
    "print(type(b))"
   ]
  },
  {
   "cell_type": "code",
   "execution_count": 4,
   "metadata": {
    "slideshow": {
     "slide_type": "skip"
    }
   },
   "outputs": [
    {
     "name": "stdout",
     "output_type": "stream",
     "text": [
      "<class 'int'>\n",
      "<class 'float'>\n"
     ]
    }
   ],
   "source": [
    "a = 1\n",
    "print(type(a))\n",
    "b= 1.0\n",
    "print(type(b))"
   ]
  },
  {
   "cell_type": "markdown",
   "metadata": {
    "slideshow": {
     "slide_type": "skip"
    }
   },
   "source": [
    "Note that you cannot have variables that have the same name but different types. In Python, variable names are symbols, and a given symbol can only refer to one specific chunk of a computer's memory. We can change the type of a variable, however:"
   ]
  },
  {
   "cell_type": "code",
   "execution_count": 5,
   "metadata": {
    "slideshow": {
     "slide_type": "skip"
    }
   },
   "outputs": [
    {
     "name": "stdout",
     "output_type": "stream",
     "text": [
      "<class 'int'>\n"
     ]
    }
   ],
   "source": [
    "a = 1\n",
    "print(type(a)) "
   ]
  },
  {
   "cell_type": "code",
   "execution_count": 6,
   "metadata": {
    "slideshow": {
     "slide_type": "skip"
    }
   },
   "outputs": [
    {
     "name": "stdout",
     "output_type": "stream",
     "text": [
      "<class 'float'>\n"
     ]
    }
   ],
   "source": [
    "a = a + 2.0\n",
    "print(type(a))"
   ]
  },
  {
   "cell_type": "markdown",
   "metadata": {
    "slideshow": {
     "slide_type": "slide"
    }
   },
   "source": [
    "All number data types can be manipulated with the following operators:"
   ]
  },
  {
   "cell_type": "code",
   "execution_count": 7,
   "metadata": {
    "slideshow": {
     "slide_type": "fragment"
    }
   },
   "outputs": [],
   "source": [
    "a = 1\n",
    "b = 2"
   ]
  },
  {
   "cell_type": "code",
   "execution_count": 8,
   "metadata": {
    "slideshow": {
     "slide_type": "fragment"
    }
   },
   "outputs": [
    {
     "data": {
      "text/plain": [
       "3"
      ]
     },
     "execution_count": 8,
     "metadata": {},
     "output_type": "execute_result"
    }
   ],
   "source": [
    "a + b   # addition"
   ]
  },
  {
   "cell_type": "code",
   "execution_count": 9,
   "metadata": {
    "slideshow": {
     "slide_type": "fragment"
    }
   },
   "outputs": [
    {
     "data": {
      "text/plain": [
       "-1"
      ]
     },
     "execution_count": 9,
     "metadata": {},
     "output_type": "execute_result"
    }
   ],
   "source": [
    "a - b   # subtraction"
   ]
  },
  {
   "cell_type": "code",
   "execution_count": 10,
   "metadata": {
    "slideshow": {
     "slide_type": "fragment"
    }
   },
   "outputs": [
    {
     "data": {
      "text/plain": [
       "2"
      ]
     },
     "execution_count": 10,
     "metadata": {},
     "output_type": "execute_result"
    }
   ],
   "source": [
    "a * b   # multiplication"
   ]
  },
  {
   "cell_type": "code",
   "execution_count": 11,
   "metadata": {
    "slideshow": {
     "slide_type": "slide"
    }
   },
   "outputs": [
    {
     "data": {
      "text/plain": [
       "0.5"
      ]
     },
     "execution_count": 11,
     "metadata": {},
     "output_type": "execute_result"
    }
   ],
   "source": [
    "a / b   # division"
   ]
  },
  {
   "cell_type": "code",
   "execution_count": 12,
   "metadata": {
    "slideshow": {
     "slide_type": "fragment"
    }
   },
   "outputs": [
    {
     "name": "stdout",
     "output_type": "stream",
     "text": [
      "2\n"
     ]
    }
   ],
   "source": [
    "a = 14\n",
    "b = 5\n",
    "c = a // b # this is INTEGER division\n",
    "print(c)"
   ]
  },
  {
   "cell_type": "code",
   "execution_count": 13,
   "metadata": {
    "slideshow": {
     "slide_type": "fragment"
    }
   },
   "outputs": [
    {
     "name": "stdout",
     "output_type": "stream",
     "text": [
      "4\n"
     ]
    }
   ],
   "source": [
    "d = a % b # this is the modulus/remainder \n",
    "          # (divide left by right, return remainder)\n",
    "print(d)"
   ]
  },
  {
   "cell_type": "code",
   "execution_count": 14,
   "metadata": {
    "slideshow": {
     "slide_type": "fragment"
    }
   },
   "outputs": [
    {
     "name": "stdout",
     "output_type": "stream",
     "text": [
      "1000.0\n"
     ]
    }
   ],
   "source": [
    "a = 10.0\n",
    "b = 3.0\n",
    "c = a**b    # exponentiation (i.e. a to the power of b)\n",
    "print(c)"
   ]
  },
  {
   "cell_type": "markdown",
   "metadata": {
    "slideshow": {
     "slide_type": "skip"
    }
   },
   "source": [
    "What about more complex mathematical operations, like logarithms or sines and cosines?\n",
    "\n",
    "Those sorts of operations are not part of \"pure\" *Python*, but they are all conveniently defined for us in various \"packages\" (you can think of them as \"libraries\" of functions). Once we \"import\" those into our code, we can use all the functions they contain.\n",
    "\n",
    "**We'll learn about those later on**, but here is a sneak pre-view:"
   ]
  },
  {
   "cell_type": "code",
   "execution_count": 15,
   "metadata": {
    "slideshow": {
     "slide_type": "skip"
    }
   },
   "outputs": [
    {
     "ename": "ModuleNotFoundError",
     "evalue": "No module named 'numpy'",
     "output_type": "error",
     "traceback": [
      "\u001b[0;31m---------------------------------------------------------------------------\u001b[0m",
      "\u001b[0;31mModuleNotFoundError\u001b[0m                       Traceback (most recent call last)",
      "Cell \u001b[0;32mIn[15], line 1\u001b[0m\n\u001b[0;32m----> 1\u001b[0m \u001b[38;5;28;01mimport\u001b[39;00m \u001b[38;5;21;01mnumpy\u001b[39;00m \u001b[38;5;28;01mas\u001b[39;00m \u001b[38;5;21;01mnp\u001b[39;00m \u001b[38;5;66;03m#the numpy package contains loads of useful stuff\u001b[39;00m\n\u001b[1;32m      3\u001b[0m a \u001b[38;5;241m=\u001b[39m \u001b[38;5;241m10.0\u001b[39m\n\u001b[1;32m      4\u001b[0m b \u001b[38;5;241m=\u001b[39m np\u001b[38;5;241m.\u001b[39msin(a)  \u001b[38;5;66;03m# the \"np.sin\" notation says \"look in the numpy \u001b[39;00m\n",
      "\u001b[0;31mModuleNotFoundError\u001b[0m: No module named 'numpy'"
     ]
    }
   ],
   "source": [
    "import numpy as np #the numpy package contains loads of useful stuff\n",
    "\n",
    "a = 10.0\n",
    "b = np.sin(a)  # the \"np.sin\" notation says \"look in the numpy \n",
    "               # package and use the sin function that's in there\"\n",
    "\n",
    "print(b)"
   ]
  },
  {
   "cell_type": "markdown",
   "metadata": {
    "slideshow": {
     "slide_type": "slide"
    }
   },
   "source": [
    "### Sequences (aka \"Iterables\")\n",
    "\n",
    "There are several data types in Python for dealing with different kinds of *sequences*, i.e. ordered collections of objects.\n",
    "\n",
    "They are also called \"iterables\" because, in python, <B><B>we often loop -- i.e. iterate -- over each element in a sequence. <B><B>\n",
    "\n",
    "In fact, as well see, for-loops are **literally** designed that way."
   ]
  },
  {
   "cell_type": "markdown",
   "metadata": {
    "slideshow": {
     "slide_type": "skip"
    }
   },
   "source": [
    "We have, in fact, already met one of these data types, so let's take a closer look at it."
   ]
  },
  {
   "cell_type": "markdown",
   "metadata": {
    "slideshow": {
     "slide_type": "fragment"
    }
   },
   "source": [
    "#### Strings\n",
    "\n",
    "Strings are just a sequence of characters:"
   ]
  },
  {
   "cell_type": "code",
   "execution_count": null,
   "metadata": {
    "slideshow": {
     "slide_type": "fragment"
    }
   },
   "outputs": [],
   "source": [
    "c = 'Bipasha Chakraborty' ## Please substitute with your name and repeat the following steps"
   ]
  },
  {
   "cell_type": "code",
   "execution_count": null,
   "metadata": {
    "slideshow": {
     "slide_type": "fragment"
    }
   },
   "outputs": [],
   "source": [
    "print(c)"
   ]
  },
  {
   "cell_type": "code",
   "execution_count": null,
   "metadata": {
    "slideshow": {
     "slide_type": "fragment"
    }
   },
   "outputs": [],
   "source": [
    "print(type(c))"
   ]
  },
  {
   "cell_type": "markdown",
   "metadata": {
    "slideshow": {
     "slide_type": "skip"
    }
   },
   "source": [
    "Or, equivalently, using double quotes:"
   ]
  },
  {
   "cell_type": "code",
   "execution_count": null,
   "metadata": {
    "slideshow": {
     "slide_type": "skip"
    }
   },
   "outputs": [],
   "source": [
    "c = \"Bipasha Chakraborty\" ## Please substitute with your name and repeat the following steps"
   ]
  },
  {
   "cell_type": "code",
   "execution_count": null,
   "metadata": {
    "slideshow": {
     "slide_type": "skip"
    }
   },
   "outputs": [],
   "source": [
    "print(c)"
   ]
  },
  {
   "cell_type": "markdown",
   "metadata": {
    "slideshow": {
     "slide_type": "slide"
    }
   },
   "source": [
    "There is built-in support for lots of operations:\n",
    "\n",
    "* querying the length of a string\n",
    "* accessing individual characters in the string\n",
    "* accessing particular bits of the string"
   ]
  },
  {
   "cell_type": "code",
   "execution_count": null,
   "metadata": {
    "slideshow": {
     "slide_type": "fragment"
    }
   },
   "outputs": [],
   "source": [
    "x = len(c)\n",
    "print(x)"
   ]
  },
  {
   "cell_type": "code",
   "execution_count": null,
   "metadata": {
    "slideshow": {
     "slide_type": "fragment"
    }
   },
   "outputs": [],
   "source": [
    "x = c[0]\n",
    "print(x)"
   ]
  },
  {
   "cell_type": "markdown",
   "metadata": {
    "slideshow": {
     "slide_type": "skip"
    }
   },
   "source": [
    "Note that c[0] returned the **first** element of the string, T. Why is this referred to as c[0] and not c[1]? It's just a convention in Python (and many other languages) -- <B><B>*the first index in a sequence is always zero, not one*.<B><B>\n",
    "\n",
    "***In order to avoid confusion between the way we code and the way we talk about code, we will always refer to indices as starting with zero from now on.***"
   ]
  },
  {
   "cell_type": "markdown",
   "metadata": {
    "slideshow": {
     "slide_type": "skip"
    }
   },
   "source": [
    "A related (and useful) convention is that negative indices refer to elements counting from the **last** one, i.e. c[-1] is the last element, c[-2] the next to last one, etc..."
   ]
  },
  {
   "cell_type": "code",
   "execution_count": null,
   "metadata": {
    "slideshow": {
     "slide_type": "skip"
    }
   },
   "outputs": [],
   "source": [
    "x = c[-1]\n",
    "print(x)"
   ]
  },
  {
   "cell_type": "code",
   "execution_count": null,
   "metadata": {
    "slideshow": {
     "slide_type": "skip"
    }
   },
   "outputs": [],
   "source": [
    "x = c[-2]\n",
    "print(x)"
   ]
  },
  {
   "cell_type": "markdown",
   "metadata": {
    "slideshow": {
     "slide_type": "skip"
    }
   },
   "source": [
    "What happens if we try to access elements in the string that don't exist, i.e. if we go beyond the end of the string in either direction?"
   ]
  },
  {
   "cell_type": "code",
   "execution_count": null,
   "metadata": {
    "slideshow": {
     "slide_type": "skip"
    }
   },
   "outputs": [],
   "source": [
    "x = c[100]\n",
    "print(x)"
   ]
  },
  {
   "cell_type": "markdown",
   "metadata": {
    "slideshow": {
     "slide_type": "skip"
    }
   },
   "source": [
    "Another incredibly useful thing we can do is access specific bits of the string, such as the 3th through 5th elements:"
   ]
  },
  {
   "cell_type": "code",
   "execution_count": null,
   "metadata": {
    "slideshow": {
     "slide_type": "fragment"
    }
   },
   "outputs": [],
   "source": [
    "x = c[3:6]\n",
    "print(x)"
   ]
  },
  {
   "cell_type": "markdown",
   "metadata": {
    "slideshow": {
     "slide_type": "fragment"
    }
   },
   "source": [
    "This is called ***slicing***."
   ]
  },
  {
   "cell_type": "markdown",
   "metadata": {
    "slideshow": {
     "slide_type": "skip"
    }
   },
   "source": [
    "Note that c[3:6] gives us elements 3, 4 and 5 -- and not element 6. So c[3:6] means \"the substring of c starting with element 3, up to *but excluding* element 6\". Again, there is nothing mysterious about that -- it's just a convention. "
   ]
  },
  {
   "cell_type": "markdown",
   "metadata": {
    "slideshow": {
     "slide_type": "skip"
    }
   },
   "source": [
    "We can use an obvious shorthand to refer to things like \"all elements of the string, starting with the 12th one\":"
   ]
  },
  {
   "cell_type": "code",
   "execution_count": null,
   "metadata": {
    "slideshow": {
     "slide_type": "skip"
    }
   },
   "outputs": [],
   "source": [
    "x = c[12:]\n",
    "print(x)"
   ]
  },
  {
   "cell_type": "markdown",
   "metadata": {
    "slideshow": {
     "slide_type": "skip"
    }
   },
   "source": [
    "This also works the other way around, as in \"all elements up to and exclusing the 11th one\""
   ]
  },
  {
   "cell_type": "code",
   "execution_count": null,
   "metadata": {
    "slideshow": {
     "slide_type": "skip"
    }
   },
   "outputs": [],
   "source": [
    "x = c[:11]\n",
    "print(x)"
   ]
  },
  {
   "cell_type": "markdown",
   "metadata": {
    "slideshow": {
     "slide_type": "slide"
    }
   },
   "source": [
    "Indices have to be integers, but they can certainly be variables:"
   ]
  },
  {
   "cell_type": "code",
   "execution_count": null,
   "metadata": {
    "slideshow": {
     "slide_type": "fragment"
    }
   },
   "outputs": [],
   "source": [
    "a = 1"
   ]
  },
  {
   "cell_type": "code",
   "execution_count": null,
   "metadata": {
    "slideshow": {
     "slide_type": "fragment"
    }
   },
   "outputs": [],
   "source": [
    "x = c[a]\n",
    "\n",
    "print(x)"
   ]
  },
  {
   "cell_type": "markdown",
   "metadata": {
    "slideshow": {
     "slide_type": "fragment"
    }
   },
   "source": [
    "...or even arbitrary expressions that evaluate to integers:"
   ]
  },
  {
   "cell_type": "code",
   "execution_count": null,
   "metadata": {
    "slideshow": {
     "slide_type": "fragment"
    }
   },
   "outputs": [],
   "source": [
    "b = 2"
   ]
  },
  {
   "cell_type": "code",
   "execution_count": null,
   "metadata": {
    "slideshow": {
     "slide_type": "fragment"
    }
   },
   "outputs": [],
   "source": [
    "x = c[a+b]\n",
    "print(x)"
   ]
  },
  {
   "cell_type": "markdown",
   "metadata": {
    "slideshow": {
     "slide_type": "skip"
    }
   },
   "source": [
    "We can concatenate strings by using the \"+\" operator:"
   ]
  },
  {
   "cell_type": "code",
   "execution_count": null,
   "metadata": {
    "slideshow": {
     "slide_type": "skip"
    }
   },
   "outputs": [],
   "source": [
    "a = \"Bipasha\""
   ]
  },
  {
   "cell_type": "code",
   "execution_count": null,
   "metadata": {
    "slideshow": {
     "slide_type": "skip"
    }
   },
   "outputs": [],
   "source": [
    "b = \" \" ## Note, a gap or empty position is a string too"
   ]
  },
  {
   "cell_type": "code",
   "execution_count": null,
   "metadata": {
    "slideshow": {
     "slide_type": "skip"
    }
   },
   "outputs": [],
   "source": [
    "c = \"Chakraborty\""
   ]
  },
  {
   "cell_type": "code",
   "execution_count": null,
   "metadata": {
    "slideshow": {
     "slide_type": "skip"
    }
   },
   "outputs": [],
   "source": [
    "d = a + b + c"
   ]
  },
  {
   "cell_type": "code",
   "execution_count": null,
   "metadata": {
    "slideshow": {
     "slide_type": "skip"
    }
   },
   "outputs": [],
   "source": [
    "print(d)"
   ]
  },
  {
   "cell_type": "markdown",
   "metadata": {
    "slideshow": {
     "slide_type": "skip"
    }
   },
   "source": [
    "We can also make copies of a string and concatenate them, one after the other, by using the \"*\" operatator:"
   ]
  },
  {
   "cell_type": "code",
   "execution_count": null,
   "metadata": {
    "slideshow": {
     "slide_type": "skip"
    }
   },
   "outputs": [],
   "source": [
    "e = 5 * a"
   ]
  },
  {
   "cell_type": "code",
   "execution_count": null,
   "metadata": {
    "slideshow": {
     "slide_type": "skip"
    }
   },
   "outputs": [],
   "source": [
    "print(e)"
   ]
  },
  {
   "cell_type": "markdown",
   "metadata": {
    "slideshow": {
     "slide_type": "skip"
    }
   },
   "source": [
    "Python knows alphabetical order and has built-in support for telling us what the \"smallest\" and \"largest\" characters in our string are, via the min() and max() functions."
   ]
  },
  {
   "cell_type": "code",
   "execution_count": null,
   "metadata": {
    "slideshow": {
     "slide_type": "skip"
    }
   },
   "outputs": [],
   "source": [
    "r = \"ABCfed\""
   ]
  },
  {
   "cell_type": "code",
   "execution_count": null,
   "metadata": {
    "slideshow": {
     "slide_type": "skip"
    }
   },
   "outputs": [],
   "source": [
    "min(a)"
   ]
  },
  {
   "cell_type": "code",
   "execution_count": null,
   "metadata": {
    "slideshow": {
     "slide_type": "skip"
    }
   },
   "outputs": [],
   "source": [
    "max(a)"
   ]
  },
  {
   "cell_type": "markdown",
   "metadata": {
    "slideshow": {
     "slide_type": "skip"
    }
   },
   "source": [
    "Note how upper case letters come before lower case ones. What about numbers and other symbols? Try it out! (The order follows the standard ASCII convention -- which you can look up anytime you need it.)"
   ]
  },
  {
   "cell_type": "markdown",
   "metadata": {
    "slideshow": {
     "slide_type": "skip"
    }
   },
   "source": [
    "One final point: strings are \"immutable\". \n",
    "\n",
    "What does that mean? It means you cannot change some part of string once it's been assigned:"
   ]
  },
  {
   "cell_type": "code",
   "execution_count": null,
   "metadata": {
    "slideshow": {
     "slide_type": "skip"
    }
   },
   "outputs": [],
   "source": [
    "a = 'Hello'"
   ]
  },
  {
   "cell_type": "code",
   "execution_count": null,
   "metadata": {
    "slideshow": {
     "slide_type": "skip"
    }
   },
   "outputs": [],
   "source": [
    "a[3] = 'x'"
   ]
  },
  {
   "cell_type": "markdown",
   "metadata": {
    "slideshow": {
     "slide_type": "skip"
    }
   },
   "source": [
    "The only thing you can do is create a completely new string from bits of an existing one:"
   ]
  },
  {
   "cell_type": "code",
   "execution_count": null,
   "metadata": {
    "slideshow": {
     "slide_type": "skip"
    }
   },
   "outputs": [],
   "source": [
    "a = a[0:3] + 'x' + a[4:]"
   ]
  },
  {
   "cell_type": "code",
   "execution_count": null,
   "metadata": {
    "slideshow": {
     "slide_type": "skip"
    }
   },
   "outputs": [],
   "source": [
    "print(a)"
   ]
  },
  {
   "cell_type": "markdown",
   "metadata": {
    "slideshow": {
     "slide_type": "slide"
    }
   },
   "source": [
    "#### Lists\n",
    "\n",
    "Another important built-in data type for dealing with sequences is the *list*. A list is an ordered sequence of Python objects, each of which has its own data type. "
   ]
  },
  {
   "cell_type": "code",
   "execution_count": null,
   "metadata": {
    "slideshow": {
     "slide_type": "fragment"
    }
   },
   "outputs": [],
   "source": [
    "a = []   # an empty list"
   ]
  },
  {
   "cell_type": "markdown",
   "metadata": {
    "slideshow": {
     "slide_type": "skip"
    }
   },
   "source": [
    "Note the use of \"#\" to add comments to a line of code."
   ]
  },
  {
   "cell_type": "code",
   "execution_count": null,
   "metadata": {
    "slideshow": {
     "slide_type": "fragment"
    }
   },
   "outputs": [],
   "source": [
    "a = [1,2,3,4]"
   ]
  },
  {
   "cell_type": "code",
   "execution_count": null,
   "metadata": {
    "slideshow": {
     "slide_type": "fragment"
    }
   },
   "outputs": [],
   "source": [
    "print(a)"
   ]
  },
  {
   "cell_type": "code",
   "execution_count": null,
   "metadata": {
    "slideshow": {
     "slide_type": "fragment"
    }
   },
   "outputs": [],
   "source": [
    "print(type(a))"
   ]
  },
  {
   "cell_type": "code",
   "execution_count": null,
   "metadata": {
    "slideshow": {
     "slide_type": "fragment"
    }
   },
   "outputs": [],
   "source": [
    "print(type(a[0]))"
   ]
  },
  {
   "cell_type": "code",
   "execution_count": null,
   "metadata": {
    "slideshow": {
     "slide_type": "fragment"
    }
   },
   "outputs": [],
   "source": [
    "print(a[0])"
   ]
  },
  {
   "cell_type": "markdown",
   "metadata": {
    "slideshow": {
     "slide_type": "slide"
    }
   },
   "source": [
    "It is not necessary for each object in a list to have the same data type:"
   ]
  },
  {
   "cell_type": "code",
   "execution_count": null,
   "metadata": {
    "slideshow": {
     "slide_type": "fragment"
    }
   },
   "outputs": [],
   "source": [
    "a = [1, 2, 'hello', 3, 5.0]\n",
    "\n",
    "print(a[0])\n",
    "print(type(a[0]))\n",
    "print()\n",
    "\n",
    "print(a[2])\n",
    "print(type(a[2]))\n",
    "print()\n",
    "\n",
    "print(a[4])\n",
    "print(type(a[4]))"
   ]
  },
  {
   "cell_type": "markdown",
   "metadata": {
    "slideshow": {
     "slide_type": "fragment"
    }
   },
   "source": [
    "It is even possible to have lists that contain other lists:"
   ]
  },
  {
   "cell_type": "code",
   "execution_count": null,
   "metadata": {
    "slideshow": {
     "slide_type": "fragment"
    }
   },
   "outputs": [],
   "source": [
    "a = [1, 2.0, ['hello', 5.0], 'world']\n",
    "\n",
    "print(type(a))\n",
    "print()\n",
    "\n",
    "print(type(a[1]))\n",
    "print(type(a[2]))"
   ]
  },
  {
   "cell_type": "markdown",
   "metadata": {
    "slideshow": {
     "slide_type": "slide"
    }
   },
   "source": [
    "If we want to access a specific element in the inner list, we can use the notation a[i][j], where a is the outer list and i, j are integer indices. \n",
    "\n",
    "For example, we can query the type of a specific element in the inner list like this:"
   ]
  },
  {
   "cell_type": "code",
   "execution_count": null,
   "metadata": {
    "slideshow": {
     "slide_type": "fragment"
    }
   },
   "outputs": [],
   "source": [
    "print(type(a[2][0]))\n",
    "print(a[2][0])"
   ]
  },
  {
   "cell_type": "markdown",
   "metadata": {
    "slideshow": {
     "slide_type": "slide"
    }
   },
   "source": [
    "We can do any operation that is allowed for a given data type on an element of a list that has that data type (*unless this would require changing the data type of the elements*):"
   ]
  },
  {
   "cell_type": "code",
   "execution_count": null,
   "metadata": {
    "slideshow": {
     "slide_type": "fragment"
    }
   },
   "outputs": [],
   "source": [
    "a[0] = 2.0*a[0]"
   ]
  },
  {
   "cell_type": "code",
   "execution_count": null,
   "metadata": {
    "slideshow": {
     "slide_type": "fragment"
    }
   },
   "outputs": [],
   "source": [
    "a"
   ]
  },
  {
   "cell_type": "code",
   "execution_count": null,
   "metadata": {
    "slideshow": {
     "slide_type": "skip"
    }
   },
   "outputs": [],
   "source": [
    "a[2][1] = a[2][0][:4]"
   ]
  },
  {
   "cell_type": "code",
   "execution_count": null,
   "metadata": {
    "slideshow": {
     "slide_type": "skip"
    }
   },
   "outputs": [],
   "source": [
    "a"
   ]
  },
  {
   "cell_type": "markdown",
   "metadata": {
    "slideshow": {
     "slide_type": "slide"
    }
   },
   "source": [
    "**But:** if we have a list of *numbers*, we *cannot* operate on them all at the same time:"
   ]
  },
  {
   "cell_type": "code",
   "execution_count": null,
   "metadata": {
    "slideshow": {
     "slide_type": "fragment"
    }
   },
   "outputs": [],
   "source": [
    "a = [1.0, 2.0]\n",
    "a = 2.0*a\n",
    "print(a)"
   ]
  },
  {
   "cell_type": "markdown",
   "metadata": {
    "slideshow": {
     "slide_type": "slide"
    }
   },
   "source": [
    "In fact, we have to be a little careful not to forget this, because the following is correct code:"
   ]
  },
  {
   "cell_type": "code",
   "execution_count": null,
   "metadata": {
    "slideshow": {
     "slide_type": "fragment"
    }
   },
   "outputs": [],
   "source": [
    "a = [1, 2]\n",
    "a = 2*a"
   ]
  },
  {
   "cell_type": "markdown",
   "metadata": {
    "slideshow": {
     "slide_type": "fragment"
    }
   },
   "source": [
    "...but it doesn't do what you might think, i.e. multiply each element by 2. \n",
    "\n",
    "Instead, we get the same list *twice*:"
   ]
  },
  {
   "cell_type": "code",
   "execution_count": null,
   "metadata": {
    "slideshow": {
     "slide_type": "fragment"
    }
   },
   "outputs": [],
   "source": [
    "print(a)"
   ]
  },
  {
   "cell_type": "markdown",
   "metadata": {
    "slideshow": {
     "slide_type": "skip"
    }
   },
   "source": [
    "It would obviously be useful to have a way of doing exactly this sort of *element-by-element* computation -- and we'll see next week how to do this nicely with *numpy arrays*"
   ]
  },
  {
   "cell_type": "markdown",
   "metadata": {
    "slideshow": {
     "slide_type": "skip"
    }
   },
   "source": [
    "Getting back to the basics: note how the syntax we have just used shows how strings and lists are basically the same thing -- strings are really just particular types of lists, i.e. lists containing only alphanumeric characters as elements.\n",
    "\n",
    "What's cool is that most of the built-in stuff that is available for strings is also available for lists -- and, in fact, for any type of sequence (we'll meet others later)."
   ]
  },
  {
   "cell_type": "markdown",
   "metadata": {
    "slideshow": {
     "slide_type": "fragment"
    }
   },
   "source": [
    "Slicing, length checking etc all still work in exactly the same way as for strings:"
   ]
  },
  {
   "cell_type": "code",
   "execution_count": null,
   "metadata": {
    "slideshow": {
     "slide_type": "skip"
    }
   },
   "outputs": [],
   "source": [
    "a = [1, 2, 3]"
   ]
  },
  {
   "cell_type": "code",
   "execution_count": null,
   "metadata": {
    "slideshow": {
     "slide_type": "skip"
    }
   },
   "outputs": [],
   "source": [
    "x = len(a)\n",
    "print(x)"
   ]
  },
  {
   "cell_type": "code",
   "execution_count": null,
   "metadata": {
    "slideshow": {
     "slide_type": "skip"
    }
   },
   "outputs": [],
   "source": [
    "b = a[:2]"
   ]
  },
  {
   "cell_type": "code",
   "execution_count": null,
   "metadata": {
    "slideshow": {
     "slide_type": "skip"
    }
   },
   "outputs": [],
   "source": [
    "print(b)"
   ]
  },
  {
   "cell_type": "markdown",
   "metadata": {
    "slideshow": {
     "slide_type": "skip"
    }
   },
   "source": [
    "Note that when you slice a list, the result is always another list, even if the new list is empty or contains only a single element:"
   ]
  },
  {
   "cell_type": "code",
   "execution_count": null,
   "metadata": {
    "slideshow": {
     "slide_type": "skip"
    }
   },
   "outputs": [],
   "source": [
    "b = a[:1]"
   ]
  },
  {
   "cell_type": "code",
   "execution_count": null,
   "metadata": {
    "slideshow": {
     "slide_type": "skip"
    }
   },
   "outputs": [],
   "source": [
    "print(b)"
   ]
  },
  {
   "cell_type": "code",
   "execution_count": null,
   "metadata": {
    "slideshow": {
     "slide_type": "skip"
    }
   },
   "outputs": [],
   "source": [
    "type(b)"
   ]
  },
  {
   "cell_type": "markdown",
   "metadata": {
    "slideshow": {
     "slide_type": "skip"
    }
   },
   "source": [
    "Unlike strings, lists are \"mutable\":\n",
    "\n",
    "* we can change individual elements just by reassigning them"
   ]
  },
  {
   "cell_type": "code",
   "execution_count": null,
   "metadata": {
    "slideshow": {
     "slide_type": "skip"
    }
   },
   "outputs": [],
   "source": [
    "a = [1, 2, 3]"
   ]
  },
  {
   "cell_type": "code",
   "execution_count": null,
   "metadata": {
    "slideshow": {
     "slide_type": "skip"
    }
   },
   "outputs": [],
   "source": [
    "a[1] = 'hello'"
   ]
  },
  {
   "cell_type": "code",
   "execution_count": null,
   "metadata": {
    "slideshow": {
     "slide_type": "skip"
    }
   },
   "outputs": [],
   "source": [
    "print(a)"
   ]
  },
  {
   "cell_type": "markdown",
   "metadata": {
    "slideshow": {
     "slide_type": "slide"
    }
   },
   "source": [
    "#### Tuples"
   ]
  },
  {
   "cell_type": "markdown",
   "metadata": {
    "slideshow": {
     "slide_type": "skip"
    }
   },
   "source": [
    "The final sequence data type we'll deal with for the moment are *tuples*. \n",
    "\n",
    "<B><B> NOTE DIFFERENCE BETWEEN LIST and TUPLE <B><B>"
   ]
  },
  {
   "cell_type": "markdown",
   "metadata": {
    "slideshow": {
     "slide_type": "fragment"
    }
   },
   "source": [
    "Tuples are really the same as lists, except that -- like strings -- they are \"immutable\": \n",
    "* you cannot change an individual element of a tuple once you've assigned it."
   ]
  },
  {
   "cell_type": "markdown",
   "metadata": {
    "slideshow": {
     "slide_type": "slide"
    }
   },
   "source": [
    "Whereas lists are assigned via square brackets [], tuples can be assigned in two ways \n",
    "* parentheses () \n",
    "* no brackets at all, just commas"
   ]
  },
  {
   "cell_type": "code",
   "execution_count": null,
   "metadata": {
    "slideshow": {
     "slide_type": "fragment"
    }
   },
   "outputs": [],
   "source": [
    "a = [1, 2, 3]\n",
    "b = tuple(a)\n",
    "print(a)\n",
    "a[0] = 10\n",
    "\n",
    "print(a)\n",
    "print(b)"
   ]
  },
  {
   "cell_type": "code",
   "execution_count": null,
   "metadata": {
    "slideshow": {
     "slide_type": "fragment"
    }
   },
   "outputs": [],
   "source": [
    "print(a)"
   ]
  },
  {
   "cell_type": "code",
   "execution_count": null,
   "metadata": {
    "slideshow": {
     "slide_type": "fragment"
    }
   },
   "outputs": [],
   "source": [
    "b = 1, 2, 3"
   ]
  },
  {
   "cell_type": "code",
   "execution_count": null,
   "metadata": {
    "slideshow": {
     "slide_type": "fragment"
    }
   },
   "outputs": [],
   "source": [
    "print(type(a))"
   ]
  },
  {
   "cell_type": "code",
   "execution_count": null,
   "metadata": {
    "slideshow": {
     "slide_type": "fragment"
    }
   },
   "outputs": [],
   "source": [
    "print(type(b))"
   ]
  },
  {
   "cell_type": "markdown",
   "metadata": {
    "slideshow": {
     "slide_type": "slide"
    }
   },
   "source": [
    "What's the point of tuples? \n",
    "\n",
    "Well, you might want to set up a list that a program needs, but which you want to make absolutely sure the program cannot change. However..."
   ]
  },
  {
   "cell_type": "markdown",
   "metadata": {
    "slideshow": {
     "slide_type": "slide"
    }
   },
   "source": [
    "The most common use of tuples is for the purpose of assigning multiple variables in one go.\n",
    "\n",
    "This can be really useful. For example, we'll learn about \"functions\" tomorrow, which are self-contained bits of code that operate on some input we give them and return some output. Functions often need to return more than one \"thing\", and that is done via tuples.\n",
    "\n",
    "But tuples can also be useful just in general. For example, the existence of tuples allows us to write:"
   ]
  },
  {
   "cell_type": "code",
   "execution_count": null,
   "metadata": {
    "slideshow": {
     "slide_type": "fragment"
    }
   },
   "outputs": [],
   "source": [
    "a, b, c, = 1, 2, 3\n",
    "\n",
    "a, b = b, a"
   ]
  },
  {
   "cell_type": "code",
   "execution_count": null,
   "metadata": {
    "slideshow": {
     "slide_type": "fragment"
    }
   },
   "outputs": [],
   "source": [
    "print(a,b)"
   ]
  },
  {
   "cell_type": "markdown",
   "metadata": {
    "slideshow": {
     "slide_type": "skip"
    }
   },
   "source": [
    "Note that, when we do that, we're not actually creating a variable that's a tuple. It's the complete expressions on the left and right side of the assignment that are tuples. So we're really just using the fact that tuples exist to provide us with a handy short cut. One particularly useful aspect of this is that it allows us to carry out \"instantaneous swaps\" of variables. Let's explore this....\n",
    "\n",
    "#### Exercise: Swapping with and without tuples\n",
    "\n",
    "It is extremely common in programming that we want to swap the values of two variables. Without using tuples, write a little program that assigns the values 1 and 2 to two variables a and b, respectively, and which then swaps these values. The outcome should be that a contains the value 2, while b contains the value 1."
   ]
  },
  {
   "cell_type": "code",
   "execution_count": null,
   "metadata": {
    "slideshow": {
     "slide_type": "skip"
    }
   },
   "outputs": [],
   "source": [
    "a = 1"
   ]
  },
  {
   "cell_type": "code",
   "execution_count": null,
   "metadata": {
    "slideshow": {
     "slide_type": "skip"
    }
   },
   "outputs": [],
   "source": [
    "b = 2"
   ]
  },
  {
   "cell_type": "code",
   "execution_count": null,
   "metadata": {
    "slideshow": {
     "slide_type": "skip"
    }
   },
   "outputs": [],
   "source": [
    "temp = a"
   ]
  },
  {
   "cell_type": "code",
   "execution_count": null,
   "metadata": {
    "slideshow": {
     "slide_type": "skip"
    }
   },
   "outputs": [],
   "source": [
    "a = b"
   ]
  },
  {
   "cell_type": "code",
   "execution_count": null,
   "metadata": {
    "slideshow": {
     "slide_type": "skip"
    }
   },
   "outputs": [],
   "source": [
    "b = temp"
   ]
  },
  {
   "cell_type": "code",
   "execution_count": null,
   "metadata": {
    "slideshow": {
     "slide_type": "skip"
    }
   },
   "outputs": [],
   "source": [
    "print(a)"
   ]
  },
  {
   "cell_type": "code",
   "execution_count": null,
   "metadata": {
    "slideshow": {
     "slide_type": "skip"
    }
   },
   "outputs": [],
   "source": [
    "print(b)"
   ]
  },
  {
   "cell_type": "markdown",
   "metadata": {
    "slideshow": {
     "slide_type": "skip"
    }
   },
   "source": [
    "Now do the same swap with tuples."
   ]
  },
  {
   "cell_type": "code",
   "execution_count": null,
   "metadata": {
    "slideshow": {
     "slide_type": "skip"
    }
   },
   "outputs": [],
   "source": [
    "a = 1"
   ]
  },
  {
   "cell_type": "code",
   "execution_count": null,
   "metadata": {
    "slideshow": {
     "slide_type": "skip"
    }
   },
   "outputs": [],
   "source": [
    "b = 2"
   ]
  },
  {
   "cell_type": "code",
   "execution_count": null,
   "metadata": {
    "slideshow": {
     "slide_type": "skip"
    }
   },
   "outputs": [],
   "source": [
    "a, b = b, a"
   ]
  },
  {
   "cell_type": "code",
   "execution_count": null,
   "metadata": {
    "slideshow": {
     "slide_type": "skip"
    }
   },
   "outputs": [],
   "source": [
    "print(a)"
   ]
  },
  {
   "cell_type": "code",
   "execution_count": null,
   "metadata": {
    "slideshow": {
     "slide_type": "skip"
    }
   },
   "outputs": [],
   "source": [
    "print(b)"
   ]
  },
  {
   "cell_type": "markdown",
   "metadata": {
    "slideshow": {
     "slide_type": "skip"
    }
   },
   "source": [
    "Pretty convenient!"
   ]
  },
  {
   "cell_type": "code",
   "execution_count": null,
   "metadata": {
    "slideshow": {
     "slide_type": "skip"
    }
   },
   "outputs": [],
   "source": [
    "a = 1\n",
    "b = 2\n",
    "print(a, b)\n",
    "a, b = b, a\n",
    "print(a, b)"
   ]
  },
  {
   "cell_type": "markdown",
   "metadata": {
    "slideshow": {
     "slide_type": "slide"
    }
   },
   "source": [
    "### Logicals, aka booleans\n",
    "\n",
    "*Booleans* are another important data type. Booleans are objects that can only have the values *True* or *False*. As we will see, they can be quite useful. For example, we often need to have conditional expressions like \"if A is true, do B\" in our programs. In such expressions, A is a boolean."
   ]
  },
  {
   "cell_type": "markdown",
   "metadata": {
    "slideshow": {
     "slide_type": "fragment"
    }
   },
   "source": [
    "In order to construct booleans, we need some special operators. "
   ]
  },
  {
   "cell_type": "markdown",
   "metadata": {
    "slideshow": {
     "slide_type": "skip"
    }
   },
   "source": [
    "For example, we want to be able to evaluate statements like \"is A = 2?\", but, as we have seen, the \"=\" operator is interpreted by python as an *assignment* (i.e. it *sets* A to 2 -- it doesn't test if A actually *is* 2). Python uses the \"==\" operator for this purpose. "
   ]
  },
  {
   "cell_type": "code",
   "execution_count": null,
   "metadata": {
    "slideshow": {
     "slide_type": "slide"
    }
   },
   "outputs": [],
   "source": [
    "a = 1\n",
    "b = 2\n",
    "\n",
    "bool_var = (a == b) # logical \"is this equal to\" (True/False)\n",
    "\n",
    "print(bool_var)"
   ]
  },
  {
   "cell_type": "markdown",
   "metadata": {
    "slideshow": {
     "slide_type": "skip"
    }
   },
   "source": [
    "\"(a == b)\" is a valid logical (boolean) expression, so Python evaluates it and tells us the result. "
   ]
  },
  {
   "cell_type": "markdown",
   "metadata": {
    "slideshow": {
     "slide_type": "slide"
    }
   },
   "source": [
    "Note that we can also assign boolean variables directly:"
   ]
  },
  {
   "cell_type": "code",
   "execution_count": null,
   "metadata": {
    "slideshow": {
     "slide_type": "fragment"
    }
   },
   "outputs": [],
   "source": [
    "a = True\n",
    "b = False\n",
    "\n",
    "print(type(a))\n",
    "print(a)\n",
    "print()\n",
    "\n",
    "print(type(b))\n",
    "print(b)"
   ]
  },
  {
   "cell_type": "markdown",
   "metadata": {
    "slideshow": {
     "slide_type": "skip"
    }
   },
   "source": [
    "There are also a few additional boolean operators we need to know:"
   ]
  },
  {
   "cell_type": "code",
   "execution_count": null,
   "metadata": {
    "slideshow": {
     "slide_type": "fragment"
    }
   },
   "outputs": [],
   "source": [
    "a = 1\n",
    "b = 2\n",
    "bool_var = (a != b) #logical \"is this NOT equal to\" (True/False)\n",
    "\n",
    "print(bool_var)"
   ]
  },
  {
   "cell_type": "code",
   "execution_count": null,
   "metadata": {
    "slideshow": {
     "slide_type": "fragment"
    }
   },
   "outputs": [],
   "source": [
    "a = True\n",
    "b = False\n",
    "\n",
    "bool_var = a and b   # logical AND\n",
    "                     # \"are BOTH of these things true?\" \n",
    "                     # (True/False)\n",
    "        \n",
    "print(bool_var)"
   ]
  },
  {
   "cell_type": "code",
   "execution_count": null,
   "metadata": {
    "slideshow": {
     "slide_type": "fragment"
    }
   },
   "outputs": [],
   "source": [
    "a = True\n",
    "b = False\n",
    "\n",
    "bool_var = a or b     #logical OR\n",
    "                      # \"is EITHER of of these things true?\" \n",
    "                      # (True/False)\n",
    "\n",
    "print(bool_var)"
   ]
  },
  {
   "cell_type": "code",
   "execution_count": null,
   "metadata": {
    "slideshow": {
     "slide_type": "fragment"
    }
   },
   "outputs": [],
   "source": [
    "a = 1\n",
    "b = 1\n",
    "\n",
    "bool_var = not (a == b)    # logical NOT\n",
    "                           # changes True into False \n",
    "                           # (and vice versa)\n",
    "\n",
    "print(bool_var)"
   ]
  },
  {
   "cell_type": "code",
   "execution_count": null,
   "metadata": {
    "slideshow": {
     "slide_type": "fragment"
    }
   },
   "outputs": [],
   "source": [
    "a = 1\n",
    "b = 2\n",
    "bool_var = (a > b)    # logical GREATER THAN \n",
    "                      # i.e. \"is a greater than b\"?\n",
    "                      # (True/False)\n",
    "\n",
    "print(bool_var)"
   ]
  },
  {
   "cell_type": "code",
   "execution_count": null,
   "metadata": {
    "slideshow": {
     "slide_type": "fragment"
    }
   },
   "outputs": [],
   "source": [
    "a = 1\n",
    "b = 1\n",
    "\n",
    "bool_var = (a >= b)   # logical GREATER THAN OR EQUAL TO\n",
    "                      # i.e. \"is a greater than or equal to b\"?\n",
    "                      # (True/False)\n",
    "\n",
    "print(bool_var)"
   ]
  },
  {
   "cell_type": "markdown",
   "metadata": {
    "slideshow": {
     "slide_type": "skip"
    }
   },
   "source": [
    "Hopefully these are all pretty self-explanatory. (And of course there are \"less than\" and \"less than or equal to\" operators also.)\n",
    "\n",
    "\n",
    "Note, by the way, how we have used parentheses \"()\" to make sure it's clear what order we want things to be evaluated in. In the cases above, this wasn't really necessary, but long/complex boolean expressions can be almost impossible to parse without this. Any boolean expression that is valid with parentheses would also be valid without -- but it wouldn't necessarily do what we intended. Without parentheses, Python will basically just execute/evaluate expressions as it encounters them. Don't be be lazy -- use parentheses!"
   ]
  },
  {
   "cell_type": "markdown",
   "metadata": {
    "slideshow": {
     "slide_type": "skip"
    }
   },
   "source": [
    "#### Exercise: Messing with booleans\n",
    "\n",
    "Create some variables of all the data types you've met so far. Then create complex boolean expressions/variables with them, including expressions that include more than one type within them. An easy example would be:"
   ]
  },
  {
   "cell_type": "code",
   "execution_count": null,
   "metadata": {
    "slideshow": {
     "slide_type": "skip"
    }
   },
   "outputs": [],
   "source": [
    "a = 1"
   ]
  },
  {
   "cell_type": "code",
   "execution_count": null,
   "metadata": {
    "slideshow": {
     "slide_type": "skip"
    }
   },
   "outputs": [],
   "source": [
    "b = 2"
   ]
  },
  {
   "cell_type": "code",
   "execution_count": null,
   "metadata": {
    "slideshow": {
     "slide_type": "skip"
    }
   },
   "outputs": [],
   "source": [
    "c = 1.0"
   ]
  },
  {
   "cell_type": "code",
   "execution_count": null,
   "metadata": {
    "slideshow": {
     "slide_type": "skip"
    }
   },
   "outputs": [],
   "source": [
    "d = 1.0"
   ]
  },
  {
   "cell_type": "code",
   "execution_count": null,
   "metadata": {
    "slideshow": {
     "slide_type": "skip"
    }
   },
   "outputs": [],
   "source": [
    "e = (a == b) or (c == d)"
   ]
  },
  {
   "cell_type": "code",
   "execution_count": null,
   "metadata": {
    "slideshow": {
     "slide_type": "skip"
    }
   },
   "outputs": [],
   "source": [
    "print(e)"
   ]
  },
  {
   "cell_type": "markdown",
   "metadata": {
    "slideshow": {
     "slide_type": "skip"
    }
   },
   "source": [
    "#### Exercise: Confuse your neighbour\n",
    "\n",
    "Try a bunch more complicated logical expressions. See if you can create something so complex that your neighbour can't predict the outcome anymore.\n",
    "\n",
    "#### Exercise: Comparing different types?\n",
    "\n",
    "What happens when you try to actually *compare* things that don't have the same data type, e.g. \"1 == 2.0\"? Is this allowed?\n"
   ]
  },
  {
   "cell_type": "code",
   "execution_count": null,
   "metadata": {},
   "outputs": [],
   "source": [
    "a = 1 \n",
    "b = 1.0\n",
    "\n",
    "bool_var = (a == b) # logical GREATER THAN OR EQUAL TO\n",
    "\n",
    "                  # i.e. \"is a greater than or equal to b\"?\n",
    "                  # (True/False)\n",
    "print(bool_var)"
   ]
  },
  {
   "cell_type": "markdown",
   "metadata": {
    "slideshow": {
     "slide_type": "skip"
    }
   },
   "source": [
    "#### Exercise: Operators\n",
    "\n",
    "Write and run some python snippets that use all of the operators and data types above. Try to really get a feel for how they work. This means putting together increasingly complex expressions that involve multiple data types and operators and predicting what they will evaluate to. Here is just one example:"
   ]
  },
  {
   "cell_type": "code",
   "execution_count": null,
   "metadata": {
    "slideshow": {
     "slide_type": "skip"
    }
   },
   "outputs": [],
   "source": [
    "a = [1, 2.0, True, \"Blue\"]\n",
    "b = len(a)\n",
    "c = (a[b-4] > 2) or (True)\n",
    "print(c)"
   ]
  },
  {
   "cell_type": "markdown",
   "metadata": {
    "slideshow": {
     "slide_type": "skip"
    }
   },
   "source": [
    "This is actually a really silly example (and yours should be better). Do you know why?"
   ]
  },
  {
   "cell_type": "markdown",
   "metadata": {
    "collapsed": true,
    "jupyter": {
     "outputs_hidden": true
    },
    "slideshow": {
     "slide_type": "slide"
    }
   },
   "source": [
    "## Conditionals"
   ]
  },
  {
   "cell_type": "markdown",
   "metadata": {
    "collapsed": true,
    "jupyter": {
     "outputs_hidden": true
    },
    "slideshow": {
     "slide_type": "skip"
    }
   },
   "source": [
    "Remember how we said last week that programming is easy because you can really only do 3 distinct things. These building blocks are:\n",
    "\n",
    "1. \"assignments\" (e.g. \"x = 3\" or \"y = 5*x\"); \n",
    "2. \"conditionals\" (e.g. \"if A is true, then do B\");\n",
    "3. \"loops\" (e.g. \"do the following stuff 100 times\").\n",
    "\n",
    "We've already seen lots of examples of assignments, so it's time to move onto conditionals."
   ]
  },
  {
   "cell_type": "markdown",
   "metadata": {
    "collapsed": true,
    "jupyter": {
     "outputs_hidden": true
    },
    "slideshow": {
     "slide_type": "skip"
    }
   },
   "source": [
    "We've already met the boolean data type, which can take on the values *True* or *False*. You might have wondered at the time why we would need this data type. The main answer is that it allows us to us *conditionals* in our programming -- that is, we can decide to execute certain commands only if some particular condition is True."
   ]
  },
  {
   "cell_type": "markdown",
   "metadata": {
    "slideshow": {
     "slide_type": "slide"
    }
   },
   "source": [
    "### if-else\n",
    "\n",
    "If-else statements are the simplest and most common conditional flow control statements. They work exactly as you'd expect:"
   ]
  },
  {
   "cell_type": "code",
   "execution_count": null,
   "metadata": {
    "code_folding": [],
    "slideshow": {
     "slide_type": "fragment"
    }
   },
   "outputs": [],
   "source": [
    "a = 3\n",
    "b = 5\n",
    "\n",
    "if (a > b):\n",
    "    print('a is greater than b')\n",
    "else:\n",
    "    print('a is not greater than b')"
   ]
  },
  {
   "cell_type": "markdown",
   "metadata": {
    "slideshow": {
     "slide_type": "fragment"
    }
   },
   "source": [
    "Note that the expression in parenthesis is a *boolean*, i.e. something that evaluates as *True* or *False*."
   ]
  },
  {
   "cell_type": "markdown",
   "metadata": {
    "slideshow": {
     "slide_type": "skip"
    }
   },
   "source": [
    "Also, note the syntax and style: \n",
    "\n",
    "- both the \"if\" statement and the \"else\" statement have to finish with a colon \":\"\n",
    "- the next line, which contains the command that will be executed, is indented by 4 spaces."
   ]
  },
  {
   "cell_type": "markdown",
   "metadata": {
    "slideshow": {
     "slide_type": "skip"
    }
   },
   "source": [
    "If-statements can be followed by more than one line of commands:"
   ]
  },
  {
   "cell_type": "code",
   "execution_count": null,
   "metadata": {
    "slideshow": {
     "slide_type": "skip"
    }
   },
   "outputs": [],
   "source": [
    "if (a > b):\n",
    "    print('a is definitely greater than b')\n",
    "    print('and they are definitely not the same')\n",
    "else:\n",
    "    print('b is greater than a...')\n",
    "    print('or maybe they are the same')"
   ]
  },
  {
   "cell_type": "markdown",
   "metadata": {
    "slideshow": {
     "slide_type": "slide"
    }
   },
   "source": [
    "We can also have if-statements without else-statements:"
   ]
  },
  {
   "cell_type": "code",
   "execution_count": null,
   "metadata": {
    "slideshow": {
     "slide_type": "fragment"
    }
   },
   "outputs": [],
   "source": [
    "b = -5\n",
    "if (b > a):\n",
    "    print('This is getting a bit boring')\n",
    "\n",
    "print('This print statement is part of the if-statement')"
   ]
  },
  {
   "cell_type": "markdown",
   "metadata": {
    "slideshow": {
     "slide_type": "skip"
    }
   },
   "source": [
    "The expression that is tested by an if-statement is a boolean, and it can be *any* sort of boolean. So, for example, it's perfectly OK to do something like:"
   ]
  },
  {
   "cell_type": "code",
   "execution_count": null,
   "metadata": {
    "slideshow": {
     "slide_type": "skip"
    }
   },
   "outputs": [],
   "source": [
    "a = [0, 1, 2, 3, True]\n",
    "i = 3\n",
    "if (a[i]):\n",
    "    print('It is true!')"
   ]
  },
  {
   "cell_type": "markdown",
   "metadata": {
    "slideshow": {
     "slide_type": "skip"
    }
   },
   "source": [
    "Something that can be confusing is that Python additionally assignes an equivalent True or False value to numbers. Specifically, if interpreted as a boolean, the integer 0 [zero] evaluates as False; everything else evaluates as True.\n",
    "\n",
    "For example:"
   ]
  },
  {
   "cell_type": "code",
   "execution_count": null,
   "metadata": {
    "slideshow": {
     "slide_type": "skip"
    }
   },
   "outputs": [],
   "source": [
    "a = 0\n",
    "if (a):\n",
    "    print(a, ' is True')\n",
    "else:\n",
    "    print(a, ' is False')\n",
    "    \n",
    "a = 1\n",
    "if (a):\n",
    "    print(a, ' is True')\n",
    "else:\n",
    "    print(a, ' is False')\n",
    "        "
   ]
  },
  {
   "cell_type": "markdown",
   "metadata": {
    "slideshow": {
     "slide_type": "skip"
    }
   },
   "source": [
    "#### Exercise: conditionals\n",
    "\n",
    "Assign some integer variable i and write an if-else expression that tests if i is even or odd. Improve your code by using another if-statement to check that the variable i is, in fact, an integer, and to return a nice error message if it is not. \n",
    "\n",
    "Hint: you'll want to use the built-in function *type()*. Note that the possible outputs type() gives, i.e. the names of the various data types -- int, float, list... -- are *keywords* in python. That means (among other things) that an expression like the following is valid:"
   ]
  },
  {
   "cell_type": "code",
   "execution_count": null,
   "metadata": {
    "slideshow": {
     "slide_type": "skip"
    }
   },
   "outputs": [],
   "source": [
    "a = 2\n",
    "if (type(a)==int):\n",
    "    print(\"int\")"
   ]
  },
  {
   "cell_type": "markdown",
   "metadata": {
    "slideshow": {
     "slide_type": "skip"
    }
   },
   "source": [
    "Be careful though: this is another example where python does not protect you from yourself. Python allows you to use keywords as variable names -- and, if you do, you can get some very odd behavior. \n",
    "\n",
    "Add the line \"int = 5\" to the beginning of the code snippet above and rerun it. What happens? You'll want to restart the kernel (clear all assignments and outputs) after you've done this."
   ]
  },
  {
   "cell_type": "markdown",
   "metadata": {
    "slideshow": {
     "slide_type": "slide"
    }
   },
   "source": [
    "### if-elif-else\n",
    "\n",
    "Sometimes we have more than one condition that we need to test for. \n",
    "\n",
    "We could accomplish this via nested if-else statements, but this is pretty tedious and certainly not easy to read and parse."
   ]
  },
  {
   "cell_type": "code",
   "execution_count": null,
   "metadata": {
    "slideshow": {
     "slide_type": "fragment"
    }
   },
   "outputs": [],
   "source": [
    "a = -5\n",
    "\n",
    "if (a < 0):\n",
    "    print('a is negative')\n",
    "else:\n",
    "    if (a < 10):\n",
    "        print('a is positive but less than 10')\n",
    "    else:\n",
    "        if (a < 20):\n",
    "            print('a is between 11 and 19')\n",
    "        else:\n",
    "            print('a is greater than or equal to 20')\n"
   ]
  },
  {
   "cell_type": "markdown",
   "metadata": {
    "slideshow": {
     "slide_type": "slide"
    }
   },
   "source": [
    "Because this is such a pain, Python provides for a much nicer construction, the if-elif-else statement. The \"elif\" keywords stands for \"ELse IF\", and its introduction allows us to avoid horrible nested if-statements:"
   ]
  },
  {
   "cell_type": "code",
   "execution_count": null,
   "metadata": {
    "slideshow": {
     "slide_type": "fragment"
    }
   },
   "outputs": [],
   "source": [
    "a = 1\n",
    "\n",
    "if (a < 0):\n",
    "    print('a is negative')\n",
    "elif (a < 10):\n",
    "    print('a is positive but less than 10')\n",
    "elif (a < 20):\n",
    "    print('a is between 11 and 19')\n",
    "else:\n",
    "    print('a is greater than or equal to 20') \n",
    "    \n"
   ]
  },
  {
   "cell_type": "markdown",
   "metadata": {
    "slideshow": {
     "slide_type": "skip"
    }
   },
   "source": [
    "This is *much* easier to read and understand, yet accomplishes exactly the same goal.\n",
    "\n",
    "Believe it or not, that's all there is to conditionals!\n",
    "\n",
    "#### Exercise:  Predict the output I\n",
    "\n",
    "Take a look at the following piece of code and decide -- without running it -- what the value of the variable a is. Test your intuition by printing out a"
   ]
  },
  {
   "cell_type": "code",
   "execution_count": null,
   "metadata": {
    "slideshow": {
     "slide_type": "skip"
    }
   },
   "outputs": [],
   "source": [
    "a = 30\n",
    "\n",
    "if (a < 0):\n",
    "    print('a is negative')\n",
    "else:\n",
    "    if (a < 10):\n",
    "        print('a is positive but less than 10')\n",
    "    else:\n",
    "        if (a < 20):\n",
    "            print('a is between 11 and 19')\n",
    "        a = 15\n",
    "print (a)"
   ]
  },
  {
   "cell_type": "markdown",
   "metadata": {
    "slideshow": {
     "slide_type": "skip"
    }
   },
   "source": [
    "#### Exercise: Predict the output II\n",
    "\n",
    "Now take a look at the following very similar piece of code. What is the value of a at the end this time?"
   ]
  },
  {
   "cell_type": "code",
   "execution_count": null,
   "metadata": {
    "slideshow": {
     "slide_type": "skip"
    }
   },
   "outputs": [],
   "source": [
    "a = 30\n",
    "\n",
    "if (a < 0):\n",
    "    print('a is negative')\n",
    "else:\n",
    "    if (a < 10):\n",
    "        print('a is positive but less than 10')\n",
    "    else:\n",
    "        if (a < 20):\n",
    "            print('a is between 11 and 19')\n",
    "            a = 15"
   ]
  },
  {
   "cell_type": "markdown",
   "metadata": {
    "slideshow": {
     "slide_type": "skip"
    }
   },
   "source": [
    "These last two exercises teach us an important lesson: "
   ]
  },
  {
   "cell_type": "markdown",
   "metadata": {
    "slideshow": {
     "slide_type": "slide"
    }
   },
   "source": [
    "##### Indentation matters in Python"
   ]
  },
  {
   "cell_type": "markdown",
   "metadata": {
    "slideshow": {
     "slide_type": "fragment"
    }
   },
   "source": [
    "In many programming languages, indentation is purely a question of style -- you could write code without any indentation at all, and the result would always be the same. \n",
    "\n",
    "However, in Python, *indentation is part of the syntax*. \n",
    "\n",
    "It contains information that the computer needs to know in order to correctly interpret our programs. \n",
    "\n",
    "This is one reason to be extremely vigilant with coding style -- it's remarkably easy to write valid code that does *not* do what we expected it to!"
   ]
  },
  {
   "cell_type": "markdown",
   "metadata": {
    "slideshow": {
     "slide_type": "skip"
    }
   },
   "source": [
    "This important lesson is made obvious by the last two exercises: both contain exactly the same \"text\", just with different indentations. Both are valid code, but they produce different results!"
   ]
  },
  {
   "cell_type": "markdown",
   "metadata": {
    "slideshow": {
     "slide_type": "slide"
    }
   },
   "source": [
    "## Loops"
   ]
  },
  {
   "cell_type": "markdown",
   "metadata": {
    "slideshow": {
     "slide_type": "skip"
    }
   },
   "source": [
    "Let's go back to our 3 distinct building blocks:\n",
    "\n",
    "1. \"assignments\" (e.g. \"x = 3\" or \"y = 5*x\"); \n",
    "2. \"conditionals\" (e.g. \"if A is true, then do B\");\n",
    "3. \"loops\" (e.g. \"do the following stuff 100 times\").\n",
    "\n",
    "We've now covered assignments and conditions, so let's deal with loops."
   ]
  },
  {
   "cell_type": "markdown",
   "metadata": {
    "slideshow": {
     "slide_type": "skip"
    }
   },
   "source": [
    "Perhaps the greatest advantage computers have over humans is that they really don't mind -- and are very good at -- boring *repetitive* tasks. \n",
    "\n",
    "Since almost all of the things we might want to accomplish with a computer program involve doing something over and over again, we had best learn how to write code that accomplishes this in an efficient manner. "
   ]
  },
  {
   "cell_type": "markdown",
   "metadata": {
    "slideshow": {
     "slide_type": "fragment"
    }
   },
   "source": [
    "There are two basic ways of coding *iterations*, i.e. loops, in *Python*:\n",
    "\n",
    "- for-loops \n",
    "\n",
    "\n",
    "- while-loops. "
   ]
  },
  {
   "cell_type": "markdown",
   "metadata": {
    "slideshow": {
     "slide_type": "skip"
    }
   },
   "source": [
    "Let's look at them in turn."
   ]
  },
  {
   "cell_type": "markdown",
   "metadata": {
    "slideshow": {
     "slide_type": "slide"
    }
   },
   "source": [
    "### for-loops\n",
    "\n",
    "Here is a simple example of a for-loop:"
   ]
  },
  {
   "cell_type": "code",
   "execution_count": null,
   "metadata": {
    "slideshow": {
     "slide_type": "fragment"
    }
   },
   "outputs": [],
   "source": [
    "zero_to_ten = [0, 1, 2, 3, 4, 5, 6, 7, 8, 9, 10]\n",
    "\n",
    "for my_variable in zero_to_ten:\n",
    "    print('This is iteration', my_variable, 'in the loop')\n"
   ]
  },
  {
   "cell_type": "markdown",
   "metadata": {
    "slideshow": {
     "slide_type": "skip"
    }
   },
   "source": [
    "Key points to remember:\n",
    "\n",
    "- there has to be a colon delimiting the \"for\" statement\n",
    "- the body of the loop is defined by indentation\n",
    "- the statement inside the for-loop is executed once for every item in the sequence given after the \"in\" keyword\n",
    "- the loop variable \"i\" takes on each of the values of the sequence in turn\n",
    "- there has to be a colon delimiting the \"for\" statement\n",
    "\n",
    "Note how the first two points are exactly the same as for conditional statements."
   ]
  },
  {
   "cell_type": "markdown",
   "metadata": {
    "slideshow": {
     "slide_type": "skip"
    }
   },
   "source": [
    "It's important to note that the sequence that is being iterated over can be *any* type of sequence. For example, it can be a string:"
   ]
  },
  {
   "cell_type": "code",
   "execution_count": null,
   "metadata": {
    "slideshow": {
     "slide_type": "skip"
    }
   },
   "outputs": [],
   "source": [
    "s = 'This Is A String'\n",
    "for i in s:\n",
    "    print(i)"
   ]
  },
  {
   "cell_type": "markdown",
   "metadata": {
    "slideshow": {
     "slide_type": "skip"
    }
   },
   "source": [
    "Or it could be a tuple:"
   ]
  },
  {
   "cell_type": "code",
   "execution_count": null,
   "metadata": {
    "slideshow": {
     "slide_type": "skip"
    }
   },
   "outputs": [],
   "source": [
    "t = (1, 2, 3)\n",
    "for tup in t:\n",
    "    print(tup)"
   ]
  },
  {
   "cell_type": "markdown",
   "metadata": {
    "slideshow": {
     "slide_type": "skip"
    }
   },
   "source": [
    "There is also no need for it to be bound to a variable name. For example, the following is just fine:"
   ]
  },
  {
   "cell_type": "code",
   "execution_count": null,
   "metadata": {
    "slideshow": {
     "slide_type": "skip"
    }
   },
   "outputs": [],
   "source": [
    "for n in [1, 3, 5]:\n",
    "    print(n)"
   ]
  },
  {
   "cell_type": "markdown",
   "metadata": {
    "slideshow": {
     "slide_type": "skip"
    }
   },
   "source": [
    "Sequences *containing* strings are also fine:"
   ]
  },
  {
   "cell_type": "code",
   "execution_count": null,
   "metadata": {
    "slideshow": {
     "slide_type": "skip"
    }
   },
   "outputs": [],
   "source": [
    "animals = ['dog', 'cat', 'mouse']\n",
    "\n",
    "for animal in animals:\n",
    "    print('This is the', animal)"
   ]
  },
  {
   "cell_type": "markdown",
   "metadata": {
    "slideshow": {
     "slide_type": "skip"
    }
   },
   "source": [
    "The body of the loop is, of course, not limited to single statements:"
   ]
  },
  {
   "cell_type": "code",
   "execution_count": null,
   "metadata": {
    "slideshow": {
     "slide_type": "skip"
    }
   },
   "outputs": [],
   "source": [
    "numbers = [1, 2, 3, 4, 5, 6]\n",
    "\n",
    "for n in numbers:\n",
    "    print('original number', n)\n",
    "    m = n + 10\n",
    "    print('new number', m)\n",
    "    print()#empty line"
   ]
  },
  {
   "cell_type": "markdown",
   "metadata": {
    "slideshow": {
     "slide_type": "slide"
    }
   },
   "source": [
    "#### The range() function\n",
    "\n",
    "More often than not, the thing we'll iterate over is a simple numerical list. \n",
    "\n",
    "In particular, by far the most common thing to iterate over are sequences of integers that start at zero and increment by one, i.e. things like (0, 1, 2, 3) or [0, 1, 2, 3, 4, 5, 6, 7, 8]. "
   ]
  },
  {
   "cell_type": "markdown",
   "metadata": {
    "slideshow": {
     "slide_type": "slide"
    }
   },
   "source": [
    "Why is that? Because very often we will want to access each element in one or more sequences one-by-one inside the loop. So it's very convenient if the loop variable automatically takes on the relevant indices we need to do that. For example, consider the following:"
   ]
  },
  {
   "cell_type": "code",
   "execution_count": null,
   "metadata": {
    "slideshow": {
     "slide_type": "skip"
    }
   },
   "outputs": [],
   "source": [
    "animals = ['Dogs', 'Cats', 'Mice', 'Elephants']\n",
    "pref = [1, 4, 3, 2]\n",
    "furball = [False, True, False, False]\n",
    "index = [0, 1, 2, 3]\n",
    "\n",
    "for i in index:\n",
    "    if furball[i]:\n",
    "        print(animals[i], \"are number\", pref[i], \"in my list of favourite animals. They produce furballs.\")\n",
    "    else:\n",
    "        print(animals[i], \"are number\", pref[i], \"in my list of favourite animals. They don't produce furballs.\")"
   ]
  },
  {
   "cell_type": "markdown",
   "metadata": {
    "slideshow": {
     "slide_type": "skip"
    }
   },
   "source": [
    "But it's a pain to have to explicitly write down the list that provides the index by hand each time!"
   ]
  },
  {
   "cell_type": "markdown",
   "metadata": {
    "slideshow": {
     "slide_type": "skip"
    }
   },
   "source": [
    "Python provides us with a convenient built-in function for this:"
   ]
  },
  {
   "cell_type": "markdown",
   "metadata": {
    "slideshow": {
     "slide_type": "skip"
    }
   },
   "source": [
    "Here is how it works:"
   ]
  },
  {
   "cell_type": "code",
   "execution_count": null,
   "metadata": {
    "slideshow": {
     "slide_type": "fragment"
    }
   },
   "outputs": [],
   "source": [
    "for i in range(5):\n",
    "    print(i)"
   ]
  },
  {
   "cell_type": "code",
   "execution_count": null,
   "metadata": {
    "slideshow": {
     "slide_type": "fragment"
    }
   },
   "outputs": [],
   "source": [
    "a = range(5)\n",
    "for i in a:\n",
    "    print(i)"
   ]
  },
  {
   "cell_type": "markdown",
   "metadata": {
    "slideshow": {
     "slide_type": "skip"
    }
   },
   "source": [
    "So the *range()* function sort of produces a list, but *only* once you iterate over it. \n",
    "\n",
    "What do I mean by that? Isn't *a* just a list? Actually, it isn't -- it's a sort of special thing. This doesn't matter most of the time, but it's worth keeping in the back of your mind."
   ]
  },
  {
   "cell_type": "code",
   "execution_count": null,
   "metadata": {
    "slideshow": {
     "slide_type": "skip"
    }
   },
   "outputs": [],
   "source": [
    "print(type(a))"
   ]
  },
  {
   "cell_type": "markdown",
   "metadata": {
    "slideshow": {
     "slide_type": "skip"
    }
   },
   "source": [
    "The *range* function doesn't have to start at zero:"
   ]
  },
  {
   "cell_type": "code",
   "execution_count": null,
   "metadata": {
    "slideshow": {
     "slide_type": "skip"
    }
   },
   "outputs": [],
   "source": [
    "a = range(3,5)\n",
    "for i in a:\n",
    "    print(i)"
   ]
  },
  {
   "cell_type": "markdown",
   "metadata": {
    "slideshow": {
     "slide_type": "skip"
    }
   },
   "source": [
    "In fact, we can even specify step sizes other than one:"
   ]
  },
  {
   "cell_type": "code",
   "execution_count": null,
   "metadata": {
    "slideshow": {
     "slide_type": "skip"
    }
   },
   "outputs": [],
   "source": [
    "a = range(3,10,2)\n",
    "for i in a:\n",
    "    print(i)"
   ]
  },
  {
   "cell_type": "markdown",
   "metadata": {
    "slideshow": {
     "slide_type": "skip"
    }
   },
   "source": [
    "The step sizes don't even have to be positive:"
   ]
  },
  {
   "cell_type": "code",
   "execution_count": null,
   "metadata": {
    "slideshow": {
     "slide_type": "skip"
    }
   },
   "outputs": [],
   "source": [
    "a = range(10,0,-1)\n",
    "for i in a:\n",
    "    print(i)"
   ]
  },
  {
   "cell_type": "markdown",
   "metadata": {
    "slideshow": {
     "slide_type": "skip"
    }
   },
   "source": [
    "The general format of the range statement is:\n",
    "\n",
    "- range([start], stop [,step])\n",
    "\n",
    "where the square brackets indicates optional arguments (i.e. things we can omit). \n",
    "\n",
    "This returns a list of integers from \"start\" (or zero, if \"start\" is not specified), up to *but not including* \"stop\", in steps of \"step\"."
   ]
  },
  {
   "cell_type": "markdown",
   "metadata": {
    "slideshow": {
     "slide_type": "skip"
    }
   },
   "source": [
    "The range() function is particularly useful in combination with the built-in len() function for sequences (which return the length of the sequence, i.e. the number of elements in it."
   ]
  },
  {
   "cell_type": "code",
   "execution_count": null,
   "metadata": {
    "slideshow": {
     "slide_type": "skip"
    }
   },
   "outputs": [],
   "source": [
    "a = ['dog', 'cat', 1, 4, 3.4]\n",
    "x = range(len(a))\n",
    "for i in x:\n",
    "    print(a[i])"
   ]
  },
  {
   "cell_type": "markdown",
   "metadata": {
    "slideshow": {
     "slide_type": "skip"
    }
   },
   "source": [
    "Let's reconsider our previous example, but this time using range()"
   ]
  },
  {
   "cell_type": "markdown",
   "metadata": {
    "slideshow": {
     "slide_type": "slide"
    }
   },
   "source": [
    "#### 'LOOP' to be continued in lesson 3 .....\n"
   ]
  },
  {
   "cell_type": "markdown",
   "metadata": {
    "slideshow": {
     "slide_type": "slide"
    }
   },
   "source": [
    "#### Exercise: Checking the types of list elements\n",
    "\n",
    "Create a list called *mylist* that contains data of all different types, including another list that contains integers, floats and logicals. Now write a code snippet that writes out the type of each element in the outer and inner lists and, if the type is *int*, writes out whether the integer is even or odd. The output should also tell the user whether we're currently looking at the inner or outer lists."
   ]
  },
  {
   "cell_type": "markdown",
   "metadata": {
    "slideshow": {
     "slide_type": "slide"
    }
   },
   "source": [
    "#### Exercise(s): Looping until you can't loop anymore\n",
    "\n",
    "Since looping is such a fundamental concept in programming, Tony Bird created an entire small Notebook with loopy exercises for you. They're grrrreat -- have a go at them!"
   ]
  },
  {
   "cell_type": "markdown",
   "metadata": {
    "slideshow": {
     "slide_type": "skip"
    }
   },
   "source": [
    "## Reminder: Big Picture Exercise\n",
    "\n",
    "<B><B>*Write Python code that will take a list of numbers and sort it into ascending order*\n",
    "\n",
    "Let's say that your input list is called *inlist* and your output list *outlist*. Ideally, your code should be able to handle input lists of arbitrary length. But that's for later, not for today.<B><B>\n",
    "    \n",
    "Hints:\n",
    "step 1. Initialize a list of numbers;\n",
    "step 2. Print original elements (this is for checking purpose);\n",
    "step 3. Run two loops (nested or one inside another) for going over the list elements;\n",
    "step 3. Use len(list_name) to get the length of list;\n",
    "step 4. Within loop, use \"if\" conditional statements;\n",
    "step 5. Print sorted list.\n",
    "\n",
    "\n",
    "Of course, some you might come up with powerful alternative algorithms which is great!\n",
    "\n",
    "<B><B> Similarly, you could write another code snippet to sort the list of numbers in descending order.<B><B>"
   ]
  },
  {
   "cell_type": "code",
   "execution_count": null,
   "metadata": {},
   "outputs": [],
   "source": []
  }
 ],
 "metadata": {
  "celltoolbar": "Slideshow",
  "hide_input": false,
  "kernelspec": {
   "display_name": "Python 3 (ipykernel)",
   "language": "python",
   "name": "python3"
  },
  "language_info": {
   "codemirror_mode": {
    "name": "ipython",
    "version": 3
   },
   "file_extension": ".py",
   "mimetype": "text/x-python",
   "name": "python",
   "nbconvert_exporter": "python",
   "pygments_lexer": "ipython3",
   "version": "3.12.6"
  },
  "latex_envs": {
   "bibliofile": "biblio.bib",
   "cite_by": "apalike",
   "current_citInitial": 1,
   "eqLabelWithNumbers": true,
   "eqNumInitial": 0
  },
  "toc": {
   "base_numbering": 1,
   "nav_menu": {},
   "number_sections": true,
   "sideBar": true,
   "skip_h1_title": true,
   "title_cell": "Table of Contents",
   "title_sidebar": "Contents",
   "toc_cell": true,
   "toc_position": {},
   "toc_section_display": true,
   "toc_window_display": false
  }
 },
 "nbformat": 4,
 "nbformat_minor": 4
}
