{
 "cells": [
  {
   "cell_type": "markdown",
   "metadata": {
    "toc": true
   },
   "source": [
    "<h1>Table of Contents<span class=\"tocSkip\"></span></h1>\n",
    "<div class=\"toc\"><ul class=\"toc-item\"><li><span><a href=\"#Big-Picture-Exercise\" data-toc-modified-id=\"Big-Picture-Exercise-1\"><span class=\"toc-item-num\">1&nbsp;&nbsp;</span>Big Picture Exercise</a></span></li><li><span><a href=\"#What-is-the-point-of-statistics-and-data-analysis?\" data-toc-modified-id=\"What-is-the-point-of-statistics-and-data-analysis?-2\"><span class=\"toc-item-num\">2&nbsp;&nbsp;</span>What is the point of statistics and data analysis?</a></span><ul class=\"toc-item\"><li><span><a href=\"#The-big-picture\" data-toc-modified-id=\"The-big-picture-2.1\"><span class=\"toc-item-num\">2.1&nbsp;&nbsp;</span>The big picture</a></span></li><li><span><a href=\"#Statistics-and-data-analysis-in-your-physics-course\" data-toc-modified-id=\"Statistics-and-data-analysis-in-your-physics-course-2.2\"><span class=\"toc-item-num\">2.2&nbsp;&nbsp;</span>Statistics and data analysis in your physics course</a></span></li></ul></li><li><span><a href=\"#Inspecting-Data:-histograms,-scatter-plots-and-logarithmic-axes\" data-toc-modified-id=\"Inspecting-Data:-histograms,-scatter-plots-and-logarithmic-axes-3\"><span class=\"toc-item-num\">3&nbsp;&nbsp;</span>Inspecting Data: histograms, scatter plots and logarithmic axes</a></span></li><li><span><a href=\"#Two-dimensional-data\" data-toc-modified-id=\"Two-dimensional-data-4\"><span class=\"toc-item-num\">4&nbsp;&nbsp;</span>Two-dimensional data</a></span><ul class=\"toc-item\"><li><span><a href=\"#A-simple-scatter-plot:-y-vs-x\" data-toc-modified-id=\"A-simple-scatter-plot:-y-vs-x-4.1\"><span class=\"toc-item-num\">4.1&nbsp;&nbsp;</span>A simple scatter plot: y vs x</a></span><ul class=\"toc-item\"><li><ul class=\"toc-item\"><li><span><a href=\"#Exercise:\" data-toc-modified-id=\"Exercise:-4.1.0.1\"><span class=\"toc-item-num\">4.1.0.1&nbsp;&nbsp;</span>Exercise:</a></span></li></ul></li></ul></li><li><span><a href=\"#A-simple-log-log-scatter-plot:-is-my-data-a-power-law?\" data-toc-modified-id=\"A-simple-log-log-scatter-plot:-is-my-data-a-power-law?-4.2\"><span class=\"toc-item-num\">4.2&nbsp;&nbsp;</span>A simple log-log scatter plot: is my data a power law?</a></span><ul class=\"toc-item\"><li><ul class=\"toc-item\"><li><span><a href=\"#Exercise\" data-toc-modified-id=\"Exercise-4.2.0.1\"><span class=\"toc-item-num\">4.2.0.1&nbsp;&nbsp;</span>Exercise</a></span></li></ul></li></ul></li><li><span><a href=\"#A-simple-semi-log-scatter-plot:-is-my-data-described-by-an-exponential-function?\" data-toc-modified-id=\"A-simple-semi-log-scatter-plot:-is-my-data-described-by-an-exponential-function?-4.3\"><span class=\"toc-item-num\">4.3&nbsp;&nbsp;</span>A simple semi-log scatter plot: is my data described by an exponential function?</a></span><ul class=\"toc-item\"><li><ul class=\"toc-item\"><li><span><a href=\"#Exercise\" data-toc-modified-id=\"Exercise-4.3.0.1\"><span class=\"toc-item-num\">4.3.0.1&nbsp;&nbsp;</span>Exercise</a></span></li><li><span><a href=\"#Exercise\" data-toc-modified-id=\"Exercise-4.3.0.2\"><span class=\"toc-item-num\">4.3.0.2&nbsp;&nbsp;</span>Exercise</a></span></li></ul></li></ul></li></ul></li><li><span><a href=\"#One-dimensional-data\" data-toc-modified-id=\"One-dimensional-data-5\"><span class=\"toc-item-num\">5&nbsp;&nbsp;</span>One-dimensional data</a></span><ul class=\"toc-item\"><li><ul class=\"toc-item\"><li><ul class=\"toc-item\"><li><span><a href=\"#Exercise\" data-toc-modified-id=\"Exercise-5.0.0.1\"><span class=\"toc-item-num\">5.0.0.1&nbsp;&nbsp;</span>Exercise</a></span></li></ul></li></ul></li></ul></li><li><span><a href=\"#Summarizing-Data:-A-Practical-Example\" data-toc-modified-id=\"Summarizing-Data:-A-Practical-Example-6\"><span class=\"toc-item-num\">6&nbsp;&nbsp;</span>Summarizing Data: A Practical Example</a></span><ul class=\"toc-item\"><li><span><a href=\"#&quot;Measures-of-central-tendency&quot;:-mean,-median-and-mode\" data-toc-modified-id=\"&quot;Measures-of-central-tendency&quot;:-mean,-median-and-mode-6.1\"><span class=\"toc-item-num\">6.1&nbsp;&nbsp;</span>\"Measures of central tendency\": mean, median and mode</a></span><ul class=\"toc-item\"><li><span><a href=\"#The-mean\" data-toc-modified-id=\"The-mean-6.1.1\"><span class=\"toc-item-num\">6.1.1&nbsp;&nbsp;</span>The mean</a></span></li><li><span><a href=\"#The-median\" data-toc-modified-id=\"The-median-6.1.2\"><span class=\"toc-item-num\">6.1.2&nbsp;&nbsp;</span>The median</a></span></li><li><span><a href=\"#The-mode\" data-toc-modified-id=\"The-mode-6.1.3\"><span class=\"toc-item-num\">6.1.3&nbsp;&nbsp;</span>The mode</a></span></li></ul></li><li><span><a href=\"#&quot;Measures-of-spread&quot;:-standard-deviation,-full-width-at-half-maximum-and-semi-interquartile-range\" data-toc-modified-id=\"&quot;Measures-of-spread&quot;:-standard-deviation,-full-width-at-half-maximum-and-semi-interquartile-range-6.2\"><span class=\"toc-item-num\">6.2&nbsp;&nbsp;</span>\"Measures of spread\": standard deviation, full-width at half-maximum and semi-interquartile range</a></span><ul class=\"toc-item\"><li><span><a href=\"#The-standard-deviation\" data-toc-modified-id=\"The-standard-deviation-6.2.1\"><span class=\"toc-item-num\">6.2.1&nbsp;&nbsp;</span>The standard deviation</a></span></li><li><span><a href=\"#The-semi-interquartile-range\" data-toc-modified-id=\"The-semi-interquartile-range-6.2.2\"><span class=\"toc-item-num\">6.2.2&nbsp;&nbsp;</span>The semi-interquartile range</a></span></li><li><span><a href=\"#The-full-width-at-half-maximum\" data-toc-modified-id=\"The-full-width-at-half-maximum-6.2.3\"><span class=\"toc-item-num\">6.2.3&nbsp;&nbsp;</span>The full-width at half-maximum</a></span></li></ul></li></ul></li><li><span><a href=\"#Big-Picture-Exercise\" data-toc-modified-id=\"Big-Picture-Exercise-7\"><span class=\"toc-item-num\">7&nbsp;&nbsp;</span>Big Picture Exercise</a></span></li></ul></div>"
   ]
  },
  {
   "cell_type": "markdown",
   "metadata": {
    "slideshow": {
     "slide_type": "slide"
    }
   },
   "source": [
    "# Session 6:\n",
    "\n",
    "# key concepts in statistics and data analysis I:\n",
    "# inspecting and summarizing data\n",
    "# Plotting using Matplotlib"
   ]
  },
  {
   "cell_type": "markdown",
   "metadata": {},
   "source": [
    "## Big Picture Exercise\n",
    "\n",
    "\n",
    "Along with this notebook, I've distributed a publicly available data set containing the height and weight (and some other information) for about 6000 adults. I obtained this data from here http://mreed.umtri.umich.edu/mreed/downloads.html#ansur2 -- it's from the ANSUR2 US Army Anthropometry survey.\n",
    "\n",
    "See if you can apply the things we have learned today to inspect and summarize this data set. \n",
    "\n",
    "There are obviously *many* questions you could look at, but some of the ones you might want to investigate are:\n",
    "\n",
    "* what are the distributions of heights and weights for people identifying as male vs female?\n",
    "    * what are the means, medians and modes?\n",
    "    * what are the standard deviations?\n",
    "    * are the distributions symmetric?\n",
    "    \n",
    "* are height and weight correlated?\n",
    "    * is the correlation different for  people identifying as male vs female?\n",
    "    * is the correlation roughly what you might expect? \n",
    "        * Hint: what might you expect? We are all made up mostly of water, so we all have a similar mean density. So suppose we model people as spheres (or cylinders, or whatever) -- can we use that to predict a relationship between height and weight? \n",
    "    \n",
    "Note that the data file looks like this:\n",
    "\n",
    "        #Gender,Age,Heightin,Weightlbs,WritingPreference\n",
    "        M,41,71,180,R\n",
    "        M,35,68,160,L\n",
    "        M,42,68,205,L\n",
    "        M,31,66,175,R\n",
    "        M,21,77,213,R\n",
    "        M,39,69,175,R\n",
    "        M,32,72,250,R\n",
    "        M,23,74,211,R\n",
    "        M,36,70,220,R\n",
    "        M,23,72,160,L\n",
    "        M,32,70,195,R\n",
    "        M,28,69,155,N\n",
    "        .....\n",
    "\n",
    "So it's a comma-separated format, containing gender (coded M/F), age (in years), height (in inches), weight (in pounds) and handedness (R/L/N, with N presumably coding for \"neither\"). All the numbers are given as integers.\n",
    "\n",
    "You can read in the data like this:"
   ]
  },
  {
   "cell_type": "code",
   "execution_count": 25,
   "metadata": {},
   "outputs": [
    {
     "name": "stdout",
     "output_type": "stream",
     "text": [
      "[41 35 42 ... 40 31 27]\n",
      "[71 68 68 ... 66 63 66]\n",
      "[180 160 205 ... 168 133 132]\n",
      "['M' 'M' 'M' ... 'F' 'F' 'F']\n",
      "['R' 'L' 'L' ... 'R' 'R' 'R']\n"
     ]
    },
    {
     "name": "stderr",
     "output_type": "stream",
     "text": [
      "/var/folders/cg/ldp5srbn6_3cc82bbxc26ppw0000gn/T/ipykernel_1610/3230552856.py:11: UserWarning: Input line 1 contained no data and will not be counted towards `max_rows=50000`.  This differs from the behaviour in NumPy <=1.22 which counted lines rather than rows.  If desired, the previous behaviour can be achieved by using `itertools.islice`.\n",
      "Please see the 1.23 release notes for an example on how to do this.  If you wish to ignore this warning, use `warnings.filterwarnings`.  This warning is expected to be removed in the future and is given only once per `loadtxt` call.\n",
      "  gender, handedness =   np.loadtxt('anthropometry.dat',\\\n"
     ]
    }
   ],
   "source": [
    "import numpy as np\n",
    "#from matplotlib import pyplot as plt\n",
    "\n",
    "age, height, weight = np.loadtxt('anthropometry.dat',\\\n",
    "                                 unpack=True, \\\n",
    "                                 usecols=(1,2,3), \\\n",
    "                                 delimiter=\",\",\\\n",
    "                                 dtype=int)\n",
    "                                     \n",
    "\n",
    "gender, handedness =   np.loadtxt('anthropometry.dat',\\\n",
    "                                 unpack=True, \\\n",
    "                                 usecols=(0,4), \\\n",
    "                                 delimiter=\",\",\\\n",
    "                                 dtype=str)\n",
    "                       \n",
    "print(age)\n",
    "print(height)\n",
    "print(weight)\n",
    "print(gender)\n",
    "print(handedness)"
   ]
  },
  {
   "cell_type": "markdown",
   "metadata": {
    "slideshow": {
     "slide_type": "slide"
    }
   },
   "source": [
    "## What is the point of statistics and data analysis?"
   ]
  },
  {
   "cell_type": "markdown",
   "metadata": {
    "slideshow": {
     "slide_type": "fragment"
    }
   },
   "source": [
    "### The big picture"
   ]
  },
  {
   "cell_type": "markdown",
   "metadata": {
    "slideshow": {
     "slide_type": "slide"
    }
   },
   "source": [
    "At their core, **statistics and data analysis are tools for making good decisions.** \n",
    "\n",
    "More specifically, they are tools designed to help us make the best possible \n",
    "decision in situations where we have incomplete or uncertain information -- which is basically all the time."
   ]
  },
  {
   "cell_type": "markdown",
   "metadata": {
    "slideshow": {
     "slide_type": "skip"
    }
   },
   "source": [
    "We are constantly trying to make sense of -- and base decisions on -- imperfect data or information. Not just in physics experiments, but also in \"real life\". Most of the time (at least in real life), we do this based on our \"intuition\" or \"common sense\". \n",
    "And that's fine -- unless the decision really matters and/or isn't obvious. Sometimes, making the wrong decision may be really costly -- financially, in term\n",
    "\n",
    "Sometimes, making the wrong decision may be really costly -- financially, in term\n",
    "\n",
    "In such cases, it would obviously be extremely valuable if we had a reliable tool to always make the best possible decision based on the information we have. Statistics is that tool. \n",
    "\n",
    "So statistics and data analysis are really all about building and improving on our intuition and common sense. It's a way to *sharpen* our intuition. **So the idea that statistics is inherently complex and obscure pretty much *cannot* be right.** If the result of a statistical analysis conflicts with our intuition, we should *always* be able to resolve that conflict, just be thinking carefully about it. And resolving such conflicts really matters. Because either we've failed the analysis (so we should fix it), or our intuition was genuinely wrong (and understanding why that was wi,ll allow us to improve it).\n",
    "\n",
    "Leaving intuition and common sense at the door when we do data analysis is pretty much guaranteed to give us the wrong answer. In fact, **one of the key goals for this course is to help us develop our intuition about data, its analysis and its interpretation**. Ideally, we'd like to get to a point where we can, for example, look at somebody's statistical analysis of a data set and immediately tell whether it's likely to be reliable or not. That's a powerful skill to have, not just for physics."
   ]
  },
  {
   "cell_type": "markdown",
   "metadata": {},
   "source": [
    "### Statistics and data analysis in your physics course"
   ]
  },
  {
   "cell_type": "markdown",
   "metadata": {},
   "source": [
    "Hopefully, at least some of you have read the \"manifesto\" above and feel encouraged and motivated by it. \n",
    "\n",
    "But I'm pretty sure *all* of you want to know at this point how any or all of this applies in practice, to your degree. What tools will I learn that help me get better marks for next week's lab report?\n",
    "\n",
    "Well, you'll learn all of the following:"
   ]
  },
  {
   "cell_type": "markdown",
   "metadata": {},
   "source": [
    "* **how to inspect your data**\n",
    "    * what does it mean to get a \"feel\" for the data?\n",
    "    * how can we quickly spot anomalies or problems?\n",
    "    * are $x$ and $y$ correlated with each other?\n",
    "    * what sort of relationship might there be between them "
   ]
  },
  {
   "cell_type": "markdown",
   "metadata": {},
   "source": [
    "* **how to summarize your data**\n",
    "    * what's a \"typical\" value?\n",
    "    * how widely spread are the data points?"
   ]
  },
  {
   "cell_type": "markdown",
   "metadata": {},
   "source": [
    "* **how to estimate and propagate uncertainties**\n",
    "    * how do we figure out the uncertainties associated with multiple measurements of the same thing?\n",
    "    * how do we figure out the uncertainties on experiments involving (integer) *counts*?  \n",
    "    * if we know the uncertainty on $x$, how do we figure out the uncertainty on $y = f(x)$?"
   ]
  },
  {
   "cell_type": "markdown",
   "metadata": {},
   "source": [
    "* **how to fit a line $y = mx + b$ to data**\n",
    "    * how do I know if the line is an acceptable fit?\n",
    "    * how do I estimate the errors on the slope and intercept?\n",
    "    * what do I do if the line is *not* a good fit?\n",
    "    * what do I do if there are outliers?"
   ]
  },
  {
   "cell_type": "markdown",
   "metadata": {},
   "source": [
    "**Throughout all of this, I'm going to try extremely hard to *not* just provide a bunch of equations to memorize**\n",
    "\n",
    "**Instead, I want us to focus on *understanding* what we are doing.**"
   ]
  },
  {
   "cell_type": "markdown",
   "metadata": {
    "slideshow": {
     "slide_type": "slide"
    }
   },
   "source": [
    "## Inspecting Data: histograms, scatter plots and logarithmic axes\n",
    "\n",
    "**The first step in any data analysis should be to carefully inspect the data. Usually this means plotting it, often in a bunch of different ways.**\n",
    "\n",
    "The goal here is to get a *feel* for the data:\n",
    "\n",
    "* what are the typical values?\n",
    "* how scattered are they?\n",
    "* are there obvious outliers?\n",
    "* do the errors (if there are any) look reasonable-ish?\n",
    "* if the data is (at least) two dimensional, are $x$ and $y$ correlated?\n",
    "* are the obvious features in the data, e.g. clumps, peaks in the histogram, ...."
   ]
  },
  {
   "cell_type": "markdown",
   "metadata": {},
   "source": [
    "We actually covered a lot of this already in our session on plotting, and you might want to look back at this. But to recap briefly:"
   ]
  },
  {
   "cell_type": "markdown",
   "metadata": {},
   "source": [
    "## Two-dimensional data\n",
    "\n",
    "Two-dimensional data is composed ot pairs of (x, y) values. In just about every case, the first thing we want to do when we are given such data is to make a scatter plot of y vs x."
   ]
  },
  {
   "cell_type": "markdown",
   "metadata": {
    "slideshow": {
     "slide_type": "slide"
    }
   },
   "source": [
    "### A simple scatter plot: y vs x\n",
    "\n",
    "Here is an actual data set from a simple experiment looking at Ohm's law,\n",
    "\n",
    "$$V = I R$$\n",
    "\n",
    "where $V$ is voltage, $I$ is current and $R$ is resistance. \n",
    "\n",
    "In the experiment, what was measured was voltage and current, and these are provided in columns 1 and 2 of our data file. So let's read that in, print it out to make sure it worked, and make a scatter plot:"
   ]
  },
  {
   "cell_type": "code",
   "execution_count": 26,
   "metadata": {},
   "outputs": [
    {
     "name": "stdout",
     "output_type": "stream",
     "text": [
      "0.05981609380110728 2.4978690069970915\n",
      "0.06976379886940351 3.002986981421257\n",
      "0.08971018428647368 3.503383967592722\n",
      "0.09957894376326894 3.9990960715268544\n",
      "0.10948017765995237 4.501478182803152\n",
      "0.1196309525968885 4.994488515172044\n",
      "0.13950053300132073 5.499220095383016\n",
      "0.14978679530702624 5.996015775469282\n",
      "0.1594919271207046 6.493743857315521\n",
      "0.1796707125006246 6.9887960769813295\n",
      "0.18979649677116367 7.494300630540329\n"
     ]
    },
    {
     "data": {
      "image/png": "[encoded data removed]",
      "text/plain": [
       "<Figure size 640x480 with 1 Axes>"
      ]
     },
     "metadata": {},
     "output_type": "display_data"
    }
   ],
   "source": [
    "import numpy as np\n",
    "from matplotlib import pyplot as plt ### For plotting we use \"matplotlib\" library and from it \"pyplot\" submodule\n",
    "\n",
    "V, I = np.loadtxt('OhmsLawData.dat', unpack=True)\n",
    "\n",
    "Ndata = len(V)\n",
    "for i in range(Ndata):\n",
    "    print(V[i], I[i])\n",
    "\n",
    "plt.scatter(V, I) # this is we use for scatter plot making\n",
    "plt.show() # plt.show needs to be used for showing the plot"
   ]
  },
  {
   "cell_type": "markdown",
   "metadata": {},
   "source": [
    "We can see straight awa.y that, as expected, there is a clear linear(ish) relation between the two variables. print(V)\n",
    "\n",
    "\n",
    "We've not been given any \"official\" errors, but we can see that the scatter in voltage at fixed current is probably something on the order of $\\simeq 0.1$V or so (this is a *really* rough estimate, but that's OK for now; we're just trying to get a feel!).\n",
    "\n",
    "We can also already make a rough guess at the implied resistance. For example, at $I = 0.1$ A, we have $V \\simeq 4$ V, so that would suggest $R \\simeq 40$ $\\Omega$"
   ]
  },
  {
   "cell_type": "markdown",
   "metadata": {},
   "source": [
    "Can we tell of this data is likely to be consistent with zero intercept, as we'd expect from Ohm's law?\n",
    "\n",
    "Well, we can extend the x and y ranges to include zero and take a look."
   ]
  },
  {
   "cell_type": "code",
   "execution_count": 27,
   "metadata": {},
   "outputs": [
    {
     "data": {
      "image/png": "[encoded data removed]",
      "text/plain": [
       "<Figure size 640x480 with 1 Axes>"
      ]
     },
     "metadata": {},
     "output_type": "display_data"
    }
   ],
   "source": [
    "#some matplotlib commands\n",
    "plt.xlim((0, 0.2))\n",
    "plt.ylim((0, 8.0))\n",
    "plt.scatter(V, I)\n",
    "plt.show()"
   ]
  },
  {
   "cell_type": "markdown",
   "metadata": {},
   "source": [
    "##### Exercise:\n",
    "\n",
    "Add a line representing $V = I R$ for $R =  40$ $\\Omega$ to the plot. Make sure that the line extends all the way to the origin.\n",
    "\n",
    "Hint: Create separate 1-D arrays representing the current and voltage for this simple\n",
    "model and then plot those on top of the data. You can create a simple, linearly spaced set of current via \n",
    "\n",
    "        model_current = np.linspace(0,0.2)"
   ]
  },
  {
   "cell_type": "markdown",
   "metadata": {},
   "source": [
    "### A simple log-log scatter plot: is my data a power law?\n",
    "\n",
    "The main reason why we might want to plot our data not just as $y$ vs $x$, but instead also $log(y)$ vs $log(x)$ is that we might suspect our data is a power law, $y = a x^b$. If we plot such a data set as just $y$ vs $x$, we'll obviously get a curve. \n",
    "\n",
    "Let's create and plot a simple fake data set like that."
   ]
  },
  {
   "cell_type": "code",
   "execution_count": 28,
   "metadata": {},
   "outputs": [
    {
     "data": {
      "image/png": "[encoded data removed]",
      "text/plain": [
       "<Figure size 640x480 with 1 Axes>"
      ]
     },
     "metadata": {},
     "output_type": "display_data"
    }
   ],
   "source": [
    "import numpy as np\n",
    "from matplotlib import pyplot as plt\n",
    "\n",
    "#create 30 evenly space x values between 1 and 100 \n",
    "x = np.linspace(1, 100, 30)\n",
    "\n",
    "y = 10 * (x**2)\n",
    "\n",
    "plt.scatter(x, y)\n",
    "plt.show()"
   ]
  },
  {
   "cell_type": "markdown",
   "metadata": {},
   "source": [
    "But let's now plot $log(y)$ vs $log(x)$ instead and see what happens...."
   ]
  },
  {
   "cell_type": "code",
   "execution_count": 29,
   "metadata": {},
   "outputs": [
    {
     "data": {
      "image/png": "[encoded data removed]",
      "text/plain": [
       "<Figure size 640x480 with 1 Axes>"
      ]
     },
     "metadata": {},
     "output_type": "display_data"
    }
   ],
   "source": [
    "lx = np.log10(x)\n",
    "ly = np.log10(y)\n",
    "\n",
    "plt.scatter(lx, ly)\n",
    "plt.show()"
   ]
  },
  {
   "cell_type": "markdown",
   "metadata": {},
   "source": [
    "Note that we can also just use *Python's* log-log plot, which allows us to make the *axes* logarithmic instead of the *data*."
   ]
  },
  {
   "cell_type": "code",
   "execution_count": 30,
   "metadata": {},
   "outputs": [
    {
     "data": {
      "image/png": "[encoded data removed]",
      "text/plain": [
       "<Figure size 640x480 with 1 Axes>"
      ]
     },
     "metadata": {},
     "output_type": "display_data"
    }
   ],
   "source": [
    "plt.loglog(x, y, linestyle='None', marker='o')\n",
    "plt.show()"
   ]
  },
  {
   "cell_type": "markdown",
   "metadata": {},
   "source": [
    "We got a straight line! \n",
    "\n",
    "Why did this happen? Well, let's do some simple math. We have:\n",
    "\n",
    "$$y = a x^b$$\n",
    "\n",
    "Now take the log of both sides:\n",
    "\n",
    "$$\\log{y} = \\log{a x^b}$$\n",
    "\n",
    "Use the rule that $\\log(fg) = \\log(f) + \\log(g)$:\n",
    "\n",
    "$$\\log{y} = \\log{a} + \\log{x^b}$$\n",
    "\n",
    "Use the rule that $\\log(f^g) = g\\log(f)$:\n",
    "\n",
    "$$\\log{y} = \\log{a} + b \\log{x}$$\n",
    "\n",
    "Just for convenience, let's define new names for those logarithms: $x^\\prime = \\log{x}$, $y^\\prime = \\log{y}$, $a^prime = \\log{a}$. Then we can rewrite the last equation as:\n",
    "\n",
    "$$y^\\prime = a^\\prime \\,\\, + b \\,\\, x^\\prime$$\n",
    "\n",
    "**But that's the equation for a straight line with slope $b$ and intercept $a^\\prime$!**"
   ]
  },
  {
   "cell_type": "markdown",
   "metadata": {},
   "source": [
    "**Key take home point:**\n",
    "\n",
    "If we plot $\\log{y}$ vs $\\log{x}$ and get a straight line, the data must be described by a power law\n",
    "\n",
    "$$y = a \\, x^b$$\n",
    "\n",
    "The meaning of the slope and intercept of the straight line are:\n",
    "\n",
    "* slope = the power law index $b$\n",
    "* intercept = the log of the normalization constant $a$"
   ]
  },
  {
   "cell_type": "markdown",
   "metadata": {},
   "source": [
    "##### Exercise\n",
    "people care about\n",
    "\n",
    "Air resistance is generally thought to approximately follow a power law,\n",
    "\n",
    "$$F_{drag} = a v^b,$$\n",
    "\n",
    "where $F_{drag}$ is the drag force felt by a moving body, $a$ is a constant that depends on the body's properties, and $v$ is the speed with which the body is moving through the air.\n",
    "\n",
    "The data set \"AirResistanceData.dat\" that is distributed along with the session materials contains measurements of the drag force versus velocity for a cylindrical object.\n",
    "\n",
    "(Believe it or not, this comes from a study looking at advanced materials for sports clothing. Reducing air drag is something elite athletes in some sports -- like cycling -- may really care about.)\n",
    "\n",
    "* Plot the data as both a simple $y$ vs $x$ plot and as a log-log plot. \n",
    "\n",
    "* Use the log-log plot to make a *rough* estimate of the power law index ($b$) describing air resistance\n",
    "    * you can do this \"by eye\" from the slope of the (hopefully) straight(ish) line\n",
    "\n",
    "* plot a simple model of your power-law $F_{drag}$ vs $v$ relationship on top of the data\n",
    "    * given your power law index, you just need the normalization constant, which you can also estimate from the (intercept of the data in the) log-log plot \n",
    "    * you can then again create a couple of 1-D arrays representing your simple model (say vtest and Ftest) and plot those on top of the data "
   ]
  },
  {
   "cell_type": "markdown",
   "metadata": {},
   "source": [
    "### A simple semi-log scatter plot: is my data described by an exponential function?\n",
    "\n",
    "If we suspect that our data might be described by an exponential function, $y = a \\,\\, e^{x}$, we can also try plotting things on a \"semi-log\" plot. That just means we log $\\log{y}$ vs $x$.\n",
    "\n",
    "Let's again create and plot a simple fake data set like that."
   ]
  },
  {
   "cell_type": "code",
   "execution_count": 31,
   "metadata": {},
   "outputs": [
    {
     "data": {
      "image/png": "[encoded data removed]",
      "text/plain": [
       "<Figure size 640x480 with 1 Axes>"
      ]
     },
     "metadata": {},
     "output_type": "display_data"
    }
   ],
   "source": [
    "import numpy as np\n",
    "from matplotlib import pyplot as plt\n",
    "\n",
    "#create 30 evenly space x values between 1 and 100 \n",
    "x = np.linspace(1, 100, 30)\n",
    "\n",
    "y = 10 * np.exp(x)\n",
    "\n",
    "plt.scatter(x, y)\n",
    "plt.show()\n",
    "\n"
   ]
  },
  {
   "cell_type": "markdown",
   "metadata": {},
   "source": [
    "Note how horrific this linear plot is! Because $e^100$ is a huge number, the dynamic range on the y-axis is so large that all but the last couple of points look like their virtually zero! They are not, of course, but it should be clear that in situations like this -- with huge dynamic ranges -- linear axes/plots are kind of useless.\n",
    "\n",
    "What does a log-log plot look like?"
   ]
  },
  {
   "cell_type": "code",
   "execution_count": 32,
   "metadata": {},
   "outputs": [
    {
     "data": {
      "image/png": "[encoded data removed]",
      "text/plain": [
       "<Figure size 640x480 with 1 Axes>"
      ]
     },
     "metadata": {},
     "output_type": "display_data"
    }
   ],
   "source": [
    "plt.loglog(x, y, linestyle='None', marker='o')\n",
    "plt.show()"
   ]
  },
  {
   "cell_type": "markdown",
   "metadata": {},
   "source": [
    "Hugely better. So why bother with a \"semi-log\" plot? Well, let's look at it:"
   ]
  },
  {
   "cell_type": "code",
   "execution_count": 33,
   "metadata": {},
   "outputs": [
    {
     "data": {
      "image/png": "[encoded data removed]",
      "text/plain": [
       "<Figure size 640x480 with 1 Axes>"
      ]
     },
     "metadata": {},
     "output_type": "display_data"
    }
   ],
   "source": [
    "ly = np.log10(y)\n",
    "plt.scatter(x,ly)\n",
    "plt.show()"
   ]
  },
  {
   "cell_type": "markdown",
   "metadata": {},
   "source": [
    "Or using *Python's* built-in version with logarithmic axis:"
   ]
  },
  {
   "cell_type": "code",
   "execution_count": 34,
   "metadata": {},
   "outputs": [
    {
     "data": {
      "image/png": "[encoded data removed]",
      "text/plain": [
       "<Figure size 640x480 with 1 Axes>"
      ]
     },
     "metadata": {},
     "output_type": "display_data"
    }
   ],
   "source": [
    "plt.semilogy(x, y, linestyle='None', marker='o')\n",
    "plt.show()"
   ]
  },
  {
   "cell_type": "markdown",
   "metadata": {},
   "source": [
    "\n",
    "$$y = a e^{bx}$$\n",
    "\n",
    "Again take the log of both sides:\n",
    "\n",
    "$$\\log{y} = \\log{a e^{bx}}$$\n",
    "\n",
    "Use the rule that $\\log(fg) = \\log(f) + \\log(g)$:\n",
    "\n",
    "$$\\log{y} = \\log{a} + \\log{e^{bx}}$$\n",
    "\n",
    "Use the rule that $\\log(f^g) = g\\log(f)$:\n",
    "\n",
    "$$\\log{y} = \\log{a} + x \\,\\, b \\log{e}$$\n",
    "\n",
    "\n",
    "Now $\\log{e} \\simeq 0.4343$, and we can again define new names for the other logarithms: $y^\\prime = \\log{y}$, $a^prime = \\log{a}$. Then we can rewrite the last equation as:\n",
    "\n",
    "$$y^\\prime = a^\\prime \\,\\, + 0.4343\\, b^\\prime \\,\\, x$$\n",
    "\n",
    "**But that's the equation for a straight line with slope $0.4343\\,b$ and intercept $a^\\prime$!**"
   ]
  },
  {
   "cell_type": "markdown",
   "metadata": {},
   "source": [
    "(Note that if we had taken *natural* logs, rather than base-10 logs, that factor 0.4343 would disappear. It's up to us to decide what base log we want to work in.)"
   ]
  },
  {
   "cell_type": "markdown",
   "metadata": {},
   "source": [
    "**Key take home point:**\n",
    "\n",
    "If we plot $\\log{y}$ vs $x$ and get a straight line, the data must be described by an exponential function\n",
    "\n",
    "$$y = a \\, e^{bx}$$\n",
    "\n",
    "The meaning of the slope and intercept of the straight line are:\n",
    "\n",
    "* slope = $0.4343 \\, b$ (or just $b$ if we plot $\\ln{y}$ instead of $\\log{y}$)\n",
    "* intercept = the log of the normalization constant $a$"
   ]
  },
  {
   "cell_type": "markdown",
   "metadata": {},
   "source": [
    "##### Exercise\n",
    "\n",
    "The data set HalfLifeData.dat distributed with today's session materials contains the number of $\\gamma$-ray photons detected in 100~s from a particular piece of $^{51}$Mn, an unstable radioactive isotope of the element Manganese, as a function of time (measured in units of 1000 seconds).\n",
    "\n",
    "The number of counts at any one time is proportational to the amount of $^{51}$Mn remaining at that time, so we can use this data to estimate the half-life of this isotope.\n",
    "\n",
    "* make linear, log-log and semi-log plots of this data set\n",
    "* do you see the expected behaviour?\n",
    "* use the semi-log plot to make a rough estimate of the half-life of this isotope, i.e. estimate the time it takes for the amount remaining to decrease by a factor of two"
   ]
  },
  {
   "cell_type": "markdown",
   "metadata": {
    "slideshow": {
     "slide_type": "skip"
    }
   },
   "source": [
    "##### Exercise\n",
    "\n",
    "Along with this notebook, I've distributed a data set that charts the growth in world population over about 6 decades.\n",
    "\n",
    "Plot this data using linear, log-log, and semi-log (log-linear) axes.\n",
    "\n",
    "Is the data (roughly) exponential? If so, what is the growth rate (how many percent per year)?\n",
    "\n",
    "When might we expect the population to top 10 billion?"
   ]
  },
  {
   "cell_type": "markdown",
   "metadata": {},
   "source": [
    "## One-dimensional data\n",
    "\n",
    "As we already discussed during the session on plotting, the way to visually inspect 1-D data is by making histograms. Our discussion in that session already covered all of the key points, specifically:\n",
    "\n",
    "\n",
    "1. the appearance of a histogram can depend quite strongly on the adopted binning;\n",
    "\n",
    "2. if our data set has a very large dynamic range, we should consider plotting the data with a logarithmic x-axis"
   ]
  },
  {
   "cell_type": "markdown",
   "metadata": {},
   "source": [
    "The data set we used to demonstrate histogram plotting in Session 7 is distributed again with the current session. Just as a reminder, here are the plots we made of this again:"
   ]
  },
  {
   "cell_type": "code",
   "execution_count": 35,
   "metadata": {},
   "outputs": [
    {
     "data": {
      "image/png": "[encoded data removed]",
      "text/plain": [
       "<Figure size 640x480 with 1 Axes>"
      ]
     },
     "metadata": {},
     "output_type": "display_data"
    }
   ],
   "source": [
    "import numpy as np\n",
    "from matplotlib import pyplot as plt\n",
    "\n",
    "p = np.loadtxt('pulsar_spins.dat',\\\n",
    "                unpack=True, \\\n",
    "                dtype=float, \\\n",
    "                comments=\"#\")\n",
    "\n",
    "plt.title('Spin Periods of X-ray Pulsars')\n",
    "plt.xlabel('Spin Period (s)')\n",
    "plt.ylabel('Number of Systems')\n",
    "plt.hist(p, bins=10, color=\"red\")\n",
    "plt.show()"
   ]
  },
  {
   "cell_type": "code",
   "execution_count": 36,
   "metadata": {},
   "outputs": [
    {
     "data": {
      "image/png": "[encoded data removed]",
      "text/plain": [
       "<Figure size 640x480 with 1 Axes>"
      ]
     },
     "metadata": {},
     "output_type": "display_data"
    }
   ],
   "source": [
    "plt.title('Spin Periods of X-ray Pulsars')\n",
    "plt.xlabel('Spin Period (s)')\n",
    "plt.ylabel('Number of Systems')\n",
    "plt.hist(p, bins=100, color=\"blue\")\n",
    "plt.show()"
   ]
  },
  {
   "cell_type": "code",
   "execution_count": 37,
   "metadata": {},
   "outputs": [
    {
     "data": {
      "image/png": "[encoded data removed]",
      "text/plain": [
       "<Figure size 640x480 with 1 Axes>"
      ]
     },
     "metadata": {},
     "output_type": "display_data"
    }
   ],
   "source": [
    "lp = np.log10(p)\n",
    "\n",
    "plt.title('Spin Periods of X-ray Pulsars')\n",
    "plt.xlabel('log(Spin Period (s))')\n",
    "plt.ylabel('Number of Systems')\n",
    "plt.hist(lp, range=(0, 3.5), bins=18, color=\"red\")\n",
    "plt.show()"
   ]
  },
  {
   "cell_type": "markdown",
   "metadata": {},
   "source": [
    "Note again how the key feature of this data set -- the fact that it is bimodal -- only shows up if we use a logarithmic axes and bin the data appropriately"
   ]
  },
  {
   "cell_type": "markdown",
   "metadata": {},
   "source": [
    "##### Exercise\n",
    "\n",
    "Today's session materials include a data set called StarFormationData.dat, which contains empirically measured star formation rates (in units of solar masses per year) for more than 750,000 galaxies in a large astronomical survey.(The file actually lists the *logarithm* of the star formation rate!)\n",
    "\n",
    "* Make a histogram of the star formation rates\n",
    "* Try to adjust the binning and axes to bring out the key information in the data\n",
    "* Is there anything immediately interesting the data suggests?"
   ]
  },
  {
   "cell_type": "markdown",
   "metadata": {
    "slideshow": {
     "slide_type": "slide"
    }
   },
   "source": [
    "## Summarizing Data: A Practical Example"
   ]
  },
  {
   "cell_type": "markdown",
   "metadata": {
    "slideshow": {
     "slide_type": "skip"
    }
   },
   "source": [
    "When it comes to \"summarizing\" or \"describing\" our data, note that we're using these words in a semi-formal way here: we're *not* talking about writing a sonnet on the beauty and aestethic appeal of the clustering pattern found within our data set. \n",
    "\n",
    "What we *are* talking about is having a few numbers that allow us to quantitatively summarize the gross properties of our data set. Are typical values around $10$, $10^5$ or $10^{-18}$? Are all the values pretty similar or do they span a huge range?\n",
    "\n",
    "Such *descriptive* or *summarizing* statistics can be enormously valuable, not least because they help to give us a \"feel\" for the data."
   ]
  },
  {
   "cell_type": "markdown",
   "metadata": {
    "slideshow": {
     "slide_type": "fragment"
    }
   },
   "source": [
    "Suppose we've been given some set of $N$ measurements. Let's say we're talking about the heights in our \"Big Picture\" anthropometry data set. \n",
    "\n",
    "By far the two most important pieces of information about our data are:"
   ]
  },
  {
   "cell_type": "markdown",
   "metadata": {
    "slideshow": {
     "slide_type": "fragment"
    }
   },
   "source": [
    "1. A \"typical\" or \"representative\" value\n",
    "    * a \"measure of central tendency\"\n",
    "<br><br>\n",
    "2. The amount of \"scatter\" around this typical value\n",
    "    * a \"measure of spread\""
   ]
  },
  {
   "cell_type": "code",
   "execution_count": 38,
   "metadata": {
    "slideshow": {
     "slide_type": "slide"
    }
   },
   "outputs": [
    {
     "data": {
      "image/png": "[encoded data removed]",
      "text/plain": [
       "<Figure size 640x480 with 1 Axes>"
      ]
     },
     "metadata": {},
     "output_type": "display_data"
    }
   ],
   "source": [
    "import numpy as np\n",
    "from matplotlib import pyplot as plt\n",
    "\n",
    "height = np.loadtxt('anthropometry.dat',\\\n",
    "                     unpack=True, \\\n",
    "                     usecols=(2), \\\n",
    "                     delimiter=\",\",\\\n",
    "                     dtype=int)\n",
    "                                     \n",
    "\n",
    "plt.hist(height, bins=38)\n",
    "plt.show()"
   ]
  },
  {
   "cell_type": "markdown",
   "metadata": {
    "slideshow": {
     "slide_type": "slide"
    }
   },
   "source": [
    "### \"Measures of central tendency\": mean, median and mode"
   ]
  },
  {
   "cell_type": "markdown",
   "metadata": {
    "slideshow": {
     "slide_type": "slide"
    }
   },
   "source": [
    "#### The mean"
   ]
  },
  {
   "cell_type": "markdown",
   "metadata": {
    "slideshow": {
     "slide_type": "skip"
    }
   },
   "source": [
    "By far the most common way to describe the typical value across a sample of measurements is to calculate the *arithmetic mean* or *average*."
   ]
  },
  {
   "cell_type": "markdown",
   "metadata": {
    "slideshow": {
     "slide_type": "fragment"
    }
   },
   "source": [
    "Given $N$ data points, $x_i$, the (sample) mean is simply the sum of all of data values, divided by $N$:\n",
    "<br>\n",
    "\n",
    "<center> $$\\overline{x} = \\frac{1}{N} \\sum_{i=1}^{N} x_i$$ </center>"
   ]
  },
  {
   "cell_type": "markdown",
   "metadata": {
    "slideshow": {
     "slide_type": "fragment"
    }
   },
   "source": [
    "This **sample mean** $\\overline{x}$ is an **estimate** of the **population mean**, which we will denote by $\\mu$."
   ]
  },
  {
   "cell_type": "markdown",
   "metadata": {
    "slideshow": {
     "slide_type": "slide"
    }
   },
   "source": [
    "In *Python*, we can calculate the mean of the numbers in an array very easily, via a built-in *numpy* function:"
   ]
  },
  {
   "cell_type": "code",
   "execution_count": 39,
   "metadata": {
    "slideshow": {
     "slide_type": "fragment"
    }
   },
   "outputs": [
    {
     "name": "stdout",
     "output_type": "stream",
     "text": [
      "68.25679907697379\n"
     ]
    }
   ],
   "source": [
    "mean_height = np.mean(height)\n",
    "print(mean_height)"
   ]
  },
  {
   "cell_type": "markdown",
   "metadata": {
    "slideshow": {
     "slide_type": "slide"
    }
   },
   "source": [
    "#### The median"
   ]
  },
  {
   "cell_type": "markdown",
   "metadata": {
    "slideshow": {
     "slide_type": "skip"
    }
   },
   "source": [
    "An alternative and very useful measure of central tendency is the *median*, which is the \"middle\" value of a data set. "
   ]
  },
  {
   "cell_type": "markdown",
   "metadata": {
    "slideshow": {
     "slide_type": "fragment"
    }
   },
   "source": [
    "The median is defined as the 50th percentile of a  data set. \n",
    "\n",
    "If the data is sorted, we have\n",
    "\n",
    "* odd $N$:\n",
    "<br><br>\n",
    "$Median = x_{(N+1)/2}$\n",
    "<br><br>\n",
    "* even $N$: \n",
    "<br><br>\n",
    "$Median = 0.5 \\left[x_{N/2} + x_{(N+1)/2}\\right]$\n",
    "<br>"
   ]
  },
  {
   "cell_type": "markdown",
   "metadata": {
    "slideshow": {
     "slide_type": "slide"
    }
   },
   "source": [
    "In *Python*, we can also calculate the median via a *numpy* function:"
   ]
  },
  {
   "cell_type": "code",
   "execution_count": 40,
   "metadata": {},
   "outputs": [
    {
     "name": "stdout",
     "output_type": "stream",
     "text": [
      "68.0\n"
     ]
    }
   ],
   "source": [
    "median_height = np.median(height)\n",
    "print(median_height)"
   ]
  },
  {
   "cell_type": "markdown",
   "metadata": {
    "slideshow": {
     "slide_type": "slide"
    }
   },
   "source": [
    "#### The mode"
   ]
  },
  {
   "cell_type": "markdown",
   "metadata": {
    "slideshow": {
     "slide_type": "skip"
    }
   },
   "source": [
    "A final measure of central tendency to be aware of is the *mode*."
   ]
  },
  {
   "cell_type": "markdown",
   "metadata": {
    "slideshow": {
     "slide_type": "fragment"
    }
   },
   "source": [
    "This is the \"single most common\" or \"single most probable\" value. "
   ]
  },
  {
   "cell_type": "markdown",
   "metadata": {
    "slideshow": {
     "slide_type": "fragment"
    }
   },
   "source": [
    "This is easy to define if our data set contains many draws from a small number of discrete possible values. \n",
    "\n",
    "In that case, the mode is just the single most common of these values."
   ]
  },
  {
   "cell_type": "markdown",
   "metadata": {
    "slideshow": {
     "slide_type": "slide"
    }
   },
   "source": [
    "In such cases, in *Python* the mode can be calculated via a function in *scipy.stats*:"
   ]
  },
  {
   "cell_type": "code",
   "execution_count": 41,
   "metadata": {
    "slideshow": {
     "slide_type": "slide"
    }
   },
   "outputs": [
    {
     "ename": "ModuleNotFoundError",
     "evalue": "No module named 'scipy'",
     "output_type": "error",
     "traceback": [
      "\u001b[0;31m---------------------------------------------------------------------------\u001b[0m",
      "\u001b[0;31mModuleNotFoundError\u001b[0m                       Traceback (most recent call last)",
      "Cell \u001b[0;32mIn[41], line 1\u001b[0m\n\u001b[0;32m----> 1\u001b[0m \u001b[38;5;28;01mfrom\u001b[39;00m \u001b[38;5;21;01mscipy\u001b[39;00m \u001b[38;5;28;01mimport\u001b[39;00m stats\n\u001b[1;32m      2\u001b[0m mode_height \u001b[38;5;241m=\u001b[39m stats\u001b[38;5;241m.\u001b[39mmode(height)\n\u001b[1;32m      3\u001b[0m \u001b[38;5;28mprint\u001b[39m(mode_height)\n",
      "\u001b[0;31mModuleNotFoundError\u001b[0m: No module named 'scipy'"
     ]
    }
   ],
   "source": [
    "from scipy import stats\n",
    "mode_height = stats.mode(height)\n",
    "print(mode_height)\n",
    "print()\n",
    "print(mode_height[0])"
   ]
  },
  {
   "cell_type": "markdown",
   "metadata": {
    "slideshow": {
     "slide_type": "slide"
    }
   },
   "source": [
    "But how do we define the mode if our data set doesn't contain any repeating values (e.g. it may consist of real numbers to arbitrary precision)?\n",
    "\n",
    "* in this more general case, we have to make a *histogram* of the data\n",
    "* the mode is then the location of the highest peak in the histogram.\n",
    "\n",
    "**This means that our estimate of the mode in this case will depend on the adopted binning of the histogram!**\n",
    "\n",
    "* This \"subjectivity\" is a significant drawback of the mode as a measure of central tendency\n",
    "* I therefore don't recommend its use as a general-purpose tool\n",
    "* Note that scipy.stats.mode will not give sensible results if you are asking it to work on data sets where each number is different"
   ]
  },
  {
   "cell_type": "markdown",
   "metadata": {
    "slideshow": {
     "slide_type": "slide"
    }
   },
   "source": [
    "For smooth, symmetric and unimodal distributions, the mean, median and mode are all identical.\n",
    "\n",
    "However, for *skewed* and/or *multi-modal* distributions, they are not!\n",
    "\n",
    "<img src=\"mean-median-mode.jpg\">\n",
    "\n",
    "<div align=\"right\">  <a href=\"http://flowjo.typepad.com/the_daily_dongle/2007/10/mean-median-mod.html\"> source of image</a><br>\n",
    "Original reference:  \"Biostatistical Analysis\"<br>\n",
    "J.H. Zar, 4th edition, Simon & Schuester 1999\n",
    "</div>"
   ]
  },
  {
   "cell_type": "markdown",
   "metadata": {
    "slideshow": {
     "slide_type": "skip"
    }
   },
   "source": [
    "In general, for positively skewed distributions, we have\n",
    "<br><br>\n",
    "<center> \n",
    "$$mean > median > mode,$$\n",
    "</center>\n",
    "<br><br>\n",
    "and the opposite ordering holds for negatively skewed distributions."
   ]
  },
  {
   "cell_type": "markdown",
   "metadata": {
    "slideshow": {
     "slide_type": "skip"
    }
   },
   "source": [
    "If our distribution has more than one peak, each of the peaks is called a \"mode\". For example, a distribution with two peaks is called *bimodal*, and the general term for distributions with more than one peak is *multi-modal*.\n",
    "\n",
    "Measures of central tendency are tricky for multi-modal distributions. For example, if we have a symmetric bimodal distribution, the mean and median could lie at a location where there are literally *no* data points at all. Also, what mode we would find numerically for a given sample from that distribution would be subject to chance -- sometimes it would be the left one, sometimes the right one.\n",
    "\n",
    "None of this behaviour is \"wrong\". It's just a consequence of the obvious fact that you can't describe a distribution as complex as this with a single number.\n",
    "\n",
    "This is one key reason why, as a sanity check, we should **always** inspect our data visually, rather than just computing summary statistics."
   ]
  },
  {
   "cell_type": "markdown",
   "metadata": {},
   "source": [
    "Why would we ever want to use the median or the mode instead of the mean?\n",
    "\n",
    "* it's useful to check if they are consistent, because if they are not the distribution is probably not symmetric and/or multi-modal\n",
    "\n",
    "* the mean is much more sensitive to a few nasty outliers in our data than the median or the mode\n",
    "    * if there are a few \"wrong\" points in the data that lie way off then main trend, the mean can give us completely the wrong answer"
   ]
  },
  {
   "cell_type": "markdown",
   "metadata": {
    "slideshow": {
     "slide_type": "slide"
    }
   },
   "source": [
    "### \"Measures of spread\": standard deviation, full-width at half-maximum and semi-interquartile range\n",
    "\n",
    "#### The standard deviation\n",
    "\n",
    "By far the most common measure of spread for a sample is the *standard deviation*:\n",
    "\n",
    "$$s = \\sqrt{\\frac{1}{N-1} \\sum_{i=1}^{N} (x_i - \\overline{x})^2}$$ "
   ]
  },
  {
   "cell_type": "markdown",
   "metadata": {
    "slideshow": {
     "slide_type": "fragment"
    }
   },
   "source": [
    "Sometimes we may also use the term sample *variance*, which is just the square of standard deviation, i.e. variance = $s^2$."
   ]
  },
  {
   "cell_type": "markdown",
   "metadata": {
    "slideshow": {
     "slide_type": "slide"
    }
   },
   "source": [
    "The standard deviation of a data set can be calculated in *numpy* via a simple call to *numpy.std()*:"
   ]
  },
  {
   "cell_type": "code",
   "execution_count": null,
   "metadata": {
    "slideshow": {
     "slide_type": "fragment"
    }
   },
   "outputs": [],
   "source": [
    "stdev_height = np.std(height)\n",
    "print(stdev_height)"
   ]
  },
  {
   "cell_type": "markdown",
   "metadata": {
    "slideshow": {
     "slide_type": "skip"
    }
   },
   "source": [
    "Why is the standard deviation defined this way?\n",
    "\n",
    "Well, any meaningful measure of spread must be an estimate of the typical distance of each data point from the \"central\" value. And it makes sense to adopt the sample mean as our estimate of the central value. \n",
    "\n",
    "Now we can't just estimate the typical distance of the points from the mean by summing all the individual distances:\n",
    "* individual distances can be positive or negative\n",
    "* so the contributions will cancel.\n",
    "\n",
    "The obvious way to avoid this cancellation is to average the *squares* of the distances, which is what the standard deviation does. \n",
    "\n",
    "Of course, we then also have to take the square root of this average in order to recover the correct units for our distance estimate."
   ]
  },
  {
   "cell_type": "markdown",
   "metadata": {
    "slideshow": {
     "slide_type": "skip"
    }
   },
   "source": [
    "Why do we divide the average squared residual by $N-1$ and not just $N$?\n",
    "\n",
    "The reason is that we have essentially already used our data to estimate the sample mean, $\\overline{x}$, since we need that to  calculate the sample standard deviation.\n",
    "\n",
    "This effectively \"uses up\" one of our data points.\n",
    "\n",
    "If we knew the *population mean*, $\\mu$, we would indeed divide by $N$, i.e. our estimate of the standard deviation would be:<br><br>\n",
    "\n",
    "<center>\n",
    "$$s' = \\sqrt{\\frac{1}{N} \\sum_{i=1}^{N} (x_i - \\mu)^2}$$. </center>\n",
    "\n",
    "This distinction between $s$ and $s'$ only really matters, of course, for relatively small $N$."
   ]
  },
  {
   "cell_type": "markdown",
   "metadata": {
    "slideshow": {
     "slide_type": "fragment"
    }
   },
   "source": [
    "The standard deviation is extremely sensitive to outliers, because we have to *square* the residuals in order to calculate it.\n",
    "\n",
    "Even just a single rare outlier can badly screw up this calculation."
   ]
  },
  {
   "cell_type": "markdown",
   "metadata": {},
   "source": [
    "#### The semi-interquartile range\n",
    "\n",
    "Another possible measure of spread is the *semi-interquartile range* (SIQR). \n",
    "\n",
    "This is exactly what it says on the tin: it is half the difference between the 25th and the 75th percentile of the sample or distribution.\n",
    "\n",
    "We can think of this as the spread analogue of the median (which marks the 50th percentile of the distribution).\n",
    "\n",
    "[Aside: for a Gaussian distribution, the standard deviation is 1.48*SIQR.]"
   ]
  },
  {
   "cell_type": "code",
   "execution_count": null,
   "metadata": {},
   "outputs": [],
   "source": [
    "#### The semi-interquartile range\n",
    "\n",
    "Another possible measure of spread is the *semi-interquartile range* (SIQR). \n",
    "\n",
    "This is exactly what it says on the tin: it is half the difference between the 25th and the 75th percentile of the sample or distribution.\n",
    "\n",
    "We can think of this as the spread analogue of the median (which marks the 50th percentile of the distribution).\n",
    "\n",
    "[Aside: for a Gaussian distribution, the standard deviation is 1.48*SIQR.]"
   ]
  },
  {
   "cell_type": "markdown",
   "metadata": {},
   "source": [
    "As a reminder, the n-th *percentile* of a sample is defined as the value separating the bottom n% of the sample from the top (100-n)%."
   ]
  },
  {
   "cell_type": "markdown",
   "metadata": {},
   "source": [
    "In *numpy*, the easiest way to calculate the SIQR is via a call to the *percentile* function."
   ]
  },
  {
   "cell_type": "code",
   "execution_count": null,
   "metadata": {},
   "outputs": [],
   "source": [
    "import numpy as np\n",
    "a = np.arange(10001)\n",
    "p025, p075 = np.percentile(a, [25.0, 75.0])\n",
    "siqr = 0.5*(p075 - p025)\n",
    "print(p025, p075, siqr)"
   ]
  },
  {
   "cell_type": "markdown",
   "metadata": {},
   "source": [
    "Why would we use the SIQR instead of the standard deviation?\n",
    "\n",
    "\n",
    "Insensitivity to outliers (again)"
   ]
  },
  {
   "cell_type": "markdown",
   "metadata": {},
   "source": [
    "The standard deviation is extremely sensitive to outliers, because we have to square the residuals in order to calculate it.\n",
    "\n",
    "Even just a single rare outlier can badly screw up this calculation."
   ]
  },
  {
   "cell_type": "code",
   "execution_count": null,
   "metadata": {},
   "outputs": [],
   "source": []
  },
  {
   "cell_type": "markdown",
   "metadata": {},
   "source": [
    "#### The full-width at half-maximum\n",
    "\n",
    "The *full-width at half-maximum* (FWHM) is another estimate of the spread that is not terribly sensitive to outliers or to the tail of a distribution.\n",
    "\n",
    "We can think of the FWHM as the spread analogue of the mode. \n",
    "\n",
    "As with the mode, we need to bin the data in order to estimate the FWHM."
   ]
  },
  {
   "cell_type": "markdown",
   "metadata": {},
   "source": [
    "## Big Picture Exercise\n",
    "\n",
    "\n",
    "Along with this notebook, I've distributed a publicly available data set containing the height and weight (and some other information) for about 6000 adults. I obtained this data from here http://mreed.umtri.umich.edu/mreed/downloads.html#ansur2 -- it's from the ANSUR2 US Army Anthropometry survey.\n",
    "\n",
    "See if you can apply the things we have learned today to inspect and summarize this data set. \n",
    "\n",
    "There are obviously *many* questions you could look at, but some of the ones you might want to investigate are:\n",
    "\n",
    "* what are the distributions of heights and weights for people identifying as male vs female?\n",
    "    * what are the means, medians and modes?\n",
    "    * what are the standard deviations?\n",
    "    * are the distributions symmetric?\n",
    "    \n",
    "* are height and weight correlated?\n",
    "    * is the correlation different for  people identifying as male vs female?\n",
    "    * is the correlation roughly what you might expect? \n",
    "        * Hint: what might you expect? We are all made up mostly of water, so we all have a similar mean density. So suppose we model people as spheres (or cylinders, or whatever) -- can we use that to predict a relationship between height and weight? \n",
    "    \n",
    "Note that the data file looks like this:\n",
    "\n",
    "        #Gender,Age,Heightin,Weightlbs,WritingPreference\n",
    "        M,41,71,180,R\n",
    "        M,35,68,160,L\n",
    "        M,42,68,205,L\n",
    "        M,31,66,175,R\n",
    "        M,21,77,213,R\n",
    "        M,39,69,175,R\n",
    "        M,32,72,250,R\n",
    "        M,23,74,211,R\n",
    "        M,36,70,220,R\n",
    "        M,23,72,160,L\n",
    "        M,32,70,195,R\n",
    "        M,28,69,155,N\n",
    "        .....\n",
    "\n",
    "So it's a comma-separated format, containing gender (coded M/F), age (in years), height (in inches), weight (in pounds) and handedness (R/L/N, with N presumably coding for \"neither\"). All the numbers are given as integers.\n",
    "\n",
    "You can read in the data like this:"
   ]
  }
 ],
 "metadata": {
  "celltoolbar": "Slideshow",
  "hide_input": false,
  "kernelspec": {
   "display_name": "Python 3 (ipykernel)",
   "language": "python",
   "name": "python3"
  },
  "language_info": {
   "codemirror_mode": {
    "name": "ipython",
    "version": 3
   },
   "file_extension": ".py",
   "mimetype": "text/x-python",
   "name": "python",
   "nbconvert_exporter": "python",
   "pygments_lexer": "ipython3",
   "version": "3.12.6"
  },
  "latex_envs": {
   "bibliofile": "biblio.bib",
   "cite_by": "apalike",
   "current_citInitial": 1,
   "eqLabelWithNumbers": true,
   "eqNumInitial": 0
  },
  "toc": {
   "base_numbering": 1,
   "nav_menu": {},
   "number_sections": true,
   "sideBar": true,
   "skip_h1_title": true,
   "title_cell": "Table of Contents",
   "title_sidebar": "Contents",
   "toc_cell": true,
   "toc_position": {},
   "toc_section_display": true,
   "toc_window_display": false
  }
 },
 "nbformat": 4,
 "nbformat_minor": 4
}
