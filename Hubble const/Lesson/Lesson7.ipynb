{
 "cells": [
  {
   "cell_type": "markdown",
   "metadata": {
    "toc": true
   },
   "source": [
    "<h1>Table of Contents<span class=\"tocSkip\"></span></h1>\n",
    "<div class=\"toc\"><ul class=\"toc-item\"><li><span><a href=\"#Estimates,-errors-and-uncertainties\" data-toc-modified-id=\"Estimates,-errors-and-uncertainties-1\"><span class=\"toc-item-num\">1&nbsp;&nbsp;</span>Estimates, errors and uncertainties</a></span><ul class=\"toc-item\"><li><span><a href=\"#Agreeing-on-the-words-we-use\" data-toc-modified-id=\"Agreeing-on-the-words-we-use-1.1\"><span class=\"toc-item-num\">1.1&nbsp;&nbsp;</span>Agreeing on the words we use</a></span></li><li><span><a href=\"#What-does-it-mean-for-the-value-of-something-to-be-uncertain?\" data-toc-modified-id=\"What-does-it-mean-for-the-value-of-something-to-be-uncertain?-1.2\"><span class=\"toc-item-num\">1.2&nbsp;&nbsp;</span>What does it mean for the value of something to be uncertain?</a></span><ul class=\"toc-item\"><li><span><a href=\"#How-do-we-know-something-is-uncertain?\" data-toc-modified-id=\"How-do-we-know-something-is-uncertain?-1.2.1\"><span class=\"toc-item-num\">1.2.1&nbsp;&nbsp;</span>How do we <em>know</em> something is uncertain?</a></span></li></ul></li><li><span><a href=\"#What,-exactly,-is-uncertain?\" data-toc-modified-id=\"What,-exactly,-is-uncertain?-1.3\"><span class=\"toc-item-num\">1.3&nbsp;&nbsp;</span>What, <em>exactly</em>, is uncertain?</a></span><ul class=\"toc-item\"><li><ul class=\"toc-item\"><li><span><a href=\"#Exercise\" data-toc-modified-id=\"Exercise-1.3.1\"><span class=\"toc-item-num\">1.3.1&nbsp;&nbsp;</span>Exercise</a></span></li></ul></li></ul></li></ul></li><li><span><a href=\"#A-framework-for-data-analysis:--Estimates-=-Truth-+-Uncertainties\" data-toc-modified-id=\"A-framework-for-data-analysis:--Estimates-=-Truth-+-Uncertainties-2\"><span class=\"toc-item-num\">2&nbsp;&nbsp;</span>A framework for data analysis:  Estimates = Truth + Uncertainties</a></span><ul class=\"toc-item\"><li><ul class=\"toc-item\"><li><ul class=\"toc-item\"><li><span><a href=\"#Example:-Simulated-Pendulum-Measurements\" data-toc-modified-id=\"Example:-Simulated-Pendulum-Measurements-2.0.1\"><span class=\"toc-item-num\">2.0.1&nbsp;&nbsp;</span>Example: Simulated Pendulum Measurements</a></span></li></ul></li><li><span><a href=\"#Example:-x,y-data-points-along-a-straight-line\" data-toc-modified-id=\"Example:-x,y-data-points-along-a-straight-line-2.0.1\"><span class=\"toc-item-num\">2.0.1&nbsp;&nbsp;</span>Example: x,y data points along a straight line</a></span></li></ul></li><li><span><a href=\"#Measurements-and-errors-as-draws-from-distributions\" data-toc-modified-id=\"Measurements-and-errors-as-draws-from-distributions-2.1\"><span class=\"toc-item-num\">2.1&nbsp;&nbsp;</span>Measurements and errors as draws from distributions</a></span></li></ul><li><span><a href=\"#The-signal-and-the-noise\" data-toc-modified-id=\"The-signal-and-the-noise-3\"><span class=\"toc-item-num\">3&nbsp;&nbsp;</span>The signal and the noise</a></span></li><li><span><a href=\"#Probability\" data-toc-modified-id=\"Probability\"><span class=\"toc-item-num\">4&nbsp;&nbsp;</span>Probability</a></span></li><li><span><a href=\"#Statistical-distributions\" data-toc-modified-id=\"Statistical-distributions-4\"><span class=\"toc-item-num\">5&nbsp;&nbsp;</span>Statistical distributions</a></span><ul class=\"toc-item\"><li><span><a href=\"#Informal-definitions:-what-is-a-distribution?\" data-toc-modified-id=\"Informal-definitions:-what-is-a-distribution?-5.1\"><span class=\"toc-item-num\">5.1&nbsp;&nbsp;</span>Informal definitions: what <em>is</em> a distribution?</a></span><ul class=\"toc-item\"><li><span><a href=\"#Informal-definition-1:\" data-toc-modified-id=\"Informal-definition-1:-5.1.1\"><span class=\"toc-item-num\">5.1.1&nbsp;&nbsp;</span>Informal definition 1:</a></span></li><li><span><a href=\"#Informal-definition-2:\" data-toc-modified-id=\"Informal-definition-2:-5.1.2\"><span class=\"toc-item-num\">5.1.2&nbsp;&nbsp;</span>Informal definition 2:</a></span></li></ul></li></li></ul></div>"
   ]
  },
  {
   "cell_type": "code",
   "execution_count": 7,
   "metadata": {},
   "outputs": [
    {
     "name": "stderr",
     "output_type": "stream",
     "text": [
      "/var/folders/cg/ldp5srbn6_3cc82bbxc26ppw0000gn/T/ipykernel_16531/2468111613.py:14: DeprecationWarning: Importing display from IPython.core.display is deprecated since IPython 7.14, please import from IPython display\n",
      "  from IPython.core.display import display, HTML\n"
     ]
    },
    {
     "data": {
      "text/html": [
       "<style>.container { width:90% !important; }</style>"
      ],
      "text/plain": [
       "<IPython.core.display.HTML object>"
      ]
     },
     "metadata": {},
     "output_type": "display_data"
    }
   ],
   "source": [
    "%matplotlib inline\n",
    "#enable plotting inline within the notebook\n",
    "\n",
    "from matplotlib import pyplot as plt\n",
    "\n",
    "plt.rcParams['figure.figsize'] = [15, 10]\n",
    "#make the plots larger -- numbers are x and y, in inches\n",
    "\n",
    "plt.rcParams.update({'font.size': 25})\n",
    "#increase fonts sizes, so things like axis labels are easier to read\n",
    "\n",
    "\n",
    "\n",
    "from IPython.core.display import display, HTML\n",
    "display(HTML(\"<style>.container { width:90% !important; }</style>\"))\n",
    "#this just allows me to increase the width of the notebook display"
   ]
  },
  {
   "cell_type": "markdown",
   "metadata": {
    "slideshow": {
     "slide_type": "slide"
    }
   },
   "source": [
    "# Lesson 7: \n",
    "\n",
    "# key concepts in statistics and data analysis II:\n",
    "# probability, estimates and uncertainties"
   ]
  },
  {
   "cell_type": "markdown",
   "metadata": {},
   "source": [
    "**Today's session is arguably the most important -- or at least the most fundamental -- in the entire course.**\n",
    "\n",
    "Why? Because we're going to try to develop a clear understanding of what we actually mean when we make statements like \"The resistance in this circuit is $100\\, \\Omega \\pm 10\\, \\Omega$.\"\n",
    "\n",
    "I'm sure that all of us have *made* such statements, e.g. when writing up lab experiments. \n",
    "\n",
    "But what exactly -- *quantitatively* -- are we claiming when we make such a statement?"
   ]
  },
  {
   "cell_type": "markdown",
   "metadata": {},
   "source": [
    "## Estimates, errors and uncertainties\n",
    "\n",
    "### Agreeing on the words we use\n",
    "\n",
    "Let's start by defining some terms, just so we can all use the same precise language to talk about things. \n",
    "\n",
    "In the statement \"The resistance in this circuit is $100\\, \\Omega \\pm 10\\, \\Omega$\":\n",
    "\n",
    "* $100\\, \\Omega$ is our best **estimate** of the resistance \n",
    "    * In this particular example, this estimate is probably based on a direct experimental *measurement*.\n",
    "    * More generally, estimates might be indirectly *derived* from a measurement and/or or based on a *combination* of measurements\n",
    "        * For example, if we also have an measured estimate of the current in the circuit, we can *derive* an estimate of the voltage by *combining* our resistance and current estimates via Ohm's Law, $V = IR$\n",
    "\n",
    "\n",
    "* $10\\, \\Omega$ is the **uncertainty** or **\"error\"** or **\"noise\"** associated with our estimate\n",
    "    * Strictly speaking, using the word \"error\" to describe \"uncertainties\" isn't a great idea. \n",
    "        * If we made an actual *error* in our measurement or derivation, we should just correct it!\n",
    "    * However, this usage of the word \"error\" is so deeply ingrained in statistics that there is no point fighting it.\n",
    "    * So, like everybody else, we'll usually use \"error\" and \"uncertainty\" as synonyms. "
   ]
  },
  {
   "cell_type": "markdown",
   "metadata": {},
   "source": [
    "### What does it mean for the value of something to be uncertain?\n",
    "\n",
    "#### How do we *know* something is uncertain?\n",
    "\n",
    "Suppose we are given a simple pendulum and asked to measure its period of oscillation. We let it swing. After a couple of initial swings, we start a stopwatch when the pendulum is at the left-most positions. We then wait and stop the stopwatch when the pendulum has come back to that position. Let's say our stop watch reads 1.314 seconds.\n",
    "\n",
    "Hopefully, we can all agree that, at this point, 1.314 seconds is our best estimate of the period.\n",
    "\n",
    "I bet we also all think that this estimate is not perfect -- there is an uncertainty associated with it. \n",
    "\n",
    "**But why do we think that?** Why are we suspicious of this number? Why do we not simply say \"The period of the pendulum is exactly 1.314 seconds\"?"
   ]
  },
  {
   "cell_type": "markdown",
   "metadata": {},
   "source": [
    "When asked this question, I suspect most of us would give a list of possible problems with our measurement. The two most obvious candidates are probably:\n",
    "* we might not have hit the stopwatch buttons at exactly the right time\n",
    "* the stopwatch might not be all that great\n",
    "\n",
    "That's fine -- but we have no evidence that these problems *actually* affected our measurement. At this point, they are just theoretical worries."
   ]
  },
  {
   "cell_type": "markdown",
   "metadata": {},
   "source": [
    "So what is it that makes us **empirically** sure that our measurement is uncertain? \n",
    "\n",
    "(\"Empirically\" here means \"based on observation or experience\".)\n",
    "\n",
    "**We would get a slightly different result if we -- or somebody else -- did the experiment again.**\n",
    "\n",
    "Of course, this, too, is just a hypothesis at the moment. But:\n",
    "\n",
    "* it's based on our accumulated experience of \"how the world works\"\n",
    "\n",
    "\n",
    "* more importantly, **it's a hypothesis we can test and verify**\n",
    "    * we just have to run the experiment again"
   ]
  },
  {
   "cell_type": "markdown",
   "metadata": {},
   "source": [
    "**Key take-home point:**\n",
    "\n",
    "**We know something is uncertain if repeated measurements of it produce different results.**"
   ]
  },
  {
   "cell_type": "markdown",
   "metadata": {},
   "source": [
    "### What, *exactly*, is uncertain?\n",
    "\n",
    "In our pendulum experiment, the actual period of the pendulum is an exact and well-defined thing. It's not some Schroedinger cat-like thing that doesn't have a clear-cut unique value. This is classical physics we're talking about. So it's not the actual period that is subject to uncertainties. What *is* uncertain? **Our estimate of the period!**"
   ]
  },
  {
   "cell_type": "markdown",
   "metadata": {},
   "source": [
    "**Key take-home point:**\n",
    "\n",
    "**When we measure some quantity, it is our *estimate* of that quantity that is uncertain.**\n",
    "\n",
    "The quantity itself (usually) has a unique and exact value."
   ]
  },
  {
   "cell_type": "markdown",
   "metadata": {},
   "source": [
    "##### Exercise\n",
    "\n",
    "Working with one or more partners, actually run the pendulum experiment.\n",
    "\n",
    "* create a simple pendulum out of whatever materials you have in hand; for example:\n",
    "    * tie a pencil to USB cord\n",
    "    * dangle a headphone lead\n",
    "    * hold a backpack from a long strap\n",
    "    * suspend something from your shoe laces (perhaps your shoes:)\n",
    "    \n",
    "* run a set of \"single swing\" experiments\n",
    "    \n",
    "    * take 20 measurements of the time taken for a *single* swing of your pendulum\n",
    "\n",
    "    * plot a histogram of your measurements\n",
    "\n",
    "    * work out the mean and standard deviation of your measurements\n",
    "\n",
    "* run a set of \"multiple swing\" experiments\n",
    "\n",
    "    * take 20 measurements of the time taken for your pendulum to make 10 swings\n",
    "\n",
    "    * divie those numbers by 10 to estimate the period \n",
    "    \n",
    "    * plot a histogram of your estimates\n",
    "\n",
    "    * work out the mean and standard deviation of your estimates\n",
    "\n",
    "* compare the results of the single and multiple swing experiments\n",
    "\n",
    "    * do they agree with each other?\n",
    "    \n",
    "    * what's different between them?"
   ]
  },
  {
   "cell_type": "markdown",
   "metadata": {},
   "source": [
    "## A framework for data analysis:  Estimates = Truth + Uncertainties\n",
    "\n",
    "The basic considerations above lead us to a simple, but incredibly powerful framework for thinking about all kinds of experimental or observational data:\n",
    "\n",
    "The thing we are trying to measure (usually) has an exact and unique *true value*, but our *estimate* of it is affected by *uncertainties* (aka \"errors) associated with the process by which we obtained it."
   ]
  },
  {
   "cell_type": "markdown",
   "metadata": {},
   "source": [
    "When we take a measurement of the pendulum period, the *true* value of the period is always the same.\n",
    "\n",
    "However, the noise processes that are responsible for the uncertainties (usually) do **not** produce the exact same \"offset\" from the true value each time. Instead, they are affected by **randomness**. \n",
    "\n",
    "In the pendulum example, our finger sometime hits the stop button a little too early, sometimes a little too late, and pretty much never by exactly the same amount. "
   ]
  },
  {
   "cell_type": "markdown",
   "metadata": {},
   "source": [
    "We can literally think of our measurements or estimates consisting of the *sum* of the true value and a random \"error\" component caused by the noise process. That error is different every time we take a new measurement, and it's sometimes positive and sometimes negative. \n",
    "\n",
    "Taking our pendulum experiment as an example, we can therefore write every observed period measurement $T_{obs}$ as the sum of the *true* period, $T_{true}$ and some error term, $\\epsilon$\n",
    "\n",
    "$$T_{obs} = T_{true} + \\epsilon$$"
   ]
  },
  {
   "cell_type": "markdown",
   "metadata": {},
   "source": [
    "* If our measurements are **unbiased**, $\\epsilon$ is equally likely to be positive or negative\n",
    "    * we're just as likely to measure a period that's too large as one that's too small\n",
    "    \n",
    "    \n",
    "* Every time we obtain a new, *independent* measurement, $T_{obs}$ will be slightly different\n",
    "    * $T_{true}$ is still the same, but $\\epsilon$ is different each time"
   ]
  },
  {
   "cell_type": "markdown",
   "metadata": {},
   "source": [
    "##### Example: Simulated Pendulum Measurements\n",
    "\n",
    "Let's try to use Python to help us visualize this. In the following animation (distributed with this Notebook), the grey line is the true table length, each of the jumping dots is a simulated measurement, and then the histogram just shows the distribution of all simulated 10,000 measurements.\n",
    "\n",
    "                    [show animation 1]\n",
    "                    \n",
    "Don't worry about the exact *shape* of the histogram at this point. We'll get to that. What matters for now is just that there **is** a histogram, and that it has **some** particular shape."
   ]
  },
  {
   "cell_type": "markdown",
   "metadata": {},
   "source": [
    "#### Example: x,y data points along a straight line\n",
    "\n",
    "Let's see how this same \"truth + uncertainty\" decomposition applies when the data is 2-dimensional, such as when we're measuring points that, in the absence of any noise, would fall along a straight line."
   ]
  },
  {
   "cell_type": "markdown",
   "metadata": {},
   "source": [
    "Let's take Ohm's law as an example. Suppose we had a *perfect* circuit, with totally steady voltage, current and resistance. Suppose also we had *perfect* measurements of voltage and current -- i.e. we have access to the *true* values of both, $V_{true}$ and $I_{true}$. Then if we plotted them against one another, we'd expect to see something like this:\n",
    "\n",
    "<img src=perfect-VI.png width=50%>\n"
   ]
  },
  {
   "cell_type": "markdown",
   "metadata": {},
   "source": [
    "Unfortunately, back in the real world, we don't have access to perfect measurements. Let's assume for now that, in this experiment, it's the voltage that's most affected by uncertainties (perhaps we've been able to fix the currents pretty well). Then if we take an actual set of measurements, we might see something like this:\n",
    "\n",
    "<img src=imperfect-VI-1.png width=50%>\n"
   ]
  },
  {
   "cell_type": "markdown",
   "metadata": {},
   "source": [
    "And if we do it all again, we might get this:\n",
    "\n",
    "<img src=imperfect-VI-2.png width=50%>"
   ]
  },
  {
   "cell_type": "markdown",
   "metadata": {},
   "source": [
    "And if we do it three more times, we might get these plots:\n",
    "\n",
    "<img src=imperfect-VI-3.png style=\"float:left\" width=30%>\n",
    "<img src=imperfect-VI-4.png style=\"float:left\" width=30%>\n",
    "<img src=imperfect-VI-5.png style=\"float:left\" width=30%>\n"
   ]
  },
  {
   "cell_type": "markdown",
   "metadata": {},
   "source": [
    "The important point here is that every one of these plots -- every set of measurements -- is different, but none is better or worse than any other."
   ]
  },
  {
   "cell_type": "markdown",
   "metadata": {},
   "source": [
    "### Measurements and errors as draws from distributions\n",
    "\n",
    "These examples lead us to some important general conclusions:\n",
    "\n",
    "* **Any specific measurement we make is just one, randomly selected one of the many, many possible ones we might have made.**\n",
    "\n",
    "\n",
    "* **The reason for this is that, each time, the *noise* (error) process(es) will produce a slightly different amount of scatter away from the true value.** \n",
    "\n",
    "\n",
    "* **So it's really the *errors* that are \"drawn\" from an infinite population of possible amounts of scatter.**"
   ]
  },
  {
   "cell_type": "markdown",
   "metadata": {},
   "source": [
    "Now, we can never hope to predict the exact amount of scatter we'll get in any particular measurement -- if uncertainties were predictable that way, they wouldn't be uncertain.\n",
    "\n",
    "However, not all measured values are equally probable. For example, suppose our first 5 measurements of the period in the pendulum example are 10.0 s, 9.8 s, 10.5 s, 10.3, 9.9 s. Then I think we can all agree that it's extremely improbable that the 6th measurement will be 100 seconds.\n",
    "\n",
    "So while we can't hope to predict the exact error value (the offset from the true value) for any one experiment, **we can hope to understand the *distribution* from which the error values are drawn.** In the context of our pendulum example, we can hope to understand the **shape** of the histogram produced by our measurements. **This would tell us the probability of finding any particular (range of) values.**\n",
    "\n",
    "**If we can do this, we can predict the *typical outcome* of a measurement, and the *range of possible outcomes*, even if we cannot predict any one particular measurement.**\n",
    "\n",
    "But before we get into this (in the next session), we really need to define what we mean by the term \"probability\" we keep using!"
   ]
  },
  {
   "cell_type": "code",
   "execution_count": null,
   "metadata": {},
   "outputs": [],
   "source": []
  },
  {
   "cell_type": "markdown",
   "metadata": {},
   "source": [
    "# Probability and noise distributions"
   ]
  },
  {
   "cell_type": "code",
   "execution_count": null,
   "metadata": {},
   "outputs": [],
   "source": []
  },
  {
   "cell_type": "markdown",
   "metadata": {},
   "source": [
    "### Measurements and errors as draws from distributions\n",
    "\n",
    "These examples lead us to some important general conclusions:\n",
    "\n",
    "* **Any specific measurement we make is just one, randomly selected one of the many, many possible ones we might have made.**\n",
    "\n",
    "\n",
    "* **The reason for this is that, each time, the *noise* (error) process(es) will produce a slightly different amount of scatter away from the true value.** \n",
    "\n",
    "\n",
    "* **So it's really the *errors* that are \"drawn\" from an infinite population of possible amounts of scatter.**"
   ]
  },
  {
   "cell_type": "markdown",
   "metadata": {},
   "source": [
    "Now, we can never hope to predict the exact amount of scatter we'll get in any particular measurement -- if uncertainties were predictable that way, they wouldn't be uncertain.\n",
    "\n",
    "However, not all measured values are equally probable. For example, suppose our first 5 measurements of the period in the pendulum example are 10.0 s, 9.8 s, 10.5 s, 10.3, 9.9 s. Then I think we can all agree that it's extremely improbable that the 6th measurement will be 100 seconds.\n",
    "\n",
    "So while we can't hope to predict the exact error value (the offset from the true value) for any one experiment, we can hope to understand the distribution from which the error values are drawn. In the context of our pendulum example, we can hope to understand the shape of the histogram produced by our measurements. This would tell us the probability of finding any particular (range of) values.\n",
    "\n",
    "If we can do this, we can predict the typical outcome of a measurement, and the range of possible outcomes, even if we cannot predict any one particular measurement.\n",
    "\n",
    "But before we get into this (in the next session), we really need to define what we mean by the term \"probability\" we keep using!"
   ]
  },
  {
   "cell_type": "markdown",
   "metadata": {},
   "source": [
    "## What *is* \"probability\"?"
   ]
  },
  {
   "cell_type": "markdown",
   "metadata": {},
   "source": [
    "#### Example: Two Dice\n",
    "\n",
    "Suppose we roll two dice. What do we mean by \"the probability of rolling two sixes\"?\n",
    "\n",
    "(Note that the question is not \"what is the probability of rolling two sixes\". The question is \"what do we even mean by that statement\"?)\n",
    "\n",
    "With a little thought, hopefully we can agree that we mean the following:\n",
    "\n",
    "    Suppose we roll the two dice repeatedly -- many, many times. \n",
    "    \n",
    "    Then the fraction of those rolls that come up with two sixes \n",
    "       will become equal to the probability of rolling two sixes."
   ]
  },
  {
   "cell_type": "markdown",
   "metadata": {},
   "source": [
    "##### Exercise: Rolling Dice\n",
    "\n",
    "Write a function that simulates a single throw of two dice. You can use numpy's *random.randint()* function.\n",
    "\n",
    "Run your function 100 times and record the fraction of times it returns two sixes."
   ]
  },
  {
   "cell_type": "markdown",
   "metadata": {},
   "source": [
    "#### A simple definition\n",
    "\n",
    "We can generalize and formalize this a little bit to give us a simple working definition of probability:\n",
    "\n",
    "    The probability of an outcome \n",
    "       is the fraction of the time it will (or would) happen, \n",
    "       if the process generating the outcome \n",
    "       is (or would be) repeated an infinite number of times."
   ]
  },
  {
   "cell_type": "markdown",
   "metadata": {},
   "source": [
    "#### Discrete vs continuous\n",
    "\n",
    "What about cases where the values we are measuring are real numbers, not integers?\n",
    "    \n",
    "* Suppose we repeatedly draw random real numbers between 0 and 10. What's the probability that the next draw will yield *exactly* $\\pi$, to infinite precision? \n",
    "\n",
    "* Hopefully it's obvious that the answer must be zero, and that this answer holds for **any** value we choose, not just $\\pi$. \n",
    "\n",
    "So, for real (and hence continuous) measurements, \"outcome\" cannot mean a specific measured **value**. "
   ]
  },
  {
   "cell_type": "markdown",
   "metadata": {},
   "source": [
    "Instead, the only meaningful question is whether the measured value falls into some **range**. \n",
    "\n",
    "    For real (as opposed to integer) measurements, \n",
    "    the \"outcome\" to which we can attach a probability \n",
    "    is whether this value falls into a given range.\n",
    "\n",
    "For example, the probability that our draw above produces a value between 3.1 and 3.2 *is* a well-defined, non-zero quantity."
   ]
  },
  {
   "cell_type": "markdown",
   "metadata": {},
   "source": [
    "##### Exercise: Pi(e) Drawing \n",
    "\n",
    "Write a function that draws a random real number between 0 and 10. Use numpy's *random.uniform()* function.\n",
    "\n",
    "Run your function 1000 times. What fraction of draws lie between 3.1 and 3.2? Is this what you expected?"
   ]
  },
  {
   "cell_type": "markdown",
   "metadata": {},
   "source": [
    "In practice, experimental uncertainties are almost always drawn from just two probability distributions:\n",
    "\n",
    "* measurements of real-valued quantities tend to follow the Gaussian (or \"normal\") distribution\n",
    "* measurements of integer counts tend to follow the Poisson distribution\n",
    "\n",
    "We will discuss why this is -- and what those distribution look like in a few minutes."
   ]
  },
  {
   "cell_type": "markdown",
   "metadata": {},
   "source": [
    "## Statistical vs systematic uncertainties\n",
    "\n",
    "Everything we've learned so far about errors and uncertainties suggests that they are irritating, but in some sense \"benign\". Sure, the make it hard to get at the true value of whatever we are trying to measure. But at least they only cause our measurements to scatter randomly around the true value. \n",
    "\n",
    "Errors that are \"well-behaved\" like this are usually called \"statistical\" errors. \n",
    "\n",
    "But there is also another type, which does *not* behave nicely like that. That type is called \"systematic\" errors. Those are much more insidious and misleading.\n",
    "\n",
    "**In this course, we will pretty much exclusively focus on dealing with *statistical* uncertainties.** However, it's really important that we understand the existence and nature of *both* types, and their relationship to the concepts of \"precision\" and \"accuracy\"."
   ]
  },
  {
   "cell_type": "markdown",
   "metadata": {},
   "source": [
    "#### Statistical errors\n",
    "\n",
    "The key properties of *statistical* errors is that they are *random* and not \"*biased*\".\n",
    "\n",
    "Sometimes they'll cause the measured value to be too high by some amount, sometimes too low by the same amount. \n",
    "\n",
    "But the probability of each of these outcomes is the same. "
   ]
  },
  {
   "cell_type": "markdown",
   "metadata": {},
   "source": [
    "**If we take many measurements of a quantity affected only by statistical errors, the average of those measurements will tend to the \"true\" value.**"
   ]
  },
  {
   "cell_type": "markdown",
   "metadata": {},
   "source": [
    "Statistical errors are the sort of uncertainties most of us intuitively think of.\n",
    "\n",
    "They can crop up in many different ways:\n",
    "\n",
    "* scatter in repeated measurements\n",
    "* limitations of our measurement apparatus\n",
    "* scatter in observed counts for a given average count *rate*\n",
    "    * we'll return to this one soon\n",
    "* \"intrinsic dispersion\"\n",
    "    * scatter in some quantity that's \"statistical\", but larger than the measurement error\n",
    "    * we'll return to this one soon also..."
   ]
  },
  {
   "cell_type": "markdown",
   "metadata": {},
   "source": [
    "#### Systematic measurement errors\n",
    "\n",
    "By contrast, *systematic errors* are errors that affect all (or some) of our data points *in the same way*. "
   ]
  },
  {
   "cell_type": "markdown",
   "metadata": {},
   "source": [
    "One classic example of a systematic error is an error introduced by an incorrect calibration:\n",
    "\n",
    "* Suppose a voltmeter *always* gives a reading that is 10% too high. \n",
    "\n",
    "* Clearly this error isn't going to go down as we add more data (readings)\n",
    "\n",
    "* It also won't be obvious from plotting the histogram of all of our readings\n",
    "    * the histogram won't be wider -- it'll just be offset!\n",
    "    \n",
    "* It also won't produce obvious anomalies, just wrong results\n",
    "    * e.g. there is still a linear relation between the input voltage and our readings"
   ]
  },
  {
   "cell_type": "markdown",
   "metadata": {},
   "source": [
    "Because of all this, **systematic errors are trouble: work hard to avoid, detect and remove them!**"
   ]
  },
  {
   "cell_type": "markdown",
   "metadata": {},
   "source": [
    "### Accuracy vs precision\n",
    "\n",
    "The difference between *statistical* and *systematic* errors has a one-to-one correspondence to the difference between *accuracy* and *precision*.\n",
    "\n",
    "* A **precise** measurement is one that has small **statistical** errors.\n",
    "\n",
    "* An **accurate** measurement is one that has small **systematic** errors."
   ]
  },
  {
   "cell_type": "markdown",
   "metadata": {},
   "source": [
    "## The signal and the noise\n",
    "\n",
    "In the last session, we developed a simple, but extremely useful framework for thinking about scientific data. Essentially, all **measurements** or **observations** can be decomposed into two components: **the signal** (aka \"the truth\") and **the noise** (aka the \"errors\" or \"uncertainties\"):"
   ]
  },
  {
   "cell_type": "markdown",
   "metadata": {},
   "source": [
    "* \"The Signal\"\n",
    "    * This is the thing we are after: \"the truth\"\n",
    "    * A perfect experiment or observation would have produced only this\n",
    "    * It's the same every time we repeat a measurement or observation\n",
    "    * We will typically have some sort of *model* for this (perhaps just a constant, but maybe a straight line, a quadratic, ....)\n",
    "\n",
    "\n",
    "* \"The Noise\"\n",
    "    * This describes the errors / uncertainties affecting our measurements\n",
    "    * It's what makes our *actual* observations different from the perfect signal\n",
    "    * It's due to whatever processes that add \"scatter\" to our measurements (e.g. a shaky hand, an imperfect ruler, an unsteady clock, ...)"
   ]
  },
  {
   "cell_type": "markdown",
   "metadata": {},
   "source": [
    "So the only reason we get slightly different numbers each time we repeat a measurement is because **the exact value of the noise contribution is different each time.**\n",
    "\n",
    "**Our observed data is a random draw from some noise distribution centered on the true value.**"
   ]
  },
  {
   "cell_type": "markdown",
   "metadata": {},
   "source": [
    "We can never predict the exact value of the noise in any particular measurement -- but this doesn't mean that the properties of the noise are completely unknown. In fact, **the *probability* of obtaining a measurement at some distance from the true value usually follows a known distribution.**\n",
    "\n",
    "All of this shows that it's critical to understand the noise that's affecting our data -- and particularly the shape of the distributions from which that noise may be drawn.\n",
    "\n",
    "\n",
    "In today's session, we'll meet the two most important of these noise distributions and learn how to use and exploit them. "
   ]
  },
  {
   "cell_type": "markdown",
   "metadata": {},
   "source": [
    "## Statistical distributions\n",
    "\n",
    "Let's begin by asking ourselves of what a \"statistical distribution\" actually is."
   ]
  },
  {
   "cell_type": "markdown",
   "metadata": {},
   "source": [
    "### Informal definitions: what *is* a distribution? "
   ]
  },
  {
   "cell_type": "markdown",
   "metadata": {},
   "source": [
    "* When we say \"a number is drawn from drawn from a population with some distribution\", we mean that the probability that our number has any  particular value is given by that distribution.\n",
    "\n",
    "* As a short-hand, we often just talk about \"a number is drawn from a  distribution\" (i.e. skipping the population bit).\n",
    "\n",
    "* What all of this this means is this: **if we make a histogram of lots of numbers drawn in this way, that histogram will *eventually* look like the \"underlying\" distribution.**"
   ]
  },
  {
   "cell_type": "markdown",
   "metadata": {},
   "source": [
    "#### Informal definition 1:\n",
    "\n",
    "**A probability distribution tells us how likely it is that a random draw of some quantity will yield a particular result.**"
   ]
  },
  {
   "cell_type": "markdown",
   "metadata": {},
   "source": [
    "For example, if a quantity is described by a uniform distribution between zero and one, we immediately know that every real number between zero and one is equally likely to be drawn."
   ]
  },
  {
   "cell_type": "code",
   "execution_count": null,
   "metadata": {},
   "outputs": [],
   "source": []
  },
  {
   "cell_type": "markdown",
   "metadata": {},
   "source": [
    "Another, perhaps even more intuitive, definition is to just slightly formalize our statement about the relationship between distributions and histograms:"
   ]
  },
  {
   "cell_type": "markdown",
   "metadata": {},
   "source": [
    "#### Informal definition 2:\n",
    "\n",
    "**If we make a histogram of values drawn from a given distribution, the shape of that histogram will tend towards the distribution as the number of draws gets larger and larger.**\n",
    "\n",
    "\n",
    "     [animation 1 -- code on Blackboard]"
   ]
  },
  {
   "cell_type": "markdown",
   "metadata": {},
   "source": [
    "This is actually a pretty nice, visual definition of what a probability distribution really is. It basically follows immediately from the first definition, but it's perhaps more concrete and easier to visualize."
   ]
  },
  {
   "cell_type": "code",
   "execution_count": null,
   "metadata": {},
   "outputs": [],
   "source": []
  },
  {
   "cell_type": "markdown",
   "metadata": {
    "slideshow": {
     "slide_type": "fragment"
    }
   },
   "source": [
    "#### BIG PICTURE EXERCISE\n",
    "Please complete BIG PICTURE EXERCISE from lesson 6"
   ]
  }
 ],
 "metadata": {
  "celltoolbar": "Slideshow",
  "hide_input": false,
  "kernelspec": {
   "display_name": "Python 3",
   "language": "python",
   "name": "python3"
  },
  "language_info": {
   "codemirror_mode": {
    "name": "ipython",
    "version": 3
   },
   "file_extension": ".py",
   "mimetype": "text/x-python",
   "name": "python",
   "nbconvert_exporter": "python",
   "pygments_lexer": "ipython3",
   "version": "3.13.0"
  },
  "latex_envs": {
   "bibliofile": "biblio.bib",
   "cite_by": "apalike",
   "current_citInitial": 1,
   "eqLabelWithNumbers": true,
   "eqNumInitial": 0
  },
  "toc": {
   "base_numbering": 1,
   "nav_menu": {},
   "number_sections": true,
   "sideBar": true,
   "skip_h1_title": true,
   "title_cell": "Table of Contents",
   "title_sidebar": "Contents",
   "toc_cell": true,
   "toc_position": {},
   "toc_section_display": true,
   "toc_window_display": false
  }
 },
 "nbformat": 4,
 "nbformat_minor": 4
}
