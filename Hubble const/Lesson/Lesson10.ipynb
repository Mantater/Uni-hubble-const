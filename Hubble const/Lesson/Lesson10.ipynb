{
 "cells": [
  {
   "cell_type": "code",
   "execution_count": 4,
   "metadata": {
    "scrolled": true,
    "slideshow": {
     "slide_type": "skip"
    }
   },
   "outputs": [
    {
     "data": {
      "text/html": [
       "<style>.container { width:90% !important; }</style>"
      ],
      "text/plain": [
       "<IPython.core.display.HTML object>"
      ]
     },
     "metadata": {},
     "output_type": "display_data"
    }
   ],
   "source": [
    "%matplotlib inline\n",
    "#enable plotting inline within the notebook\n",
    "\n",
    "from matplotlib import pyplot as plt\n",
    "\n",
    "plt.rcParams['figure.figsize'] = [15, 10]\n",
    "#make the plots larger -- numbers are x and y, in inches\n",
    "\n",
    "from IPython.core.display import display, HTML\n",
    "display(HTML(\"<style>.container { width:90% !important; }</style>\"))\n",
    "#this just allows me to increase the width of the notebook display"
   ]
  },
  {
   "cell_type": "markdown",
   "metadata": {
    "slideshow": {
     "slide_type": "skip"
    },
    "toc": true
   },
   "source": [
    "<h1>Table of Contents<span class=\"tocSkip\"></span></h1>\n",
    "<div class=\"toc\"><ul class=\"toc-item\"><li><span><a href=\"#Previously-on-PHYS1201...\" data-toc-modified-id=\"Previously-on-PHYS1201...-1\"><span class=\"toc-item-num\">1&nbsp;&nbsp;</span>Previously on PHYS1201...</a></span></li><li><span><a href=\"#Today-on-PHYS1201...\" data-toc-modified-id=\"Today-on-PHYS1201...-2\"><span class=\"toc-item-num\">2&nbsp;&nbsp;</span>Today on PHYS1201...</a></span></li><li><span><a href=\"#Big-Picture-Exercise:-Using-$\\chi^2$-on-a-fake-Hubble-Constant-data-set\" data-toc-modified-id=\"Big-Picture-Exercise:-Using-$\\chi^2$-on-a-fake-Hubble-Constant-data-set-3\"><span class=\"toc-item-num\">3&nbsp;&nbsp;</span>Big Picture Exercise: Using $\\chi^2$ on a fake Hubble Constant data set</a></span></li><li><span><a href=\"#Introduction-to-model-fitting\" data-toc-modified-id=\"Introduction-to-model-fitting-4\"><span class=\"toc-item-num\">4&nbsp;&nbsp;</span>Introduction to model fitting</a></span></li><li><span><a href=\"#Goodness-of-fit-testing-for-a-single-measurement\" data-toc-modified-id=\"Goodness-of-fit-testing-for-a-single-measurement-5\"><span class=\"toc-item-num\">5&nbsp;&nbsp;</span>Goodness-of-fit testing for a single measurement</a></span><ul class=\"toc-item\"><li><span><a href=\"#Example:-Testing-Ohm's-law\" data-toc-modified-id=\"Example:-Testing-Ohm's-law-5.1\"><span class=\"toc-item-num\">5.1&nbsp;&nbsp;</span>Example: Testing Ohm's law</a></span></li><li><span><a href=\"#how-far-away-is-too-far?\" data-toc-modified-id=\"how-far-away-is-too-far?-5.2\"><span class=\"toc-item-num\">5.2&nbsp;&nbsp;</span>how far away is too far?</a></span><ul class=\"toc-item\"><li><span><a href=\"#Significance-thresholds\" data-toc-modified-id=\"Significance-thresholds-5.2.1\"><span class=\"toc-item-num\">5.2.1&nbsp;&nbsp;</span>Significance thresholds</a></span><ul class=\"toc-item\"><li><span><a href=\"#Exercise:-multiple-trials-and-publication-bias\" data-toc-modified-id=\"Exercise:-multiple-trials-and-publication-bias-5.2.1.1\"><span class=\"toc-item-num\">5.2.1.1&nbsp;&nbsp;</span>Exercise: multiple trials and publication bias</a></span></li></ul></li></ul></li></ul></li><li><span><a href=\"#Goodness-of-fit-testing-for-multiple-data-points:-introducing-$\\chi^2$:\" data-toc-modified-id=\"Goodness-of-fit-testing-for-multiple-data-points:-introducing-$\\chi^2$:-6\"><span class=\"toc-item-num\">6&nbsp;&nbsp;</span>Goodness-of-fit testing for multiple data points: introducing $\\chi^2$:</a></span><ul class=\"toc-item\"><li><span><a href=\"#Example:-Ohm's-law-revisited\" data-toc-modified-id=\"Example:-Ohm's-law-revisited-6.1\"><span class=\"toc-item-num\">6.1&nbsp;&nbsp;</span>Example: Ohm's law revisited</a></span></li><li><span><a href=\"#Defining-the-$\\chi^2$-test-statistic\" data-toc-modified-id=\"Defining-the-$\\chi^2$-test-statistic-6.2\"><span class=\"toc-item-num\">6.2&nbsp;&nbsp;</span>Defining the $\\chi^2$ test statistic</a></span><ul class=\"toc-item\"><li><span><a href=\"#Example:-$\\chi^2$-for-a-straight-line-model\" data-toc-modified-id=\"Example:-$\\chi^2$-for-a-straight-line-model-6.2.1\"><span class=\"toc-item-num\">6.2.1&nbsp;&nbsp;</span>Example: $\\chi^2$ for a straight line model</a></span></li><li><span><a href=\"#Exercise:-$\\chi^2$-for-a-straight-line-model----sensitivity-to-parameters\" data-toc-modified-id=\"Exercise:-$\\chi^2$-for-a-straight-line-model----sensitivity-to-parameters-6.2.2\"><span class=\"toc-item-num\">6.2.2&nbsp;&nbsp;</span>Exercise: $\\chi^2$ for a straight line model -- sensitivity to parameters</a></span></li><li><span><a href=\"#Exercise:-$\\chi^2$-for-the-multiple-measurement-Ohm's-law-example\" data-toc-modified-id=\"Exercise:-$\\chi^2$-for-the-multiple-measurement-Ohm's-law-example-6.2.3\"><span class=\"toc-item-num\">6.2.3&nbsp;&nbsp;</span>Exercise: $\\chi^2$ for the multiple measurement Ohm's law example</a></span></li><li><span><a href=\"#Exercise:-$\\chi^2$-for-repeated-measurements-of-the-same-thing\" data-toc-modified-id=\"Exercise:-$\\chi^2$-for-repeated-measurements-of-the-same-thing-6.2.4\"><span class=\"toc-item-num\">6.2.4&nbsp;&nbsp;</span>Exercise: $\\chi^2$ for repeated measurements of the same thing</a></span></li></ul></li><li><span><a href=\"#The-probability-distribution-of-the-$\\chi^2$-test-statistic\" data-toc-modified-id=\"The-probability-distribution-of-the-$\\chi^2$-test-statistic-6.3\"><span class=\"toc-item-num\">6.3&nbsp;&nbsp;</span>The probability distribution of the $\\chi^2$ test statistic</a></span></li><li><span><a href=\"#The-mean-and-standard-deviation-of-the-$\\chi^2$-distribution\" data-toc-modified-id=\"The-mean-and-standard-deviation-of-the-$\\chi^2$-distribution-6.4\"><span class=\"toc-item-num\">6.4&nbsp;&nbsp;</span>The mean and standard deviation of the $\\chi^2$ distribution</a></span></li><li><span><a href=\"#The-$\\chi^2$-FAQ\" data-toc-modified-id=\"The-$\\chi^2$-FAQ-6.5\"><span class=\"toc-item-num\">6.5&nbsp;&nbsp;</span>The $\\chi^2$ FAQ</a></span></li></ul></li><li><span><a href=\"#Big-Picture-Exercise:-Using-$\\chi^2$-on-a-fake-Hubble-Constant-data-set\" data-toc-modified-id=\"Big-Picture-Exercise:-Using-$\\chi^2$-on-a-fake-Hubble-Constant-data-set-7\"><span class=\"toc-item-num\">7&nbsp;&nbsp;</span>Big Picture Exercise: Using $\\chi^2$ on a fake Hubble Constant data set</a></span></li></ul></div>"
   ]
  },
  {
   "cell_type": "markdown",
   "metadata": {
    "slideshow": {
     "slide_type": "slide"
    }
   },
   "source": [
    "# Lesson 13:\n",
    "# model fitting I -- is my model good enough?"
   ]
  },
  {
   "cell_type": "markdown",
   "metadata": {
    "slideshow": {
     "slide_type": "slide"
    }
   },
   "source": [
    "## Previously on PHYS1201...\n",
    "\n",
    "In Lessons 12, 13 we took a practical look at observational/experimental uncertainties. Specifically, we asked two questions:\n",
    "\n",
    "* How can we *estimate* uncertainties from experiments?\n",
    "    * For *counting* experiments, the Poisson distribution tells us that, if we observe N counts, $\\sigma_N \\simeq \\sqrt{N}$ (as long as $N >> 1$)\n",
    "    * For $N$ repeated measurements that are all subject to the *same* errors, we saw that the the uncertainty on the unweighted mean, $\\overline{x}$ is $\\sigma_{\\overline{x}} \\simeq \\sigma/\\sqrt{N}$, where $\\sigma$ is the standard deviation of the measurements (and therefore our estimate of the uncertainty on each of these measurements).\n",
    "    \n",
    "* How can we *propagate* the uncertainties on measured/estimated quantities to determine the uncertainties on *other* quantities that depend on (are derived from) our measurements/estimates?\n",
    "    * We can do this *analytically*: we derived an error propagation formula that holds when our measurement errors are *small* and *uncorrelated*\n",
    "    * We can also do this *numerically*, by simply *simulating* a large sample of \"observations we might have obtained* and working out for each of these \"mock\" data sets the derived quantities we care about; the standard deviation of the distribution of these \"mock estimates\" is a good estimate of the uncertainty on them."
   ]
  },
  {
   "cell_type": "markdown",
   "metadata": {
    "slideshow": {
     "slide_type": "slide"
    }
   },
   "source": [
    "## Today on PHYS1201...\n",
    "\n",
    "Today, we will finally begin our look at how we we should fit a model to data. There are three main questions we need to address:\n",
    "\n",
    "* How do we know if a model is \"good enough\"? \n",
    "\n",
    "\n",
    "* If our model has adjustable parameters, how do we find the \"best\" model (i.e. the *optimal* set of parameters)?\n",
    "\n",
    "\n",
    "* How do we determine the uncertainties on our best parameters?\n",
    "\n",
    "In the next three lessons, we will look at each of these questions in turn. "
   ]
  },
  {
   "cell_type": "markdown",
   "metadata": {
    "slideshow": {
     "slide_type": "slide"
    }
   },
   "source": [
    "## Big Picture Exercise: Using $\\chi^2$ on a fake Hubble Constant data set\n",
    "\n",
    "**Introduction**\n",
    "\n",
    "In today's lesson we are going to see how we can use a test statistic called \"$\\chi^2$\" to quantitatively compare a model to data and decide if the model is an acceptable description of the data. So as our Big Picture Exercise, we'll try to apply this idea to a (fake) data set designed to slightly resemble the final step of the Hubble Constant assignment."
   ]
  },
  {
   "cell_type": "markdown",
   "metadata": {
    "slideshow": {
     "slide_type": "skip"
    }
   },
   "source": [
    "* Background \n",
    "\n",
    "    * The Universe is expanding. As a result, observers in each galaxy see all other distant galaxies moving away from them, with a speed that depends on how far away they are.\n",
    "\n",
    "    * A good way to visualize this is to imagine baking raisin bread in the oven. As the bread expands, any raisin somewhere in the bread \"sees\" all other raisins moving away from it, and the speed with which they recede is faster for more distant ones (because there is more expanding dough between these two raisins).\n",
    "\n",
    "    * The Hubble Constant, $H_0$, is a measure of the expansion speed. It is usually given in units of $km/s$ per $Mpc$ (where $Mpc$\" is \"Mega-parsecs\", and $1~Mpc = 3.086 \\times 10^{22}~m$)\n",
    "\n",
    "    * $H_0$ is estimated by measuring the distances of galaxies (in $Mpc$) as well as their recession velocities $v$ (in $km/s$)."
   ]
  },
  {
   "cell_type": "markdown",
   "metadata": {
    "slideshow": {
     "slide_type": "skip"
    }
   },
   "source": [
    "**The Exercise**\n",
    "\n",
    "* Write a code that creates fake data for 10 galaxies, based on the following assumptions and recipe:\n",
    "    * The true distances, $d_{true}$, are exactly 1, 2, ... 9, 10 $Mpc$\n",
    "    * The true Hubble Constant is taken to be $H_{0} = 70~(km/s) / Mpc$.\n",
    "    * The recession velocity for each galaxy is therefore given by $v_{rec} = H_{0} d_{true}$\n",
    "    * The recession velocities are assumed to be known exactly, i.e. there is no observational error associated with $v_{rec}$\n",
    "    * However, each *observed* distance, $d_{obs}$, is subject to a Gaussian error of $\\sigma_{d_{obs}} =0.5~Mpc$. \n",
    "    * So your code should draw these observed distances as Gaussian distributed random numbers with mean $\\mu = d_{true}$ and $\\sigma = \\sigma_{d_{obs}}$.\n",
    "    * At the end of this, you should therefore have the following fake data for each galaxy: $d_{obs}$, $\\sigma_{d_{obs}}\\,\\,$ and  $v_{rec}$\n",
    "\n",
    "\n",
    "* Plot $d_{obs}$ vs $v_{rec}$, making sure to show the error bars on $d_{obs}$\n",
    "\n",
    "\n",
    "* Overplot (as a continuous line) $d_{true}$ vs $v_{rec}$\n",
    "\n",
    "\n",
    "\n",
    "* Work out the $\\chi^2 = \\sum_{i=1}^{10} \\frac{(d_{true} \\,\\,\\, - \\,\\,\\, d_{obs})^2}{\\sigma_{d_{obs}}^2}$\n",
    "    \n",
    "\n",
    "* Compare the $\\chi^2$ you have calculated to the expected value for a correct model and decide if the match to the data is acceptable\n",
    "    * For a correct model, we expect $\\chi^2 \\simeq (N-M) \\pm \\sqrt{2(N-M)}$\n",
    "    * $N$ is the  number of data points\n",
    "    * $M$ is the number of model parameters we have adjusted\n",
    "        * in this exercise, we haven't adjusted any, so $M=0$\n"
   ]
  },
  {
   "cell_type": "markdown",
   "metadata": {
    "slideshow": {
     "slide_type": "slide"
    }
   },
   "source": [
    "## Introduction to model fitting\n",
    "\n",
    "Fundamentally, there are two things that statistics and data analysis allows us to do:\n",
    "\n",
    "* *test hypotheses* we have about our data:\n",
    "    * is there a correlation between x and y?\n",
    "    * is this model a good description of my data?\n",
    "\n",
    "\n",
    "* use the data to *estimate parameters* of theoretical models:\n",
    "    * what is the slope of the straight line that best describes my data?\n",
    "    * what is the uncertainty in this slope?"
   ]
  },
  {
   "cell_type": "markdown",
   "metadata": {
    "slideshow": {
     "slide_type": "skip"
    }
   },
   "source": [
    "There is a link between these two things. If we have a model whose parameters we want to estimate with some data set, we should *always* ask first if that model is a reasonable description of the data. We do this by phrasing the  question as a hypothesis (\"the model is a reasonable description of the data\") and testing it.\n",
    "\n",
    "So *parameter estimation* is pretty much never done without *hypothesis testing*: any model whose parameters we want to estimate with our data had better be vetted for its ability to actually describe that data."
   ]
  },
  {
   "cell_type": "markdown",
   "metadata": {
    "slideshow": {
     "slide_type": "slide"
    }
   },
   "source": [
    "The most common and useful type of data analysis is a combination of these:\n",
    "\n",
    "* we have a data set and a model that (perhaps) describes it\n",
    "\n",
    "* we want to check if if the model provides an acceptable fit to the data\n",
    "\n",
    "* we want to know the best-fitting model parameters (if it *is* an acceptable fit)\n",
    "\n",
    "* we want to know the uncertainty on those parameters (if if *is* an acceptable fit)"
   ]
  },
  {
   "cell_type": "markdown",
   "metadata": {
    "slideshow": {
     "slide_type": "skip"
    }
   },
   "source": [
    "Let's see how this works."
   ]
  },
  {
   "cell_type": "markdown",
   "metadata": {
    "collapsed": true,
    "jupyter": {
     "outputs_hidden": true
    },
    "slideshow": {
     "slide_type": "slide"
    }
   },
   "source": [
    "## Goodness-of-fit testing for a single measurement\n",
    "\n",
    "How do we check if a model prediction is consistent with some measurement we have made?"
   ]
  },
  {
   "cell_type": "markdown",
   "metadata": {
    "slideshow": {
     "slide_type": "slide"
    }
   },
   "source": [
    "### Example: Testing Ohm's law\n",
    "\n",
    "We are given a circuit with a power supply that automatically adjusts its voltage to maintain a fixed current of $I = 10.00 A$. We are also given a single resistor with a precisely known resistance of $R = 1.00~\\Omega$. We take our resistor, connect it up to the power supply, and measure the voltage through this simple circuit. This gives us a voltage measurement of $V_{obs} = 9.80 V$. Our voltmeter isn't perfect, however, so this measurement comes with a (Gaussian) uncertainty of $\\sigma_V = 0.1 V$.\n",
    "\n",
    "Our theoretical model for this experiment is Ohm's law, $V = I ~ R$. So the voltage measurement *predicted* by this model is $V_{pred} = I ~ R = 10.00~V$. \n",
    "\n",
    "How can we test if Ohm's law provides an acceptable description of our data?"
   ]
  },
  {
   "cell_type": "markdown",
   "metadata": {
    "collapsed": true,
    "jupyter": {
     "outputs_hidden": true
    },
    "slideshow": {
     "slide_type": "slide"
    }
   },
   "source": [
    "**Let's *assume* that the model is correct:** this will be our default assumption (aka our \"**null hypothesis**\").\n",
    "\n",
    "\n",
    "* If our measurement was perfect, the model would *exactly* predict it.\n",
    "\n",
    "\n",
    "* In reality our measurement is subject to a Gaussian error of known size.\n",
    "\n",
    "\n",
    "* So our data point was *generated* as a random draw from a Gaussian centered on the true (model) value...\n",
    "\n",
    "   \n",
    "* and our measured $V_{obs}$ should not be \"too far\" away from the true (i.e. predicted) value $V_{pred} \\pm \\sigma_V$."
   ]
  },
  {
   "cell_type": "markdown",
   "metadata": {
    "slideshow": {
     "slide_type": "slide"
    }
   },
   "source": [
    "### how far away is too far?\n",
    "\n",
    "\n",
    "How likely is it that we should have measured a value **as extreme** as $V_{obs}$ if the model is really correct?"
   ]
  },
  {
   "cell_type": "markdown",
   "metadata": {
    "slideshow": {
     "slide_type": "fragment"
    }
   },
   "source": [
    "\n",
    "\n",
    "<br><br>\n",
    "<center>\n",
    "<img src=\"gauss.png\">\n",
    "</center>\n",
    "\n",
    "<div align=\"right\">  <a href=\"https://en.wikipedia.org/wiki/Normal_distribution#/media/File:Empirical_Rule.PNG\"> source of image</a></div>"
   ]
  },
  {
   "cell_type": "markdown",
   "metadata": {
    "slideshow": {
     "slide_type": "fragment"
    }
   },
   "source": [
    "So if $\\left | V_{obs} - V_{pred} \\right | \\simeq 2 \\sigma_V$, as in our example, only 5 out of every 100 measurements should have yielded a data point as extreme as this (if the model is right).\n",
    "\n",
    "It is pretty obvious how to generalize this. For example, if the offset between $V_{obs}$ and $V_{pred}$ had been been  $3 \\sigma_V$, only 3 out of 1000 measurements should have yielded a data point as extreme as this (if the model is right)."
   ]
  },
  {
   "cell_type": "markdown",
   "metadata": {
    "slideshow": {
     "slide_type": "slide"
    }
   },
   "source": [
    "**A simple way to quantify discrepancies between model predictions and measurements is to express the offset between model and data in units of (i.e. relative to) the size of the error.**\n",
    "\n",
    "**Given some measurement $X_{obs}$ with error $\\sigma_X$, and some model prediction for this $X_{pred}$, we can define**\n",
    "\n",
    "$$ N = \\frac{\\left | X_{obs} - X_{pred} \\right |}{\\sigma_X}$$\n",
    "\n",
    "Based on what we know about the Gaussian distribution, **we should probably start to worry about the discrepancy if $N \\gtrsim 2-3$**. \n",
    "\n",
    "Discrepancies as large as this are said to be **statiscally significant**.\n",
    "\n",
    "That's because, if the model is correct,  \n",
    "\n",
    "* **$N \\geq 1$ is expected in $\\simeq 32$\\% of measurements**\n",
    "    * this is nothing to worry about -- it happens all the time!\n",
    "    \n",
    "    \n",
    "* **$N \\geq 2$ is expected in $\\simeq 5$\\% of measurements**\n",
    "    * this is beginning to get a little suspicious!\n",
    "\n",
    "\n",
    "* **$N \\geq 3$ is expected in $\\simeq 0.3$\\% of measurements**\n",
    "    * we don't really expect to be that special, so a discrepancy this large is a concern!"
   ]
  },
  {
   "cell_type": "markdown",
   "metadata": {},
   "source": [
    "You will often hear physicists talk about this in terms like:\n",
    "\n",
    "* \"This is just a 1.5$\\sigma$ discrepancy, so not statistically significant. The model is therefore consistent with the data.\"\n",
    "\n",
    "\n",
    "* \"This discrepancy is at the 5$\\sigma$ level and therefore highly significant. This strongly suggests that the model is incorrect or needs revision.\""
   ]
  },
  {
   "cell_type": "markdown",
   "metadata": {},
   "source": [
    "#### Significance thresholds\n",
    "\n",
    "It is worth emphasising here that \"statistical significance\" isn't a black and white thing. Rather, there is a *spectrum* of statistical significance. Still, there are some good rules of thumb\n",
    "\n",
    "* Discrepancies at a level of <2$\\sigma$ are pretty much never considered significant\n",
    "\n",
    "\n",
    "* Discrepancies at a level of 2$\\sigma$ - 3$\\sigma$ are usually considered \"marginally\" significant\n",
    "\n",
    "\n",
    "* Discrepancies at a level of >3$\\sigma$ are pretty much always considered significant\n",
    "\n",
    "\n",
    "* Discrepancies at a level of >5$\\sigma$ are pretty much always considered \"highly\" significant\n",
    "\n",
    "The intermediate range -- say $2-5\\sigma$, and especially $2-3\\sigma$ -- is obviously the most difficult to be sure about.\n",
    "\n",
    "In interpreting such discrepancies, we should also not leave common sense at the door -- **extraordinary claims require extraordinary evidence.** That is, the more surprising our result is, the more significant we require it to be.... \n",
    "\n",
    "This is partly because while *we* may have carried out our experiment only once, *other* researchers may have carried out the same or similar experiments as well. And if 20 researchers all do the same experiment, we should *expect* that $\\simeq$1 of them will find a 2$\\sigma$ discrepancy, just by chance, even if the model is completely correct."
   ]
  },
  {
   "cell_type": "markdown",
   "metadata": {
    "slideshow": {
     "slide_type": "skip"
    }
   },
   "source": [
    "##### Exercise: multiple trials and publication bias\n",
    "\n",
    "There are approximately 135 students in this class. Suppose that every student carries out the same lab experiment, which is designed to measure the speed of light, $c$. Let's further suppose that every student does everything correctly, and that every student obtains an independent and unbiased estimate of $c$ with some Gaussian uncertainty -- $c_{obs,i} \\pm \\sigma_{c_{obs,i}}$.\n",
    "\n",
    "* Do you expect any students in the class to obtain a result that differs from the true value by more than $2\\sigma_{c_{obs,i}}$? \n",
    "\n",
    "* Write a little program to simulate this:\n",
    "    * assume $c = 3 \\times 10^8$ m/s\n",
    "    * assume that every student measures some value $c_{obs}$ which is drawn from a Gaussian distribution with mean $\\mu = c$ and standard deviation $\\sigma_c = 3 \\times 10^8$ m/s\n",
    "    * thus generate 150 such random numbers and count how many of them are outside the interval $c \\pm 2\\sigma_c$\n",
    "    * run your code a few times to see how the number changes\n",
    "\n",
    "[Hint: remember from above that $2\\sigma$ corresponds to $p \\simeq 0.05$ for a Gaussian distribution. I.e. the probability of obtaining a result as different from the true value as this is 5%.]\n",
    "\n",
    "Now imagine that these are not 135 undergraduate laboratory experiments, but 135 professional experiments, all carried out completely independently by different research instutitions who do not know about each others experiments.\n",
    "\n",
    "Given that obtaining a result consistent with the \"known\" value of $c$ is relatively \"boring\", which researchers are most likely to publish their results? Why is this a potentially serious problem?"
   ]
  },
  {
   "cell_type": "markdown",
   "metadata": {
    "slideshow": {
     "slide_type": "slide"
    }
   },
   "source": [
    "## Goodness-of-fit testing for multiple data points: introducing $\\chi^2$:\n",
    "\n",
    "**How do we test whether our model matches the data acceptably when we have more than one data point?**"
   ]
  },
  {
   "cell_type": "markdown",
   "metadata": {
    "slideshow": {
     "slide_type": "skip"
    }
   },
   "source": [
    "### Example: Ohm's law revisited\n",
    "\n",
    "We are given a circuit with a power supply that automatically adjusts its voltage to maintain a fixed current of $I = 10 A$. We are also given a set of 10 resistors. The resistances of these are precisely  known and are $R_1 = 1~\\Omega$, $R_2 = 2~\\Omega$, ... $R_{10} = 10~\\Omega$. We take each resistor in turn, connect it up to the power supply, and measure the voltage through this simple circuit. This gives us 10 data points,  $V_{d,1}$ ... $V_{d,10}$. Our voltmeter isn't perfect, however, so each voltage measurements comes with a (Gaussian) uncertainty, $\\sigma_{1}$ ... $\\sigma_{10}$. \n",
    "\n",
    "Our theoretical model for this experiment is Ohm's law, $V = I ~ R$. So the voltage measurements *predicted* by this model are $V_{m,1} = I ~ R_{1} = 10~V$ and $V_{m,2} = I~R_{2} = 20~V$, all the way up to $V_{m,10} = I~R_{10} = 100~V$.\n",
    "\n",
    "How can we test if Ohm's law provides an acceptable description of our data?"
   ]
  },
  {
   "cell_type": "markdown",
   "metadata": {
    "slideshow": {
     "slide_type": "skip"
    }
   },
   "source": [
    "The way we think about this is *exactly* analogous to the case where we had a single data point."
   ]
  },
  {
   "cell_type": "markdown",
   "metadata": {
    "collapsed": true,
    "jupyter": {
     "outputs_hidden": true
    },
    "slideshow": {
     "slide_type": "skip"
    }
   },
   "source": [
    "**We again *assume* that the model is correct:** this will be the \"**null hypothesis**\" we test\n",
    "\n",
    "\n",
    "* If our measurements were perfect, the model would *exactly* predict them\n",
    "\n",
    "\n",
    "* But our measurements are *not* perfect:\n",
    "    * each data point is subject to a Gaussian error of known size\n",
    "\n",
    "\n",
    "* So each data point was *generated* as a random draw from a Gaussian centered on the true (model) value\n",
    "    * the $1^{st}$ data point is drawm from a Gaussian with mean $V_{m,1}$ and standard deviation $\\sigma_1$\n",
    "    * the $2^{nd}$ data point is drawn from a Gaussian with mean $V_{m,2}$ and standard deviation $\\sigma_2$\n",
    "    * ...\n",
    "    * the $10^{th}$ data point is drawn from a Gaussian with mean $V_{m,10}$ and standard deviation $\\sigma_{10}$"
   ]
  },
  {
   "cell_type": "markdown",
   "metadata": {
    "slideshow": {
     "slide_type": "slide"
    }
   },
   "source": [
    "In the single measurement case, we quantified the significance by comparing $(V_{m,1} - V_{d,1})$ to $\\sigma_1$, i.e. by calculating the \"test statistic\"\n",
    "\n",
    "$$N =  \\frac{\\left | X_{obs} - X_{pred} \\right |}{\\sigma_X}$$\n",
    "\n",
    "So now we want to find an equivalent \"test statistic\" that takes *all* of our measurements into account simultaneously."
   ]
  },
  {
   "cell_type": "markdown",
   "metadata": {
    "slideshow": {
     "slide_type": "slide"
    }
   },
   "source": [
    "This statistic will need to:\n",
    "\n",
    "* take into account *all* of our measurements\n",
    "<br>\n",
    "\n",
    "* assign more weight to precise measurements than imprecise measurements\n",
    "\n",
    "\n",
    "* ignore the *sign* of individual residuals\n",
    "    * a bad fit with both positive and negative residuals is still bad\n",
    "    * positive and negative residuals can't be allowed to cancel"
   ]
  },
  {
   "cell_type": "markdown",
   "metadata": {
    "slideshow": {
     "slide_type": "slide"
    }
   },
   "source": [
    "### Defining the $\\chi^2$ test statistic\n",
    "\n",
    "Far and away the most common test statistic that satisfies these requirements is referred to as $\\chi^2$.\n",
    "\n",
    "* we've got a data set $(x_i, y_i)$ with errors $\\sigma_{i}$, where $i = 1...N$\n",
    "<br><br>\n",
    "* we also have a model, $y_m(x)$, which predicts $y_{m,i}(x_i)$\n",
    "<br><br>\n",
    "* we work out the $\\chi^2$ test statistic as\n",
    "<br><br>\n",
    "$$ \\chi^2 = \\sum_{i=1}^{N} \\frac{\\left(y_i - y_{m,i}\\right)^2}{\\sigma_i^2}$$"
   ]
  },
  {
   "cell_type": "markdown",
   "metadata": {
    "slideshow": {
     "slide_type": "skip"
    }
   },
   "source": [
    "#### Example: $\\chi^2$ for a straight line model\n",
    "\n",
    "Let's create some fake data from a known model (with errors) and calculate the $\\chi^2$ for the model with respect to the data.\n",
    "\n",
    "Let's keep things really simple and make the model a straight line. We'll also take errors to be drawn from a Gaussian distribution, all with the same standard deviation."
   ]
  },
  {
   "cell_type": "code",
   "execution_count": 8,
   "metadata": {
    "hideCode": false,
    "slideshow": {
     "slide_type": "skip"
    }
   },
   "outputs": [
    {
     "data": {
      "image/png": "[encoded data removed]",
      "text/plain": [
       "<Figure size 1000x800 with 1 Axes>"
      ]
     },
     "metadata": {},
     "output_type": "display_data"
    }
   ],
   "source": [
    "import numpy as np\n",
    "from matplotlib import pyplot as plt\n",
    "import pylab\n",
    "pylab.rcParams['figure.figsize'] = (10.0, 8.0)\n",
    "\n",
    "def chisq(y, sig_y, y_m):\n",
    "    \"\"\"takes model, data and error vectors and calculates the chi2\"\"\"\n",
    "    chi2 = np.sum(((y-y_m)**2.0)/(sig_y**2.0))\n",
    "    return chi2\n",
    "\n",
    "slope = 2.0\n",
    "intercept = 3.0\n",
    "sigma = 2.0\n",
    "\n",
    "x = np.arange(1.0, 20.0, 1.0)\n",
    "y_m = slope*x + intercept\n",
    "#set up the sigmas as a 1-D vector of the same size as x and y\n",
    "sig_y = x*0 + sigma\n",
    "err_y = np.random.normal(0.0, sig_y, x.size)\n",
    "y = y_m + err_y\n",
    "\n",
    "\n",
    "plt.xlim(0, 21.0)\n",
    "plt.xlabel('x')\n",
    "plt.ylabel('y')\n",
    "plt.plot(x, y, color='red', marker='o', markersize=10, linestyle=\"None\")\n",
    "plt.errorbar(x, y, yerr=sig_y, color='red', linestyle=\"None\")\n",
    "plt.plot(x, y_m, color='blue', marker=\"None\", linewidth=5, linestyle=\"-\")\n",
    "chi2 = chisq(y, sig_y, y_m)\n",
    "cstring1 = 'Chi-squared =' + str(np.round(chi2))\n",
    "plt.text(1, 40, cstring1, fontsize=20)\n",
    "plt.show()"
   ]
  },
  {
   "cell_type": "markdown",
   "metadata": {
    "slideshow": {
     "slide_type": "skip"
    }
   },
   "source": [
    "#### Exercise: $\\chi^2$ for a straight line model -- sensitivity to parameters\n",
    "\n",
    "Modify the code above to test if the $\\chi^2$ value is sensitive to:\n",
    "\n",
    "* the slope of the line\n",
    "* the intercept of the line\n",
    "* the size of the error bars\n",
    "* the number of data points"
   ]
  },
  {
   "cell_type": "markdown",
   "metadata": {
    "slideshow": {
     "slide_type": "skip"
    }
   },
   "source": [
    "#### Exercise: $\\chi^2$ for the multiple measurement Ohm's law example\n",
    "\n",
    "Modify the example above to simulate the voltage-measuring experiment we considered above. That is, put in the specific parameters for the Ohm's law example, run the code and make sure you understand the results."
   ]
  },
  {
   "cell_type": "code",
   "execution_count": 11,
   "metadata": {},
   "outputs": [
    {
     "name": "stdout",
     "output_type": "stream",
     "text": [
      "[ 1  2  3  4  5  6  7  8  9 10]\n"
     ]
    }
   ],
   "source": [
    "import numpy as np\n",
    "\n",
    "x = np.arange(1,11,1)\n",
    "print(x)"
   ]
  },
  {
   "cell_type": "markdown",
   "metadata": {
    "slideshow": {
     "slide_type": "slide"
    }
   },
   "source": [
    "### The probability distribution of the $\\chi^2$ test statistic\n",
    "\n",
    "Let's suppose our model is correct. That is each data value, $y_i$, is a random draw from a Gaussian distribution whose mean is the value predicted by the model, $y_{m,i}$, and whose standard deviation is $\\sigma_i$, the error. \n",
    "\n",
    "It can be shown that, in this situation, the $\\chi^2$ statistic follows a known probability distribution, imaginatively called the $\\chi^2$ distribution.\n",
    "\n",
    "What does this mean? It means that:\n",
    "\n",
    "**If our model is correct, the value of $\\chi^2$ we calculate should be a random draw from a $\\chi^2$ distribution.**"
   ]
  },
  {
   "cell_type": "markdown",
   "metadata": {
    "slideshow": {
     "slide_type": "skip"
    }
   },
   "source": [
    "I am not going to bother writing down the form of the $\\chi^2$ distribution -- if we ever need to plot it, it's implemented for us in *scipy.stats* as *chi2()*, and we can draw random numbers from it via *chisquare()* in *numpy.random*.\n",
    "\n",
    "What matters, however, is that the $\\chi^2$ distribution is completely characterized by a single number, which is called \"the number of degrees of freedom\", $\\nu$. This is just the number of *independent* terms in the sum  \n",
    "\n",
    "$$ \\chi^2 = \\sum_{i=1}^{N} \\frac{\\left(y_i - y_{m,i}\\right)^2}{\\sigma_i^2}.$$\n",
    "\n",
    "Does this mean we always just have $\\nu = N$, the number of data points? Not quite: if we have adjusted our model to optimally fit the data -- for example if we've fit a straight line and found the best slope and intercept -- then it's not quite true anymore that each term in the sum is independent. In this more general case, the number of degrees of freedom is given by \n",
    "\n",
    "$$\\nu = N - M,$$\n",
    "\n",
    "where \n",
    "\n",
    "* $N$ is the number of data points \n",
    "* $M$ is the number of model parameters we have adjusted to fit the data\n",
    "    * for example: if the model is a straight line and we have adjusted slope and intercept, $M = 2$\n",
    "    \n",
    "We will come back to this in more detail in the next session."
   ]
  },
  {
   "cell_type": "markdown",
   "metadata": {
    "slideshow": {
     "slide_type": "slide"
    }
   },
   "source": [
    "### The mean and standard deviation of the $\\chi^2$ distribution\n",
    "\n",
    "The mean of the $\\chi^2$ distribution is\n",
    "\n",
    "$$\\mu = \\nu,$$\n",
    "\n",
    "and the standard deviation is\n",
    "\n",
    "$$\\sigma = \\sqrt{2\\nu}.$$"
   ]
  },
  {
   "cell_type": "markdown",
   "metadata": {
    "slideshow": {
     "slide_type": "slide"
    }
   },
   "source": [
    "We can now make things more precise. \n",
    "\n",
    "**Suppose we have fitted a model with $M$ parameters to our $N$ data points. Then, if our model is correct, the value of $\\chi^2$ we calculate**\n",
    "\n",
    "$$ \\chi^2 = \\sum_{i=1}^{N} \\frac{\\left(y_i - y_{m,i}\\right)^2}{\\sigma_i^2}.$$\n",
    "\n",
    "**should be a random draw from a $\\chi^2$ distribution with $\\nu = N-M$ degrees of freedom.**"
   ]
  },
  {
   "cell_type": "markdown",
   "metadata": {
    "slideshow": {
     "slide_type": "slide"
    }
   },
   "source": [
    "**The average value we would find across many such draws is just the mean of the distribution, $\\nu = N-M$.**\n",
    "\n",
    "   * **If the model is correct, we can therefore think of this mean as a prediction for our measured $\\chi^2$**"
   ]
  },
  {
   "cell_type": "markdown",
   "metadata": {
    "slideshow": {
     "slide_type": "slide"
    }
   },
   "source": [
    "**The expected scatter around that average is given by the standard deviation of the distribution, $\\sqrt{2\\nu} = \\sqrt{2(N-M)}$.**\n",
    "\n",
    "   * **If the model is correct, we can therefore think of this standard deviation as an uncertainy on the target $\\chi^2$ value.**"
   ]
  },
  {
   "cell_type": "markdown",
   "metadata": {},
   "source": [
    "Putting these things together, we can say that, **if our model is correct, we expect that our calculated $\\chi^2$ value should be**\n",
    "\n",
    "$$\\chi^2 \\simeq (N-M) \\pm \\sqrt{2(N-M)}$$"
   ]
  },
  {
   "cell_type": "markdown",
   "metadata": {
    "slideshow": {
     "slide_type": "slide"
    }
   },
   "source": [
    "**You will also often hear people talk about the goodness-of-fit of a model in terms of \"reduced\" $\\chi^2$. This is just the $\\chi^2$ divided by the number of degrees of freedom** \n",
    "    <br><br>\n",
    "    $$ \\chi^2_\\nu = \\frac{\\chi^2}{\\nu} = \\frac{\\chi^2}{N-M}$$ \n",
    "    <br><br>\n",
    "In this language, **we expect**\n",
    "\n",
    "$$\\chi^2_\\nu \\simeq 1 \\pm \\sqrt{2/(N-M)}$$"
   ]
  },
  {
   "cell_type": "markdown",
   "metadata": {
    "slideshow": {
     "slide_type": "slide"
    }
   },
   "source": [
    "### The $\\chi^2$ FAQ\n",
    "\n",
    "* **What if $\\chi_\\nu^2 >> 1$?**\n",
    "    * **the model can not fully explain the data**\n",
    "    * formally, we should then reject the model\n",
    "    * but what if the model fits \"those aspects of the data we care about\"?\n",
    "        * we'll deal with this later\n",
    "<br><br>\n",
    "* **What if $\\chi_\\nu^2 << 1$?**\n",
    "    * **the model is \"too good\" a fit to the data**\n",
    "    * this is *not* good\n",
    "    * this almost invariably implies that we have overestimated our errors\n",
    "        * we have to figure out why/how that is\n",
    "\n",
    "\n",
    "\n",
    "* **At what threshold $\\chi^2$ should we start to worry that there is something wrong?**\n",
    "    * By analogy to the single measurement case, a good rule of thumb is that we should worry if we are more than, say, 2 or 3 standard deviations away from the expected $\\chi^2$, i.e. if     \n",
    "    $$\\frac{|\\chi^2_\\nu - 1|}{\\sqrt{2/(N-M)}} \\gtrsim 2-3$$\n",
    "    \n",
    "    "
   ]
  },
  {
   "cell_type": "code",
   "execution_count": 9,
   "metadata": {
    "slideshow": {
     "slide_type": "slide"
    }
   },
   "outputs": [
    {
     "data": {
      "text/plain": [
       "Text(0, 19, 'Reduced Chi^2 =1.75')"
      ]
     },
     "execution_count": 9,
     "metadata": {},
     "output_type": "execute_result"
    },
    {
     "data": {
      "image/png": "[encoded data removed]",
      "text/plain": [
       "<Figure size 1000x800 with 1 Axes>"
      ]
     },
     "metadata": {},
     "output_type": "display_data"
    }
   ],
   "source": [
    "import numpy as np\n",
    "from matplotlib import pyplot as plt\n",
    "import scipy.stats as stats\n",
    "import pylab\n",
    "pylab.rcParams['figure.figsize'] = (10.0, 8.0)\n",
    "\n",
    "def chisq(y, sig_y, y_m):\n",
    "    \"\"\"takes model, data and error vectors and calculates the chi2\"\"\"\n",
    "    chi2 = np.sum(((y-y_m)**2.0)/(sig_y**2.0))\n",
    "    return chi2\n",
    "\n",
    "slope = 2.0\n",
    "intercept = 3.0\n",
    "sigma = 2.0\n",
    "\n",
    "x = np.arange(0.0, 10.0, 0.5)\n",
    "y_m = slope*x + intercept\n",
    "#set up the sigmas as a 1-D vector of the same size as x and y\n",
    "sig_y = x*0 + sigma\n",
    "err_y = np.random.normal(0.0, sig_y, x.size)\n",
    "y = y_m + err_y\n",
    "\n",
    "\n",
    "plt.ylim(-1,25)\n",
    "plt.xlim(-1,11)\n",
    "plt.xlabel('x')\n",
    "plt.ylabel('y')\n",
    "plt.plot(x, y_m, color='blue', marker=\"None\", linewidth=5, linestyle=\"-\")\n",
    "plt.errorbar(x, y, yerr=sig_y, linestyle=\"None\", marker='o', markersize=10, color='red')\n",
    "chi2 = chisq(y, sig_y, y_m)\n",
    "nstring1 = 'N =' + str(x.size)\n",
    "plt.text(0, 23, nstring1, fontsize=20)\n",
    "cstring1 = 'Chi^2 =' + str(np.round(chi2))\n",
    "plt.text(0, 21, cstring1, fontsize=20)\n",
    "c2string1 = 'Reduced Chi^2 =' +  str(np.round(chi2/x.size, 2))\n",
    "plt.text(0, 19, c2string1, fontsize=20)"
   ]
  },
  {
   "cell_type": "markdown",
   "metadata": {},
   "source": [
    "#### Exercise: $\\chi^2$ for repeated measurements of the same thing\n",
    "\n",
    "Suppose we have made 10 measurements of the length of a table:\n",
    "\n",
    "* $L_1 =  97 \\pm 3$ cm\n",
    "* $L_2 = 110 \\pm 4$ cm\n",
    "* $L_3 =  93 \\pm 10$ cm\n",
    "* $L_4 = 103 \\pm 15$ cm\n",
    "* $L_5 =  89 \\pm 20$ cm\n",
    "* $L_6 = 120 \\pm 30$ cm\n",
    "* $L_7 = 105 \\pm 5$ cm\n",
    "* $L_8 =  95 \\pm 7$ cm\n",
    "* $L_9 =  89 \\pm 12$ cm\n",
    "* $L_{10} = 101 \\pm 1.1$ cm\n",
    "\n",
    "When we look up the length in a catalogue, we find that it should be $L_{pred} = 100$ cm.\n",
    "\n",
    "**The Exercise**\n",
    "\n",
    "* Set up a 1-D array that is just the index of each measurement, i.e. something like\n",
    "    * indx = np.arange(1, 11, 1)\n",
    " \n",
    "* Set up two other arrays \n",
    "    * one containing all of the length measurements above\n",
    "    * another containing all of the uncertainties\n",
    "\n",
    "* Make a plot comparing the predicted value to the data\n",
    "    * plot observed length (y-axis) vs index (x-axis)\n",
    "    * add error bars to your plot\n",
    "    * draw a horizontal line at $y = L_{pred}$\n",
    "    \n",
    "* Does the plot look like what you would expect for a correct model?\n",
    "\n",
    "* Use *Python* to work out the $\\chi^2$ for this data set and this prediction\n",
    "\n",
    "* Compare this value to the $\\chi^2$ you would expect for a correct model\n",
    "    * Based on our rules of thumb, is this model a good description of the data?\n",
    "    * Is there anything to worry about?"
   ]
  },
  {
   "cell_type": "markdown",
   "metadata": {
    "slideshow": {
     "slide_type": "skip"
    }
   },
   "source": [
    "## Big Picture Exercise: Using $\\chi^2$ on a fake Hubble Constant data set\n",
    "\n",
    "**Introduction**\n",
    "\n",
    "In today's lesson we are going to see how we can use a test statistic called \"$\\chi^2$\" to quantitatively compare a model to data and decide if the model is an acceptable description of the data. So as our Big Picture Exercise, we'll try to apply this idea to a (fake) data set designed to slightly resemble the final step of the Hubble Constant assignment.\n",
    "\n",
    "* Background \n",
    "\n",
    "    * The Universe is expanding. As a result, observers in each galaxy see all other distant galaxies moving away from them, with a speed that depends on how far away they are.\n",
    "\n",
    "    * A good way to visualize this is to imagine baking raisin bread in the oven. As the bread expands, any raisin somewhere in the bread \"sees\" all other raisins moving away from it, and the speed with which they recede is faster for more distant ones (because there is more expanding dough between these two raisins).\n",
    "\n",
    "    * The Hubble Constant, $H_0$, is a measure of the expansion speed. It is usually given in units of $km/s$ per $Mpc$ (where $Mpc$\" is \"Mega-parsecs\", and $1~Mpc = 3.086 \\times 10^{22}~m$)\n",
    "\n",
    "    * $H_0$ is estimated by measuring the distances of galaxies (in $Mpc$) as well as their recession velocities $v$ (in $km/s$)."
   ]
  },
  {
   "cell_type": "markdown",
   "metadata": {
    "slideshow": {
     "slide_type": "skip"
    }
   },
   "source": [
    "**The Exercise**\n",
    "\n",
    "* Write a code that creates fake data for 10 galaxies, based on the following assumptions and recipe:\n",
    "    * The true distances, $d_{true}$, are exactly 1, 2, ... 9, 10 $Mpc$\n",
    "    * The true Hubble Constant is taken to be $H_{0} = 70~(km/s) / Mpc$.\n",
    "    * The recession velocity for each galaxy is therefore given by $v_{rec} = H_{0} d_{true}$\n",
    "    * The recession velocities are assumed to be known exactly, i.e. there is no observational error associated with $v_{rec}$\n",
    "    * However, each *observed* distance, $d_{obs}$, is subject to a Gaussian error of $\\sigma_{d_{obs}} =0.5~Mpc$. \n",
    "    * So your code should draw these observed distances as Gaussian distributed random numbers with mean $\\mu = d_{true}$ and $\\sigma = \\sigma_{d_{obs}}$.\n",
    "    * At the end of this, you should therefore have the following fake data for each galaxy: $d_{obs}$, $\\sigma_{d_{obs}}\\,\\,$ and  $v_{rec}$\n",
    "\n",
    "\n",
    "* Plot $d_{obs}$ vs $v_{rec}$, making sure to show the error bars on $d_{obs}$\n",
    "\n",
    "\n",
    "* Overplot (as a continuous line) $d_{true}$ vs $v_{rec}$\n",
    "\n",
    "\n",
    "\n",
    "* Work out the $\\chi^2 = \\sum_{i=1}^{10} \\frac{(d_{true} \\,\\,\\, - \\,\\,\\, d_{obs})^2}{\\sigma_{d_{obs}}^2}$\n",
    "    \n",
    "\n",
    "* Compare the $\\chi^2$ you have calculated to the expected value for a correct model and decide if the match to the data is acceptable\n",
    "    * For a correct model, we expect $\\chi^2 \\simeq (N-M) \\pm \\sqrt{2(N-M)}$\n",
    "    * $N$ is the  number of data points\n",
    "    * $M$ is the number of model parameters we have adjusted\n",
    "        * in this exercise, we haven't adjusted any, so $M=0$\n"
   ]
  }
 ],
 "metadata": {
  "celltoolbar": "Slideshow",
  "hide_input": false,
  "kernelspec": {
   "display_name": "Python 3 (ipykernel)",
   "language": "python",
   "name": "python3"
  },
  "language_info": {
   "codemirror_mode": {
    "name": "ipython",
    "version": 3
   },
   "file_extension": ".py",
   "mimetype": "text/x-python",
   "name": "python",
   "nbconvert_exporter": "python",
   "pygments_lexer": "ipython3",
   "version": "3.12.6"
  },
  "latex_envs": {
   "bibliofile": "biblio.bib",
   "cite_by": "apalike",
   "current_citInitial": 1,
   "eqLabelWithNumbers": true,
   "eqNumInitial": 0
  },
  "toc": {
   "base_numbering": 1,
   "nav_menu": {},
   "number_sections": true,
   "sideBar": true,
   "skip_h1_title": true,
   "title_cell": "Table of Contents",
   "title_sidebar": "Contents",
   "toc_cell": true,
   "toc_position": {},
   "toc_section_display": true,
   "toc_window_display": false
  }
 },
 "nbformat": 4,
 "nbformat_minor": 4
}
