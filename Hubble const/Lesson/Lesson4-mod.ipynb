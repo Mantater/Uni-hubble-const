{
 "cells": [
  {
   "cell_type": "markdown",
   "metadata": {
    "slideshow": {
     "slide_type": "skip"
    },
    "toc": true
   },
   "source": [
    "<h1>Table of Contents<span class=\"tocSkip\"></span></h1>\n",
    "<div class=\"toc\"><ul class=\"toc-item\"><li><span><a href=\"#Previously-on-PHYS1201...\" data-toc-modified-id=\"Previously-on-PHYS1201...-1\"><span class=\"toc-item-num\">1&nbsp;&nbsp;</span>Previously on PHYS1201...</a></span></li><li><span><a href=\"#Today-on-PHYS1201...\" data-toc-modified-id=\"Today-on-PHYS1201...-2\"><span class=\"toc-item-num\">2&nbsp;&nbsp;</span>Today on PHYS1201...</a></span></li><li><span><a href=\"#Big-Picture-Exercise\" data-toc-modified-id=\"Big-Picture-Exercise-3\"><span class=\"toc-item-num\">3&nbsp;&nbsp;</span>Big Picture Exercise</a></span></li><li><span><a href=\"#Modules\" data-toc-modified-id=\"Modules-4\"><span class=\"toc-item-num\">4&nbsp;&nbsp;</span>Modules</a></span><ul class=\"toc-item\"><li><span><a href=\"#Functions,-modules-&amp;-packages,-programs-&amp;-scripts\" data-toc-modified-id=\"Functions,-modules-&amp;-packages,-programs-&amp;-scripts-4.1\"><span class=\"toc-item-num\">4.1&nbsp;&nbsp;</span>Functions, modules &amp; packages, programs &amp; scripts</a></span><ul class=\"toc-item\"><li><span><a href=\"#Functions\" data-toc-modified-id=\"Functions-4.1.1\"><span class=\"toc-item-num\">4.1.1&nbsp;&nbsp;</span>Functions</a></span></li><li><span><a href=\"#Modules-and-packages\" data-toc-modified-id=\"Modules-and-packages-4.1.2\"><span class=\"toc-item-num\">4.1.2&nbsp;&nbsp;</span>Modules and packages</a></span></li><li><span><a href=\"#Programs-and-scripts\" data-toc-modified-id=\"Programs-and-scripts-4.1.3\"><span class=\"toc-item-num\">4.1.3&nbsp;&nbsp;</span>Programs and scripts</a></span></li></ul></li><li><span><a href=\"#Using-modules-and-packages\" data-toc-modified-id=\"Using-modules-and-packages-4.2\"><span class=\"toc-item-num\">4.2&nbsp;&nbsp;</span>Using modules and packages</a></span><ul class=\"toc-item\"><li><span><a href=\"#Listing-the-available-modules-and-getting-help\" data-toc-modified-id=\"Listing-the-available-modules-and-getting-help-4.2.1\"><span class=\"toc-item-num\">4.2.1&nbsp;&nbsp;</span>Listing the available modules and getting help</a></span><ul class=\"toc-item\"><li><span><a href=\"#Exercise:-Getting-familiar-with-modules\" data-toc-modified-id=\"Exercise:-Getting-familiar-with-modules-4.2.1.1\"><span class=\"toc-item-num\">4.2.1.1&nbsp;&nbsp;</span>Exercise: Getting familiar with modules</a></span></li></ul></li><li><span><a href=\"#Built-in-modules-and-packages\" data-toc-modified-id=\"Built-in-modules-and-packages-4.2.2\"><span class=\"toc-item-num\">4.2.2&nbsp;&nbsp;</span>Built-in modules and packages</a></span></li><li><span><a href=\"#math\" data-toc-modified-id=\"math-4.2.3\"><span class=\"toc-item-num\">4.2.3&nbsp;&nbsp;</span>math</a></span><ul class=\"toc-item\"><li><span><a href=\"#Exercise:-working-with-the-math-module\" data-toc-modified-id=\"Exercise:-working-with-the-math-module-4.2.3.1\"><span class=\"toc-item-num\">4.2.3.1&nbsp;&nbsp;</span>Exercise: working with the <em>math</em> module</a></span></li></ul></li><li><span><a href=\"#numpy\" data-toc-modified-id=\"numpy-4.2.4\"><span class=\"toc-item-num\">4.2.4&nbsp;&nbsp;</span>numpy</a></span><ul class=\"toc-item\"><li><span><a href=\"#Exercise:-the-numpy-reference-manual\" data-toc-modified-id=\"Exercise:-the-numpy-reference-manual-4.2.4.1\"><span class=\"toc-item-num\">4.2.4.1&nbsp;&nbsp;</span>Exercise: the <em>numpy</em> reference manual</a></span></li><li><span><a href=\"#Exercise:-working-with-numpy\" data-toc-modified-id=\"Exercise:-working-with-numpy-4.2.4.2\"><span class=\"toc-item-num\">4.2.4.2&nbsp;&nbsp;</span>Exercise: working with <em>numpy</em></a></span></li></ul></li><li><span><a href=\"#scipy\" data-toc-modified-id=\"scipy-4.2.5\"><span class=\"toc-item-num\">4.2.5&nbsp;&nbsp;</span>scipy</a></span><ul class=\"toc-item\"><li><span><a href=\"#Exercise:-the-scipy-reference-guide\" data-toc-modified-id=\"Exercise:-the-scipy-reference-guide-4.2.5.1\"><span class=\"toc-item-num\">4.2.5.1&nbsp;&nbsp;</span>Exercise: the <em>scipy</em> reference guide</a></span></li><li><span><a href=\"#Exercise:-some-examples-from-scipy\" data-toc-modified-id=\"Exercise:-some-examples-from-scipy-4.2.5.2\"><span class=\"toc-item-num\">4.2.5.2&nbsp;&nbsp;</span>Exercise: some examples from <em>scipy</em></a></span></li></ul></li></ul></li><li><span><a href=\"#Creating-new-modules\" data-toc-modified-id=\"Creating-new-modules-4.3\"><span class=\"toc-item-num\">4.3&nbsp;&nbsp;</span>Creating new modules</a></span></li></ul></li><li><span><a href=\"#Arrays\" data-toc-modified-id=\"Arrays-5\"><span class=\"toc-item-num\">5&nbsp;&nbsp;</span>Arrays</a></span><ul class=\"toc-item\"><li><span><a href=\"#Vectors-(1D-arrays)\" data-toc-modified-id=\"Vectors-(1D-arrays)-5.1\"><span class=\"toc-item-num\">5.1&nbsp;&nbsp;</span>Vectors (1D arrays)</a></span><ul class=\"toc-item\"><li><span><a href=\"#Exercise:-a-polynomial-function\" data-toc-modified-id=\"Exercise:-a-polynomial-function-5.1.1\"><span class=\"toc-item-num\">5.1.1&nbsp;&nbsp;</span>Exercise: a polynomial function</a></span></li><li><span><a href=\"#Exercise:-trapezium-rule-integration\" data-toc-modified-id=\"Exercise:-trapezium-rule-integration-5.1.2\"><span class=\"toc-item-num\">5.1.2&nbsp;&nbsp;</span>Exercise: trapezium rule integration</a></span></li></ul></li><li><span><a href=\"#Matrices-(2D-arrays)\" data-toc-modified-id=\"Matrices-(2D-arrays)-5.2\"><span class=\"toc-item-num\">5.2&nbsp;&nbsp;</span>Matrices (2D arrays)</a></span><ul class=\"toc-item\"><li><span><a href=\"#Attributes\" data-toc-modified-id=\"Attributes-5.2.1\"><span class=\"toc-item-num\">5.2.1&nbsp;&nbsp;</span>Attributes</a></span></li><li><span><a href=\"#Extracting-specific-elements,-sub-matrices-or-other-parts-of-a-matrix\" data-toc-modified-id=\"Extracting-specific-elements,-sub-matrices-or-other-parts-of-a-matrix-5.2.2\"><span class=\"toc-item-num\">5.2.2&nbsp;&nbsp;</span>Extracting specific elements, sub-matrices or other parts of a matrix</a></span></li></ul></li><li><span><a href=\"#Higher-dimensional-arrays\" data-toc-modified-id=\"Higher-dimensional-arrays-5.3\"><span class=\"toc-item-num\">5.3&nbsp;&nbsp;</span>Higher-dimensional arrays</a></span></li></ul></li><li><span><a href=\"#Reminder:-Big-Picture-Exercise\" data-toc-modified-id=\"Reminder:-Big-Picture-Exercise-6\"><span class=\"toc-item-num\">6&nbsp;&nbsp;</span>Reminder: Big Picture Exercise</a></span></li></ul></div>"
   ]
  },
  {
   "cell_type": "markdown",
   "metadata": {
    "slideshow": {
     "slide_type": "slide"
    }
   },
   "source": [
    "# Lesson 5: packages, modules, *numpy* and *arrays*"
   ]
  },
  {
   "cell_type": "markdown",
   "metadata": {
    "slideshow": {
     "slide_type": "slide"
    }
   },
   "source": [
    "## Previously on PHYS1201...\n",
    "\n",
    "* (Almost) everything **else** you need to write **good** Python code\n",
    "    * good code is **modular** -- we breaks things up into distinct \"chunks\" that carry out specific (sub)tasks\n",
    "        \n",
    "    * This \"modules\" or \"chunks\" are called **functions** (or \"methods\" if they are pre-defined for a particular data type)\n",
    "\n",
    "\n",
    "* In the last session, we learned how to:\n",
    "\n",
    "    * Use methods pre-defined for some of the data types we've encountered\n",
    "    \n",
    "    * Define and use our own functions\n"
   ]
  },
  {
   "cell_type": "markdown",
   "metadata": {
    "slideshow": {
     "slide_type": "slide"
    }
   },
   "source": [
    "## Today on PHYS1201...\n",
    "\n",
    "<img src=xkcd.png height=\"30%\">\n",
    "\n",
    "<div style=\"text-align: right\"> (adapted from <a href=\"https://xkcd.com/353/\">xkcd</a>)</div>\n"
   ]
  },
  {
   "cell_type": "markdown",
   "metadata": {
    "slideshow": {
     "slide_type": "slide"
    }
   },
   "source": [
    "**How to Avoid Reinventing the Wheel**\n",
    "\n",
    "* One of the great things about *Python* is that there is a *huge* amount of existing, ready-to-use, mostly open-source software we can draw on\n",
    "\n",
    "    * This software typically comes packaged and distributed as **functions**...\n",
    "    * ...which often come packaged and distributed within **modules**...\n",
    "    * ...which often come packaged and distributed within **packages**.\n",
    "\n",
    "\n",
    "* Today, we'll learn how to use such modules and packages and take a first look at the most important and useful ones:\n",
    "\n",
    "    * math\n",
    "    * numpy\n",
    "    * scipy\n",
    "    * matplotlib\n",
    "    \n",
    "* We will also learn about **arrays** -- a new and important data type that comes with *numpy*\n",
    "\n",
    "    * A 2-D array is what we'll use to represent our Connect-4 gameboard"
   ]
  },
  {
   "cell_type": "markdown",
   "metadata": {
    "slideshow": {
     "slide_type": "slide"
    }
   },
   "source": [
    "## Big Picture Exercise - please complete lesson 3 Big Picture Exercise by now restructuring your code using today's lesson concepts on packages, modules, numpy and arrays. If you are done with that already then you can try the following optional exercise.\n",
    "\n",
    "\n",
    "** [Optional] You have been hired along with several other programmers to write a *Python* program that will play Tic-Tac-Toe against the user. The job you have been given is to write the function that will check if the game is over.** \n",
    "\n",
    "**Specifically, your function will be called after each move and will check if**\n",
    "1. **the player whose move it was has won;** \n",
    "2. **the game is over because all squares are filled.**"
   ]
  },
  {
   "cell_type": "markdown",
   "metadata": {
    "slideshow": {
     "slide_type": "fragment"
    }
   },
   "source": [
    "You can assume the following (since other team members will be responsible for making sure it holds):\n",
    "\n",
    "* The Tic-Tac-Toe gameboard will be represented by a 3x3 *numpy* *array*\n",
    "* All moves have already been checked for validity\n",
    "* On the gameboard:\n",
    "    * \"0\" represents an empty cell\n",
    "    * \"1\" represents a position occupied by Player 1\n",
    "    * \"2\" represents a position occupied by Player 2"
   ]
  },
  {
   "cell_type": "markdown",
   "metadata": {
    "slideshow": {
     "slide_type": "skip"
    }
   },
   "source": [
    "Before you start coding:\n",
    "\n",
    "* *think* about the things your functions needs to do\n",
    "* design your *algorithm* by writing down *pseudo-code* for it\n",
    "* if you find yourself writing very similar lines of (pseudo-)code over and over again\n",
    "    * try to figure out the underlying *pattern* or *logic*\n",
    "    * find a way to express this more economically/concisely, e.g. via suitable loops\n",
    "* try to code in such a way that the following would be trivial to implement:\n",
    "    * changes to the gameboard size (e.g. from 3x3 to 4x4 or 5x5)\n",
    "    * changes to the number of consecutive symbols in a line that is required for a win"
   ]
  },
  {
   "cell_type": "markdown",
   "metadata": {
    "slideshow": {
     "slide_type": "slide"
    }
   },
   "source": [
    "## Modules\n",
    "\n",
    "* Modules are basically just collections of python commands and functions. \n",
    "\n",
    "* Modules allow us to group together things based on their functionality.\n",
    "\n",
    "* Modules make it easier to *reuse* code.\n",
    "\n",
    "* Modules can be *imported* wholesale, making it easy to make a set related functions available at once to a user or program."
   ]
  },
  {
   "cell_type": "markdown",
   "metadata": {
    "slideshow": {
     "slide_type": "slide"
    }
   },
   "source": [
    "### Functions, modules & packages, programs & scripts"
   ]
  },
  {
   "cell_type": "markdown",
   "metadata": {
    "slideshow": {
     "slide_type": "skip"
    }
   },
   "source": [
    "Before we discuss modules in more detail, let's try to sort out some terminology so it doesn't become confusing.\n",
    "\n",
    "In this course, we've now already talked about *programs*, *functions* and *modules*. All of these refer to collections of python commands. There is even yet another term, *script*, which also refers to a collection of python commands. \n",
    "\n",
    "So what exactly do we mean by those terms, and how are they related to each other? "
   ]
  },
  {
   "cell_type": "markdown",
   "metadata": {
    "slideshow": {
     "slide_type": "fragment"
    }
   },
   "source": [
    "#### Functions\n",
    "\n",
    "* defined by the *def* statement<br>\n",
    "\n",
    "* takes a single set of input parameters<br>\n",
    "\n",
    "* carries out a single, well-defined task<br>\n",
    "\n",
    "* calling a function executes it and returns the results<br>"
   ]
  },
  {
   "cell_type": "markdown",
   "metadata": {
    "slideshow": {
     "slide_type": "slide"
    }
   },
   "source": [
    "#### Modules and packages\n",
    "\n",
    "* a *collection* of related functions <br>\n",
    "\n",
    "* stored together (e.g. in a file, say \"some_module.py\")<br>\n",
    "\n",
    "* can be *imported* as a whole, \n",
    "    * this makes all functions available at once<br>\n",
    "                    \n",
    "* a collection of *modules* (and maybe *functions*) is called a *package*"
   ]
  },
  {
   "cell_type": "markdown",
   "metadata": {
    "slideshow": {
     "slide_type": "slide"
    }
   },
   "source": [
    "#### Programs and scripts\n",
    "\n",
    "* pieces of code that do something specific\n",
    "\n",
    "* in general, \n",
    "    * **programs** contain (new) functions and can be complicated\n",
    "    * **scripts** are simple programs that usually do not contain new functions"
   ]
  },
  {
   "cell_type": "markdown",
   "metadata": {
    "slideshow": {
     "slide_type": "skip"
    }
   },
   "source": [
    "* may also use other modules/functions\n",
    "\n",
    "* stored in a file (e.g. \"some_program.py\")\n",
    "\n",
    "* can be executed and imported\n",
    "    * Ipython console: \"run some_program\"\n",
    "    * Python/IPython: \"import some_program\"\n",
    "    * Spyder: open in editor and run\n",
    "    * command line (e.g. cmd): \"python some_program.py\""
   ]
  },
  {
   "cell_type": "markdown",
   "metadata": {
    "slideshow": {
     "slide_type": "slide"
    }
   },
   "source": [
    "### Using modules and packages"
   ]
  },
  {
   "cell_type": "markdown",
   "metadata": {},
   "source": [
    "#### Listing the available modules and getting help"
   ]
  },
  {
   "cell_type": "markdown",
   "metadata": {
    "slideshow": {
     "slide_type": "skip"
    }
   },
   "source": [
    "Standard *Python*, and especially version of *Python* that comes with anaconda, comes with a whole host of pre-installed (aka \"built-in\") modules and packages. However, it is also easy to install additional new modules and write your own."
   ]
  },
  {
   "cell_type": "markdown",
   "metadata": {
    "slideshow": {
     "slide_type": "skip"
    }
   },
   "source": [
    "We can obtain a list of all the modules that are currently available via the *help(\"modules\")* command.\n",
    "\n",
    "We can also obtain help on any of these modules via *help(\"module_name\")* , where module_name is the name of the module."
   ]
  },
  {
   "cell_type": "markdown",
   "metadata": {
    "slideshow": {
     "slide_type": "skip"
    }
   },
   "source": [
    "##### Exercise: Getting familiar with modules\n",
    "\n",
    "<B><B>Run help(\"modules\") and then run help() on a few of the built-in modules that pop up. See if you can find anything that looks potentially useful....<B><B>"
   ]
  },
  {
   "cell_type": "markdown",
   "metadata": {
    "slideshow": {
     "slide_type": "fragment"
    }
   },
   "source": [
    "#### Built-in modules and packages"
   ]
  },
  {
   "cell_type": "markdown",
   "metadata": {
    "slideshow": {
     "slide_type": "skip"
    }
   },
   "source": [
    "Importing built-in modules and packages is easy. \n",
    "\n",
    "Suppose we want to import the module \"math\" because it contains lots of useful functions.\n",
    "\n",
    "All we have to do is:"
   ]
  },
  {
   "cell_type": "code",
   "execution_count": 2,
   "metadata": {
    "slideshow": {
     "slide_type": "fragment"
    }
   },
   "outputs": [
    {
     "name": "stdout",
     "output_type": "stream",
     "text": [
      "3.141592653589793 -1.0\n"
     ]
    }
   ],
   "source": [
    "import math\n",
    "x = math.pi\n",
    "y = math.cos(x)\n",
    "print(x, y)"
   ]
  },
  {
   "cell_type": "markdown",
   "metadata": {
    "slideshow": {
     "slide_type": "slide"
    }
   },
   "source": [
    "For an shorter module name we could do the following"
   ]
  },
  {
   "cell_type": "code",
   "execution_count": 3,
   "metadata": {
    "slideshow": {
     "slide_type": "fragment"
    }
   },
   "outputs": [],
   "source": [
    "import math as m"
   ]
  },
  {
   "cell_type": "markdown",
   "metadata": {
    "slideshow": {
     "slide_type": "skip"
    }
   },
   "source": [
    "Once we've done that, we can access any function defined in math as follows:"
   ]
  },
  {
   "cell_type": "code",
   "execution_count": 4,
   "metadata": {
    "slideshow": {
     "slide_type": "fragment"
    }
   },
   "outputs": [
    {
     "name": "stdout",
     "output_type": "stream",
     "text": [
      "3.141592653589793 -1.0\n"
     ]
    }
   ],
   "source": [
    "x = m.pi\n",
    "y = m.cos(x)\n",
    "print(x, y)"
   ]
  },
  {
   "cell_type": "markdown",
   "metadata": {
    "slideshow": {
     "slide_type": "skip"
    }
   },
   "source": [
    "Since we imported the module *math* \"as m\", all the functions inside it are accessed via \"m.function\"."
   ]
  },
  {
   "cell_type": "markdown",
   "metadata": {
    "slideshow": {
     "slide_type": "slide"
    }
   },
   "source": [
    "If we don't use the \"as m\", we have to refer to the module by its full name:"
   ]
  },
  {
   "cell_type": "markdown",
   "metadata": {
    "slideshow": {
     "slide_type": "slide"
    }
   },
   "source": [
    "Why can't we just access functions without the \".\" notation?<br>\n",
    "\n",
    "* Because this could easily lead to confusion and errors!<br><br>\n",
    "* What if two modules use the same name for two different functions?"
   ]
  },
  {
   "cell_type": "markdown",
   "metadata": {
    "slideshow": {
     "slide_type": "skip"
    }
   },
   "source": [
    "Actually, it *is* possible to force *Python* to allow us to do this."
   ]
  },
  {
   "cell_type": "code",
   "execution_count": 5,
   "metadata": {
    "slideshow": {
     "slide_type": "skip"
    }
   },
   "outputs": [
    {
     "name": "stdout",
     "output_type": "stream",
     "text": [
      "3.141592653589793 -1.0\n"
     ]
    }
   ],
   "source": [
    "from math import *\n",
    "x = pi\n",
    "y = cos(x)\n",
    "print(x, y)"
   ]
  },
  {
   "cell_type": "markdown",
   "metadata": {
    "slideshow": {
     "slide_type": "skip"
    }
   },
   "source": [
    "One occasion when this *may* be allowable is when we just want to do some quick-and-dirty interactive calculation or testing.\n",
    "\n",
    "However, it is almost always a bad idea!"
   ]
  },
  {
   "cell_type": "markdown",
   "metadata": {
    "slideshow": {
     "slide_type": "slide"
    }
   },
   "source": [
    "There are four general-purpose modules that are particularly useful for numerical work and data analysis:\n",
    "\n",
    "* *math* <br><br>\n",
    "* *numpy* <br><br>\n",
    "* *scipy* <br><br>\n",
    "* *matplotlib* <br><br>"
   ]
  },
  {
   "cell_type": "markdown",
   "metadata": {
    "slideshow": {
     "slide_type": "fragment"
    }
   },
   "source": [
    "<B><B>Today, we're going to take a quick look at the first three of these, and then a closer look at the crucial new data type we get with *numpy*, the *array*.<B><B>"
   ]
  },
  {
   "cell_type": "markdown",
   "metadata": {},
   "source": [
    "We'll look at *matplotlib* in a future session dedicated to plotting."
   ]
  },
  {
   "cell_type": "markdown",
   "metadata": {
    "slideshow": {
     "slide_type": "slide"
    }
   },
   "source": [
    "#### math"
   ]
  },
  {
   "cell_type": "code",
   "execution_count": 6,
   "metadata": {
    "slideshow": {
     "slide_type": "fragment"
    }
   },
   "outputs": [],
   "source": [
    "import math"
   ]
  },
  {
   "cell_type": "markdown",
   "metadata": {
    "slideshow": {
     "slide_type": "fragment"
    }
   },
   "source": [
    "This module is **always** available. It provides access to a whole bunch of standard mathematical functions. "
   ]
  },
  {
   "cell_type": "markdown",
   "metadata": {
    "slideshow": {
     "slide_type": "skip"
    }
   },
   "source": [
    "##### Exercise: working with the *math* module\n",
    "\n",
    "Run *help(\"math\")* to see what functions are provided by the math module. Try out some of them, including particularly:\n",
    "\n",
    "* some functions that require more than one input variable (e.g. atan) \n",
    "* some whose meaning may not be obvious from their help docstring (e.g. floor)"
   ]
  },
  {
   "cell_type": "markdown",
   "metadata": {
    "slideshow": {
     "slide_type": "slide"
    }
   },
   "source": [
    "#### numpy"
   ]
  },
  {
   "cell_type": "code",
   "execution_count": 10,
   "metadata": {
    "slideshow": {
     "slide_type": "fragment"
    }
   },
   "outputs": [],
   "source": [
    "import numpy as np"
   ]
  },
  {
   "cell_type": "markdown",
   "metadata": {
    "slideshow": {
     "slide_type": "fragment"
    }
   },
   "source": [
    "*numpy* is actually a *package* (a collection of modules and funtions), rather than just a single module.\n",
    "\n",
    "In addition to making a whole bunch of useful functions available for us, importing *numpy* automatically provides us with a new data type, the *array*."
   ]
  },
  {
   "cell_type": "markdown",
   "metadata": {
    "slideshow": {
     "slide_type": "skip"
    }
   },
   "source": [
    "We'll take a closer look at *arrays* in a minute. For the moment, we'll just note that 1-dimensional arrays are quite similar to lists."
   ]
  },
  {
   "cell_type": "markdown",
   "metadata": {
    "slideshow": {
     "slide_type": "slide"
    }
   },
   "source": [
    "\"Top-level\" *numpy* functions are accessed in the usual way. For example, we can convert a list to an array like this:"
   ]
  },
  {
   "cell_type": "code",
   "execution_count": 9,
   "metadata": {
    "slideshow": {
     "slide_type": "fragment"
    }
   },
   "outputs": [
    {
     "ename": "ModuleNotFoundError",
     "evalue": "No module named 'numpy'",
     "output_type": "error",
     "traceback": [
      "\u001b[0;31m---------------------------------------------------------------------------\u001b[0m",
      "\u001b[0;31mModuleNotFoundError\u001b[0m                       Traceback (most recent call last)",
      "Cell \u001b[0;32mIn[9], line 1\u001b[0m\n\u001b[0;32m----> 1\u001b[0m \u001b[38;5;28;01mimport\u001b[39;00m \u001b[38;5;21;01mnumpy\u001b[39;00m \u001b[38;5;28;01mas\u001b[39;00m \u001b[38;5;21;01mnp\u001b[39;00m\n\u001b[1;32m      2\u001b[0m my_list \u001b[38;5;241m=\u001b[39m [\u001b[38;5;241m1\u001b[39m, \u001b[38;5;241m2\u001b[39m, \u001b[38;5;241m3\u001b[39m]\n\u001b[1;32m      3\u001b[0m my_array \u001b[38;5;241m=\u001b[39m np\u001b[38;5;241m.\u001b[39marray(my_list)\n",
      "\u001b[0;31mModuleNotFoundError\u001b[0m: No module named 'numpy'"
     ]
    }
   ],
   "source": [
    "import numpy as np\n",
    "my_list = [1, 2, 3]\n",
    "my_array = np.array(my_list)\n",
    "print(type(my_array))\n",
    "print(my_array)"
   ]
  },
  {
   "cell_type": "markdown",
   "metadata": {
    "slideshow": {
     "slide_type": "skip"
    }
   },
   "source": [
    "Here, *np.array* is a function defined at the top-level of *numpy* that converts its argument to a *numpy* array (if possible)."
   ]
  },
  {
   "cell_type": "markdown",
   "metadata": {
    "slideshow": {
     "slide_type": "skip"
    }
   },
   "source": [
    "There is little point in listing all of the functions *numpy* makes available to us here. For, now, let's just note that:"
   ]
  },
  {
   "cell_type": "markdown",
   "metadata": {
    "slideshow": {
     "slide_type": "skip"
    }
   },
   "source": [
    "* *numpy* is our friend for anything to do with linear algebra, fourier transforms or random numbers.\n",
    "\n",
    "* we should use *numpy* arrays instead of lists for just about any numerical tasks (not least because it tends to be faster)."
   ]
  },
  {
   "cell_type": "markdown",
   "metadata": {
    "slideshow": {
     "slide_type": "slide"
    }
   },
   "source": [
    "How do we access functions that are defined within other modules within *numpy*? "
   ]
  },
  {
   "cell_type": "markdown",
   "metadata": {
    "slideshow": {
     "slide_type": "skip"
    }
   },
   "source": [
    "<B><B>Well, one such *numpy* module is *random*, which provides support for random number generation and related tasks. \n",
    "\n",
    "For example, the *random* module contains the function *shuffle*, which takes an array and randomly shuffles its elements around *in place* (i.e. it modifies its input).<B><B>"
   ]
  },
  {
   "cell_type": "markdown",
   "metadata": {
    "slideshow": {
     "slide_type": "skip"
    }
   },
   "source": [
    "Here is an usage example for the function *shuffle* inside the module *random* insider *numpy*"
   ]
  },
  {
   "cell_type": "code",
   "execution_count": null,
   "metadata": {
    "slideshow": {
     "slide_type": "fragment"
    }
   },
   "outputs": [],
   "source": [
    "a = np.array(list(range(10)))  # remember the range command?\n",
    "print(\"The original array is:\",a)\n",
    "np.random.shuffle(a)\n",
    "print(\"The shuffled array is:\",a)\n"
   ]
  },
  {
   "cell_type": "markdown",
   "metadata": {
    "slideshow": {
     "slide_type": "skip"
    }
   },
   "source": [
    "Note the obvious syntax here: if a function is defined within a module inside a package, we access it via \"package.module.function\"."
   ]
  },
  {
   "cell_type": "code",
   "execution_count": null,
   "metadata": {},
   "outputs": [],
   "source": [
    "print(numpy.version.version)"
   ]
  },
  {
   "cell_type": "markdown",
   "metadata": {
    "slideshow": {
     "slide_type": "skip"
    }
   },
   "source": [
    "Some packages even contain sub-packages, and the syntax then extends in the obvious way:, i.e. \"package.subpackage.module.function\""
   ]
  },
  {
   "cell_type": "markdown",
   "metadata": {
    "slideshow": {
     "slide_type": "skip"
    }
   },
   "source": [
    "It's also possible to import a specific module (or sub-package) from a package. For example:"
   ]
  },
  {
   "cell_type": "code",
   "execution_count": null,
   "metadata": {
    "slideshow": {
     "slide_type": "skip"
    }
   },
   "outputs": [],
   "source": [
    "import numpy.random as ran\n",
    "ran.shuffle(a)\n",
    "print(\"The shuffled array is:\", a)"
   ]
  },
  {
   "cell_type": "markdown",
   "metadata": {
    "slideshow": {
     "slide_type": "skip"
    }
   },
   "source": [
    "Finally, note that *math* and *numpy* use some of the same function names. For example, the \"sin\" function is defined in both. However, they are not identical -- in particular, only the *numpy* version can act on arrays.\n",
    "\n",
    "This causes no confusion at all even if both modules are imported, so long as we always have to preface the function with the module."
   ]
  },
  {
   "cell_type": "code",
   "execution_count": null,
   "metadata": {
    "slideshow": {
     "slide_type": "skip"
    }
   },
   "outputs": [],
   "source": [
    "import math\n",
    "import numpy as np\n",
    "f = 1.3\n",
    "a = np.array([1.3, 1.3])\n",
    "sf = math.sin(f)\n",
    "sa = np.sin(a)\n",
    "print(sf, sa)"
   ]
  },
  {
   "cell_type": "markdown",
   "metadata": {
    "slideshow": {
     "slide_type": "skip"
    }
   },
   "source": [
    "But now consider the lazy version:"
   ]
  },
  {
   "cell_type": "code",
   "execution_count": null,
   "metadata": {
    "slideshow": {
     "slide_type": "skip"
    }
   },
   "outputs": [],
   "source": [
    "from numpy import *\n",
    "from math import *\n",
    "f = 1.3\n",
    "a = array([1.3, 1.3])\n",
    "sf = sin(f)\n",
    "sa = sin(a)\n",
    "print(sf, sa)"
   ]
  },
  {
   "cell_type": "markdown",
   "metadata": {
    "slideshow": {
     "slide_type": "skip"
    }
   },
   "source": [
    "What happened? \n",
    "\n",
    "Well, there can only be one function called \"sin\" at any one time. So when we imported *math*, we **overwrote** the *numpy* definition of the function. But the *math* version can't handle *arrays*, so when we tried to take the sine of an array, the script fell over.\n",
    "\n",
    "Lesson? \n",
    "\n",
    "Don't be lazy."
   ]
  },
  {
   "cell_type": "markdown",
   "metadata": {
    "slideshow": {
     "slide_type": "skip"
    }
   },
   "source": [
    "##### Exercise: the *numpy* reference manual\n",
    "\n",
    "Take a look at the *numpy* reference manual to get an idea of what's available for you. The reference manual is available here: https://numpy.org/doc/1.16/reference/index.html\n",
    "\n",
    "Pay particular attention to the section on \"routines\" (aka functions), since this is what we mostly care about for the moment.\n",
    "\n",
    "##### Exercise: working with *numpy*\n",
    "\n",
    "Try out a some of the functions *numpy* provides. Don't make it the most boring ones -- the ones you should try above all are the ones that look potentially useful, but whose usage may not be immediately obvious. Specific examples you may want to look at include (but are not limited to):\n",
    "* the \"histogram\" function (*numpy.histogram*)\n",
    "* the \"where\" routine (*numpy.where*)\n",
    "* the \"nonzero\" routine (*numpy.nonzero*)\n",
    "* the \"take\" routine (*numpy.take*)\n",
    "* the \"select\" routine (*numpy.select*)\n",
    "* the \"all\" routine (*numpy.all*)\n",
    "* the \"any\" routine (*numpy.any*)\n",
    "* the \"sort\" routine (*numpy.sort*)\n",
    "* the \"argmax\" routine (*numpy.argmax*)\n",
    "* the \"count_nonzero\" routine (*numpy.count_nonzero*)\n",
    "* the \"rand\" routine (*numpy.random.rand*)\n",
    "* the \"randn\" routine (*numpy.random.randn*)\n",
    "* the \"random_integer\" routine (*numpy.random.random_integer*)\n",
    "* the \"median\" routine (*numpy.median*)\n",
    "* the \"average\" routine (*numpy.average*)\n",
    "* the \"std\" routine (*numpy.std*)\n",
    "* the \"linspace\" routine (*numpy.linspace*)"
   ]
  },
  {
   "cell_type": "code",
   "execution_count": null,
   "metadata": {},
   "outputs": [],
   "source": [
    "import numpy as np\n",
    "np.histogram([1, 2, 1], bins=[0, 1, 2, 3])\n",
    "\n",
    "#import matplotlib.pyplot as plt\n",
    "#plt.hist([1, 2, 1], bins=[0, 1, 2, 3])\n",
    "#plt.show()"
   ]
  },
  {
   "cell_type": "code",
   "execution_count": null,
   "metadata": {},
   "outputs": [],
   "source": [
    "help(np.linspace)"
   ]
  },
  {
   "cell_type": "markdown",
   "metadata": {
    "slideshow": {
     "slide_type": "slide"
    }
   },
   "source": [
    "#### scipy"
   ]
  },
  {
   "cell_type": "code",
   "execution_count": null,
   "metadata": {
    "slideshow": {
     "slide_type": "fragment"
    }
   },
   "outputs": [],
   "source": [
    "from scipy import stats       #imports the sub-package stats from scipy\n",
    "from scipy import stats as s  #if we're really lazy..."
   ]
  },
  {
   "cell_type": "markdown",
   "metadata": {
    "slideshow": {
     "slide_type": "fragment"
    }
   },
   "source": [
    "*scipy* is a scientific computing *package*, i.e. a collection of modules and functions."
   ]
  },
  {
   "cell_type": "markdown",
   "metadata": {
    "slideshow": {
     "slide_type": "slide"
    }
   },
   "source": [
    "*scipy* is huge, and a lot of its functions use the *numpy* array data type. It therefore has a couple of special features:"
   ]
  },
  {
   "cell_type": "markdown",
   "metadata": {
    "slideshow": {
     "slide_type": "fragment"
    }
   },
   "source": [
    "* importing *scipy* also automatically imports *numpy*<br>\n",
    "    * as \"numpy\" (not \"np\")<br>\n",
    "    * we can still do our own import also (e.g. as \"np\" to save typing)<br><br>\n",
    "* *scipy* sub-packages and modules have to be imported explicitly\n",
    "    * best way is via \"from scipy import stats\" \n",
    "    * we can then access *stats* functions via \"stats.describe()\", for example"
   ]
  },
  {
   "cell_type": "markdown",
   "metadata": {
    "slideshow": {
     "slide_type": "skip"
    }
   },
   "source": [
    "As with *numpy*, there is little point in listing all the things you can do with *scipy* here. The best -- and may the only -- way to learn about *scipy* is to first get a rough sense of its contents and functionality and then just start using it.\n",
    "\n",
    "##### Exercise: the *scipy* reference guide\n",
    "\n",
    "Take a look at the official *scipy* reference guide https://docs.scipy.org/doc/scipy-1.3.0/reference/ Don't worry about details at this stage -- just take a look at the sub-packages that are available and take a look at a few of them that look particularly interesting and useful to you (\"stats\" may be one of those:).\n",
    "\n",
    "##### Exercise: some examples from *scipy*\n",
    "\n",
    "Have a look at a few useful things from *scipy*, such as \n",
    "\n",
    "* *scipy.interpolate.interp1d*\n",
    "* *scipy.integrate.quad*\n",
    "* *scipy.integrate.trapz*\n",
    "* *scipy.stats.randint*\n",
    "* *scipy.constants*"
   ]
  },
  {
   "cell_type": "markdown",
   "metadata": {
    "slideshow": {
     "slide_type": "slide"
    }
   },
   "source": [
    "### Creating new modules"
   ]
  },
  {
   "cell_type": "markdown",
   "metadata": {
    "slideshow": {
     "slide_type": "skip"
    }
   },
   "source": [
    "Creating new modules in python is trivial. "
   ]
  },
  {
   "cell_type": "markdown",
   "metadata": {
    "slideshow": {
     "slide_type": "skip"
    }
   },
   "source": [
    "Suppose we have a couple of functions, say *add_two* and *add_four*.  We want to store these in a module that we can easily import and use. So we just store the two functions in a file with extension \".py\" (e.g. \"addem.py\"), and we can then import this. So..."
   ]
  },
  {
   "cell_type": "markdown",
   "metadata": {
    "slideshow": {
     "slide_type": "fragment"
    }
   },
   "source": [
    "If \"addem.py\" contains the function \"add_four\", we can immediately do this:"
   ]
  },
  {
   "cell_type": "code",
   "execution_count": null,
   "metadata": {
    "slideshow": {
     "slide_type": "fragment"
    }
   },
   "outputs": [],
   "source": [
    "import addem\n",
    "\n",
    "x = addem.add_four(2.0)\n",
    "print(x)"
   ]
  },
  {
   "cell_type": "markdown",
   "metadata": {
    "slideshow": {
     "slide_type": "skip"
    }
   },
   "source": [
    "* The only thing we have to watch out for here is that *Python* has to know where to look for this file. \n",
    "\n",
    "* The easiest way to ensure this is to just run *Python/IPython* from the directory that contains the file."
   ]
  },
  {
   "cell_type": "markdown",
   "metadata": {
    "slideshow": {
     "slide_type": "slide"
    }
   },
   "source": [
    "## Arrays\n",
    "\n",
    "The data type *array* is defined in the *numpy* package.\n",
    "\n",
    "That means every time we import *numpy*, the *array* data type is automatically made available to us."
   ]
  },
  {
   "cell_type": "markdown",
   "metadata": {
    "slideshow": {
     "slide_type": "skip"
    }
   },
   "source": [
    "For us physicists and astronomers, this is arguably the single most important data type python provides. We'll use this in virtually every significant programming or data analysis task we carry out with *Python*. So it's well worth taking the time to really understand *arrays*."
   ]
  },
  {
   "cell_type": "markdown",
   "metadata": {
    "slideshow": {
     "slide_type": "skip"
    }
   },
   "source": [
    "<B><B>Formally, *numpy* arrays go by the name of *ndarrays* (for N-dimensional arrays), but we will use the term *array* as a short-hand and always use it to refer to *numpy* *ndarrays*. \n",
    "\n",
    "Be aware of this though, because there is, in fact, an actual *array* data type defined in the \"standard Python library\" -- so if you google \"Python arrays\", you might not find the information you're expecting (about *numpy* *ndarrays*). \n",
    "\n",
    "In this course, we're never going to use the Python standard library array data type, so this isn't going to cause any confusion. <B><B>"
   ]
  },
  {
   "cell_type": "markdown",
   "metadata": {
    "slideshow": {
     "slide_type": "slide"
    }
   },
   "source": [
    "Fundamentally, *arrays* are very similar to *lists*:\n",
    "\n",
    "* *arrays* are *sequences*<br>\n",
    "\n",
    "* *arrays* are *mutable*<br>\n",
    "\n",
    "<B><B>The main difference between *arrays* and *lists* is:\n",
    "\n",
    "* all elements of an *array* must have the same data type<B><B>"
   ]
  },
  {
   "cell_type": "markdown",
   "metadata": {
    "slideshow": {
     "slide_type": "skip"
    }
   },
   "source": [
    "The restriction to a single data type makes *arrays* much more efficient to store than *lists*, since we don't have to store *type* information for each element.\n",
    "\n",
    "It also makes *arrays* more suitable for numerical calculations in which we often want to work on vectors and matrices that contain numbers (most commonly *floats*.)"
   ]
  },
  {
   "cell_type": "markdown",
   "metadata": {
    "slideshow": {
     "slide_type": "slide"
    }
   },
   "source": [
    "### Vectors (1D arrays)\n",
    "\n",
    "The single most common and useful data structure for data analysis is a 1-dimensional *array*, i.e. a *vector*.\n",
    "\n",
    "*numpy* provides several ways of creating vectors:"
   ]
  },
  {
   "cell_type": "code",
   "execution_count": null,
   "metadata": {
    "slideshow": {
     "slide_type": "fragment"
    }
   },
   "outputs": [],
   "source": [
    "import numpy as np\n",
    "\n",
    "#convert a list to an array\n",
    "a1 = np.array([0.0, 1.0, 2.0, 4.0, 5.0]) \n",
    "\n",
    "#use \"arange\" (array equivalent to \"range\" for lists)\n",
    "#if argument is given as float, output is float also\n",
    "a2 = np.arange(5.0)\n",
    "\n",
    "#creating an array filled with a given number of (float) zeros\n",
    "a3 = np.zeros(5)\n",
    "\n",
    "#creating an array filled with a given number of (float) ones\n",
    "a4 = np.ones(5)\n",
    "\n",
    "print(a1)\n",
    "print(a2)\n",
    "print(a3)\n",
    "print(a4)"
   ]
  },
  {
   "cell_type": "code",
   "execution_count": null,
   "metadata": {
    "slideshow": {
     "slide_type": "slide"
    }
   },
   "outputs": [],
   "source": [
    "Since *arrays* are *mutable*, we can change individual elements once we've created an *array*"
   ]
  },
  {
   "cell_type": "code",
   "execution_count": null,
   "metadata": {
    "slideshow": {
     "slide_type": "fragment"
    }
   },
   "outputs": [],
   "source": [
    "a2 = np.arange(5.0)\n",
    "print(a2)\n",
    "a2[0] = 10.0\n",
    "print(a2)"
   ]
  },
  {
   "cell_type": "markdown",
   "metadata": {
    "slideshow": {
     "slide_type": "skip"
    }
   },
   "source": [
    "As we've seen before, if you accidentally or intentionally try to do something that shouldn't be possible, *Python* tries to guess what you meant.\n",
    "\n",
    "This is both good and bad. On the one hand, it's convenient for quick-and-dirty interactive analysis -- more often than not, we can get away with sloppy style and still get the results we want.\n",
    "\n",
    "On the other hand, *Python's* tendency to guess means that a simple typo in a program -- e.g. typing \"5\" instead of \"5.0\" -- won't necessarily cause a formal error (the program will run), but the program might produce plausible looking, but incorrect output.\n",
    "\n",
    "Here is an example of *Python* trying to guess what you meant:"
   ]
  },
  {
   "cell_type": "code",
   "execution_count": null,
   "metadata": {
    "slideshow": {
     "slide_type": "skip"
    }
   },
   "outputs": [],
   "source": [
    "a = np.arange(5) \n",
    "print(a)\n",
    "a[0] = 3.9\n",
    "print(a)"
   ]
  },
  {
   "cell_type": "markdown",
   "metadata": {
    "slideshow": {
     "slide_type": "skip"
    }
   },
   "source": [
    "Note how *Python* did not fall over with an error when we tried to assign a *float* to an *array* or *ints*!\n",
    "\n",
    "Instead, it implicitly and silently converted the *float* to an *int* -- and it didn't even round, but instead just truncated the *float*! This is probably not what we wanted. \n",
    "\n",
    "In fact, the most likely situation in which we might find the sort code snippet above that we **meant** to write:"
   ]
  },
  {
   "cell_type": "code",
   "execution_count": null,
   "metadata": {
    "slideshow": {
     "slide_type": "skip"
    }
   },
   "outputs": [],
   "source": [
    "a = np.arange(5.0)\n",
    "print(a)\n",
    "a[0] = 3.9\n",
    "print(a)"
   ]
  },
  {
   "cell_type": "markdown",
   "metadata": {
    "slideshow": {
     "slide_type": "slide"
    }
   },
   "source": [
    "All the built in stuff that's available for sequences (and particularly *lists*) is available for *arrays* also. For example:"
   ]
  },
  {
   "cell_type": "code",
   "execution_count": null,
   "metadata": {
    "slideshow": {
     "slide_type": "fragment"
    }
   },
   "outputs": [],
   "source": [
    "a1 = np.arange(5.,0.,-1.)\n",
    "print('the length function gives: ', len(a1))\n",
    "print('the array is', a1)\n",
    "a2 = a1[:3] #slicing\n",
    "print('the sliced array is', a2)"
   ]
  },
  {
   "cell_type": "markdown",
   "metadata": {
    "slideshow": {
     "slide_type": "skip"
    }
   },
   "source": [
    "Also, most of the *methods* we've already seen for *lists* are available for *arrays*, too, as well as some new ones. For example:"
   ]
  },
  {
   "cell_type": "code",
   "execution_count": null,
   "metadata": {
    "slideshow": {
     "slide_type": "skip"
    }
   },
   "outputs": [],
   "source": [
    "a1 = np.arange(5.,0.,-1.)\n",
    "print('the original array is', a1)\n",
    "a1.sort()\n",
    "print('the sorted array is', a1)"
   ]
  },
  {
   "cell_type": "markdown",
   "metadata": {
    "slideshow": {
     "slide_type": "skip"
    }
   },
   "source": [
    "There is little point covering all of the available *methods* here, but do familiarize yourself with them by running \"help\" on an array."
   ]
  },
  {
   "cell_type": "markdown",
   "metadata": {
    "slideshow": {
     "slide_type": "slide"
    }
   },
   "source": [
    "In addition, we now have acccess to a whole bunch of *numpy* functions that can act efficiently **on entire arrays at once.** \n",
    "\n",
    "For example:"
   ]
  },
  {
   "cell_type": "code",
   "execution_count": null,
   "metadata": {
    "slideshow": {
     "slide_type": "fragment"
    }
   },
   "outputs": [],
   "source": [
    "a1 = np.arange(3.0)\n",
    "print(a1)\n",
    "a1 = np.sin(a1)\n",
    "print(a1)"
   ]
  },
  {
   "cell_type": "markdown",
   "metadata": {
    "slideshow": {
     "slide_type": "slide"
    }
   },
   "source": [
    "In fact, acting on the entire array at once is the default for arrays, which is incredibly useful!\n",
    "\n",
    "For example:"
   ]
  },
  {
   "cell_type": "code",
   "execution_count": null,
   "metadata": {
    "slideshow": {
     "slide_type": "fragment"
    }
   },
   "outputs": [],
   "source": [
    "a1 = np.arange(3.0)\n",
    "print(a1)\n",
    "print()\n",
    "a2 = a1 + 1.0\n",
    "print(a2)\n",
    "print()\n",
    "a3 = a1 * 2.0\n",
    "print(a3)"
   ]
  },
  {
   "cell_type": "markdown",
   "metadata": {
    "slideshow": {
     "slide_type": "skip"
    }
   },
   "source": [
    "#### Exercise: a polynomial function\n",
    "\n",
    "Write a function that, given some array x and an integer parameter n, returns as output the polynomial f(x) = n*x^n. \n",
    "\n",
    "#### Exercise: trapezium rule integration\n",
    "\n",
    "Write a program that uses the trapezium rule to estimate the definite integral of x = 2x^2 between 0 and 20.\n",
    "\n",
    "(Don't use the *numpy* or *scipy* functions for trapezium rule integration!)\n",
    "\n",
    "The steps you'll want to take are:\n",
    "\n",
    "* create an array of 100 x-values spaced regularly between 0 and 20 \n",
    "* call your polynomial function with this set of x-values and n = 2\n",
    "* carry out the sum that approximates the integral\n",
    "    * you could do this by explicitly looping over your arrays\n",
    "    * but you can also do it by using the *sum* method or the *numpy* routine *sum*\n",
    "* check that your result is correct by doing the integral analytically (i.e. on a piece of paper)"
   ]
  },
  {
   "cell_type": "markdown",
   "metadata": {
    "slideshow": {
     "slide_type": "slide"
    }
   },
   "source": [
    "### Matrices (2D arrays)\n",
    "\n",
    "*Python* also makes it easy to create and use 2-dimensional arrays. These provide a natural way to store matrices or images, for example.\n",
    "\n",
    "We can create a matrix via the *zeros* and *ones* functions we already saw above, using the notation \"np.zeros(rows, columns)\":"
   ]
  },
  {
   "cell_type": "code",
   "execution_count": null,
   "metadata": {
    "slideshow": {
     "slide_type": "fragment"
    }
   },
   "outputs": [],
   "source": [
    "#create a 3(rows) x 4(columns) matrix and fill with zeroes\n",
    "x0 = np.zeros((3, 4))\n",
    "\n",
    "#create a 3(rows) x 4(columns) matrix and fill with ones\n",
    "x1 = np.ones((3, 4))\n",
    "\n",
    "print('x0:')\n",
    "print(x0)\n",
    "print()\n",
    "print('x1:')\n",
    "print(x1)"
   ]
  },
  {
   "cell_type": "markdown",
   "metadata": {
    "slideshow": {
     "slide_type": "skip"
    }
   },
   "source": [
    "Note that *Python* does a nice job automatically printing 2D matrices for us! We'll use this in our Connect-4 assignment for printing out the intermediate gameboards.\n",
    "\n",
    "We can also convert a *list* of *lists* (or a *list* of *tuples*) to an array:"
   ]
  },
  {
   "cell_type": "code",
   "execution_count": null,
   "metadata": {
    "slideshow": {
     "slide_type": "skip"
    }
   },
   "outputs": [],
   "source": [
    "#create a list of lists and convert to a 2-D array\n",
    "l2d = [[1, 2, 3, 4], [5, 6, 7, 8], [9, 10, 10, 12]]\n",
    "xl = np.array(l2d)\n",
    "\n",
    "#create a list of tuples and convert to a 2-D array\n",
    "lt2d = [(1, 2, 3, 4), (5, 6, 7, 8), (9, 10, 10, 12)]\n",
    "xlt = np.array(l2d)\n",
    "\n",
    "print('xl:')\n",
    "print(xl)\n",
    "print()\n",
    "print('xlt:')\n",
    "print(xlt)"
   ]
  },
  {
   "cell_type": "markdown",
   "metadata": {
    "slideshow": {
     "slide_type": "skip"
    }
   },
   "source": [
    "We might wonder a bit about the second conversion, from a *list* of *tuples*: after all, *tuples* are supposed to be *immutable*, but *arrays* are *mutable*.\n",
    "\n",
    "But this is fine: *Python* just copies the values of the *tuples* into *array* elements, and these elements are thereafter modifiable. "
   ]
  },
  {
   "cell_type": "markdown",
   "metadata": {
    "slideshow": {
     "slide_type": "skip"
    }
   },
   "source": [
    "The dimensionality -- or *shape* -- of any array can be queried via the *shape* \"attribute\":"
   ]
  },
  {
   "cell_type": "code",
   "execution_count": null,
   "metadata": {
    "slideshow": {
     "slide_type": "skip"
    }
   },
   "outputs": [],
   "source": [
    "a = np.zeros((2,4))\n",
    "print(a)\n",
    "print()\n",
    "print(a.shape)"
   ]
  },
  {
   "cell_type": "markdown",
   "metadata": {
    "slideshow": {
     "slide_type": "skip"
    }
   },
   "source": [
    "This shape is a *tuple*, and the notation for 2-D arrays is generally \"first rows, then columns\"."
   ]
  },
  {
   "cell_type": "markdown",
   "metadata": {
    "slideshow": {
     "slide_type": "skip"
    }
   },
   "source": [
    "So the shape here tells us that the object \"a\" contains 2 rows and 4 columnns, consistent with the way *Python* printed the array."
   ]
  },
  {
   "cell_type": "markdown",
   "metadata": {
    "slideshow": {
     "slide_type": "skip"
    }
   },
   "source": [
    "But what is an \"attribute\"? "
   ]
  },
  {
   "cell_type": "markdown",
   "metadata": {
    "slideshow": {
     "slide_type": "skip"
    }
   },
   "source": [
    "#### Attributes\n",
    "\n",
    "As we can tell from the notation, *attributes* are things that are automatically defined for a given data type. \n",
    "\n",
    "The *attributes* are specific pieces of information about the object in question, but the *attributes* don't **do** anything.\n",
    "\n",
    "The *shape* of an array is one such *attribute* for *ndarrays*; another would be the total *size* (i.e. the number of elements it contains):"
   ]
  },
  {
   "cell_type": "code",
   "execution_count": null,
   "metadata": {
    "slideshow": {
     "slide_type": "skip"
    }
   },
   "outputs": [],
   "source": [
    "print(a.size)"
   ]
  },
  {
   "cell_type": "markdown",
   "metadata": {},
   "source": [
    "If you want to know what *attributes* are available for *arrays* (or other data types), check the relevant *Python* documention or use \"help\". Again, my advice here is not to try to memorize all of the available *function* and *attributes* -- just familiarize yourself a bit with them, to get a feel for what's available. Then, when you actually try to solve a programming task, know where to check whether and how a suitable thing is available and how to use it. \n",
    "\n",
    "Eventually, the things you find you use a lot will become second nature, and you won't have to look them up any more. And the things you don't use all that much -- well, looking those up when you do need them seems like a sensible strategy..."
   ]
  },
  {
   "cell_type": "markdown",
   "metadata": {
    "slideshow": {
     "slide_type": "slide"
    }
   },
   "source": [
    "#### Extracting specific elements, sub-matrices or other parts of a matrix\n",
    "\n",
    "Something we will often want to do is extract specific parts of a matrix. \n",
    "\n",
    "The most obvious is that we might want to extract a particular element:"
   ]
  },
  {
   "cell_type": "code",
   "execution_count": null,
   "metadata": {
    "slideshow": {
     "slide_type": "fragment"
    }
   },
   "outputs": [],
   "source": [
    "l2d = [[1, 2, 3, 4], [5, 6, 7, 8], [9, 10, 10, 12]]\n",
    "xl = np.array(l2d)\n",
    "print(xl)\n",
    "\n",
    "top_left = xl[0,0]\n",
    "print('top_left = ', top_left)\n",
    "bottom_right = xl[2,3]\n",
    "print('bottom_right = ', bottom_right)\n",
    "zero_two = xl[0,2]\n",
    "print('element in row 0, col 2 =', zero_two)\n",
    "one_three = xl[1,3]\n",
    "print('element in row 1, col 3 =', one_three)"
   ]
  },
  {
   "cell_type": "markdown",
   "metadata": {
    "slideshow": {
     "slide_type": "slide"
    }
   },
   "source": [
    "We might also want to extract a particular sub-matrix, say the 2x2 matrix in the top left."
   ]
  },
  {
   "cell_type": "code",
   "execution_count": null,
   "metadata": {
    "slideshow": {
     "slide_type": "fragment"
    }
   },
   "outputs": [],
   "source": [
    "two_by_two = xl[0:2, 0:2]\n",
    "print()\n",
    "print(two_by_two)"
   ]
  },
  {
   "cell_type": "markdown",
   "metadata": {
    "slideshow": {
     "slide_type": "skip"
    }
   },
   "source": [
    "So we can use the notation \"array[rowstart:rowend, colstart:colend]\" to extract the sub-matrix delimited by rows \"rowstart\" and \"rowend\" and columns \"colstart\" and \"colend\"."
   ]
  },
  {
   "cell_type": "markdown",
   "metadata": {
    "slideshow": {
     "slide_type": "fragment"
    }
   },
   "source": [
    "We can use similar notation to select other parts of a matrix. For example:"
   ]
  },
  {
   "cell_type": "code",
   "execution_count": null,
   "metadata": {
    "slideshow": {
     "slide_type": "fragment"
    }
   },
   "outputs": [],
   "source": [
    "print(xl)\n",
    "print()\n",
    "test = xl[1,0:2]         ###selecting columns 0 and 1 of row 1\n",
    "print(test)\n",
    "print()\n",
    "test = xl[0:2,1]         ###selecting rows 0 and 1 of column 1\n",
    "print(test)\n",
    "print()"
   ]
  },
  {
   "cell_type": "markdown",
   "metadata": {
    "slideshow": {
     "slide_type": "skip"
    }
   },
   "source": [
    "Note also that, in slicing notation (i.e. when we use \":\" in our indices), we can use the colon by itself as a convenience, or if we don't know the full size of an array:"
   ]
  },
  {
   "cell_type": "code",
   "execution_count": null,
   "metadata": {
    "scrolled": true,
    "slideshow": {
     "slide_type": "skip"
    }
   },
   "outputs": [],
   "source": [
    "a = np.arange(5.0)\n",
    "print(a)\n",
    "print()\n",
    "test = a[:]          # select the entire array\n",
    "print(test)\n",
    "print()\n",
    "test = a[2:]         # select the entire array starting with element 2\n",
    "print(test)\n",
    "print()\n",
    "test = a[:2]         # select the entire array *up to* (not including) element 2\n",
    "print(test)\n",
    "print()"
   ]
  },
  {
   "cell_type": "markdown",
   "metadata": {
    "slideshow": {
     "slide_type": "skip"
    }
   },
   "source": [
    "The same notation can also be used for 2-D arrays."
   ]
  },
  {
   "cell_type": "markdown",
   "metadata": {},
   "source": [
    "### Higher-dimensional arrays\n",
    "\n",
    "*Python* naturally provides support for higher dimensional *arrays*. These work pretty much exactly as we'd expect, based on how 1-D and 2-D *arrays* work.\n",
    "\n",
    "In this course, we're not going to deal with higher dimensional *arrays* any further, but just be aware that they exist."
   ]
  },
  {
   "cell_type": "markdown",
   "metadata": {
    "slideshow": {
     "slide_type": "skip"
    }
   },
   "source": [
    "## Reminder: Big Picture Exercise - please complete lesson 3 Big Picture Exercise by now restructuring your code using today's lesson concepts on packages, modules, numpy and arrays. If you are done with that already then you can try the following optional exercise.\n",
    "\n",
    "\n",
    "** [Optional] You have been hired along with several other programmers to write a *Python* program that will play Tic-Tac-Toe against the user. The job you have been given is to write the function that will check if the game is over.** \n",
    "\n",
    "**Specifically, your function will be called after each move and will check if**\n",
    "1. **the player whose move it was has won;** \n",
    "2. **the game is over because all squares are filled.**"
   ]
  },
  {
   "cell_type": "markdown",
   "metadata": {
    "slideshow": {
     "slide_type": "fragment"
    }
   },
   "source": [
    "You can assume the following (since other team members will be responsible for making sure it holds):\n",
    "\n",
    "* The Tic-Tac-Toe gameboard will be represented by a 3x3 *numpy* *array*\n",
    "* All moves have already been checked for validity\n",
    "* On the gameboard:\n",
    "    * \"0\" represents an empty cell\n",
    "    * \"1\" represents a position occupied by Player 1\n",
    "    * \"2\" represents a position occupied by Player 2"
   ]
  },
  {
   "cell_type": "markdown",
   "metadata": {
    "slideshow": {
     "slide_type": "skip"
    }
   },
   "source": [
    "Before you start coding:\n",
    "\n",
    "* *think* about the things your functions needs to do\n",
    "* design your *algorithm* by writing down *pseudo-code* for it\n",
    "* if you find yourself writing very similar lines of (pseudo-)code over and over again\n",
    "    * try to figure out the underlying *pattern* or *logic*\n",
    "    * find a way to express this more economically/concisely, e.g. via suitable loops\n",
    "* try to code in such a way that the following would be trivial to implement:\n",
    "    * changes to the gameboard size (e.g. from 3x3 to 4x4 or 5x5)\n",
    "    * changes to the number of consecutive symbols in a line that is required for a win"
   ]
  }
 ],
 "metadata": {
  "celltoolbar": "Slideshow",
  "hide_input": false,
  "kernelspec": {
   "display_name": "Python 3 (ipykernel)",
   "language": "python",
   "name": "python3"
  },
  "language_info": {
   "codemirror_mode": {
    "name": "ipython",
    "version": 3
   },
   "file_extension": ".py",
   "mimetype": "text/x-python",
   "name": "python",
   "nbconvert_exporter": "python",
   "pygments_lexer": "ipython3",
   "version": "3.12.6"
  },
  "latex_envs": {
   "bibliofile": "biblio.bib",
   "cite_by": "apalike",
   "current_citInitial": 1,
   "eqLabelWithNumbers": true,
   "eqNumInitial": 0
  },
  "toc": {
   "base_numbering": 1,
   "nav_menu": {},
   "number_sections": true,
   "sideBar": true,
   "skip_h1_title": true,
   "title_cell": "Table of Contents",
   "title_sidebar": "Contents",
   "toc_cell": true,
   "toc_position": {},
   "toc_section_display": true,
   "toc_window_display": false
  }
 },
 "nbformat": 4,
 "nbformat_minor": 4
}
